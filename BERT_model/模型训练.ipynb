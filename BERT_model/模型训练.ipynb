{
 "cells": [
  {
   "cell_type": "code",
   "execution_count": 1,
   "id": "ff4a6e6e",
   "metadata": {
    "execution": {
     "iopub.execute_input": "2024-03-04T04:49:05.347844Z",
     "iopub.status.busy": "2024-03-04T04:49:05.347092Z",
     "iopub.status.idle": "2024-03-04T04:49:08.924184Z",
     "shell.execute_reply": "2024-03-04T04:49:08.923245Z",
     "shell.execute_reply.started": "2024-03-04T04:49:05.347723Z"
    },
    "scrolled": true,
    "tags": []
   },
   "outputs": [
    {
     "data": {
      "text/plain": [
       "Place(gpu:0)"
      ]
     },
     "execution_count": 1,
     "metadata": {},
     "output_type": "execute_result"
    }
   ],
   "source": [
    "import paddle\n",
    "import paddlenlp\n",
    "import pandas as pd\n",
    "import numpy as np\n",
    "from paddlenlp.transformers import AutoModelForSequenceClassification, AutoTokenizer\n",
    "from sklearn.metrics import f1_score, accuracy_score\n",
    "from paddle.io import Dataset,DataLoader\n",
    "from paddlenlp.trainer import Trainer, TrainingArguments\n",
    "paddle.device.set_device('gpu:0')"
   ]
  },
  {
   "cell_type": "code",
   "execution_count": 2,
   "id": "467f1a59",
   "metadata": {
    "execution": {
     "iopub.execute_input": "2024-03-04T04:49:09.105594Z",
     "iopub.status.busy": "2024-03-04T04:49:09.105313Z",
     "iopub.status.idle": "2024-03-04T04:49:24.313566Z",
     "shell.execute_reply": "2024-03-04T04:49:24.312529Z",
     "shell.execute_reply.started": "2024-03-04T04:49:09.105568Z"
    },
    "scrolled": true,
    "tags": []
   },
   "outputs": [
    {
     "name": "stderr",
     "output_type": "stream",
     "text": [
      "[2024-03-04 12:49:11,078] [    INFO] - We are using <class 'paddlenlp.transformers.bert.tokenizer.BertTokenizer'> to load 'bert-base-chinese'.\r\n",
      "[2024-03-04 12:49:11,085] [    INFO] - Already cached /home/aistudio/.paddlenlp/models/bert-base-chinese/bert-base-chinese-vocab.txt\r\n",
      "[2024-03-04 12:49:11,106] [    INFO] - tokenizer config file saved in /home/aistudio/.paddlenlp/models/bert-base-chinese/tokenizer_config.json\r\n",
      "[2024-03-04 12:49:11,114] [    INFO] - Special tokens file saved in /home/aistudio/.paddlenlp/models/bert-base-chinese/special_tokens_map.json\r\n"
     ]
    }
   ],
   "source": [
    "data_train = pd.read_excel(\"/home/aistudio/work/评测数据集/train/usual_train.xlsx\") #训练集\n",
    "data_test=pd.read_excel(\"/home/aistudio/work/评测数据集/test（最终评测集）/真实评测集/usual_test_labeled.xlsx\") #测试集\n",
    "data_eval=pd.read_excel(\"/home/aistudio/work/评测数据集/eval（刷榜数据集）/usual_eval_labeled.xlsx\") #验证集\n",
    "\n",
    "#数据准备，训练用到的为训练集和测试集需要向量化\n",
    "train_sentence=np.array(data_train[\"文本\"])\n",
    "train_label=np.array(data_train[\"情绪标签\"])\n",
    "eval_sentence=np.array(data_eval[\"文本\"])\n",
    "eval_label=np.array(data_eval[\"情绪标签\"])\n",
    "\n",
    "#自定义DataSet类\n",
    "class DataSet(Dataset):\n",
    "    def __init__(self, data, label, tokenizer):\n",
    "        self.data = data\n",
    "        self.label = label\n",
    "        self.input_data = tokenizer(\n",
    "            [sentence for sentence in data],\n",
    "            max_seq_len=512, \n",
    "            pad_to_max_seq_len=True\n",
    "        )\n",
    "\n",
    "    def __len__(self):\n",
    "        return len(self.label)\n",
    "\n",
    "    def __getitem__(self, item):\n",
    "        return {\n",
    "            \"input_ids\": self.input_data['input_ids'][item],\n",
    "            \"token_type_ids\": self.input_data['token_type_ids'][item],\n",
    "            \"labels\": self.label[item],\n",
    "        }\n",
    "\n",
    "#导入预训练好的中文tokenizer\n",
    "tokenizer = AutoTokenizer.from_pretrained(\"bert-base-chinese\")\n",
    "#将训练集和验证集实例化\n",
    "train_set=DataSet(train_sentence,train_label,tokenizer)\n",
    "eval_set=DataSet(eval_sentence,eval_label,tokenizer)\n"
   ]
  },
  {
   "cell_type": "code",
   "execution_count": 3,
   "id": "caaa9e0d",
   "metadata": {
    "execution": {
     "iopub.execute_input": "2024-03-04T04:49:24.315955Z",
     "iopub.status.busy": "2024-03-04T04:49:24.315387Z",
     "iopub.status.idle": "2024-03-04T04:49:24.323019Z",
     "shell.execute_reply": "2024-03-04T04:49:24.322274Z",
     "shell.execute_reply.started": "2024-03-04T04:49:24.315926Z"
    },
    "scrolled": true,
    "tags": []
   },
   "outputs": [
    {
     "name": "stderr",
     "output_type": "stream",
     "text": [
      "[2024-03-04 12:49:24,318] [    INFO] - The default value for the training argument `--report_to` will change in v5 (from all installed integrations to none). In v5, you will need to use `--report_to all` to get the same behavior as now. You should start updating your code and make this info disappear :-).\r\n"
     ]
    }
   ],
   "source": [
    "#指定好训练参数\n",
    "training_args = TrainingArguments(\n",
    "    output_dir='./work/output',\n",
    "    num_train_epochs=10,\n",
    "    per_device_train_batch_size=16,\n",
    "    per_device_eval_batch_size=16,  \n",
    "    dataloader_num_workers=2,\n",
    "    logging_dir='./work/logs',\n",
    "    logging_steps=10,\n",
    "    evaluation_strategy=\"steps\",\n",
    "    eval_steps=200,\n",
    "    save_steps=200,\n",
    "    save_total_limit=10,\n",
    "    load_best_model_at_end=True,\n",
    "    metric_for_best_model='f1',\n",
    ")"
   ]
  },
  {
   "cell_type": "code",
   "execution_count": 4,
   "id": "ddb260ab",
   "metadata": {
    "execution": {
     "iopub.execute_input": "2024-03-04T04:49:24.324322Z",
     "iopub.status.busy": "2024-03-04T04:49:24.323974Z",
     "iopub.status.idle": "2024-03-04T04:49:24.328589Z",
     "shell.execute_reply": "2024-03-04T04:49:24.327839Z",
     "shell.execute_reply.started": "2024-03-04T04:49:24.324297Z"
    },
    "scrolled": true,
    "tags": []
   },
   "outputs": [],
   "source": [
    "#定义一个评价函数\n",
    "def compute_metrics(pred):\n",
    "    lables = pred.label_ids\n",
    "    preds = pred.predictions.argmax(-1)\n",
    "    acc = accuracy_score(lables, preds)\n",
    "    f1 = f1_score(lables, preds, average=\"macro\")\n",
    "    return {\n",
    "        \"accuracy\": acc,\n",
    "        \"f1\": f1,\n",
    "    }"
   ]
  },
  {
   "cell_type": "code",
   "execution_count": 5,
   "id": "39438ed0",
   "metadata": {
    "execution": {
     "iopub.execute_input": "2024-03-04T04:49:24.329963Z",
     "iopub.status.busy": "2024-03-04T04:49:24.329648Z",
     "iopub.status.idle": "2024-03-04T04:49:28.442371Z",
     "shell.execute_reply": "2024-03-04T04:49:28.441359Z",
     "shell.execute_reply.started": "2024-03-04T04:49:24.329940Z"
    },
    "scrolled": true,
    "tags": []
   },
   "outputs": [
    {
     "name": "stderr",
     "output_type": "stream",
     "text": [
      "[2024-03-04 12:49:24,331] [    INFO] - We are using <class 'paddlenlp.transformers.bert.modeling.BertForSequenceClassification'> to load 'bert-base-chinese'.\r\n",
      "[2024-03-04 12:49:24,335] [    INFO] - Already cached /home/aistudio/.paddlenlp/models/bert-base-chinese/bert-base-chinese.pdparams\r\n",
      "W0304 12:49:24.340519  3149 gpu_resources.cc:61] Please NOTE: device: 0, GPU Compute Capability: 7.0, Driver API Version: 12.0, Runtime API Version: 11.2\r\n",
      "W0304 12:49:24.345371  3149 gpu_resources.cc:91] device: 0, cuDNN Version: 8.2.\r\n",
      "[2024-03-04 12:49:28,127] [    INFO] - ============================================================\r\n",
      "[2024-03-04 12:49:28,137] [    INFO] -     Training Configuration Arguments    \r\n",
      "[2024-03-04 12:49:28,143] [    INFO] - paddle commit id              :3fa7a736e32508e797616b6344d97814c37d3ff8\r\n",
      "[2024-03-04 12:49:28,149] [    INFO] - _no_sync_in_gradient_accumulation:True\r\n",
      "[2024-03-04 12:49:28,154] [    INFO] - adam_beta1                    :0.9\r\n",
      "[2024-03-04 12:49:28,157] [    INFO] - adam_beta2                    :0.999\r\n",
      "[2024-03-04 12:49:28,159] [    INFO] - adam_epsilon                  :1e-08\r\n",
      "[2024-03-04 12:49:28,162] [    INFO] - current_device                :gpu:0\r\n",
      "[2024-03-04 12:49:28,164] [    INFO] - dataloader_drop_last          :False\r\n",
      "[2024-03-04 12:49:28,166] [    INFO] - dataloader_num_workers        :2\r\n",
      "[2024-03-04 12:49:28,170] [    INFO] - device                        :gpu\r\n",
      "[2024-03-04 12:49:28,172] [    INFO] - disable_tqdm                  :False\r\n",
      "[2024-03-04 12:49:28,174] [    INFO] - do_eval                       :True\r\n",
      "[2024-03-04 12:49:28,176] [    INFO] - do_export                     :False\r\n",
      "[2024-03-04 12:49:28,178] [    INFO] - do_predict                    :False\r\n",
      "[2024-03-04 12:49:28,181] [    INFO] - do_train                      :False\r\n",
      "[2024-03-04 12:49:28,183] [    INFO] - eval_batch_size               :16\r\n",
      "[2024-03-04 12:49:28,185] [    INFO] - eval_steps                    :200\r\n",
      "[2024-03-04 12:49:28,188] [    INFO] - evaluation_strategy           :IntervalStrategy.STEPS\r\n",
      "[2024-03-04 12:49:28,190] [    INFO] - fp16                          :False\r\n",
      "[2024-03-04 12:49:28,192] [    INFO] - fp16_opt_level                :O1\r\n",
      "[2024-03-04 12:49:28,194] [    INFO] - gradient_accumulation_steps   :1\r\n",
      "[2024-03-04 12:49:28,197] [    INFO] - greater_is_better             :True\r\n",
      "[2024-03-04 12:49:28,199] [    INFO] - ignore_data_skip              :False\r\n",
      "[2024-03-04 12:49:28,208] [    INFO] - label_names                   :None\r\n",
      "[2024-03-04 12:49:28,210] [    INFO] - learning_rate                 :5e-05\r\n",
      "[2024-03-04 12:49:28,215] [    INFO] - load_best_model_at_end        :True\r\n",
      "[2024-03-04 12:49:28,217] [    INFO] - local_process_index           :0\r\n",
      "[2024-03-04 12:49:28,219] [    INFO] - local_rank                    :-1\r\n",
      "[2024-03-04 12:49:28,222] [    INFO] - log_level                     :-1\r\n",
      "[2024-03-04 12:49:28,225] [    INFO] - log_level_replica             :-1\r\n",
      "[2024-03-04 12:49:28,227] [    INFO] - log_on_each_node              :True\r\n",
      "[2024-03-04 12:49:28,235] [    INFO] - logging_dir                   :./work/logs\r\n",
      "[2024-03-04 12:49:28,237] [    INFO] - logging_first_step            :False\r\n",
      "[2024-03-04 12:49:28,239] [    INFO] - logging_steps                 :10\r\n",
      "[2024-03-04 12:49:28,242] [    INFO] - logging_strategy              :IntervalStrategy.STEPS\r\n",
      "[2024-03-04 12:49:28,244] [    INFO] - lr_scheduler_type             :SchedulerType.LINEAR\r\n",
      "[2024-03-04 12:49:28,247] [    INFO] - max_grad_norm                 :1.0\r\n",
      "[2024-03-04 12:49:28,250] [    INFO] - max_steps                     :-1\r\n",
      "[2024-03-04 12:49:28,253] [    INFO] - metric_for_best_model         :f1\r\n",
      "[2024-03-04 12:49:28,256] [    INFO] - minimum_eval_times            :None\r\n",
      "[2024-03-04 12:49:28,259] [    INFO] - no_cuda                       :False\r\n",
      "[2024-03-04 12:49:28,262] [    INFO] - num_train_epochs              :10\r\n",
      "[2024-03-04 12:49:28,265] [    INFO] - optim                         :OptimizerNames.ADAMW\r\n",
      "[2024-03-04 12:49:28,267] [    INFO] - output_dir                    :./work/output\r\n",
      "[2024-03-04 12:49:28,270] [    INFO] - overwrite_output_dir          :False\r\n",
      "[2024-03-04 12:49:28,273] [    INFO] - past_index                    :-1\r\n",
      "[2024-03-04 12:49:28,275] [    INFO] - per_device_eval_batch_size    :16\r\n",
      "[2024-03-04 12:49:28,278] [    INFO] - per_device_train_batch_size   :16\r\n",
      "[2024-03-04 12:49:28,281] [    INFO] - prediction_loss_only          :False\r\n",
      "[2024-03-04 12:49:28,283] [    INFO] - process_index                 :0\r\n",
      "[2024-03-04 12:49:28,286] [    INFO] - recompute                     :False\r\n",
      "[2024-03-04 12:49:28,288] [    INFO] - remove_unused_columns         :True\r\n",
      "[2024-03-04 12:49:28,290] [    INFO] - report_to                     :['visualdl']\r\n",
      "[2024-03-04 12:49:28,293] [    INFO] - resume_from_checkpoint        :None\r\n",
      "[2024-03-04 12:49:28,295] [    INFO] - run_name                      :./work/output\r\n",
      "[2024-03-04 12:49:28,297] [    INFO] - save_on_each_node             :False\r\n",
      "[2024-03-04 12:49:28,300] [    INFO] - save_steps                    :200\r\n",
      "[2024-03-04 12:49:28,302] [    INFO] - save_strategy                 :IntervalStrategy.STEPS\r\n",
      "[2024-03-04 12:49:28,305] [    INFO] - save_total_limit              :10\r\n",
      "[2024-03-04 12:49:28,318] [    INFO] - scale_loss                    :32768\r\n",
      "[2024-03-04 12:49:28,346] [    INFO] - seed                          :42\r\n",
      "[2024-03-04 12:49:28,366] [    INFO] - should_log                    :True\r\n",
      "[2024-03-04 12:49:28,389] [    INFO] - should_save                   :True\r\n",
      "[2024-03-04 12:49:28,409] [    INFO] - train_batch_size              :16\r\n",
      "[2024-03-04 12:49:28,425] [    INFO] - warmup_ratio                  :0.0\r\n",
      "[2024-03-04 12:49:28,428] [    INFO] - warmup_steps                  :0\r\n",
      "[2024-03-04 12:49:28,431] [    INFO] - weight_decay                  :0.0\r\n",
      "[2024-03-04 12:49:28,433] [    INFO] - world_size                    :1\r\n",
      "[2024-03-04 12:49:28,436] [    INFO] - \r\n"
     ]
    }
   ],
   "source": [
    "#导入预训练的中文BERT模型\n",
    "model = AutoModelForSequenceClassification.from_pretrained(\"bert-base-chinese\", num_classes=6,cache_dir=\"./work/\")\n",
    "#指定所用模型，损失函数，训练参数，数据集，验证集，评价函数，然后实例化训练器\n",
    "trainer=Trainer(\n",
    "    model=model,\n",
    "    criterion=paddle.nn.CrossEntropyLoss(),\n",
    "    args=training_args,\n",
    "    train_dataset=train_set,\n",
    "    eval_dataset=eval_set,\n",
    "    compute_metrics=compute_metrics\n",
    ")"
   ]
  },
  {
   "cell_type": "code",
   "execution_count": 6,
   "id": "8645659c",
   "metadata": {
    "execution": {
     "iopub.execute_input": "2024-03-04T04:49:28.444862Z",
     "iopub.status.busy": "2024-03-04T04:49:28.443853Z",
     "iopub.status.idle": "2024-03-04T07:34:21.549101Z",
     "shell.execute_reply": "2024-03-04T07:34:21.547668Z",
     "shell.execute_reply.started": "2024-03-04T04:49:28.444814Z"
    },
    "scrolled": true,
    "tags": []
   },
   "outputs": [
    {
     "name": "stderr",
     "output_type": "stream",
     "text": [
      "[2024-03-04 12:49:28,449] [    INFO] - ***** Running training *****\r\n",
      "[2024-03-04 12:49:28,452] [    INFO] -   Num examples = 27766\r\n",
      "[2024-03-04 12:49:28,455] [    INFO] -   Num Epochs = 10\r\n",
      "[2024-03-04 12:49:28,458] [    INFO] -   Instantaneous batch size per device = 16\r\n",
      "[2024-03-04 12:49:28,460] [    INFO] -   Total train batch size (w. parallel, distributed & accumulation) = 16\r\n",
      "[2024-03-04 12:49:28,463] [    INFO] -   Gradient Accumulation steps = 1\r\n",
      "[2024-03-04 12:49:28,466] [    INFO] -   Total optimization steps = 17360\r\n",
      "[2024-03-04 12:49:28,469] [    INFO] -   Total num train samples = 277660\r\n"
     ]
    },
    {
     "data": {
      "application/vnd.jupyter.widget-view+json": {
       "model_id": "ef20acbb0d92445dbd257ad32a4dad72",
       "version_major": 2,
       "version_minor": 0
      },
      "text/plain": [
       "  0%|          | 0/17360 [00:00<?, ?it/s]"
      ]
     },
     "metadata": {},
     "output_type": "display_data"
    },
    {
     "name": "stdout",
     "output_type": "stream",
     "text": [
      "loss: 1.63693829, learning_rate: 4.997119815668203e-05, global_step: 10, interval_runtime: 6.1632, interval_samples_per_second: 2.596, interval_steps_per_second: 1.623, epoch: 0.0058\r\n",
      "loss: 1.41821852, learning_rate: 4.994239631336406e-05, global_step: 20, interval_runtime: 4.3377, interval_samples_per_second: 3.689, interval_steps_per_second: 2.305, epoch: 0.0115\r\n",
      "loss: 1.16201048, learning_rate: 4.991359447004609e-05, global_step: 30, interval_runtime: 4.3464, interval_samples_per_second: 3.681, interval_steps_per_second: 2.301, epoch: 0.0173\r\n",
      "loss: 1.00052643, learning_rate: 4.988479262672811e-05, global_step: 40, interval_runtime: 4.3461, interval_samples_per_second: 3.681, interval_steps_per_second: 2.301, epoch: 0.023\r\n",
      "loss: 0.9472127, learning_rate: 4.985599078341014e-05, global_step: 50, interval_runtime: 4.3423, interval_samples_per_second: 3.685, interval_steps_per_second: 2.303, epoch: 0.0288\r\n",
      "loss: 1.01215458, learning_rate: 4.9827188940092165e-05, global_step: 60, interval_runtime: 4.3454, interval_samples_per_second: 3.682, interval_steps_per_second: 2.301, epoch: 0.0346\r\n",
      "loss: 0.86850147, learning_rate: 4.97983870967742e-05, global_step: 70, interval_runtime: 4.3518, interval_samples_per_second: 3.677, interval_steps_per_second: 2.298, epoch: 0.0403\r\n",
      "loss: 1.01205626, learning_rate: 4.976958525345622e-05, global_step: 80, interval_runtime: 4.3547, interval_samples_per_second: 3.674, interval_steps_per_second: 2.296, epoch: 0.0461\r\n",
      "loss: 0.94637461, learning_rate: 4.9740783410138256e-05, global_step: 90, interval_runtime: 4.3637, interval_samples_per_second: 3.667, interval_steps_per_second: 2.292, epoch: 0.0518\r\n",
      "loss: 0.81854181, learning_rate: 4.971198156682028e-05, global_step: 100, interval_runtime: 4.3671, interval_samples_per_second: 3.664, interval_steps_per_second: 2.29, epoch: 0.0576\r\n",
      "loss: 0.95261555, learning_rate: 4.968317972350231e-05, global_step: 110, interval_runtime: 4.3601, interval_samples_per_second: 3.67, interval_steps_per_second: 2.294, epoch: 0.0634\r\n",
      "loss: 0.9284483, learning_rate: 4.965437788018433e-05, global_step: 120, interval_runtime: 4.3625, interval_samples_per_second: 3.668, interval_steps_per_second: 2.292, epoch: 0.0691\r\n",
      "loss: 1.03074379, learning_rate: 4.962557603686636e-05, global_step: 130, interval_runtime: 4.371, interval_samples_per_second: 3.66, interval_steps_per_second: 2.288, epoch: 0.0749\r\n",
      "loss: 0.77026954, learning_rate: 4.959677419354839e-05, global_step: 140, interval_runtime: 4.3751, interval_samples_per_second: 3.657, interval_steps_per_second: 2.286, epoch: 0.0806\r\n",
      "loss: 0.7477366, learning_rate: 4.956797235023042e-05, global_step: 150, interval_runtime: 4.3705, interval_samples_per_second: 3.661, interval_steps_per_second: 2.288, epoch: 0.0864\r\n",
      "loss: 0.72172394, learning_rate: 4.9539170506912444e-05, global_step: 160, interval_runtime: 4.3781, interval_samples_per_second: 3.655, interval_steps_per_second: 2.284, epoch: 0.0922\r\n",
      "loss: 0.87985029, learning_rate: 4.951036866359447e-05, global_step: 170, interval_runtime: 4.3774, interval_samples_per_second: 3.655, interval_steps_per_second: 2.284, epoch: 0.0979\r\n",
      "loss: 0.77873402, learning_rate: 4.9481566820276495e-05, global_step: 180, interval_runtime: 4.3815, interval_samples_per_second: 3.652, interval_steps_per_second: 2.282, epoch: 0.1037\r\n",
      "loss: 0.86437378, learning_rate: 4.945276497695853e-05, global_step: 190, interval_runtime: 4.3889, interval_samples_per_second: 3.646, interval_steps_per_second: 2.278, epoch: 0.1094\r\n",
      "loss: 0.87065277, learning_rate: 4.9423963133640554e-05, global_step: 200, interval_runtime: 4.3968, interval_samples_per_second: 3.639, interval_steps_per_second: 2.274, epoch: 0.1152\r\n"
     ]
    },
    {
     "name": "stderr",
     "output_type": "stream",
     "text": [
      "[2024-03-04 12:50:57,556] [    INFO] - ***** Running Evaluation *****\r\n",
      "[2024-03-04 12:50:57,558] [    INFO] -   Num examples = 2000\r\n",
      "[2024-03-04 12:50:57,561] [    INFO] -   Pre device batch size = 16\r\n",
      "[2024-03-04 12:50:57,563] [    INFO] -   Total Batch size = 16\r\n",
      "[2024-03-04 12:50:57,565] [    INFO] -   Total prediction steps = 125\r\n"
     ]
    },
    {
     "data": {
      "application/vnd.jupyter.widget-view+json": {
       "model_id": "",
       "version_major": 2,
       "version_minor": 0
      },
      "text/plain": [
       "  0%|          | 0/125 [00:00<?, ?it/s]"
      ]
     },
     "metadata": {},
     "output_type": "display_data"
    },
    {
     "name": "stdout",
     "output_type": "stream",
     "text": [
      "eval_loss: 0.7947730422019958, eval_accuracy: 0.731, eval_f1: 0.6826489511285422, eval_runtime: 20.6134, eval_samples_per_second: 97.024, eval_steps_per_second: 6.064, epoch: 0.1152\r\n"
     ]
    },
    {
     "name": "stderr",
     "output_type": "stream",
     "text": [
      "[2024-03-04 12:51:18,176] [    INFO] - Saving model checkpoint to ./work/output/checkpoint-200\r\n"
     ]
    },
    {
     "name": "stdout",
     "output_type": "stream",
     "text": [
      "loss: 0.86151829, learning_rate: 4.939516129032259e-05, global_step: 210, interval_runtime: 36.069, interval_samples_per_second: 0.444, interval_steps_per_second: 0.277, epoch: 0.121\r\n",
      "loss: 0.82195225, learning_rate: 4.936635944700461e-05, global_step: 220, interval_runtime: 4.3742, interval_samples_per_second: 3.658, interval_steps_per_second: 2.286, epoch: 0.1267\r\n",
      "loss: 0.79830728, learning_rate: 4.933755760368664e-05, global_step: 230, interval_runtime: 4.3733, interval_samples_per_second: 3.659, interval_steps_per_second: 2.287, epoch: 0.1325\r\n",
      "loss: 0.76559358, learning_rate: 4.9308755760368664e-05, global_step: 240, interval_runtime: 4.3782, interval_samples_per_second: 3.654, interval_steps_per_second: 2.284, epoch: 0.1382\r\n",
      "loss: 0.87336502, learning_rate: 4.927995391705069e-05, global_step: 250, interval_runtime: 4.3922, interval_samples_per_second: 3.643, interval_steps_per_second: 2.277, epoch: 0.144\r\n",
      "loss: 0.76584845, learning_rate: 4.925115207373272e-05, global_step: 260, interval_runtime: 4.3856, interval_samples_per_second: 3.648, interval_steps_per_second: 2.28, epoch: 0.1498\r\n",
      "loss: 0.81139956, learning_rate: 4.922235023041475e-05, global_step: 270, interval_runtime: 4.3813, interval_samples_per_second: 3.652, interval_steps_per_second: 2.282, epoch: 0.1555\r\n",
      "loss: 0.90516682, learning_rate: 4.9193548387096775e-05, global_step: 280, interval_runtime: 4.3858, interval_samples_per_second: 3.648, interval_steps_per_second: 2.28, epoch: 0.1613\r\n",
      "loss: 0.70439444, learning_rate: 4.916474654377881e-05, global_step: 290, interval_runtime: 4.4205, interval_samples_per_second: 3.619, interval_steps_per_second: 2.262, epoch: 0.1671\r\n",
      "loss: 0.94680166, learning_rate: 4.913594470046083e-05, global_step: 300, interval_runtime: 4.3921, interval_samples_per_second: 3.643, interval_steps_per_second: 2.277, epoch: 0.1728\r\n",
      "loss: 0.685495, learning_rate: 4.910714285714286e-05, global_step: 310, interval_runtime: 4.3937, interval_samples_per_second: 3.642, interval_steps_per_second: 2.276, epoch: 0.1786\r\n",
      "loss: 0.9164465, learning_rate: 4.9078341013824885e-05, global_step: 320, interval_runtime: 4.4016, interval_samples_per_second: 3.635, interval_steps_per_second: 2.272, epoch: 0.1843\r\n",
      "loss: 0.73444238, learning_rate: 4.904953917050691e-05, global_step: 330, interval_runtime: 4.3972, interval_samples_per_second: 3.639, interval_steps_per_second: 2.274, epoch: 0.1901\r\n",
      "loss: 0.83241272, learning_rate: 4.9020737327188944e-05, global_step: 340, interval_runtime: 4.3932, interval_samples_per_second: 3.642, interval_steps_per_second: 2.276, epoch: 0.1959\r\n",
      "loss: 0.80088587, learning_rate: 4.899193548387097e-05, global_step: 350, interval_runtime: 4.3966, interval_samples_per_second: 3.639, interval_steps_per_second: 2.274, epoch: 0.2016\r\n",
      "loss: 0.83753738, learning_rate: 4.8963133640553e-05, global_step: 360, interval_runtime: 4.3902, interval_samples_per_second: 3.644, interval_steps_per_second: 2.278, epoch: 0.2074\r\n",
      "loss: 0.87540569, learning_rate: 4.893433179723503e-05, global_step: 370, interval_runtime: 4.3925, interval_samples_per_second: 3.643, interval_steps_per_second: 2.277, epoch: 0.2131\r\n",
      "loss: 0.94353285, learning_rate: 4.8905529953917054e-05, global_step: 380, interval_runtime: 4.3935, interval_samples_per_second: 3.642, interval_steps_per_second: 2.276, epoch: 0.2189\r\n",
      "loss: 0.83781185, learning_rate: 4.887672811059908e-05, global_step: 390, interval_runtime: 4.4149, interval_samples_per_second: 3.624, interval_steps_per_second: 2.265, epoch: 0.2247\r\n",
      "loss: 0.70754128, learning_rate: 4.8847926267281106e-05, global_step: 400, interval_runtime: 4.41, interval_samples_per_second: 3.628, interval_steps_per_second: 2.268, epoch: 0.2304\r\n"
     ]
    },
    {
     "name": "stderr",
     "output_type": "stream",
     "text": [
      "[2024-03-04 12:52:57,091] [    INFO] - ***** Running Evaluation *****\r\n",
      "[2024-03-04 12:52:57,094] [    INFO] -   Num examples = 2000\r\n",
      "[2024-03-04 12:52:57,096] [    INFO] -   Pre device batch size = 16\r\n",
      "[2024-03-04 12:52:57,099] [    INFO] -   Total Batch size = 16\r\n",
      "[2024-03-04 12:52:57,101] [    INFO] -   Total prediction steps = 125\r\n"
     ]
    },
    {
     "data": {
      "application/vnd.jupyter.widget-view+json": {
       "model_id": "",
       "version_major": 2,
       "version_minor": 0
      },
      "text/plain": [
       "  0%|          | 0/125 [00:00<?, ?it/s]"
      ]
     },
     "metadata": {},
     "output_type": "display_data"
    },
    {
     "name": "stdout",
     "output_type": "stream",
     "text": [
      "eval_loss: 0.7751703262329102, eval_accuracy: 0.722, eval_f1: 0.6915939287058941, eval_runtime: 20.8228, eval_samples_per_second: 96.049, eval_steps_per_second: 6.003, epoch: 0.2304\r\n"
     ]
    },
    {
     "name": "stderr",
     "output_type": "stream",
     "text": [
      "[2024-03-04 12:53:17,925] [    INFO] - Saving model checkpoint to ./work/output/checkpoint-400\r\n"
     ]
    },
    {
     "name": "stdout",
     "output_type": "stream",
     "text": [
      "loss: 0.86745949, learning_rate: 4.881912442396314e-05, global_step: 410, interval_runtime: 36.3856, interval_samples_per_second: 0.44, interval_steps_per_second: 0.275, epoch: 0.2362\r\n",
      "loss: 0.97101698, learning_rate: 4.8790322580645164e-05, global_step: 420, interval_runtime: 4.401, interval_samples_per_second: 3.636, interval_steps_per_second: 2.272, epoch: 0.2419\r\n",
      "loss: 0.9155304, learning_rate: 4.876152073732719e-05, global_step: 430, interval_runtime: 4.3918, interval_samples_per_second: 3.643, interval_steps_per_second: 2.277, epoch: 0.2477\r\n",
      "loss: 0.8215621, learning_rate: 4.873271889400922e-05, global_step: 440, interval_runtime: 4.4019, interval_samples_per_second: 3.635, interval_steps_per_second: 2.272, epoch: 0.2535\r\n",
      "loss: 0.85305538, learning_rate: 4.870391705069124e-05, global_step: 450, interval_runtime: 4.3997, interval_samples_per_second: 3.637, interval_steps_per_second: 2.273, epoch: 0.2592\r\n",
      "loss: 0.72033863, learning_rate: 4.8675115207373275e-05, global_step: 460, interval_runtime: 4.4, interval_samples_per_second: 3.636, interval_steps_per_second: 2.273, epoch: 0.265\r\n",
      "loss: 0.72725019, learning_rate: 4.86463133640553e-05, global_step: 470, interval_runtime: 4.4009, interval_samples_per_second: 3.636, interval_steps_per_second: 2.272, epoch: 0.2707\r\n",
      "loss: 0.82887945, learning_rate: 4.861751152073733e-05, global_step: 480, interval_runtime: 4.4104, interval_samples_per_second: 3.628, interval_steps_per_second: 2.267, epoch: 0.2765\r\n",
      "loss: 0.78105617, learning_rate: 4.858870967741936e-05, global_step: 490, interval_runtime: 4.429, interval_samples_per_second: 3.613, interval_steps_per_second: 2.258, epoch: 0.2823\r\n",
      "loss: 0.7961812, learning_rate: 4.8559907834101385e-05, global_step: 500, interval_runtime: 4.3971, interval_samples_per_second: 3.639, interval_steps_per_second: 2.274, epoch: 0.288\r\n",
      "loss: 0.93078728, learning_rate: 4.853110599078341e-05, global_step: 510, interval_runtime: 4.4005, interval_samples_per_second: 3.636, interval_steps_per_second: 2.272, epoch: 0.2938\r\n",
      "loss: 0.7587204, learning_rate: 4.850230414746544e-05, global_step: 520, interval_runtime: 4.4069, interval_samples_per_second: 3.631, interval_steps_per_second: 2.269, epoch: 0.2995\r\n",
      "loss: 0.73737593, learning_rate: 4.847350230414747e-05, global_step: 530, interval_runtime: 4.4009, interval_samples_per_second: 3.636, interval_steps_per_second: 2.272, epoch: 0.3053\r\n",
      "loss: 0.77802038, learning_rate: 4.8444700460829495e-05, global_step: 540, interval_runtime: 4.4084, interval_samples_per_second: 3.629, interval_steps_per_second: 2.268, epoch: 0.3111\r\n",
      "loss: 0.80435553, learning_rate: 4.841589861751152e-05, global_step: 550, interval_runtime: 4.403, interval_samples_per_second: 3.634, interval_steps_per_second: 2.271, epoch: 0.3168\r\n",
      "loss: 0.84407167, learning_rate: 4.8387096774193554e-05, global_step: 560, interval_runtime: 4.4076, interval_samples_per_second: 3.63, interval_steps_per_second: 2.269, epoch: 0.3226\r\n",
      "loss: 0.79193592, learning_rate: 4.835829493087558e-05, global_step: 570, interval_runtime: 4.4159, interval_samples_per_second: 3.623, interval_steps_per_second: 2.265, epoch: 0.3283\r\n",
      "loss: 0.7054522, learning_rate: 4.8329493087557606e-05, global_step: 580, interval_runtime: 4.4066, interval_samples_per_second: 3.631, interval_steps_per_second: 2.269, epoch: 0.3341\r\n",
      "loss: 0.83484964, learning_rate: 4.830069124423963e-05, global_step: 590, interval_runtime: 4.4188, interval_samples_per_second: 3.621, interval_steps_per_second: 2.263, epoch: 0.3399\r\n",
      "loss: 0.71291094, learning_rate: 4.827188940092166e-05, global_step: 600, interval_runtime: 4.4081, interval_samples_per_second: 3.63, interval_steps_per_second: 2.269, epoch: 0.3456\r\n"
     ]
    },
    {
     "name": "stderr",
     "output_type": "stream",
     "text": [
      "[2024-03-04 12:54:57,186] [    INFO] - ***** Running Evaluation *****\r\n",
      "[2024-03-04 12:54:57,188] [    INFO] -   Num examples = 2000\r\n",
      "[2024-03-04 12:54:57,190] [    INFO] -   Pre device batch size = 16\r\n",
      "[2024-03-04 12:54:57,193] [    INFO] -   Total Batch size = 16\r\n",
      "[2024-03-04 12:54:57,195] [    INFO] -   Total prediction steps = 125\r\n"
     ]
    },
    {
     "data": {
      "application/vnd.jupyter.widget-view+json": {
       "model_id": "",
       "version_major": 2,
       "version_minor": 0
      },
      "text/plain": [
       "  0%|          | 0/125 [00:00<?, ?it/s]"
      ]
     },
     "metadata": {},
     "output_type": "display_data"
    },
    {
     "name": "stdout",
     "output_type": "stream",
     "text": [
      "eval_loss: 0.7344194650650024, eval_accuracy: 0.74, eval_f1: 0.7043349691422547, eval_runtime: 20.9173, eval_samples_per_second: 95.614, eval_steps_per_second: 5.976, epoch: 0.3456\r\n"
     ]
    },
    {
     "name": "stderr",
     "output_type": "stream",
     "text": [
      "[2024-03-04 12:55:18,112] [    INFO] - Saving model checkpoint to ./work/output/checkpoint-600\r\n"
     ]
    },
    {
     "name": "stdout",
     "output_type": "stream",
     "text": [
      "loss: 0.79023409, learning_rate: 4.824308755760369e-05, global_step: 610, interval_runtime: 37.0588, interval_samples_per_second: 0.432, interval_steps_per_second: 0.27, epoch: 0.3514\r\n",
      "loss: 0.77363892, learning_rate: 4.8214285714285716e-05, global_step: 620, interval_runtime: 4.4224, interval_samples_per_second: 3.618, interval_steps_per_second: 2.261, epoch: 0.3571\r\n",
      "loss: 0.63662872, learning_rate: 4.818548387096775e-05, global_step: 630, interval_runtime: 4.4281, interval_samples_per_second: 3.613, interval_steps_per_second: 2.258, epoch: 0.3629\r\n",
      "loss: 0.9003459, learning_rate: 4.8156682027649774e-05, global_step: 640, interval_runtime: 4.4171, interval_samples_per_second: 3.622, interval_steps_per_second: 2.264, epoch: 0.3687\r\n",
      "loss: 0.77951646, learning_rate: 4.81278801843318e-05, global_step: 650, interval_runtime: 4.414, interval_samples_per_second: 3.625, interval_steps_per_second: 2.266, epoch: 0.3744\r\n",
      "loss: 0.81409063, learning_rate: 4.8099078341013826e-05, global_step: 660, interval_runtime: 4.3994, interval_samples_per_second: 3.637, interval_steps_per_second: 2.273, epoch: 0.3802\r\n",
      "loss: 0.71272812, learning_rate: 4.807027649769585e-05, global_step: 670, interval_runtime: 4.4026, interval_samples_per_second: 3.634, interval_steps_per_second: 2.271, epoch: 0.3859\r\n",
      "loss: 0.89863434, learning_rate: 4.8041474654377885e-05, global_step: 680, interval_runtime: 4.4162, interval_samples_per_second: 3.623, interval_steps_per_second: 2.264, epoch: 0.3917\r\n",
      "loss: 0.7518497, learning_rate: 4.801267281105991e-05, global_step: 690, interval_runtime: 4.3982, interval_samples_per_second: 3.638, interval_steps_per_second: 2.274, epoch: 0.3975\r\n",
      "loss: 0.68249874, learning_rate: 4.7983870967741937e-05, global_step: 700, interval_runtime: 4.4089, interval_samples_per_second: 3.629, interval_steps_per_second: 2.268, epoch: 0.4032\r\n",
      "loss: 0.8524621, learning_rate: 4.795506912442397e-05, global_step: 710, interval_runtime: 4.3918, interval_samples_per_second: 3.643, interval_steps_per_second: 2.277, epoch: 0.409\r\n",
      "loss: 0.7051774, learning_rate: 4.792626728110599e-05, global_step: 720, interval_runtime: 4.4116, interval_samples_per_second: 3.627, interval_steps_per_second: 2.267, epoch: 0.4147\r\n",
      "loss: 0.80220385, learning_rate: 4.789746543778802e-05, global_step: 730, interval_runtime: 4.4132, interval_samples_per_second: 3.625, interval_steps_per_second: 2.266, epoch: 0.4205\r\n",
      "loss: 0.80250778, learning_rate: 4.786866359447005e-05, global_step: 740, interval_runtime: 4.406, interval_samples_per_second: 3.631, interval_steps_per_second: 2.27, epoch: 0.4263\r\n",
      "loss: 0.80234604, learning_rate: 4.783986175115208e-05, global_step: 750, interval_runtime: 4.4035, interval_samples_per_second: 3.633, interval_steps_per_second: 2.271, epoch: 0.432\r\n",
      "loss: 0.76442904, learning_rate: 4.7811059907834105e-05, global_step: 760, interval_runtime: 4.4016, interval_samples_per_second: 3.635, interval_steps_per_second: 2.272, epoch: 0.4378\r\n",
      "loss: 0.85423708, learning_rate: 4.778225806451613e-05, global_step: 770, interval_runtime: 4.4, interval_samples_per_second: 3.636, interval_steps_per_second: 2.273, epoch: 0.4435\r\n",
      "loss: 0.80019407, learning_rate: 4.775345622119816e-05, global_step: 780, interval_runtime: 4.41, interval_samples_per_second: 3.628, interval_steps_per_second: 2.268, epoch: 0.4493\r\n",
      "loss: 0.63306823, learning_rate: 4.772465437788018e-05, global_step: 790, interval_runtime: 4.4054, interval_samples_per_second: 3.632, interval_steps_per_second: 2.27, epoch: 0.4551\r\n",
      "loss: 0.82322016, learning_rate: 4.7695852534562216e-05, global_step: 800, interval_runtime: 4.4231, interval_samples_per_second: 3.617, interval_steps_per_second: 2.261, epoch: 0.4608\r\n"
     ]
    },
    {
     "name": "stderr",
     "output_type": "stream",
     "text": [
      "[2024-03-04 12:56:58,018] [    INFO] - ***** Running Evaluation *****\r\n",
      "[2024-03-04 12:56:58,022] [    INFO] -   Num examples = 2000\r\n",
      "[2024-03-04 12:56:58,025] [    INFO] -   Pre device batch size = 16\r\n",
      "[2024-03-04 12:56:58,027] [    INFO] -   Total Batch size = 16\r\n",
      "[2024-03-04 12:56:58,029] [    INFO] -   Total prediction steps = 125\r\n"
     ]
    },
    {
     "data": {
      "application/vnd.jupyter.widget-view+json": {
       "model_id": "",
       "version_major": 2,
       "version_minor": 0
      },
      "text/plain": [
       "  0%|          | 0/125 [00:00<?, ?it/s]"
      ]
     },
     "metadata": {},
     "output_type": "display_data"
    },
    {
     "name": "stdout",
     "output_type": "stream",
     "text": [
      "eval_loss: 0.7306503057479858, eval_accuracy: 0.7455, eval_f1: 0.7151519811066677, eval_runtime: 20.9558, eval_samples_per_second: 95.439, eval_steps_per_second: 5.965, epoch: 0.4608\r\n"
     ]
    },
    {
     "name": "stderr",
     "output_type": "stream",
     "text": [
      "[2024-03-04 12:57:18,981] [    INFO] - Saving model checkpoint to ./work/output/checkpoint-800\r\n",
      "[2024-03-04 12:57:22,661] [    INFO] - Deleting older checkpoint [work/output/checkpoint-34700] due to args.save_total_limit\r\n"
     ]
    },
    {
     "name": "stdout",
     "output_type": "stream",
     "text": [
      "loss: 0.73585172, learning_rate: 4.766705069124424e-05, global_step: 810, interval_runtime: 29.0676, interval_samples_per_second: 0.55, interval_steps_per_second: 0.344, epoch: 0.4666\r\n",
      "loss: 0.79117918, learning_rate: 4.763824884792627e-05, global_step: 820, interval_runtime: 4.4047, interval_samples_per_second: 3.632, interval_steps_per_second: 2.27, epoch: 0.4724\r\n",
      "loss: 0.66303582, learning_rate: 4.76094470046083e-05, global_step: 830, interval_runtime: 4.4201, interval_samples_per_second: 3.62, interval_steps_per_second: 2.262, epoch: 0.4781\r\n",
      "loss: 0.67692022, learning_rate: 4.7580645161290326e-05, global_step: 840, interval_runtime: 4.4164, interval_samples_per_second: 3.623, interval_steps_per_second: 2.264, epoch: 0.4839\r\n",
      "loss: 0.55614233, learning_rate: 4.755184331797235e-05, global_step: 850, interval_runtime: 4.4169, interval_samples_per_second: 3.622, interval_steps_per_second: 2.264, epoch: 0.4896\r\n",
      "loss: 0.77006936, learning_rate: 4.752304147465438e-05, global_step: 860, interval_runtime: 4.4009, interval_samples_per_second: 3.636, interval_steps_per_second: 2.272, epoch: 0.4954\r\n",
      "loss: 0.7561738, learning_rate: 4.7494239631336404e-05, global_step: 870, interval_runtime: 4.4002, interval_samples_per_second: 3.636, interval_steps_per_second: 2.273, epoch: 0.5012\r\n",
      "loss: 0.79915881, learning_rate: 4.7465437788018436e-05, global_step: 880, interval_runtime: 4.4182, interval_samples_per_second: 3.621, interval_steps_per_second: 2.263, epoch: 0.5069\r\n",
      "loss: 0.84896555, learning_rate: 4.743663594470046e-05, global_step: 890, interval_runtime: 4.3937, interval_samples_per_second: 3.642, interval_steps_per_second: 2.276, epoch: 0.5127\r\n",
      "loss: 0.78094087, learning_rate: 4.7407834101382495e-05, global_step: 900, interval_runtime: 4.3876, interval_samples_per_second: 3.647, interval_steps_per_second: 2.279, epoch: 0.5184\r\n",
      "loss: 0.82494068, learning_rate: 4.737903225806452e-05, global_step: 910, interval_runtime: 4.3999, interval_samples_per_second: 3.636, interval_steps_per_second: 2.273, epoch: 0.5242\r\n",
      "loss: 0.62366486, learning_rate: 4.735023041474655e-05, global_step: 920, interval_runtime: 4.3907, interval_samples_per_second: 3.644, interval_steps_per_second: 2.278, epoch: 0.53\r\n",
      "loss: 0.8109293, learning_rate: 4.732142857142857e-05, global_step: 930, interval_runtime: 4.4009, interval_samples_per_second: 3.636, interval_steps_per_second: 2.272, epoch: 0.5357\r\n",
      "loss: 0.71673889, learning_rate: 4.72926267281106e-05, global_step: 940, interval_runtime: 4.4043, interval_samples_per_second: 3.633, interval_steps_per_second: 2.271, epoch: 0.5415\r\n",
      "loss: 0.7267828, learning_rate: 4.726382488479263e-05, global_step: 950, interval_runtime: 4.418, interval_samples_per_second: 3.622, interval_steps_per_second: 2.263, epoch: 0.5472\r\n",
      "loss: 0.95867805, learning_rate: 4.723502304147466e-05, global_step: 960, interval_runtime: 4.4244, interval_samples_per_second: 3.616, interval_steps_per_second: 2.26, epoch: 0.553\r\n",
      "loss: 0.75404644, learning_rate: 4.720622119815668e-05, global_step: 970, interval_runtime: 4.4037, interval_samples_per_second: 3.633, interval_steps_per_second: 2.271, epoch: 0.5588\r\n",
      "loss: 0.66914167, learning_rate: 4.7177419354838716e-05, global_step: 980, interval_runtime: 4.3943, interval_samples_per_second: 3.641, interval_steps_per_second: 2.276, epoch: 0.5645\r\n",
      "loss: 0.72048278, learning_rate: 4.7148617511520735e-05, global_step: 990, interval_runtime: 4.4048, interval_samples_per_second: 3.632, interval_steps_per_second: 2.27, epoch: 0.5703\r\n",
      "loss: 0.77659531, learning_rate: 4.711981566820277e-05, global_step: 1000, interval_runtime: 4.427, interval_samples_per_second: 3.614, interval_steps_per_second: 2.259, epoch: 0.576\r\n"
     ]
    },
    {
     "name": "stderr",
     "output_type": "stream",
     "text": [
      "[2024-03-04 12:58:50,815] [    INFO] - ***** Running Evaluation *****\r\n",
      "[2024-03-04 12:58:50,819] [    INFO] -   Num examples = 2000\r\n",
      "[2024-03-04 12:58:50,822] [    INFO] -   Pre device batch size = 16\r\n",
      "[2024-03-04 12:58:50,826] [    INFO] -   Total Batch size = 16\r\n",
      "[2024-03-04 12:58:50,828] [    INFO] -   Total prediction steps = 125\r\n"
     ]
    },
    {
     "data": {
      "application/vnd.jupyter.widget-view+json": {
       "model_id": "",
       "version_major": 2,
       "version_minor": 0
      },
      "text/plain": [
       "  0%|          | 0/125 [00:00<?, ?it/s]"
      ]
     },
     "metadata": {},
     "output_type": "display_data"
    },
    {
     "name": "stdout",
     "output_type": "stream",
     "text": [
      "eval_loss: 0.7400710582733154, eval_accuracy: 0.729, eval_f1: 0.708803553103821, eval_runtime: 20.8094, eval_samples_per_second: 96.111, eval_steps_per_second: 6.007, epoch: 0.576\r\n"
     ]
    },
    {
     "name": "stderr",
     "output_type": "stream",
     "text": [
      "[2024-03-04 12:59:11,630] [    INFO] - Saving model checkpoint to ./work/output/checkpoint-1000\r\n",
      "[2024-03-04 12:59:15,030] [    INFO] - Deleting older checkpoint [work/output/checkpoint-34710] due to args.save_total_limit\r\n"
     ]
    },
    {
     "name": "stdout",
     "output_type": "stream",
     "text": [
      "loss: 0.67830677, learning_rate: 4.709101382488479e-05, global_step: 1010, interval_runtime: 28.6481, interval_samples_per_second: 0.559, interval_steps_per_second: 0.349, epoch: 0.5818\r\n",
      "loss: 0.82095194, learning_rate: 4.7062211981566826e-05, global_step: 1020, interval_runtime: 4.4145, interval_samples_per_second: 3.624, interval_steps_per_second: 2.265, epoch: 0.5876\r\n",
      "loss: 0.79213505, learning_rate: 4.703341013824885e-05, global_step: 1030, interval_runtime: 4.4335, interval_samples_per_second: 3.609, interval_steps_per_second: 2.256, epoch: 0.5933\r\n",
      "loss: 0.6410213, learning_rate: 4.700460829493088e-05, global_step: 1040, interval_runtime: 4.4678, interval_samples_per_second: 3.581, interval_steps_per_second: 2.238, epoch: 0.5991\r\n",
      "loss: 0.81676493, learning_rate: 4.697580645161291e-05, global_step: 1050, interval_runtime: 4.4282, interval_samples_per_second: 3.613, interval_steps_per_second: 2.258, epoch: 0.6048\r\n",
      "loss: 0.66969528, learning_rate: 4.694700460829493e-05, global_step: 1060, interval_runtime: 4.4257, interval_samples_per_second: 3.615, interval_steps_per_second: 2.26, epoch: 0.6106\r\n",
      "loss: 0.79062643, learning_rate: 4.691820276497696e-05, global_step: 1070, interval_runtime: 4.414, interval_samples_per_second: 3.625, interval_steps_per_second: 2.266, epoch: 0.6164\r\n",
      "loss: 0.84928493, learning_rate: 4.688940092165899e-05, global_step: 1080, interval_runtime: 4.3935, interval_samples_per_second: 3.642, interval_steps_per_second: 2.276, epoch: 0.6221\r\n",
      "loss: 0.73231592, learning_rate: 4.6860599078341014e-05, global_step: 1090, interval_runtime: 4.406, interval_samples_per_second: 3.631, interval_steps_per_second: 2.27, epoch: 0.6279\r\n",
      "loss: 0.85603151, learning_rate: 4.6831797235023047e-05, global_step: 1100, interval_runtime: 4.4119, interval_samples_per_second: 3.627, interval_steps_per_second: 2.267, epoch: 0.6336\r\n",
      "loss: 0.68992486, learning_rate: 4.680299539170507e-05, global_step: 1110, interval_runtime: 4.4153, interval_samples_per_second: 3.624, interval_steps_per_second: 2.265, epoch: 0.6394\r\n",
      "loss: 0.81241322, learning_rate: 4.67741935483871e-05, global_step: 1120, interval_runtime: 4.4204, interval_samples_per_second: 3.62, interval_steps_per_second: 2.262, epoch: 0.6452\r\n",
      "loss: 0.64853392, learning_rate: 4.6745391705069124e-05, global_step: 1130, interval_runtime: 4.4213, interval_samples_per_second: 3.619, interval_steps_per_second: 2.262, epoch: 0.6509\r\n",
      "loss: 0.74896979, learning_rate: 4.671658986175115e-05, global_step: 1140, interval_runtime: 4.4166, interval_samples_per_second: 3.623, interval_steps_per_second: 2.264, epoch: 0.6567\r\n",
      "loss: 0.75226936, learning_rate: 4.668778801843318e-05, global_step: 1150, interval_runtime: 4.411, interval_samples_per_second: 3.627, interval_steps_per_second: 2.267, epoch: 0.6624\r\n",
      "loss: 0.90780783, learning_rate: 4.665898617511521e-05, global_step: 1160, interval_runtime: 4.4029, interval_samples_per_second: 3.634, interval_steps_per_second: 2.271, epoch: 0.6682\r\n",
      "loss: 0.75518718, learning_rate: 4.663018433179724e-05, global_step: 1170, interval_runtime: 4.4159, interval_samples_per_second: 3.623, interval_steps_per_second: 2.265, epoch: 0.674\r\n",
      "loss: 0.69515953, learning_rate: 4.660138248847927e-05, global_step: 1180, interval_runtime: 4.4207, interval_samples_per_second: 3.619, interval_steps_per_second: 2.262, epoch: 0.6797\r\n",
      "loss: 0.80419521, learning_rate: 4.657258064516129e-05, global_step: 1190, interval_runtime: 4.4349, interval_samples_per_second: 3.608, interval_steps_per_second: 2.255, epoch: 0.6855\r\n",
      "loss: 0.69754963, learning_rate: 4.654377880184332e-05, global_step: 1200, interval_runtime: 4.4205, interval_samples_per_second: 3.619, interval_steps_per_second: 2.262, epoch: 0.6912\r\n"
     ]
    },
    {
     "name": "stderr",
     "output_type": "stream",
     "text": [
      "[2024-03-04 13:00:43,436] [    INFO] - ***** Running Evaluation *****\r\n",
      "[2024-03-04 13:00:43,439] [    INFO] -   Num examples = 2000\r\n",
      "[2024-03-04 13:00:43,442] [    INFO] -   Pre device batch size = 16\r\n",
      "[2024-03-04 13:00:43,444] [    INFO] -   Total Batch size = 16\r\n",
      "[2024-03-04 13:00:43,446] [    INFO] -   Total prediction steps = 125\r\n"
     ]
    },
    {
     "data": {
      "application/vnd.jupyter.widget-view+json": {
       "model_id": "",
       "version_major": 2,
       "version_minor": 0
      },
      "text/plain": [
       "  0%|          | 0/125 [00:00<?, ?it/s]"
      ]
     },
     "metadata": {},
     "output_type": "display_data"
    },
    {
     "name": "stdout",
     "output_type": "stream",
     "text": [
      "eval_loss: 0.6716945767402649, eval_accuracy: 0.7605, eval_f1: 0.7318967169985461, eval_runtime: 20.9281, eval_samples_per_second: 95.565, eval_steps_per_second: 5.973, epoch: 0.6912\r\n"
     ]
    },
    {
     "name": "stderr",
     "output_type": "stream",
     "text": [
      "[2024-03-04 13:01:04,370] [    INFO] - Saving model checkpoint to ./work/output/checkpoint-1200\r\n",
      "[2024-03-04 13:01:08,164] [    INFO] - Deleting older checkpoint [work/output/checkpoint-2000] due to args.save_total_limit\r\n"
     ]
    },
    {
     "name": "stdout",
     "output_type": "stream",
     "text": [
      "loss: 0.55853863, learning_rate: 4.6514976958525345e-05, global_step: 1210, interval_runtime: 29.1744, interval_samples_per_second: 0.548, interval_steps_per_second: 0.343, epoch: 0.697\r\n",
      "loss: 0.60833511, learning_rate: 4.648617511520738e-05, global_step: 1220, interval_runtime: 4.4466, interval_samples_per_second: 3.598, interval_steps_per_second: 2.249, epoch: 0.7028\r\n",
      "loss: 0.86867657, learning_rate: 4.6457373271889403e-05, global_step: 1230, interval_runtime: 4.4336, interval_samples_per_second: 3.609, interval_steps_per_second: 2.256, epoch: 0.7085\r\n",
      "loss: 0.61505356, learning_rate: 4.642857142857143e-05, global_step: 1240, interval_runtime: 4.4379, interval_samples_per_second: 3.605, interval_steps_per_second: 2.253, epoch: 0.7143\r\n",
      "loss: 0.81560726, learning_rate: 4.639976958525346e-05, global_step: 1250, interval_runtime: 4.444, interval_samples_per_second: 3.6, interval_steps_per_second: 2.25, epoch: 0.72\r\n",
      "loss: 0.6835681, learning_rate: 4.637096774193548e-05, global_step: 1260, interval_runtime: 4.4412, interval_samples_per_second: 3.603, interval_steps_per_second: 2.252, epoch: 0.7258\r\n",
      "loss: 0.6758997, learning_rate: 4.6342165898617514e-05, global_step: 1270, interval_runtime: 4.4517, interval_samples_per_second: 3.594, interval_steps_per_second: 2.246, epoch: 0.7316\r\n",
      "loss: 0.61099887, learning_rate: 4.631336405529954e-05, global_step: 1280, interval_runtime: 4.4421, interval_samples_per_second: 3.602, interval_steps_per_second: 2.251, epoch: 0.7373\r\n",
      "loss: 0.62222362, learning_rate: 4.628456221198157e-05, global_step: 1290, interval_runtime: 4.4537, interval_samples_per_second: 3.592, interval_steps_per_second: 2.245, epoch: 0.7431\r\n",
      "loss: 0.81120033, learning_rate: 4.62557603686636e-05, global_step: 1300, interval_runtime: 4.4363, interval_samples_per_second: 3.607, interval_steps_per_second: 2.254, epoch: 0.7488\r\n",
      "loss: 0.78745365, learning_rate: 4.6226958525345624e-05, global_step: 1310, interval_runtime: 4.445, interval_samples_per_second: 3.6, interval_steps_per_second: 2.25, epoch: 0.7546\r\n",
      "loss: 0.82156553, learning_rate: 4.619815668202766e-05, global_step: 1320, interval_runtime: 4.4469, interval_samples_per_second: 3.598, interval_steps_per_second: 2.249, epoch: 0.7604\r\n",
      "loss: 0.92274132, learning_rate: 4.6169354838709676e-05, global_step: 1330, interval_runtime: 4.459, interval_samples_per_second: 3.588, interval_steps_per_second: 2.243, epoch: 0.7661\r\n",
      "loss: 0.57529211, learning_rate: 4.614055299539171e-05, global_step: 1340, interval_runtime: 4.4621, interval_samples_per_second: 3.586, interval_steps_per_second: 2.241, epoch: 0.7719\r\n",
      "loss: 0.7696003, learning_rate: 4.6111751152073734e-05, global_step: 1350, interval_runtime: 4.4483, interval_samples_per_second: 3.597, interval_steps_per_second: 2.248, epoch: 0.7776\r\n",
      "loss: 0.58770185, learning_rate: 4.608294930875576e-05, global_step: 1360, interval_runtime: 4.4349, interval_samples_per_second: 3.608, interval_steps_per_second: 2.255, epoch: 0.7834\r\n",
      "loss: 0.70830522, learning_rate: 4.605414746543779e-05, global_step: 1370, interval_runtime: 4.4444, interval_samples_per_second: 3.6, interval_steps_per_second: 2.25, epoch: 0.7892\r\n",
      "loss: 0.65170002, learning_rate: 4.602534562211982e-05, global_step: 1380, interval_runtime: 4.4582, interval_samples_per_second: 3.589, interval_steps_per_second: 2.243, epoch: 0.7949\r\n",
      "loss: 0.69833403, learning_rate: 4.599654377880185e-05, global_step: 1390, interval_runtime: 4.4465, interval_samples_per_second: 3.598, interval_steps_per_second: 2.249, epoch: 0.8007\r\n",
      "loss: 0.69471149, learning_rate: 4.596774193548387e-05, global_step: 1400, interval_runtime: 4.4436, interval_samples_per_second: 3.601, interval_steps_per_second: 2.25, epoch: 0.8065\r\n"
     ]
    },
    {
     "name": "stderr",
     "output_type": "stream",
     "text": [
      "[2024-03-04 13:02:37,087] [    INFO] - ***** Running Evaluation *****\r\n",
      "[2024-03-04 13:02:37,090] [    INFO] -   Num examples = 2000\r\n",
      "[2024-03-04 13:02:37,091] [    INFO] -   Pre device batch size = 16\r\n",
      "[2024-03-04 13:02:37,094] [    INFO] -   Total Batch size = 16\r\n",
      "[2024-03-04 13:02:37,096] [    INFO] -   Total prediction steps = 125\r\n"
     ]
    },
    {
     "data": {
      "application/vnd.jupyter.widget-view+json": {
       "model_id": "",
       "version_major": 2,
       "version_minor": 0
      },
      "text/plain": [
       "  0%|          | 0/125 [00:00<?, ?it/s]"
      ]
     },
     "metadata": {},
     "output_type": "display_data"
    },
    {
     "name": "stdout",
     "output_type": "stream",
     "text": [
      "eval_loss: 0.6924294233322144, eval_accuracy: 0.7545, eval_f1: 0.729216186170713, eval_runtime: 20.9379, eval_samples_per_second: 95.521, eval_steps_per_second: 5.97, epoch: 0.8065\r\n"
     ]
    },
    {
     "name": "stderr",
     "output_type": "stream",
     "text": [
      "[2024-03-04 13:02:58,036] [    INFO] - Saving model checkpoint to ./work/output/checkpoint-1400\r\n",
      "[2024-03-04 13:03:01,849] [    INFO] - Deleting older checkpoint [work/output/checkpoint-4000] due to args.save_total_limit\r\n"
     ]
    },
    {
     "name": "stdout",
     "output_type": "stream",
     "text": [
      "loss: 0.69151964, learning_rate: 4.5938940092165897e-05, global_step: 1410, interval_runtime: 29.2113, interval_samples_per_second: 0.548, interval_steps_per_second: 0.342, epoch: 0.8122\r\n",
      "loss: 0.80565481, learning_rate: 4.591013824884793e-05, global_step: 1420, interval_runtime: 4.492, interval_samples_per_second: 3.562, interval_steps_per_second: 2.226, epoch: 0.818\r\n",
      "loss: 0.59375486, learning_rate: 4.5881336405529955e-05, global_step: 1430, interval_runtime: 4.4796, interval_samples_per_second: 3.572, interval_steps_per_second: 2.232, epoch: 0.8237\r\n",
      "loss: 0.80220919, learning_rate: 4.585253456221199e-05, global_step: 1440, interval_runtime: 4.4147, interval_samples_per_second: 3.624, interval_steps_per_second: 2.265, epoch: 0.8295\r\n",
      "loss: 0.67036304, learning_rate: 4.5823732718894014e-05, global_step: 1450, interval_runtime: 4.4304, interval_samples_per_second: 3.611, interval_steps_per_second: 2.257, epoch: 0.8353\r\n",
      "loss: 0.65784626, learning_rate: 4.579493087557604e-05, global_step: 1460, interval_runtime: 4.433, interval_samples_per_second: 3.609, interval_steps_per_second: 2.256, epoch: 0.841\r\n",
      "loss: 0.75962973, learning_rate: 4.5766129032258065e-05, global_step: 1470, interval_runtime: 4.4203, interval_samples_per_second: 3.62, interval_steps_per_second: 2.262, epoch: 0.8468\r\n",
      "loss: 0.5896493, learning_rate: 4.573732718894009e-05, global_step: 1480, interval_runtime: 4.4169, interval_samples_per_second: 3.622, interval_steps_per_second: 2.264, epoch: 0.8525\r\n",
      "loss: 0.90039244, learning_rate: 4.5708525345622124e-05, global_step: 1490, interval_runtime: 4.4145, interval_samples_per_second: 3.624, interval_steps_per_second: 2.265, epoch: 0.8583\r\n",
      "loss: 0.67349305, learning_rate: 4.567972350230415e-05, global_step: 1500, interval_runtime: 4.4011, interval_samples_per_second: 3.635, interval_steps_per_second: 2.272, epoch: 0.8641\r\n",
      "loss: 0.68914394, learning_rate: 4.5650921658986176e-05, global_step: 1510, interval_runtime: 4.4094, interval_samples_per_second: 3.629, interval_steps_per_second: 2.268, epoch: 0.8698\r\n",
      "loss: 0.67826438, learning_rate: 4.562211981566821e-05, global_step: 1520, interval_runtime: 4.4396, interval_samples_per_second: 3.604, interval_steps_per_second: 2.252, epoch: 0.8756\r\n",
      "loss: 0.74654489, learning_rate: 4.559331797235023e-05, global_step: 1530, interval_runtime: 4.4214, interval_samples_per_second: 3.619, interval_steps_per_second: 2.262, epoch: 0.8813\r\n",
      "loss: 0.81076021, learning_rate: 4.556451612903226e-05, global_step: 1540, interval_runtime: 4.4188, interval_samples_per_second: 3.621, interval_steps_per_second: 2.263, epoch: 0.8871\r\n",
      "loss: 0.62981944, learning_rate: 4.5535714285714286e-05, global_step: 1550, interval_runtime: 4.4181, interval_samples_per_second: 3.622, interval_steps_per_second: 2.263, epoch: 0.8929\r\n",
      "loss: 0.66262908, learning_rate: 4.550691244239632e-05, global_step: 1560, interval_runtime: 4.4277, interval_samples_per_second: 3.614, interval_steps_per_second: 2.259, epoch: 0.8986\r\n",
      "loss: 0.70506964, learning_rate: 4.5478110599078345e-05, global_step: 1570, interval_runtime: 4.4341, interval_samples_per_second: 3.608, interval_steps_per_second: 2.255, epoch: 0.9044\r\n",
      "loss: 0.77176447, learning_rate: 4.544930875576037e-05, global_step: 1580, interval_runtime: 4.4133, interval_samples_per_second: 3.625, interval_steps_per_second: 2.266, epoch: 0.9101\r\n",
      "loss: 0.70118599, learning_rate: 4.54205069124424e-05, global_step: 1590, interval_runtime: 4.4297, interval_samples_per_second: 3.612, interval_steps_per_second: 2.257, epoch: 0.9159\r\n",
      "loss: 0.66869907, learning_rate: 4.539170506912442e-05, global_step: 1600, interval_runtime: 4.4348, interval_samples_per_second: 3.608, interval_steps_per_second: 2.255, epoch: 0.9217\r\n"
     ]
    },
    {
     "name": "stderr",
     "output_type": "stream",
     "text": [
      "[2024-03-04 13:04:30,449] [    INFO] - ***** Running Evaluation *****\r\n",
      "[2024-03-04 13:04:30,453] [    INFO] -   Num examples = 2000\r\n",
      "[2024-03-04 13:04:30,457] [    INFO] -   Pre device batch size = 16\r\n",
      "[2024-03-04 13:04:30,460] [    INFO] -   Total Batch size = 16\r\n",
      "[2024-03-04 13:04:30,463] [    INFO] -   Total prediction steps = 125\r\n"
     ]
    },
    {
     "data": {
      "application/vnd.jupyter.widget-view+json": {
       "model_id": "",
       "version_major": 2,
       "version_minor": 0
      },
      "text/plain": [
       "  0%|          | 0/125 [00:00<?, ?it/s]"
      ]
     },
     "metadata": {},
     "output_type": "display_data"
    },
    {
     "name": "stdout",
     "output_type": "stream",
     "text": [
      "eval_loss: 0.6919365525245667, eval_accuracy: 0.765, eval_f1: 0.7303350876117921, eval_runtime: 21.0241, eval_samples_per_second: 95.129, eval_steps_per_second: 5.946, epoch: 0.9217\r\n"
     ]
    },
    {
     "name": "stderr",
     "output_type": "stream",
     "text": [
      "[2024-03-04 13:04:51,480] [    INFO] - Saving model checkpoint to ./work/output/checkpoint-1600\r\n",
      "[2024-03-04 13:04:55,276] [    INFO] - Deleting older checkpoint [work/output/checkpoint-6000] due to args.save_total_limit\r\n"
     ]
    },
    {
     "name": "stdout",
     "output_type": "stream",
     "text": [
      "loss: 0.73888597, learning_rate: 4.5362903225806455e-05, global_step: 1610, interval_runtime: 29.258, interval_samples_per_second: 0.547, interval_steps_per_second: 0.342, epoch: 0.9274\r\n",
      "loss: 0.77147188, learning_rate: 4.533410138248848e-05, global_step: 1620, interval_runtime: 4.4087, interval_samples_per_second: 3.629, interval_steps_per_second: 2.268, epoch: 0.9332\r\n",
      "loss: 0.73463268, learning_rate: 4.530529953917051e-05, global_step: 1630, interval_runtime: 4.4259, interval_samples_per_second: 3.615, interval_steps_per_second: 2.259, epoch: 0.9389\r\n",
      "loss: 0.6897584, learning_rate: 4.527649769585254e-05, global_step: 1640, interval_runtime: 4.4292, interval_samples_per_second: 3.612, interval_steps_per_second: 2.258, epoch: 0.9447\r\n",
      "loss: 0.71953998, learning_rate: 4.5247695852534565e-05, global_step: 1650, interval_runtime: 4.4328, interval_samples_per_second: 3.609, interval_steps_per_second: 2.256, epoch: 0.9505\r\n",
      "loss: 0.53310289, learning_rate: 4.52188940092166e-05, global_step: 1660, interval_runtime: 4.4114, interval_samples_per_second: 3.627, interval_steps_per_second: 2.267, epoch: 0.9562\r\n",
      "loss: 0.76182981, learning_rate: 4.519009216589862e-05, global_step: 1670, interval_runtime: 4.4168, interval_samples_per_second: 3.623, interval_steps_per_second: 2.264, epoch: 0.962\r\n",
      "loss: 0.59219031, learning_rate: 4.516129032258064e-05, global_step: 1680, interval_runtime: 4.4311, interval_samples_per_second: 3.611, interval_steps_per_second: 2.257, epoch: 0.9677\r\n",
      "loss: 0.69640236, learning_rate: 4.5132488479262676e-05, global_step: 1690, interval_runtime: 4.428, interval_samples_per_second: 3.613, interval_steps_per_second: 2.258, epoch: 0.9735\r\n",
      "loss: 0.59999566, learning_rate: 4.51036866359447e-05, global_step: 1700, interval_runtime: 4.4471, interval_samples_per_second: 3.598, interval_steps_per_second: 2.249, epoch: 0.9793\r\n",
      "loss: 0.84965906, learning_rate: 4.5074884792626734e-05, global_step: 1710, interval_runtime: 4.4532, interval_samples_per_second: 3.593, interval_steps_per_second: 2.246, epoch: 0.985\r\n",
      "loss: 0.64440131, learning_rate: 4.504608294930876e-05, global_step: 1720, interval_runtime: 4.4385, interval_samples_per_second: 3.605, interval_steps_per_second: 2.253, epoch: 0.9908\r\n",
      "loss: 0.85623093, learning_rate: 4.5017281105990786e-05, global_step: 1730, interval_runtime: 4.4528, interval_samples_per_second: 3.593, interval_steps_per_second: 2.246, epoch: 0.9965\r\n",
      "loss: 0.6370204, learning_rate: 4.498847926267281e-05, global_step: 1740, interval_runtime: 4.4271, interval_samples_per_second: 3.614, interval_steps_per_second: 2.259, epoch: 1.0023\r\n",
      "loss: 0.55912037, learning_rate: 4.495967741935484e-05, global_step: 1750, interval_runtime: 4.4415, interval_samples_per_second: 3.602, interval_steps_per_second: 2.252, epoch: 1.0081\r\n",
      "loss: 0.62948465, learning_rate: 4.493087557603687e-05, global_step: 1760, interval_runtime: 4.4345, interval_samples_per_second: 3.608, interval_steps_per_second: 2.255, epoch: 1.0138\r\n",
      "loss: 0.47702603, learning_rate: 4.4902073732718896e-05, global_step: 1770, interval_runtime: 4.4547, interval_samples_per_second: 3.592, interval_steps_per_second: 2.245, epoch: 1.0196\r\n",
      "loss: 0.5537374, learning_rate: 4.487327188940092e-05, global_step: 1780, interval_runtime: 4.4379, interval_samples_per_second: 3.605, interval_steps_per_second: 2.253, epoch: 1.0253\r\n",
      "loss: 0.50119362, learning_rate: 4.4844470046082955e-05, global_step: 1790, interval_runtime: 4.4268, interval_samples_per_second: 3.614, interval_steps_per_second: 2.259, epoch: 1.0311\r\n",
      "loss: 0.61729383, learning_rate: 4.4815668202764974e-05, global_step: 1800, interval_runtime: 4.4359, interval_samples_per_second: 3.607, interval_steps_per_second: 2.254, epoch: 1.0369\r\n"
     ]
    },
    {
     "name": "stderr",
     "output_type": "stream",
     "text": [
      "[2024-03-04 13:06:23,941] [    INFO] - ***** Running Evaluation *****\r\n",
      "[2024-03-04 13:06:23,944] [    INFO] -   Num examples = 2000\r\n",
      "[2024-03-04 13:06:23,947] [    INFO] -   Pre device batch size = 16\r\n",
      "[2024-03-04 13:06:23,950] [    INFO] -   Total Batch size = 16\r\n",
      "[2024-03-04 13:06:23,953] [    INFO] -   Total prediction steps = 125\r\n"
     ]
    },
    {
     "data": {
      "application/vnd.jupyter.widget-view+json": {
       "model_id": "",
       "version_major": 2,
       "version_minor": 0
      },
      "text/plain": [
       "  0%|          | 0/125 [00:00<?, ?it/s]"
      ]
     },
     "metadata": {},
     "output_type": "display_data"
    },
    {
     "name": "stdout",
     "output_type": "stream",
     "text": [
      "eval_loss: 0.7478088140487671, eval_accuracy: 0.758, eval_f1: 0.7099497747502338, eval_runtime: 20.9824, eval_samples_per_second: 95.318, eval_steps_per_second: 5.957, epoch: 1.0369\r\n"
     ]
    },
    {
     "name": "stderr",
     "output_type": "stream",
     "text": [
      "[2024-03-04 13:06:44,933] [    INFO] - Saving model checkpoint to ./work/output/checkpoint-1800\r\n",
      "[2024-03-04 13:06:49,271] [    INFO] - Deleting older checkpoint [work/output/checkpoint-8000] due to args.save_total_limit\r\n"
     ]
    },
    {
     "name": "stdout",
     "output_type": "stream",
     "text": [
      "loss: 0.53293438, learning_rate: 4.4786866359447007e-05, global_step: 1810, interval_runtime: 29.8752, interval_samples_per_second: 0.536, interval_steps_per_second: 0.335, epoch: 1.0426\r\n",
      "loss: 0.60602751, learning_rate: 4.475806451612903e-05, global_step: 1820, interval_runtime: 4.4306, interval_samples_per_second: 3.611, interval_steps_per_second: 2.257, epoch: 1.0484\r\n",
      "loss: 0.52126417, learning_rate: 4.4729262672811065e-05, global_step: 1830, interval_runtime: 4.4341, interval_samples_per_second: 3.608, interval_steps_per_second: 2.255, epoch: 1.0541\r\n",
      "loss: 0.469839, learning_rate: 4.470046082949309e-05, global_step: 1840, interval_runtime: 4.4325, interval_samples_per_second: 3.61, interval_steps_per_second: 2.256, epoch: 1.0599\r\n",
      "loss: 0.41080995, learning_rate: 4.467165898617512e-05, global_step: 1850, interval_runtime: 4.4213, interval_samples_per_second: 3.619, interval_steps_per_second: 2.262, epoch: 1.0657\r\n",
      "loss: 0.57756624, learning_rate: 4.464285714285715e-05, global_step: 1860, interval_runtime: 4.4246, interval_samples_per_second: 3.616, interval_steps_per_second: 2.26, epoch: 1.0714\r\n",
      "loss: 0.5144793, learning_rate: 4.461405529953917e-05, global_step: 1870, interval_runtime: 4.4297, interval_samples_per_second: 3.612, interval_steps_per_second: 2.258, epoch: 1.0772\r\n",
      "loss: 0.57705669, learning_rate: 4.45852534562212e-05, global_step: 1880, interval_runtime: 4.4295, interval_samples_per_second: 3.612, interval_steps_per_second: 2.258, epoch: 1.0829\r\n",
      "loss: 0.35615096, learning_rate: 4.455645161290323e-05, global_step: 1890, interval_runtime: 4.4372, interval_samples_per_second: 3.606, interval_steps_per_second: 2.254, epoch: 1.0887\r\n",
      "loss: 0.44456201, learning_rate: 4.452764976958525e-05, global_step: 1900, interval_runtime: 4.4334, interval_samples_per_second: 3.609, interval_steps_per_second: 2.256, epoch: 1.0945\r\n",
      "loss: 0.52567544, learning_rate: 4.4498847926267286e-05, global_step: 1910, interval_runtime: 4.4322, interval_samples_per_second: 3.61, interval_steps_per_second: 2.256, epoch: 1.1002\r\n",
      "loss: 0.47998228, learning_rate: 4.447004608294931e-05, global_step: 1920, interval_runtime: 4.4385, interval_samples_per_second: 3.605, interval_steps_per_second: 2.253, epoch: 1.106\r\n",
      "loss: 0.43660474, learning_rate: 4.4441244239631344e-05, global_step: 1930, interval_runtime: 4.4342, interval_samples_per_second: 3.608, interval_steps_per_second: 2.255, epoch: 1.1118\r\n",
      "loss: 0.49629655, learning_rate: 4.4412442396313363e-05, global_step: 1940, interval_runtime: 4.4298, interval_samples_per_second: 3.612, interval_steps_per_second: 2.257, epoch: 1.1175\r\n",
      "loss: 0.38374281, learning_rate: 4.438364055299539e-05, global_step: 1950, interval_runtime: 4.4216, interval_samples_per_second: 3.619, interval_steps_per_second: 2.262, epoch: 1.1233\r\n",
      "loss: 0.57333307, learning_rate: 4.435483870967742e-05, global_step: 1960, interval_runtime: 4.421, interval_samples_per_second: 3.619, interval_steps_per_second: 2.262, epoch: 1.129\r\n",
      "loss: 0.47901964, learning_rate: 4.432603686635945e-05, global_step: 1970, interval_runtime: 4.4602, interval_samples_per_second: 3.587, interval_steps_per_second: 2.242, epoch: 1.1348\r\n",
      "loss: 0.54313722, learning_rate: 4.429723502304148e-05, global_step: 1980, interval_runtime: 4.4235, interval_samples_per_second: 3.617, interval_steps_per_second: 2.261, epoch: 1.1406\r\n",
      "loss: 0.48554988, learning_rate: 4.4268433179723506e-05, global_step: 1990, interval_runtime: 4.4425, interval_samples_per_second: 3.602, interval_steps_per_second: 2.251, epoch: 1.1463\r\n",
      "loss: 0.60839949, learning_rate: 4.423963133640553e-05, global_step: 2000, interval_runtime: 4.4264, interval_samples_per_second: 3.615, interval_steps_per_second: 2.259, epoch: 1.1521\r\n"
     ]
    },
    {
     "name": "stderr",
     "output_type": "stream",
     "text": [
      "[2024-03-04 13:08:18,022] [    INFO] - ***** Running Evaluation *****\r\n",
      "[2024-03-04 13:08:18,025] [    INFO] -   Num examples = 2000\r\n",
      "[2024-03-04 13:08:18,029] [    INFO] -   Pre device batch size = 16\r\n",
      "[2024-03-04 13:08:18,035] [    INFO] -   Total Batch size = 16\r\n",
      "[2024-03-04 13:08:18,038] [    INFO] -   Total prediction steps = 125\r\n"
     ]
    },
    {
     "data": {
      "application/vnd.jupyter.widget-view+json": {
       "model_id": "",
       "version_major": 2,
       "version_minor": 0
      },
      "text/plain": [
       "  0%|          | 0/125 [00:00<?, ?it/s]"
      ]
     },
     "metadata": {},
     "output_type": "display_data"
    },
    {
     "name": "stdout",
     "output_type": "stream",
     "text": [
      "eval_loss: 0.753353476524353, eval_accuracy: 0.76, eval_f1: 0.7222526836044502, eval_runtime: 20.9368, eval_samples_per_second: 95.526, eval_steps_per_second: 5.97, epoch: 1.1521\r\n"
     ]
    },
    {
     "name": "stderr",
     "output_type": "stream",
     "text": [
      "[2024-03-04 13:08:38,965] [    INFO] - Saving model checkpoint to ./work/output/checkpoint-2000\r\n",
      "[2024-03-04 13:08:42,719] [    INFO] - Deleting older checkpoint [work/output/checkpoint-8680] due to args.save_total_limit\r\n"
     ]
    },
    {
     "name": "stdout",
     "output_type": "stream",
     "text": [
      "loss: 0.51607423, learning_rate: 4.421082949308756e-05, global_step: 2010, interval_runtime: 29.1388, interval_samples_per_second: 0.549, interval_steps_per_second: 0.343, epoch: 1.1578\r\n",
      "loss: 0.52073946, learning_rate: 4.4182027649769584e-05, global_step: 2020, interval_runtime: 4.4197, interval_samples_per_second: 3.62, interval_steps_per_second: 2.263, epoch: 1.1636\r\n",
      "loss: 0.59188714, learning_rate: 4.415322580645162e-05, global_step: 2030, interval_runtime: 4.4237, interval_samples_per_second: 3.617, interval_steps_per_second: 2.261, epoch: 1.1694\r\n",
      "loss: 0.47208495, learning_rate: 4.412442396313364e-05, global_step: 2040, interval_runtime: 4.4289, interval_samples_per_second: 3.613, interval_steps_per_second: 2.258, epoch: 1.1751\r\n",
      "loss: 0.54158907, learning_rate: 4.409562211981567e-05, global_step: 2050, interval_runtime: 4.4275, interval_samples_per_second: 3.614, interval_steps_per_second: 2.259, epoch: 1.1809\r\n",
      "loss: 0.53747311, learning_rate: 4.40668202764977e-05, global_step: 2060, interval_runtime: 4.4484, interval_samples_per_second: 3.597, interval_steps_per_second: 2.248, epoch: 1.1866\r\n",
      "loss: 0.57454038, learning_rate: 4.403801843317972e-05, global_step: 2070, interval_runtime: 4.4272, interval_samples_per_second: 3.614, interval_steps_per_second: 2.259, epoch: 1.1924\r\n",
      "loss: 0.5451951, learning_rate: 4.400921658986175e-05, global_step: 2080, interval_runtime: 4.413, interval_samples_per_second: 3.626, interval_steps_per_second: 2.266, epoch: 1.1982\r\n",
      "loss: 0.57275, learning_rate: 4.398041474654378e-05, global_step: 2090, interval_runtime: 4.5248, interval_samples_per_second: 3.536, interval_steps_per_second: 2.21, epoch: 1.2039\r\n",
      "loss: 0.47386699, learning_rate: 4.395161290322581e-05, global_step: 2100, interval_runtime: 4.421, interval_samples_per_second: 3.619, interval_steps_per_second: 2.262, epoch: 1.2097\r\n",
      "loss: 0.58878365, learning_rate: 4.392281105990784e-05, global_step: 2110, interval_runtime: 4.4306, interval_samples_per_second: 3.611, interval_steps_per_second: 2.257, epoch: 1.2154\r\n",
      "loss: 0.52830586, learning_rate: 4.389400921658986e-05, global_step: 2120, interval_runtime: 4.4224, interval_samples_per_second: 3.618, interval_steps_per_second: 2.261, epoch: 1.2212\r\n",
      "loss: 0.52846885, learning_rate: 4.3865207373271896e-05, global_step: 2130, interval_runtime: 4.42, interval_samples_per_second: 3.62, interval_steps_per_second: 2.262, epoch: 1.227\r\n",
      "loss: 0.48743591, learning_rate: 4.3836405529953915e-05, global_step: 2140, interval_runtime: 4.4406, interval_samples_per_second: 3.603, interval_steps_per_second: 2.252, epoch: 1.2327\r\n",
      "loss: 0.51095362, learning_rate: 4.380760368663595e-05, global_step: 2150, interval_runtime: 4.4192, interval_samples_per_second: 3.621, interval_steps_per_second: 2.263, epoch: 1.2385\r\n",
      "loss: 0.52790847, learning_rate: 4.3778801843317974e-05, global_step: 2160, interval_runtime: 4.4283, interval_samples_per_second: 3.613, interval_steps_per_second: 2.258, epoch: 1.2442\r\n",
      "loss: 0.52902775, learning_rate: 4.375e-05, global_step: 2170, interval_runtime: 4.4532, interval_samples_per_second: 3.593, interval_steps_per_second: 2.246, epoch: 1.25\r\n",
      "loss: 0.53917646, learning_rate: 4.372119815668203e-05, global_step: 2180, interval_runtime: 4.4194, interval_samples_per_second: 3.62, interval_steps_per_second: 2.263, epoch: 1.2558\r\n",
      "loss: 0.47548366, learning_rate: 4.369239631336406e-05, global_step: 2190, interval_runtime: 4.4455, interval_samples_per_second: 3.599, interval_steps_per_second: 2.249, epoch: 1.2615\r\n",
      "loss: 0.5162961, learning_rate: 4.366359447004609e-05, global_step: 2200, interval_runtime: 4.4254, interval_samples_per_second: 3.615, interval_steps_per_second: 2.26, epoch: 1.2673\r\n"
     ]
    },
    {
     "name": "stderr",
     "output_type": "stream",
     "text": [
      "[2024-03-04 13:10:11,396] [    INFO] - ***** Running Evaluation *****\r\n",
      "[2024-03-04 13:10:11,399] [    INFO] -   Num examples = 2000\r\n",
      "[2024-03-04 13:10:11,401] [    INFO] -   Pre device batch size = 16\r\n",
      "[2024-03-04 13:10:11,403] [    INFO] -   Total Batch size = 16\r\n",
      "[2024-03-04 13:10:11,405] [    INFO] -   Total prediction steps = 125\r\n"
     ]
    },
    {
     "data": {
      "application/vnd.jupyter.widget-view+json": {
       "model_id": "a723f9d07aef48ebb20b4adbd0f9dc30",
       "version_major": 2,
       "version_minor": 0
      },
      "text/plain": [
       "  0%|          | 0/125 [00:00<?, ?it/s]"
      ]
     },
     "metadata": {},
     "output_type": "display_data"
    },
    {
     "name": "stdout",
     "output_type": "stream",
     "text": [
      "eval_loss: 0.7254361510276794, eval_accuracy: 0.76, eval_f1: 0.7325324525416992, eval_runtime: 20.9994, eval_samples_per_second: 95.241, eval_steps_per_second: 5.953, epoch: 1.2673\r\n"
     ]
    },
    {
     "name": "stderr",
     "output_type": "stream",
     "text": [
      "[2024-03-04 13:10:32,419] [    INFO] - Saving model checkpoint to ./work/output/checkpoint-2200\r\n",
      "[2024-03-04 13:10:36,447] [    INFO] - Deleting older checkpoint [work/output/checkpoint-200] due to args.save_total_limit\r\n"
     ]
    },
    {
     "name": "stdout",
     "output_type": "stream",
     "text": [
      "loss: 0.60166559, learning_rate: 4.363479262672811e-05, global_step: 2210, interval_runtime: 29.497, interval_samples_per_second: 0.542, interval_steps_per_second: 0.339, epoch: 1.273\r\n",
      "loss: 0.50307169, learning_rate: 4.3605990783410136e-05, global_step: 2220, interval_runtime: 4.4225, interval_samples_per_second: 3.618, interval_steps_per_second: 2.261, epoch: 1.2788\r\n",
      "loss: 0.57385993, learning_rate: 4.357718894009217e-05, global_step: 2230, interval_runtime: 4.4235, interval_samples_per_second: 3.617, interval_steps_per_second: 2.261, epoch: 1.2846\r\n",
      "loss: 0.48271666, learning_rate: 4.3548387096774194e-05, global_step: 2240, interval_runtime: 4.4437, interval_samples_per_second: 3.601, interval_steps_per_second: 2.25, epoch: 1.2903\r\n",
      "loss: 0.67006273, learning_rate: 4.351958525345623e-05, global_step: 2250, interval_runtime: 4.4374, interval_samples_per_second: 3.606, interval_steps_per_second: 2.254, epoch: 1.2961\r\n",
      "loss: 0.42768683, learning_rate: 4.349078341013825e-05, global_step: 2260, interval_runtime: 4.4455, interval_samples_per_second: 3.599, interval_steps_per_second: 2.249, epoch: 1.3018\r\n",
      "loss: 0.78015056, learning_rate: 4.346198156682028e-05, global_step: 2270, interval_runtime: 4.4424, interval_samples_per_second: 3.602, interval_steps_per_second: 2.251, epoch: 1.3076\r\n",
      "loss: 0.51231794, learning_rate: 4.3433179723502305e-05, global_step: 2280, interval_runtime: 4.4487, interval_samples_per_second: 3.597, interval_steps_per_second: 2.248, epoch: 1.3134\r\n",
      "loss: 0.56091967, learning_rate: 4.340437788018433e-05, global_step: 2290, interval_runtime: 4.4439, interval_samples_per_second: 3.6, interval_steps_per_second: 2.25, epoch: 1.3191\r\n",
      "loss: 0.53785248, learning_rate: 4.337557603686636e-05, global_step: 2300, interval_runtime: 4.4589, interval_samples_per_second: 3.588, interval_steps_per_second: 2.243, epoch: 1.3249\r\n",
      "loss: 0.47483621, learning_rate: 4.334677419354839e-05, global_step: 2310, interval_runtime: 4.4364, interval_samples_per_second: 3.607, interval_steps_per_second: 2.254, epoch: 1.3306\r\n",
      "loss: 0.43469567, learning_rate: 4.3317972350230415e-05, global_step: 2320, interval_runtime: 4.4342, interval_samples_per_second: 3.608, interval_steps_per_second: 2.255, epoch: 1.3364\r\n",
      "loss: 0.5129509, learning_rate: 4.328917050691245e-05, global_step: 2330, interval_runtime: 4.4326, interval_samples_per_second: 3.61, interval_steps_per_second: 2.256, epoch: 1.3422\r\n",
      "loss: 0.571771, learning_rate: 4.326036866359447e-05, global_step: 2340, interval_runtime: 4.4353, interval_samples_per_second: 3.607, interval_steps_per_second: 2.255, epoch: 1.3479\r\n",
      "loss: 0.68349848, learning_rate: 4.32315668202765e-05, global_step: 2350, interval_runtime: 4.4452, interval_samples_per_second: 3.599, interval_steps_per_second: 2.25, epoch: 1.3537\r\n",
      "loss: 0.53462219, learning_rate: 4.3202764976958525e-05, global_step: 2360, interval_runtime: 4.4254, interval_samples_per_second: 3.615, interval_steps_per_second: 2.26, epoch: 1.3594\r\n",
      "loss: 0.46362009, learning_rate: 4.317396313364056e-05, global_step: 2370, interval_runtime: 4.4144, interval_samples_per_second: 3.625, interval_steps_per_second: 2.265, epoch: 1.3652\r\n",
      "loss: 0.61287107, learning_rate: 4.3145161290322584e-05, global_step: 2380, interval_runtime: 4.4167, interval_samples_per_second: 3.623, interval_steps_per_second: 2.264, epoch: 1.371\r\n",
      "loss: 0.58689146, learning_rate: 4.311635944700461e-05, global_step: 2390, interval_runtime: 4.4442, interval_samples_per_second: 3.6, interval_steps_per_second: 2.25, epoch: 1.3767\r\n",
      "loss: 0.48696809, learning_rate: 4.308755760368664e-05, global_step: 2400, interval_runtime: 4.4292, interval_samples_per_second: 3.612, interval_steps_per_second: 2.258, epoch: 1.3825\r\n"
     ]
    },
    {
     "name": "stderr",
     "output_type": "stream",
     "text": [
      "[2024-03-04 13:12:05,174] [    INFO] - ***** Running Evaluation *****\r\n",
      "[2024-03-04 13:12:05,177] [    INFO] -   Num examples = 2000\r\n",
      "[2024-03-04 13:12:05,179] [    INFO] -   Pre device batch size = 16\r\n",
      "[2024-03-04 13:12:05,182] [    INFO] -   Total Batch size = 16\r\n",
      "[2024-03-04 13:12:05,184] [    INFO] -   Total prediction steps = 125\r\n"
     ]
    },
    {
     "data": {
      "application/vnd.jupyter.widget-view+json": {
       "model_id": "7de91142031646a198c387e87e2bda2d",
       "version_major": 2,
       "version_minor": 0
      },
      "text/plain": [
       "  0%|          | 0/125 [00:00<?, ?it/s]"
      ]
     },
     "metadata": {},
     "output_type": "display_data"
    },
    {
     "name": "stdout",
     "output_type": "stream",
     "text": [
      "eval_loss: 0.7124483585357666, eval_accuracy: 0.7565, eval_f1: 0.7325057653060411, eval_runtime: 20.9021, eval_samples_per_second: 95.684, eval_steps_per_second: 5.98, epoch: 1.3825\r\n"
     ]
    },
    {
     "name": "stderr",
     "output_type": "stream",
     "text": [
      "[2024-03-04 13:12:26,083] [    INFO] - Saving model checkpoint to ./work/output/checkpoint-2400\r\n",
      "[2024-03-04 13:12:30,581] [    INFO] - Deleting older checkpoint [work/output/checkpoint-400] due to args.save_total_limit\r\n"
     ]
    },
    {
     "name": "stdout",
     "output_type": "stream",
     "text": [
      "loss: 0.468713, learning_rate: 4.305875576036866e-05, global_step: 2410, interval_runtime: 29.8502, interval_samples_per_second: 0.536, interval_steps_per_second: 0.335, epoch: 1.3882\r\n",
      "loss: 0.4795083, learning_rate: 4.3029953917050694e-05, global_step: 2420, interval_runtime: 4.4501, interval_samples_per_second: 3.595, interval_steps_per_second: 2.247, epoch: 1.394\r\n",
      "loss: 0.57197375, learning_rate: 4.300115207373272e-05, global_step: 2430, interval_runtime: 4.4038, interval_samples_per_second: 3.633, interval_steps_per_second: 2.271, epoch: 1.3998\r\n",
      "loss: 0.50669842, learning_rate: 4.2972350230414746e-05, global_step: 2440, interval_runtime: 4.4192, interval_samples_per_second: 3.621, interval_steps_per_second: 2.263, epoch: 1.4055\r\n",
      "loss: 0.48477101, learning_rate: 4.294354838709678e-05, global_step: 2450, interval_runtime: 4.4557, interval_samples_per_second: 3.591, interval_steps_per_second: 2.244, epoch: 1.4113\r\n",
      "loss: 0.54707856, learning_rate: 4.2914746543778805e-05, global_step: 2460, interval_runtime: 4.4204, interval_samples_per_second: 3.62, interval_steps_per_second: 2.262, epoch: 1.4171\r\n",
      "loss: 0.57701855, learning_rate: 4.288594470046084e-05, global_step: 2470, interval_runtime: 4.4116, interval_samples_per_second: 3.627, interval_steps_per_second: 2.267, epoch: 1.4228\r\n",
      "loss: 0.70522223, learning_rate: 4.2857142857142856e-05, global_step: 2480, interval_runtime: 4.4119, interval_samples_per_second: 3.627, interval_steps_per_second: 2.267, epoch: 1.4286\r\n",
      "loss: 0.63651381, learning_rate: 4.282834101382488e-05, global_step: 2490, interval_runtime: 4.4368, interval_samples_per_second: 3.606, interval_steps_per_second: 2.254, epoch: 1.4343\r\n",
      "loss: 0.5870584, learning_rate: 4.2799539170506915e-05, global_step: 2500, interval_runtime: 4.3927, interval_samples_per_second: 3.642, interval_steps_per_second: 2.276, epoch: 1.4401\r\n",
      "loss: 0.61297679, learning_rate: 4.277073732718894e-05, global_step: 2510, interval_runtime: 4.3911, interval_samples_per_second: 3.644, interval_steps_per_second: 2.277, epoch: 1.4459\r\n",
      "loss: 0.45100718, learning_rate: 4.2741935483870973e-05, global_step: 2520, interval_runtime: 4.4089, interval_samples_per_second: 3.629, interval_steps_per_second: 2.268, epoch: 1.4516\r\n",
      "loss: 0.47093797, learning_rate: 4.2713133640553e-05, global_step: 2530, interval_runtime: 4.4006, interval_samples_per_second: 3.636, interval_steps_per_second: 2.272, epoch: 1.4574\r\n",
      "loss: 0.59561219, learning_rate: 4.2684331797235025e-05, global_step: 2540, interval_runtime: 4.3949, interval_samples_per_second: 3.641, interval_steps_per_second: 2.275, epoch: 1.4631\r\n",
      "loss: 0.42340856, learning_rate: 4.265552995391705e-05, global_step: 2550, interval_runtime: 4.4155, interval_samples_per_second: 3.624, interval_steps_per_second: 2.265, epoch: 1.4689\r\n",
      "loss: 0.76174355, learning_rate: 4.262672811059908e-05, global_step: 2560, interval_runtime: 4.4054, interval_samples_per_second: 3.632, interval_steps_per_second: 2.27, epoch: 1.4747\r\n",
      "loss: 0.57342567, learning_rate: 4.259792626728111e-05, global_step: 2570, interval_runtime: 4.4092, interval_samples_per_second: 3.629, interval_steps_per_second: 2.268, epoch: 1.4804\r\n",
      "loss: 0.51820035, learning_rate: 4.2569124423963136e-05, global_step: 2580, interval_runtime: 4.4106, interval_samples_per_second: 3.628, interval_steps_per_second: 2.267, epoch: 1.4862\r\n",
      "loss: 0.50158319, learning_rate: 4.254032258064516e-05, global_step: 2590, interval_runtime: 4.4267, interval_samples_per_second: 3.614, interval_steps_per_second: 2.259, epoch: 1.4919\r\n",
      "loss: 0.50393806, learning_rate: 4.2511520737327194e-05, global_step: 2600, interval_runtime: 4.467, interval_samples_per_second: 3.582, interval_steps_per_second: 2.239, epoch: 1.4977\r\n"
     ]
    },
    {
     "name": "stderr",
     "output_type": "stream",
     "text": [
      "[2024-03-04 13:13:58,967] [    INFO] - ***** Running Evaluation *****\r\n",
      "[2024-03-04 13:13:58,971] [    INFO] -   Num examples = 2000\r\n",
      "[2024-03-04 13:13:58,974] [    INFO] -   Pre device batch size = 16\r\n",
      "[2024-03-04 13:13:58,977] [    INFO] -   Total Batch size = 16\r\n",
      "[2024-03-04 13:13:58,979] [    INFO] -   Total prediction steps = 125\r\n"
     ]
    },
    {
     "data": {
      "application/vnd.jupyter.widget-view+json": {
       "model_id": "51a59ad53d9c41f5b7aa50228173cd5f",
       "version_major": 2,
       "version_minor": 0
      },
      "text/plain": [
       "  0%|          | 0/125 [00:00<?, ?it/s]"
      ]
     },
     "metadata": {},
     "output_type": "display_data"
    },
    {
     "name": "stdout",
     "output_type": "stream",
     "text": [
      "eval_loss: 0.7769097089767456, eval_accuracy: 0.745, eval_f1: 0.7092464248049452, eval_runtime: 20.9993, eval_samples_per_second: 95.241, eval_steps_per_second: 5.953, epoch: 1.4977\r\n"
     ]
    },
    {
     "name": "stderr",
     "output_type": "stream",
     "text": [
      "[2024-03-04 13:14:19,969] [    INFO] - Saving model checkpoint to ./work/output/checkpoint-2600\r\n",
      "[2024-03-04 13:14:24,105] [    INFO] - Deleting older checkpoint [work/output/checkpoint-600] due to args.save_total_limit\r\n"
     ]
    },
    {
     "name": "stdout",
     "output_type": "stream",
     "text": [
      "loss: 0.60179739, learning_rate: 4.248271889400922e-05, global_step: 2610, interval_runtime: 29.6098, interval_samples_per_second: 0.54, interval_steps_per_second: 0.338, epoch: 1.5035\r\n",
      "loss: 0.68053041, learning_rate: 4.2453917050691246e-05, global_step: 2620, interval_runtime: 4.4026, interval_samples_per_second: 3.634, interval_steps_per_second: 2.271, epoch: 1.5092\r\n",
      "loss: 0.59616032, learning_rate: 4.242511520737327e-05, global_step: 2630, interval_runtime: 4.4108, interval_samples_per_second: 3.627, interval_steps_per_second: 2.267, epoch: 1.515\r\n",
      "loss: 0.51292572, learning_rate: 4.2396313364055304e-05, global_step: 2640, interval_runtime: 4.4188, interval_samples_per_second: 3.621, interval_steps_per_second: 2.263, epoch: 1.5207\r\n",
      "loss: 0.55425835, learning_rate: 4.236751152073733e-05, global_step: 2650, interval_runtime: 4.4182, interval_samples_per_second: 3.621, interval_steps_per_second: 2.263, epoch: 1.5265\r\n",
      "loss: 0.5072773, learning_rate: 4.2338709677419356e-05, global_step: 2660, interval_runtime: 4.4165, interval_samples_per_second: 3.623, interval_steps_per_second: 2.264, epoch: 1.5323\r\n",
      "loss: 0.5340004, learning_rate: 4.230990783410139e-05, global_step: 2670, interval_runtime: 4.3994, interval_samples_per_second: 3.637, interval_steps_per_second: 2.273, epoch: 1.538\r\n",
      "loss: 0.51185322, learning_rate: 4.228110599078341e-05, global_step: 2680, interval_runtime: 4.4234, interval_samples_per_second: 3.617, interval_steps_per_second: 2.261, epoch: 1.5438\r\n",
      "loss: 0.42353249, learning_rate: 4.225230414746544e-05, global_step: 2690, interval_runtime: 4.4127, interval_samples_per_second: 3.626, interval_steps_per_second: 2.266, epoch: 1.5495\r\n",
      "loss: 0.54093604, learning_rate: 4.2223502304147466e-05, global_step: 2700, interval_runtime: 4.4137, interval_samples_per_second: 3.625, interval_steps_per_second: 2.266, epoch: 1.5553\r\n",
      "loss: 0.53447561, learning_rate: 4.219470046082949e-05, global_step: 2710, interval_runtime: 4.4152, interval_samples_per_second: 3.624, interval_steps_per_second: 2.265, epoch: 1.5611\r\n",
      "loss: 0.5131093, learning_rate: 4.2165898617511525e-05, global_step: 2720, interval_runtime: 4.4134, interval_samples_per_second: 3.625, interval_steps_per_second: 2.266, epoch: 1.5668\r\n",
      "loss: 0.55086532, learning_rate: 4.213709677419355e-05, global_step: 2730, interval_runtime: 4.4272, interval_samples_per_second: 3.614, interval_steps_per_second: 2.259, epoch: 1.5726\r\n",
      "loss: 0.43722601, learning_rate: 4.2108294930875584e-05, global_step: 2740, interval_runtime: 4.4212, interval_samples_per_second: 3.619, interval_steps_per_second: 2.262, epoch: 1.5783\r\n",
      "loss: 0.52230582, learning_rate: 4.20794930875576e-05, global_step: 2750, interval_runtime: 4.4203, interval_samples_per_second: 3.62, interval_steps_per_second: 2.262, epoch: 1.5841\r\n",
      "loss: 0.62277756, learning_rate: 4.205069124423963e-05, global_step: 2760, interval_runtime: 4.4217, interval_samples_per_second: 3.618, interval_steps_per_second: 2.262, epoch: 1.5899\r\n",
      "loss: 0.66965094, learning_rate: 4.202188940092166e-05, global_step: 2770, interval_runtime: 4.425, interval_samples_per_second: 3.616, interval_steps_per_second: 2.26, epoch: 1.5956\r\n",
      "loss: 0.62358713, learning_rate: 4.199308755760369e-05, global_step: 2780, interval_runtime: 4.4149, interval_samples_per_second: 3.624, interval_steps_per_second: 2.265, epoch: 1.6014\r\n",
      "loss: 0.48023105, learning_rate: 4.196428571428572e-05, global_step: 2790, interval_runtime: 4.4237, interval_samples_per_second: 3.617, interval_steps_per_second: 2.261, epoch: 1.6071\r\n",
      "loss: 0.44161749, learning_rate: 4.1935483870967746e-05, global_step: 2800, interval_runtime: 4.4296, interval_samples_per_second: 3.612, interval_steps_per_second: 2.258, epoch: 1.6129\r\n"
     ]
    },
    {
     "name": "stderr",
     "output_type": "stream",
     "text": [
      "[2024-03-04 13:15:52,495] [    INFO] - ***** Running Evaluation *****\r\n",
      "[2024-03-04 13:15:52,498] [    INFO] -   Num examples = 2000\r\n",
      "[2024-03-04 13:15:52,501] [    INFO] -   Pre device batch size = 16\r\n",
      "[2024-03-04 13:15:52,503] [    INFO] -   Total Batch size = 16\r\n",
      "[2024-03-04 13:15:52,505] [    INFO] -   Total prediction steps = 125\r\n"
     ]
    },
    {
     "data": {
      "application/vnd.jupyter.widget-view+json": {
       "model_id": "2f46e4e2b6a84140bc41165e25e718dd",
       "version_major": 2,
       "version_minor": 0
      },
      "text/plain": [
       "  0%|          | 0/125 [00:00<?, ?it/s]"
      ]
     },
     "metadata": {},
     "output_type": "display_data"
    },
    {
     "name": "stdout",
     "output_type": "stream",
     "text": [
      "eval_loss: 0.7174680233001709, eval_accuracy: 0.7675, eval_f1: 0.7386200102986379, eval_runtime: 20.836, eval_samples_per_second: 95.988, eval_steps_per_second: 5.999, epoch: 1.6129\r\n"
     ]
    },
    {
     "name": "stderr",
     "output_type": "stream",
     "text": [
      "[2024-03-04 13:16:13,339] [    INFO] - Saving model checkpoint to ./work/output/checkpoint-2800\r\n",
      "[2024-03-04 13:16:17,397] [    INFO] - Deleting older checkpoint [work/output/checkpoint-800] due to args.save_total_limit\r\n"
     ]
    },
    {
     "name": "stdout",
     "output_type": "stream",
     "text": [
      "loss: 0.64551706, learning_rate: 4.190668202764977e-05, global_step: 2810, interval_runtime: 29.3333, interval_samples_per_second: 0.545, interval_steps_per_second: 0.341, epoch: 1.6187\r\n",
      "loss: 0.66895127, learning_rate: 4.18778801843318e-05, global_step: 2820, interval_runtime: 4.414, interval_samples_per_second: 3.625, interval_steps_per_second: 2.266, epoch: 1.6244\r\n",
      "loss: 0.55817118, learning_rate: 4.184907834101382e-05, global_step: 2830, interval_runtime: 4.4352, interval_samples_per_second: 3.607, interval_steps_per_second: 2.255, epoch: 1.6302\r\n",
      "loss: 0.64855599, learning_rate: 4.1820276497695856e-05, global_step: 2840, interval_runtime: 4.4334, interval_samples_per_second: 3.609, interval_steps_per_second: 2.256, epoch: 1.6359\r\n",
      "loss: 0.53550224, learning_rate: 4.179147465437788e-05, global_step: 2850, interval_runtime: 4.4096, interval_samples_per_second: 3.628, interval_steps_per_second: 2.268, epoch: 1.6417\r\n",
      "loss: 0.52453465, learning_rate: 4.176267281105991e-05, global_step: 2860, interval_runtime: 4.4087, interval_samples_per_second: 3.629, interval_steps_per_second: 2.268, epoch: 1.6475\r\n",
      "loss: 0.5256062, learning_rate: 4.173387096774194e-05, global_step: 2870, interval_runtime: 4.4105, interval_samples_per_second: 3.628, interval_steps_per_second: 2.267, epoch: 1.6532\r\n",
      "loss: 0.39071286, learning_rate: 4.1705069124423966e-05, global_step: 2880, interval_runtime: 4.4051, interval_samples_per_second: 3.632, interval_steps_per_second: 2.27, epoch: 1.659\r\n",
      "loss: 0.47945075, learning_rate: 4.167626728110599e-05, global_step: 2890, interval_runtime: 4.3984, interval_samples_per_second: 3.638, interval_steps_per_second: 2.274, epoch: 1.6647\r\n",
      "loss: 0.57704897, learning_rate: 4.164746543778802e-05, global_step: 2900, interval_runtime: 4.3989, interval_samples_per_second: 3.637, interval_steps_per_second: 2.273, epoch: 1.6705\r\n",
      "loss: 0.46421022, learning_rate: 4.161866359447005e-05, global_step: 2910, interval_runtime: 4.4032, interval_samples_per_second: 3.634, interval_steps_per_second: 2.271, epoch: 1.6763\r\n",
      "loss: 0.53271413, learning_rate: 4.158986175115208e-05, global_step: 2920, interval_runtime: 4.3978, interval_samples_per_second: 3.638, interval_steps_per_second: 2.274, epoch: 1.682\r\n",
      "loss: 0.46638012, learning_rate: 4.15610599078341e-05, global_step: 2930, interval_runtime: 4.3967, interval_samples_per_second: 3.639, interval_steps_per_second: 2.274, epoch: 1.6878\r\n",
      "loss: 0.51265087, learning_rate: 4.1532258064516135e-05, global_step: 2940, interval_runtime: 4.4167, interval_samples_per_second: 3.623, interval_steps_per_second: 2.264, epoch: 1.6935\r\n",
      "loss: 0.6849937, learning_rate: 4.1503456221198154e-05, global_step: 2950, interval_runtime: 4.4099, interval_samples_per_second: 3.628, interval_steps_per_second: 2.268, epoch: 1.6993\r\n",
      "loss: 0.6731986, learning_rate: 4.147465437788019e-05, global_step: 2960, interval_runtime: 4.4172, interval_samples_per_second: 3.622, interval_steps_per_second: 2.264, epoch: 1.7051\r\n",
      "loss: 0.58201065, learning_rate: 4.144585253456221e-05, global_step: 2970, interval_runtime: 4.4127, interval_samples_per_second: 3.626, interval_steps_per_second: 2.266, epoch: 1.7108\r\n",
      "loss: 0.39479158, learning_rate: 4.141705069124424e-05, global_step: 2980, interval_runtime: 4.419, interval_samples_per_second: 3.621, interval_steps_per_second: 2.263, epoch: 1.7166\r\n",
      "loss: 0.59740357, learning_rate: 4.138824884792627e-05, global_step: 2990, interval_runtime: 4.4301, interval_samples_per_second: 3.612, interval_steps_per_second: 2.257, epoch: 1.7224\r\n",
      "loss: 0.73167386, learning_rate: 4.13594470046083e-05, global_step: 3000, interval_runtime: 4.4151, interval_samples_per_second: 3.624, interval_steps_per_second: 2.265, epoch: 1.7281\r\n"
     ]
    },
    {
     "name": "stderr",
     "output_type": "stream",
     "text": [
      "[2024-03-04 13:17:45,660] [    INFO] - ***** Running Evaluation *****\r\n",
      "[2024-03-04 13:17:45,662] [    INFO] -   Num examples = 2000\r\n",
      "[2024-03-04 13:17:45,665] [    INFO] -   Pre device batch size = 16\r\n",
      "[2024-03-04 13:17:45,667] [    INFO] -   Total Batch size = 16\r\n",
      "[2024-03-04 13:17:45,670] [    INFO] -   Total prediction steps = 125\r\n"
     ]
    },
    {
     "data": {
      "application/vnd.jupyter.widget-view+json": {
       "model_id": "c1965551fe0c4ef3b7d45c01ad7e8b25",
       "version_major": 2,
       "version_minor": 0
      },
      "text/plain": [
       "  0%|          | 0/125 [00:00<?, ?it/s]"
      ]
     },
     "metadata": {},
     "output_type": "display_data"
    },
    {
     "name": "stdout",
     "output_type": "stream",
     "text": [
      "eval_loss: 0.7119519710540771, eval_accuracy: 0.7575, eval_f1: 0.7289252800573073, eval_runtime: 20.9206, eval_samples_per_second: 95.6, eval_steps_per_second: 5.975, epoch: 1.7281\r\n"
     ]
    },
    {
     "name": "stderr",
     "output_type": "stream",
     "text": [
      "[2024-03-04 13:18:06,586] [    INFO] - Saving model checkpoint to ./work/output/checkpoint-3000\r\n",
      "[2024-03-04 13:18:10,655] [    INFO] - Deleting older checkpoint [work/output/checkpoint-1000] due to args.save_total_limit\r\n"
     ]
    },
    {
     "name": "stdout",
     "output_type": "stream",
     "text": [
      "loss: 0.55326314, learning_rate: 4.133064516129033e-05, global_step: 3010, interval_runtime: 29.441, interval_samples_per_second: 0.543, interval_steps_per_second: 0.34, epoch: 1.7339\r\n",
      "loss: 0.44706588, learning_rate: 4.130184331797235e-05, global_step: 3020, interval_runtime: 4.4082, interval_samples_per_second: 3.63, interval_steps_per_second: 2.268, epoch: 1.7396\r\n",
      "loss: 0.55641246, learning_rate: 4.1273041474654375e-05, global_step: 3030, interval_runtime: 4.4149, interval_samples_per_second: 3.624, interval_steps_per_second: 2.265, epoch: 1.7454\r\n",
      "loss: 0.62753687, learning_rate: 4.124423963133641e-05, global_step: 3040, interval_runtime: 4.403, interval_samples_per_second: 3.634, interval_steps_per_second: 2.271, epoch: 1.7512\r\n",
      "loss: 0.45314431, learning_rate: 4.1215437788018434e-05, global_step: 3050, interval_runtime: 4.4216, interval_samples_per_second: 3.619, interval_steps_per_second: 2.262, epoch: 1.7569\r\n",
      "loss: 0.50177712, learning_rate: 4.1186635944700466e-05, global_step: 3060, interval_runtime: 4.4035, interval_samples_per_second: 3.633, interval_steps_per_second: 2.271, epoch: 1.7627\r\n",
      "loss: 0.49809051, learning_rate: 4.115783410138249e-05, global_step: 3070, interval_runtime: 4.4054, interval_samples_per_second: 3.632, interval_steps_per_second: 2.27, epoch: 1.7684\r\n",
      "loss: 0.54995255, learning_rate: 4.112903225806452e-05, global_step: 3080, interval_runtime: 4.4144, interval_samples_per_second: 3.625, interval_steps_per_second: 2.265, epoch: 1.7742\r\n",
      "loss: 0.58837566, learning_rate: 4.1100230414746544e-05, global_step: 3090, interval_runtime: 4.4075, interval_samples_per_second: 3.63, interval_steps_per_second: 2.269, epoch: 1.78\r\n",
      "loss: 0.47006917, learning_rate: 4.107142857142857e-05, global_step: 3100, interval_runtime: 4.4143, interval_samples_per_second: 3.625, interval_steps_per_second: 2.265, epoch: 1.7857\r\n",
      "loss: 0.58468657, learning_rate: 4.10426267281106e-05, global_step: 3110, interval_runtime: 4.4006, interval_samples_per_second: 3.636, interval_steps_per_second: 2.272, epoch: 1.7915\r\n",
      "loss: 0.44801145, learning_rate: 4.101382488479263e-05, global_step: 3120, interval_runtime: 4.4124, interval_samples_per_second: 3.626, interval_steps_per_second: 2.266, epoch: 1.7972\r\n",
      "loss: 0.71288185, learning_rate: 4.0985023041474654e-05, global_step: 3130, interval_runtime: 4.4249, interval_samples_per_second: 3.616, interval_steps_per_second: 2.26, epoch: 1.803\r\n",
      "loss: 0.55757427, learning_rate: 4.095622119815669e-05, global_step: 3140, interval_runtime: 4.4184, interval_samples_per_second: 3.621, interval_steps_per_second: 2.263, epoch: 1.8088\r\n",
      "loss: 0.65842915, learning_rate: 4.092741935483871e-05, global_step: 3150, interval_runtime: 4.4211, interval_samples_per_second: 3.619, interval_steps_per_second: 2.262, epoch: 1.8145\r\n",
      "loss: 0.46385407, learning_rate: 4.089861751152074e-05, global_step: 3160, interval_runtime: 4.4139, interval_samples_per_second: 3.625, interval_steps_per_second: 2.266, epoch: 1.8203\r\n",
      "loss: 0.52991495, learning_rate: 4.0869815668202765e-05, global_step: 3170, interval_runtime: 4.429, interval_samples_per_second: 3.613, interval_steps_per_second: 2.258, epoch: 1.826\r\n",
      "loss: 0.54934607, learning_rate: 4.08410138248848e-05, global_step: 3180, interval_runtime: 4.4408, interval_samples_per_second: 3.603, interval_steps_per_second: 2.252, epoch: 1.8318\r\n",
      "loss: 0.59829483, learning_rate: 4.081221198156682e-05, global_step: 3190, interval_runtime: 4.4138, interval_samples_per_second: 3.625, interval_steps_per_second: 2.266, epoch: 1.8376\r\n",
      "loss: 0.59877272, learning_rate: 4.078341013824885e-05, global_step: 3200, interval_runtime: 4.4165, interval_samples_per_second: 3.623, interval_steps_per_second: 2.264, epoch: 1.8433\r\n"
     ]
    },
    {
     "name": "stderr",
     "output_type": "stream",
     "text": [
      "[2024-03-04 13:19:38,986] [    INFO] - ***** Running Evaluation *****\r\n",
      "[2024-03-04 13:19:38,989] [    INFO] -   Num examples = 2000\r\n",
      "[2024-03-04 13:19:38,992] [    INFO] -   Pre device batch size = 16\r\n",
      "[2024-03-04 13:19:38,994] [    INFO] -   Total Batch size = 16\r\n",
      "[2024-03-04 13:19:38,996] [    INFO] -   Total prediction steps = 125\r\n"
     ]
    },
    {
     "data": {
      "application/vnd.jupyter.widget-view+json": {
       "model_id": "a0354d449ed94d6cb8b8862e7a05640e",
       "version_major": 2,
       "version_minor": 0
      },
      "text/plain": [
       "  0%|          | 0/125 [00:00<?, ?it/s]"
      ]
     },
     "metadata": {},
     "output_type": "display_data"
    },
    {
     "name": "stdout",
     "output_type": "stream",
     "text": [
      "eval_loss: 0.7035934925079346, eval_accuracy: 0.765, eval_f1: 0.7318071272777975, eval_runtime: 20.825, eval_samples_per_second: 96.038, eval_steps_per_second: 6.002, epoch: 1.8433\r\n"
     ]
    },
    {
     "name": "stderr",
     "output_type": "stream",
     "text": [
      "[2024-03-04 13:19:59,822] [    INFO] - Saving model checkpoint to ./work/output/checkpoint-3200\r\n",
      "[2024-03-04 13:20:03,932] [    INFO] - Deleting older checkpoint [work/output/checkpoint-1200] due to args.save_total_limit\r\n"
     ]
    },
    {
     "name": "stdout",
     "output_type": "stream",
     "text": [
      "loss: 0.55647655, learning_rate: 4.075460829493088e-05, global_step: 3210, interval_runtime: 29.3823, interval_samples_per_second: 0.545, interval_steps_per_second: 0.34, epoch: 1.8491\r\n",
      "loss: 0.52292752, learning_rate: 4.072580645161291e-05, global_step: 3220, interval_runtime: 4.406, interval_samples_per_second: 3.631, interval_steps_per_second: 2.27, epoch: 1.8548\r\n",
      "loss: 0.48161206, learning_rate: 4.0697004608294933e-05, global_step: 3230, interval_runtime: 4.4168, interval_samples_per_second: 3.623, interval_steps_per_second: 2.264, epoch: 1.8606\r\n",
      "loss: 0.45087724, learning_rate: 4.066820276497696e-05, global_step: 3240, interval_runtime: 4.4181, interval_samples_per_second: 3.621, interval_steps_per_second: 2.263, epoch: 1.8664\r\n",
      "loss: 0.57789359, learning_rate: 4.0639400921658985e-05, global_step: 3250, interval_runtime: 4.4677, interval_samples_per_second: 3.581, interval_steps_per_second: 2.238, epoch: 1.8721\r\n",
      "loss: 0.65472736, learning_rate: 4.061059907834102e-05, global_step: 3260, interval_runtime: 4.4068, interval_samples_per_second: 3.631, interval_steps_per_second: 2.269, epoch: 1.8779\r\n",
      "loss: 0.53300419, learning_rate: 4.0581797235023044e-05, global_step: 3270, interval_runtime: 4.4219, interval_samples_per_second: 3.618, interval_steps_per_second: 2.261, epoch: 1.8836\r\n",
      "loss: 0.4862257, learning_rate: 4.0552995391705076e-05, global_step: 3280, interval_runtime: 4.4077, interval_samples_per_second: 3.63, interval_steps_per_second: 2.269, epoch: 1.8894\r\n",
      "loss: 0.43457794, learning_rate: 4.0524193548387096e-05, global_step: 3290, interval_runtime: 4.4073, interval_samples_per_second: 3.63, interval_steps_per_second: 2.269, epoch: 1.8952\r\n",
      "loss: 0.4643877, learning_rate: 4.049539170506912e-05, global_step: 3300, interval_runtime: 4.3953, interval_samples_per_second: 3.64, interval_steps_per_second: 2.275, epoch: 1.9009\r\n",
      "loss: 0.60734482, learning_rate: 4.0466589861751154e-05, global_step: 3310, interval_runtime: 4.4062, interval_samples_per_second: 3.631, interval_steps_per_second: 2.27, epoch: 1.9067\r\n",
      "loss: 0.45464849, learning_rate: 4.043778801843318e-05, global_step: 3320, interval_runtime: 4.4023, interval_samples_per_second: 3.635, interval_steps_per_second: 2.272, epoch: 1.9124\r\n",
      "loss: 0.53583436, learning_rate: 4.040898617511521e-05, global_step: 3330, interval_runtime: 4.4069, interval_samples_per_second: 3.631, interval_steps_per_second: 2.269, epoch: 1.9182\r\n",
      "loss: 0.60086479, learning_rate: 4.038018433179724e-05, global_step: 3340, interval_runtime: 4.3916, interval_samples_per_second: 3.643, interval_steps_per_second: 2.277, epoch: 1.924\r\n",
      "loss: 0.5108757, learning_rate: 4.0351382488479264e-05, global_step: 3350, interval_runtime: 4.3954, interval_samples_per_second: 3.64, interval_steps_per_second: 2.275, epoch: 1.9297\r\n",
      "loss: 0.58027482, learning_rate: 4.032258064516129e-05, global_step: 3360, interval_runtime: 4.4053, interval_samples_per_second: 3.632, interval_steps_per_second: 2.27, epoch: 1.9355\r\n",
      "loss: 0.58655138, learning_rate: 4.0293778801843316e-05, global_step: 3370, interval_runtime: 4.4172, interval_samples_per_second: 3.622, interval_steps_per_second: 2.264, epoch: 1.9412\r\n",
      "loss: 0.62237077, learning_rate: 4.026497695852535e-05, global_step: 3380, interval_runtime: 4.4016, interval_samples_per_second: 3.635, interval_steps_per_second: 2.272, epoch: 1.947\r\n",
      "loss: 0.54429936, learning_rate: 4.0236175115207375e-05, global_step: 3390, interval_runtime: 4.4107, interval_samples_per_second: 3.628, interval_steps_per_second: 2.267, epoch: 1.9528\r\n",
      "loss: 0.48534117, learning_rate: 4.02073732718894e-05, global_step: 3400, interval_runtime: 4.4112, interval_samples_per_second: 3.627, interval_steps_per_second: 2.267, epoch: 1.9585\r\n"
     ]
    },
    {
     "name": "stderr",
     "output_type": "stream",
     "text": [
      "[2024-03-04 13:21:32,165] [    INFO] - ***** Running Evaluation *****\r\n",
      "[2024-03-04 13:21:32,172] [    INFO] -   Num examples = 2000\r\n",
      "[2024-03-04 13:21:32,178] [    INFO] -   Pre device batch size = 16\r\n",
      "[2024-03-04 13:21:32,181] [    INFO] -   Total Batch size = 16\r\n",
      "[2024-03-04 13:21:32,185] [    INFO] -   Total prediction steps = 125\r\n"
     ]
    },
    {
     "data": {
      "application/vnd.jupyter.widget-view+json": {
       "model_id": "8b686d6d25a5452daf8b2bc8ebf415c1",
       "version_major": 2,
       "version_minor": 0
      },
      "text/plain": [
       "  0%|          | 0/125 [00:00<?, ?it/s]"
      ]
     },
     "metadata": {},
     "output_type": "display_data"
    },
    {
     "name": "stdout",
     "output_type": "stream",
     "text": [
      "eval_loss: 0.7260286808013916, eval_accuracy: 0.7605, eval_f1: 0.7252786095638394, eval_runtime: 21.0598, eval_samples_per_second: 94.968, eval_steps_per_second: 5.935, epoch: 1.9585\r\n"
     ]
    },
    {
     "name": "stderr",
     "output_type": "stream",
     "text": [
      "[2024-03-04 13:21:53,236] [    INFO] - Saving model checkpoint to ./work/output/checkpoint-3400\r\n",
      "[2024-03-04 13:21:57,288] [    INFO] - Deleting older checkpoint [work/output/checkpoint-1400] due to args.save_total_limit\r\n"
     ]
    },
    {
     "name": "stdout",
     "output_type": "stream",
     "text": [
      "loss: 0.5099638, learning_rate: 4.017857142857143e-05, global_step: 3410, interval_runtime: 29.5813, interval_samples_per_second: 0.541, interval_steps_per_second: 0.338, epoch: 1.9643\r\n",
      "loss: 0.55543485, learning_rate: 4.014976958525346e-05, global_step: 3420, interval_runtime: 4.4284, interval_samples_per_second: 3.613, interval_steps_per_second: 2.258, epoch: 1.97\r\n",
      "loss: 0.58148937, learning_rate: 4.0120967741935485e-05, global_step: 3430, interval_runtime: 4.4325, interval_samples_per_second: 3.61, interval_steps_per_second: 2.256, epoch: 1.9758\r\n",
      "loss: 0.58463616, learning_rate: 4.009216589861751e-05, global_step: 3440, interval_runtime: 4.4225, interval_samples_per_second: 3.618, interval_steps_per_second: 2.261, epoch: 1.9816\r\n",
      "loss: 0.5869451, learning_rate: 4.0063364055299544e-05, global_step: 3450, interval_runtime: 4.4284, interval_samples_per_second: 3.613, interval_steps_per_second: 2.258, epoch: 1.9873\r\n",
      "loss: 0.58797646, learning_rate: 4.003456221198157e-05, global_step: 3460, interval_runtime: 4.422, interval_samples_per_second: 3.618, interval_steps_per_second: 2.261, epoch: 1.9931\r\n",
      "loss: 0.60523, learning_rate: 4.0005760368663595e-05, global_step: 3470, interval_runtime: 4.4369, interval_samples_per_second: 3.606, interval_steps_per_second: 2.254, epoch: 1.9988\r\n",
      "loss: 0.34331343, learning_rate: 3.997695852534563e-05, global_step: 3480, interval_runtime: 4.4818, interval_samples_per_second: 3.57, interval_steps_per_second: 2.231, epoch: 2.0046\r\n",
      "loss: 0.30979099, learning_rate: 3.9948156682027654e-05, global_step: 3490, interval_runtime: 4.4242, interval_samples_per_second: 3.616, interval_steps_per_second: 2.26, epoch: 2.0104\r\n",
      "loss: 0.30900519, learning_rate: 3.991935483870968e-05, global_step: 3500, interval_runtime: 4.4318, interval_samples_per_second: 3.61, interval_steps_per_second: 2.256, epoch: 2.0161\r\n",
      "loss: 0.38496728, learning_rate: 3.9890552995391706e-05, global_step: 3510, interval_runtime: 4.4163, interval_samples_per_second: 3.623, interval_steps_per_second: 2.264, epoch: 2.0219\r\n",
      "loss: 0.39420824, learning_rate: 3.986175115207373e-05, global_step: 3520, interval_runtime: 4.4328, interval_samples_per_second: 3.609, interval_steps_per_second: 2.256, epoch: 2.0276\r\n",
      "loss: 0.39996266, learning_rate: 3.9832949308755764e-05, global_step: 3530, interval_runtime: 4.3941, interval_samples_per_second: 3.641, interval_steps_per_second: 2.276, epoch: 2.0334\r\n",
      "loss: 0.37706645, learning_rate: 3.980414746543779e-05, global_step: 3540, interval_runtime: 4.4101, interval_samples_per_second: 3.628, interval_steps_per_second: 2.268, epoch: 2.0392\r\n",
      "loss: 0.39286544, learning_rate: 3.977534562211982e-05, global_step: 3550, interval_runtime: 4.4611, interval_samples_per_second: 3.587, interval_steps_per_second: 2.242, epoch: 2.0449\r\n",
      "loss: 0.23049371, learning_rate: 3.974654377880185e-05, global_step: 3560, interval_runtime: 4.4126, interval_samples_per_second: 3.626, interval_steps_per_second: 2.266, epoch: 2.0507\r\n",
      "loss: 0.43747311, learning_rate: 3.971774193548387e-05, global_step: 3570, interval_runtime: 4.4037, interval_samples_per_second: 3.633, interval_steps_per_second: 2.271, epoch: 2.0565\r\n",
      "loss: 0.37626734, learning_rate: 3.96889400921659e-05, global_step: 3580, interval_runtime: 4.4141, interval_samples_per_second: 3.625, interval_steps_per_second: 2.265, epoch: 2.0622\r\n",
      "loss: 0.41343508, learning_rate: 3.9660138248847926e-05, global_step: 3590, interval_runtime: 4.4043, interval_samples_per_second: 3.633, interval_steps_per_second: 2.271, epoch: 2.068\r\n",
      "loss: 0.31601281, learning_rate: 3.963133640552996e-05, global_step: 3600, interval_runtime: 4.4197, interval_samples_per_second: 3.62, interval_steps_per_second: 2.263, epoch: 2.0737\r\n"
     ]
    },
    {
     "name": "stderr",
     "output_type": "stream",
     "text": [
      "[2024-03-04 13:23:25,825] [    INFO] - ***** Running Evaluation *****\r\n",
      "[2024-03-04 13:23:25,839] [    INFO] -   Num examples = 2000\r\n",
      "[2024-03-04 13:23:25,845] [    INFO] -   Pre device batch size = 16\r\n",
      "[2024-03-04 13:23:25,847] [    INFO] -   Total Batch size = 16\r\n",
      "[2024-03-04 13:23:25,849] [    INFO] -   Total prediction steps = 125\r\n"
     ]
    },
    {
     "data": {
      "application/vnd.jupyter.widget-view+json": {
       "model_id": "1ba9cd7cb1fd4322b1836e08ec380a14",
       "version_major": 2,
       "version_minor": 0
      },
      "text/plain": [
       "  0%|          | 0/125 [00:00<?, ?it/s]"
      ]
     },
     "metadata": {},
     "output_type": "display_data"
    },
    {
     "name": "stdout",
     "output_type": "stream",
     "text": [
      "eval_loss: 0.7831739783287048, eval_accuracy: 0.7545, eval_f1: 0.7198186248293207, eval_runtime: 20.8548, eval_samples_per_second: 95.901, eval_steps_per_second: 5.994, epoch: 2.0737\r\n"
     ]
    },
    {
     "name": "stderr",
     "output_type": "stream",
     "text": [
      "[2024-03-04 13:23:46,686] [    INFO] - Saving model checkpoint to ./work/output/checkpoint-3600\r\n",
      "[2024-03-04 13:23:51,371] [    INFO] - Deleting older checkpoint [work/output/checkpoint-1600] due to args.save_total_limit\r\n"
     ]
    },
    {
     "name": "stdout",
     "output_type": "stream",
     "text": [
      "loss: 0.31779816, learning_rate: 3.9602534562211985e-05, global_step: 3610, interval_runtime: 30.011, interval_samples_per_second: 0.533, interval_steps_per_second: 0.333, epoch: 2.0795\r\n",
      "loss: 0.27178748, learning_rate: 3.957373271889401e-05, global_step: 3620, interval_runtime: 4.4099, interval_samples_per_second: 3.628, interval_steps_per_second: 2.268, epoch: 2.0853\r\n",
      "loss: 0.37941127, learning_rate: 3.954493087557604e-05, global_step: 3630, interval_runtime: 4.3956, interval_samples_per_second: 3.64, interval_steps_per_second: 2.275, epoch: 2.091\r\n",
      "loss: 0.40322356, learning_rate: 3.951612903225806e-05, global_step: 3640, interval_runtime: 4.3993, interval_samples_per_second: 3.637, interval_steps_per_second: 2.273, epoch: 2.0968\r\n",
      "loss: 0.34743612, learning_rate: 3.9487327188940095e-05, global_step: 3650, interval_runtime: 4.4025, interval_samples_per_second: 3.634, interval_steps_per_second: 2.271, epoch: 2.1025\r\n",
      "loss: 0.29108598, learning_rate: 3.945852534562212e-05, global_step: 3660, interval_runtime: 4.4118, interval_samples_per_second: 3.627, interval_steps_per_second: 2.267, epoch: 2.1083\r\n",
      "loss: 0.52900763, learning_rate: 3.942972350230415e-05, global_step: 3670, interval_runtime: 4.4073, interval_samples_per_second: 3.63, interval_steps_per_second: 2.269, epoch: 2.1141\r\n",
      "loss: 0.31338315, learning_rate: 3.940092165898618e-05, global_step: 3680, interval_runtime: 4.4017, interval_samples_per_second: 3.635, interval_steps_per_second: 2.272, epoch: 2.1198\r\n",
      "loss: 0.26641126, learning_rate: 3.9372119815668206e-05, global_step: 3690, interval_runtime: 4.4386, interval_samples_per_second: 3.605, interval_steps_per_second: 2.253, epoch: 2.1256\r\n",
      "loss: 0.28617263, learning_rate: 3.934331797235023e-05, global_step: 3700, interval_runtime: 4.4075, interval_samples_per_second: 3.63, interval_steps_per_second: 2.269, epoch: 2.1313\r\n",
      "loss: 0.48269649, learning_rate: 3.931451612903226e-05, global_step: 3710, interval_runtime: 4.4124, interval_samples_per_second: 3.626, interval_steps_per_second: 2.266, epoch: 2.1371\r\n",
      "loss: 0.2979255, learning_rate: 3.928571428571429e-05, global_step: 3720, interval_runtime: 4.3993, interval_samples_per_second: 3.637, interval_steps_per_second: 2.273, epoch: 2.1429\r\n",
      "loss: 0.34818702, learning_rate: 3.9256912442396316e-05, global_step: 3730, interval_runtime: 4.407, interval_samples_per_second: 3.631, interval_steps_per_second: 2.269, epoch: 2.1486\r\n",
      "loss: 0.32157695, learning_rate: 3.922811059907834e-05, global_step: 3740, interval_runtime: 4.3897, interval_samples_per_second: 3.645, interval_steps_per_second: 2.278, epoch: 2.1544\r\n",
      "loss: 0.35513749, learning_rate: 3.9199308755760374e-05, global_step: 3750, interval_runtime: 4.413, interval_samples_per_second: 3.626, interval_steps_per_second: 2.266, epoch: 2.1601\r\n",
      "loss: 0.41056242, learning_rate: 3.91705069124424e-05, global_step: 3760, interval_runtime: 4.4132, interval_samples_per_second: 3.626, interval_steps_per_second: 2.266, epoch: 2.1659\r\n",
      "loss: 0.37321475, learning_rate: 3.9141705069124426e-05, global_step: 3770, interval_runtime: 4.4026, interval_samples_per_second: 3.634, interval_steps_per_second: 2.271, epoch: 2.1717\r\n",
      "loss: 0.34074397, learning_rate: 3.911290322580645e-05, global_step: 3780, interval_runtime: 4.399, interval_samples_per_second: 3.637, interval_steps_per_second: 2.273, epoch: 2.1774\r\n",
      "loss: 0.31559837, learning_rate: 3.908410138248848e-05, global_step: 3790, interval_runtime: 4.4037, interval_samples_per_second: 3.633, interval_steps_per_second: 2.271, epoch: 2.1832\r\n",
      "loss: 0.2660758, learning_rate: 3.905529953917051e-05, global_step: 3800, interval_runtime: 4.4049, interval_samples_per_second: 3.632, interval_steps_per_second: 2.27, epoch: 2.1889\r\n"
     ]
    },
    {
     "name": "stderr",
     "output_type": "stream",
     "text": [
      "[2024-03-04 13:25:19,554] [    INFO] - ***** Running Evaluation *****\r\n",
      "[2024-03-04 13:25:19,556] [    INFO] -   Num examples = 2000\r\n",
      "[2024-03-04 13:25:19,559] [    INFO] -   Pre device batch size = 16\r\n",
      "[2024-03-04 13:25:19,561] [    INFO] -   Total Batch size = 16\r\n",
      "[2024-03-04 13:25:19,563] [    INFO] -   Total prediction steps = 125\r\n"
     ]
    },
    {
     "data": {
      "application/vnd.jupyter.widget-view+json": {
       "model_id": "5660314dc95e41119510a3cdb6cdc4fd",
       "version_major": 2,
       "version_minor": 0
      },
      "text/plain": [
       "  0%|          | 0/125 [00:00<?, ?it/s]"
      ]
     },
     "metadata": {},
     "output_type": "display_data"
    },
    {
     "name": "stdout",
     "output_type": "stream",
     "text": [
      "eval_loss: 0.8612672090530396, eval_accuracy: 0.7585, eval_f1: 0.7195561418828172, eval_runtime: 21.0517, eval_samples_per_second: 95.004, eval_steps_per_second: 5.938, epoch: 2.1889\r\n"
     ]
    },
    {
     "name": "stderr",
     "output_type": "stream",
     "text": [
      "[2024-03-04 13:25:40,626] [    INFO] - Saving model checkpoint to ./work/output/checkpoint-3800\r\n",
      "[2024-03-04 13:25:44,819] [    INFO] - Deleting older checkpoint [work/output/checkpoint-1800] due to args.save_total_limit\r\n"
     ]
    },
    {
     "name": "stdout",
     "output_type": "stream",
     "text": [
      "loss: 0.33946855, learning_rate: 3.9026497695852537e-05, global_step: 3810, interval_runtime: 29.6979, interval_samples_per_second: 0.539, interval_steps_per_second: 0.337, epoch: 2.1947\r\n",
      "loss: 0.3604358, learning_rate: 3.899769585253457e-05, global_step: 3820, interval_runtime: 4.4163, interval_samples_per_second: 3.623, interval_steps_per_second: 2.264, epoch: 2.2005\r\n",
      "loss: 0.29968133, learning_rate: 3.8968894009216595e-05, global_step: 3830, interval_runtime: 4.4028, interval_samples_per_second: 3.634, interval_steps_per_second: 2.271, epoch: 2.2062\r\n",
      "loss: 0.45616913, learning_rate: 3.8940092165898614e-05, global_step: 3840, interval_runtime: 4.4126, interval_samples_per_second: 3.626, interval_steps_per_second: 2.266, epoch: 2.212\r\n",
      "loss: 0.33924015, learning_rate: 3.891129032258065e-05, global_step: 3850, interval_runtime: 4.4082, interval_samples_per_second: 3.63, interval_steps_per_second: 2.269, epoch: 2.2177\r\n",
      "loss: 0.32886477, learning_rate: 3.888248847926267e-05, global_step: 3860, interval_runtime: 4.4081, interval_samples_per_second: 3.63, interval_steps_per_second: 2.269, epoch: 2.2235\r\n",
      "loss: 0.29055321, learning_rate: 3.8853686635944705e-05, global_step: 3870, interval_runtime: 4.3998, interval_samples_per_second: 3.637, interval_steps_per_second: 2.273, epoch: 2.2293\r\n",
      "loss: 0.32227845, learning_rate: 3.882488479262673e-05, global_step: 3880, interval_runtime: 4.3986, interval_samples_per_second: 3.637, interval_steps_per_second: 2.273, epoch: 2.235\r\n",
      "loss: 0.36471202, learning_rate: 3.879608294930876e-05, global_step: 3890, interval_runtime: 4.4041, interval_samples_per_second: 3.633, interval_steps_per_second: 2.271, epoch: 2.2408\r\n",
      "loss: 0.39259603, learning_rate: 3.876728110599078e-05, global_step: 3900, interval_runtime: 4.4024, interval_samples_per_second: 3.634, interval_steps_per_second: 2.272, epoch: 2.2465\r\n",
      "loss: 0.2557559, learning_rate: 3.873847926267281e-05, global_step: 3910, interval_runtime: 4.4069, interval_samples_per_second: 3.631, interval_steps_per_second: 2.269, epoch: 2.2523\r\n",
      "loss: 0.42830462, learning_rate: 3.870967741935484e-05, global_step: 3920, interval_runtime: 4.3962, interval_samples_per_second: 3.639, interval_steps_per_second: 2.275, epoch: 2.2581\r\n",
      "loss: 0.33649631, learning_rate: 3.868087557603687e-05, global_step: 3930, interval_runtime: 4.3989, interval_samples_per_second: 3.637, interval_steps_per_second: 2.273, epoch: 2.2638\r\n",
      "loss: 0.3185164, learning_rate: 3.8652073732718893e-05, global_step: 3940, interval_runtime: 4.4184, interval_samples_per_second: 3.621, interval_steps_per_second: 2.263, epoch: 2.2696\r\n",
      "loss: 0.35793252, learning_rate: 3.8623271889400926e-05, global_step: 3950, interval_runtime: 4.4088, interval_samples_per_second: 3.629, interval_steps_per_second: 2.268, epoch: 2.2753\r\n",
      "loss: 0.28446507, learning_rate: 3.859447004608295e-05, global_step: 3960, interval_runtime: 4.4134, interval_samples_per_second: 3.625, interval_steps_per_second: 2.266, epoch: 2.2811\r\n",
      "loss: 0.38299093, learning_rate: 3.856566820276498e-05, global_step: 3970, interval_runtime: 4.4341, interval_samples_per_second: 3.608, interval_steps_per_second: 2.255, epoch: 2.2869\r\n",
      "loss: 0.34186263, learning_rate: 3.8536866359447004e-05, global_step: 3980, interval_runtime: 4.4388, interval_samples_per_second: 3.605, interval_steps_per_second: 2.253, epoch: 2.2926\r\n",
      "loss: 0.36928058, learning_rate: 3.8508064516129036e-05, global_step: 3990, interval_runtime: 4.431, interval_samples_per_second: 3.611, interval_steps_per_second: 2.257, epoch: 2.2984\r\n",
      "loss: 0.36922956, learning_rate: 3.847926267281106e-05, global_step: 4000, interval_runtime: 4.4135, interval_samples_per_second: 3.625, interval_steps_per_second: 2.266, epoch: 2.3041\r\n"
     ]
    },
    {
     "name": "stderr",
     "output_type": "stream",
     "text": [
      "[2024-03-04 13:27:13,065] [    INFO] - ***** Running Evaluation *****\r\n",
      "[2024-03-04 13:27:13,067] [    INFO] -   Num examples = 2000\r\n",
      "[2024-03-04 13:27:13,069] [    INFO] -   Pre device batch size = 16\r\n",
      "[2024-03-04 13:27:13,072] [    INFO] -   Total Batch size = 16\r\n",
      "[2024-03-04 13:27:13,074] [    INFO] -   Total prediction steps = 125\r\n"
     ]
    },
    {
     "data": {
      "application/vnd.jupyter.widget-view+json": {
       "model_id": "a6a979a6fb754506a577455331a341a6",
       "version_major": 2,
       "version_minor": 0
      },
      "text/plain": [
       "  0%|          | 0/125 [00:00<?, ?it/s]"
      ]
     },
     "metadata": {},
     "output_type": "display_data"
    },
    {
     "name": "stdout",
     "output_type": "stream",
     "text": [
      "eval_loss: 0.7901596426963806, eval_accuracy: 0.7585, eval_f1: 0.7366088780528793, eval_runtime: 20.9692, eval_samples_per_second: 95.378, eval_steps_per_second: 5.961, epoch: 2.3041\r\n"
     ]
    },
    {
     "name": "stderr",
     "output_type": "stream",
     "text": [
      "[2024-03-04 13:27:34,039] [    INFO] - Saving model checkpoint to ./work/output/checkpoint-4000\r\n",
      "[2024-03-04 13:27:37,982] [    INFO] - Deleting older checkpoint [work/output/checkpoint-2000] due to args.save_total_limit\r\n"
     ]
    },
    {
     "name": "stdout",
     "output_type": "stream",
     "text": [
      "loss: 0.49133897, learning_rate: 3.845046082949309e-05, global_step: 4010, interval_runtime: 29.3501, interval_samples_per_second: 0.545, interval_steps_per_second: 0.341, epoch: 2.3099\r\n",
      "loss: 0.27962902, learning_rate: 3.842165898617512e-05, global_step: 4020, interval_runtime: 4.4368, interval_samples_per_second: 3.606, interval_steps_per_second: 2.254, epoch: 2.3157\r\n",
      "loss: 0.3503716, learning_rate: 3.839285714285715e-05, global_step: 4030, interval_runtime: 4.4172, interval_samples_per_second: 3.622, interval_steps_per_second: 2.264, epoch: 2.3214\r\n",
      "loss: 0.29625206, learning_rate: 3.836405529953917e-05, global_step: 4040, interval_runtime: 4.4128, interval_samples_per_second: 3.626, interval_steps_per_second: 2.266, epoch: 2.3272\r\n",
      "loss: 0.28694792, learning_rate: 3.83352534562212e-05, global_step: 4050, interval_runtime: 4.4409, interval_samples_per_second: 3.603, interval_steps_per_second: 2.252, epoch: 2.3329\r\n",
      "loss: 0.32431254, learning_rate: 3.8306451612903224e-05, global_step: 4060, interval_runtime: 4.4201, interval_samples_per_second: 3.62, interval_steps_per_second: 2.262, epoch: 2.3387\r\n",
      "loss: 0.3299042, learning_rate: 3.827764976958526e-05, global_step: 4070, interval_runtime: 4.4432, interval_samples_per_second: 3.601, interval_steps_per_second: 2.251, epoch: 2.3445\r\n",
      "loss: 0.38007276, learning_rate: 3.824884792626728e-05, global_step: 4080, interval_runtime: 4.4259, interval_samples_per_second: 3.615, interval_steps_per_second: 2.259, epoch: 2.3502\r\n",
      "loss: 0.45498281, learning_rate: 3.8220046082949316e-05, global_step: 4090, interval_runtime: 4.4202, interval_samples_per_second: 3.62, interval_steps_per_second: 2.262, epoch: 2.356\r\n",
      "loss: 0.33155978, learning_rate: 3.819124423963134e-05, global_step: 4100, interval_runtime: 4.4179, interval_samples_per_second: 3.622, interval_steps_per_second: 2.263, epoch: 2.3618\r\n",
      "loss: 0.41664286, learning_rate: 3.816244239631336e-05, global_step: 4110, interval_runtime: 4.4059, interval_samples_per_second: 3.632, interval_steps_per_second: 2.27, epoch: 2.3675\r\n",
      "loss: 0.41397734, learning_rate: 3.813364055299539e-05, global_step: 4120, interval_runtime: 4.4209, interval_samples_per_second: 3.619, interval_steps_per_second: 2.262, epoch: 2.3733\r\n",
      "loss: 0.34646294, learning_rate: 3.810483870967742e-05, global_step: 4130, interval_runtime: 4.4341, interval_samples_per_second: 3.608, interval_steps_per_second: 2.255, epoch: 2.379\r\n",
      "loss: 0.36752517, learning_rate: 3.807603686635945e-05, global_step: 4140, interval_runtime: 4.4144, interval_samples_per_second: 3.624, interval_steps_per_second: 2.265, epoch: 2.3848\r\n",
      "loss: 0.44272361, learning_rate: 3.804723502304148e-05, global_step: 4150, interval_runtime: 4.4268, interval_samples_per_second: 3.614, interval_steps_per_second: 2.259, epoch: 2.3906\r\n",
      "loss: 0.37338052, learning_rate: 3.8018433179723504e-05, global_step: 4160, interval_runtime: 4.4201, interval_samples_per_second: 3.62, interval_steps_per_second: 2.262, epoch: 2.3963\r\n",
      "loss: 0.34277468, learning_rate: 3.7989631336405536e-05, global_step: 4170, interval_runtime: 4.4075, interval_samples_per_second: 3.63, interval_steps_per_second: 2.269, epoch: 2.4021\r\n",
      "loss: 0.35130951, learning_rate: 3.7960829493087555e-05, global_step: 4180, interval_runtime: 4.4089, interval_samples_per_second: 3.629, interval_steps_per_second: 2.268, epoch: 2.4078\r\n",
      "loss: 0.28901834, learning_rate: 3.793202764976959e-05, global_step: 4190, interval_runtime: 4.4176, interval_samples_per_second: 3.622, interval_steps_per_second: 2.264, epoch: 2.4136\r\n",
      "loss: 0.34643543, learning_rate: 3.7903225806451614e-05, global_step: 4200, interval_runtime: 4.4183, interval_samples_per_second: 3.621, interval_steps_per_second: 2.263, epoch: 2.4194\r\n"
     ]
    },
    {
     "name": "stderr",
     "output_type": "stream",
     "text": [
      "[2024-03-04 13:29:06,431] [    INFO] - ***** Running Evaluation *****\r\n",
      "[2024-03-04 13:29:06,433] [    INFO] -   Num examples = 2000\r\n",
      "[2024-03-04 13:29:06,435] [    INFO] -   Pre device batch size = 16\r\n",
      "[2024-03-04 13:29:06,437] [    INFO] -   Total Batch size = 16\r\n",
      "[2024-03-04 13:29:06,439] [    INFO] -   Total prediction steps = 125\r\n"
     ]
    },
    {
     "data": {
      "application/vnd.jupyter.widget-view+json": {
       "model_id": "845b4cf97f064edba580ed66e46b4fd2",
       "version_major": 2,
       "version_minor": 0
      },
      "text/plain": [
       "  0%|          | 0/125 [00:00<?, ?it/s]"
      ]
     },
     "metadata": {},
     "output_type": "display_data"
    },
    {
     "name": "stdout",
     "output_type": "stream",
     "text": [
      "eval_loss: 0.7923582196235657, eval_accuracy: 0.7665, eval_f1: 0.732854593425742, eval_runtime: 20.9976, eval_samples_per_second: 95.249, eval_steps_per_second: 5.953, epoch: 2.4194\r\n"
     ]
    },
    {
     "name": "stderr",
     "output_type": "stream",
     "text": [
      "[2024-03-04 13:29:27,438] [    INFO] - Saving model checkpoint to ./work/output/checkpoint-4200\r\n",
      "[2024-03-04 13:29:31,488] [    INFO] - Deleting older checkpoint [work/output/checkpoint-2200] due to args.save_total_limit\r\n"
     ]
    },
    {
     "name": "stdout",
     "output_type": "stream",
     "text": [
      "loss: 0.55519691, learning_rate: 3.787442396313364e-05, global_step: 4210, interval_runtime: 29.4961, interval_samples_per_second: 0.542, interval_steps_per_second: 0.339, epoch: 2.4251\r\n",
      "loss: 0.38759074, learning_rate: 3.784562211981567e-05, global_step: 4220, interval_runtime: 4.4309, interval_samples_per_second: 3.611, interval_steps_per_second: 2.257, epoch: 2.4309\r\n",
      "loss: 0.39801898, learning_rate: 3.78168202764977e-05, global_step: 4230, interval_runtime: 4.4095, interval_samples_per_second: 3.629, interval_steps_per_second: 2.268, epoch: 2.4366\r\n",
      "loss: 0.31962936, learning_rate: 3.7788018433179724e-05, global_step: 4240, interval_runtime: 4.4158, interval_samples_per_second: 3.623, interval_steps_per_second: 2.265, epoch: 2.4424\r\n",
      "loss: 0.33378267, learning_rate: 3.775921658986175e-05, global_step: 4250, interval_runtime: 4.411, interval_samples_per_second: 3.627, interval_steps_per_second: 2.267, epoch: 2.4482\r\n",
      "loss: 0.25384252, learning_rate: 3.773041474654378e-05, global_step: 4260, interval_runtime: 4.4216, interval_samples_per_second: 3.619, interval_steps_per_second: 2.262, epoch: 2.4539\r\n",
      "loss: 0.24017951, learning_rate: 3.770161290322581e-05, global_step: 4270, interval_runtime: 4.4204, interval_samples_per_second: 3.62, interval_steps_per_second: 2.262, epoch: 2.4597\r\n",
      "loss: 0.31672111, learning_rate: 3.7672811059907835e-05, global_step: 4280, interval_runtime: 4.418, interval_samples_per_second: 3.622, interval_steps_per_second: 2.263, epoch: 2.4654\r\n",
      "loss: 0.49244709, learning_rate: 3.764400921658987e-05, global_step: 4290, interval_runtime: 4.4221, interval_samples_per_second: 3.618, interval_steps_per_second: 2.261, epoch: 2.4712\r\n",
      "loss: 0.41295052, learning_rate: 3.761520737327189e-05, global_step: 4300, interval_runtime: 4.4183, interval_samples_per_second: 3.621, interval_steps_per_second: 2.263, epoch: 2.477\r\n",
      "loss: 0.4551116, learning_rate: 3.758640552995392e-05, global_step: 4310, interval_runtime: 4.4089, interval_samples_per_second: 3.629, interval_steps_per_second: 2.268, epoch: 2.4827\r\n",
      "loss: 0.30610924, learning_rate: 3.7557603686635945e-05, global_step: 4320, interval_runtime: 4.4189, interval_samples_per_second: 3.621, interval_steps_per_second: 2.263, epoch: 2.4885\r\n",
      "loss: 0.38208857, learning_rate: 3.752880184331797e-05, global_step: 4330, interval_runtime: 4.4256, interval_samples_per_second: 3.615, interval_steps_per_second: 2.26, epoch: 2.4942\r\n",
      "loss: 0.33127632, learning_rate: 3.7500000000000003e-05, global_step: 4340, interval_runtime: 4.4224, interval_samples_per_second: 3.618, interval_steps_per_second: 2.261, epoch: 2.5\r\n",
      "loss: 0.35729213, learning_rate: 3.747119815668203e-05, global_step: 4350, interval_runtime: 4.4258, interval_samples_per_second: 3.615, interval_steps_per_second: 2.259, epoch: 2.5058\r\n",
      "loss: 0.5733356, learning_rate: 3.744239631336406e-05, global_step: 4360, interval_runtime: 4.4173, interval_samples_per_second: 3.622, interval_steps_per_second: 2.264, epoch: 2.5115\r\n",
      "loss: 0.28706663, learning_rate: 3.741359447004609e-05, global_step: 4370, interval_runtime: 4.4261, interval_samples_per_second: 3.615, interval_steps_per_second: 2.259, epoch: 2.5173\r\n",
      "loss: 0.33692174, learning_rate: 3.738479262672811e-05, global_step: 4380, interval_runtime: 4.4209, interval_samples_per_second: 3.619, interval_steps_per_second: 2.262, epoch: 2.523\r\n",
      "loss: 0.43106785, learning_rate: 3.735599078341014e-05, global_step: 4390, interval_runtime: 4.4126, interval_samples_per_second: 3.626, interval_steps_per_second: 2.266, epoch: 2.5288\r\n",
      "loss: 0.43021388, learning_rate: 3.7327188940092166e-05, global_step: 4400, interval_runtime: 4.4054, interval_samples_per_second: 3.632, interval_steps_per_second: 2.27, epoch: 2.5346\r\n"
     ]
    },
    {
     "name": "stderr",
     "output_type": "stream",
     "text": [
      "[2024-03-04 13:30:59,873] [    INFO] - ***** Running Evaluation *****\r\n",
      "[2024-03-04 13:30:59,876] [    INFO] -   Num examples = 2000\r\n",
      "[2024-03-04 13:30:59,878] [    INFO] -   Pre device batch size = 16\r\n",
      "[2024-03-04 13:30:59,880] [    INFO] -   Total Batch size = 16\r\n",
      "[2024-03-04 13:30:59,882] [    INFO] -   Total prediction steps = 125\r\n"
     ]
    },
    {
     "data": {
      "application/vnd.jupyter.widget-view+json": {
       "model_id": "408b9a7ffced4578a1397dd4e64a3f07",
       "version_major": 2,
       "version_minor": 0
      },
      "text/plain": [
       "  0%|          | 0/125 [00:00<?, ?it/s]"
      ]
     },
     "metadata": {},
     "output_type": "display_data"
    },
    {
     "name": "stdout",
     "output_type": "stream",
     "text": [
      "eval_loss: 0.7613644003868103, eval_accuracy: 0.764, eval_f1: 0.7319214309772385, eval_runtime: 21.016, eval_samples_per_second: 95.166, eval_steps_per_second: 5.948, epoch: 2.5346\r\n"
     ]
    },
    {
     "name": "stderr",
     "output_type": "stream",
     "text": [
      "[2024-03-04 13:31:20,896] [    INFO] - Saving model checkpoint to ./work/output/checkpoint-4400\r\n",
      "[2024-03-04 13:31:24,932] [    INFO] - Deleting older checkpoint [work/output/checkpoint-2400] due to args.save_total_limit\r\n"
     ]
    },
    {
     "name": "stdout",
     "output_type": "stream",
     "text": [
      "loss: 0.42356181, learning_rate: 3.72983870967742e-05, global_step: 4410, interval_runtime: 29.5198, interval_samples_per_second: 0.542, interval_steps_per_second: 0.339, epoch: 2.5403\r\n",
      "loss: 0.36477451, learning_rate: 3.7269585253456224e-05, global_step: 4420, interval_runtime: 4.432, interval_samples_per_second: 3.61, interval_steps_per_second: 2.256, epoch: 2.5461\r\n",
      "loss: 0.31618834, learning_rate: 3.724078341013825e-05, global_step: 4430, interval_runtime: 4.4179, interval_samples_per_second: 3.622, interval_steps_per_second: 2.264, epoch: 2.5518\r\n",
      "loss: 0.30127001, learning_rate: 3.721198156682028e-05, global_step: 4440, interval_runtime: 4.4167, interval_samples_per_second: 3.623, interval_steps_per_second: 2.264, epoch: 2.5576\r\n",
      "loss: 0.2527745, learning_rate: 3.71831797235023e-05, global_step: 4450, interval_runtime: 4.4155, interval_samples_per_second: 3.624, interval_steps_per_second: 2.265, epoch: 2.5634\r\n",
      "loss: 0.31926725, learning_rate: 3.7154377880184334e-05, global_step: 4460, interval_runtime: 4.4298, interval_samples_per_second: 3.612, interval_steps_per_second: 2.257, epoch: 2.5691\r\n",
      "loss: 0.32723668, learning_rate: 3.712557603686636e-05, global_step: 4470, interval_runtime: 4.4151, interval_samples_per_second: 3.624, interval_steps_per_second: 2.265, epoch: 2.5749\r\n",
      "loss: 0.37372158, learning_rate: 3.7096774193548386e-05, global_step: 4480, interval_runtime: 4.4244, interval_samples_per_second: 3.616, interval_steps_per_second: 2.26, epoch: 2.5806\r\n",
      "loss: 0.38005388, learning_rate: 3.706797235023042e-05, global_step: 4490, interval_runtime: 4.4146, interval_samples_per_second: 3.624, interval_steps_per_second: 2.265, epoch: 2.5864\r\n",
      "loss: 0.320543, learning_rate: 3.7039170506912445e-05, global_step: 4500, interval_runtime: 4.4218, interval_samples_per_second: 3.618, interval_steps_per_second: 2.262, epoch: 2.5922\r\n",
      "loss: 0.3385891, learning_rate: 3.701036866359447e-05, global_step: 4510, interval_runtime: 4.4406, interval_samples_per_second: 3.603, interval_steps_per_second: 2.252, epoch: 2.5979\r\n",
      "loss: 0.53450241, learning_rate: 3.6981566820276497e-05, global_step: 4520, interval_runtime: 4.4234, interval_samples_per_second: 3.617, interval_steps_per_second: 2.261, epoch: 2.6037\r\n",
      "loss: 0.32772768, learning_rate: 3.695276497695853e-05, global_step: 4530, interval_runtime: 4.4269, interval_samples_per_second: 3.614, interval_steps_per_second: 2.259, epoch: 2.6094\r\n",
      "loss: 0.47500525, learning_rate: 3.6923963133640555e-05, global_step: 4540, interval_runtime: 4.4105, interval_samples_per_second: 3.628, interval_steps_per_second: 2.267, epoch: 2.6152\r\n",
      "loss: 0.32658775, learning_rate: 3.689516129032258e-05, global_step: 4550, interval_runtime: 4.4299, interval_samples_per_second: 3.612, interval_steps_per_second: 2.257, epoch: 2.621\r\n",
      "loss: 0.26276565, learning_rate: 3.6866359447004614e-05, global_step: 4560, interval_runtime: 4.4226, interval_samples_per_second: 3.618, interval_steps_per_second: 2.261, epoch: 2.6267\r\n",
      "loss: 0.33138766, learning_rate: 3.683755760368664e-05, global_step: 4570, interval_runtime: 4.4178, interval_samples_per_second: 3.622, interval_steps_per_second: 2.264, epoch: 2.6325\r\n",
      "loss: 0.33930733, learning_rate: 3.6808755760368665e-05, global_step: 4580, interval_runtime: 4.425, interval_samples_per_second: 3.616, interval_steps_per_second: 2.26, epoch: 2.6382\r\n",
      "loss: 0.46993041, learning_rate: 3.677995391705069e-05, global_step: 4590, interval_runtime: 4.4089, interval_samples_per_second: 3.629, interval_steps_per_second: 2.268, epoch: 2.644\r\n",
      "loss: 0.3458456, learning_rate: 3.675115207373272e-05, global_step: 4600, interval_runtime: 4.4075, interval_samples_per_second: 3.63, interval_steps_per_second: 2.269, epoch: 2.6498\r\n"
     ]
    },
    {
     "name": "stderr",
     "output_type": "stream",
     "text": [
      "[2024-03-04 13:32:53,394] [    INFO] - ***** Running Evaluation *****\r\n",
      "[2024-03-04 13:32:53,396] [    INFO] -   Num examples = 2000\r\n",
      "[2024-03-04 13:32:53,398] [    INFO] -   Pre device batch size = 16\r\n",
      "[2024-03-04 13:32:53,402] [    INFO] -   Total Batch size = 16\r\n",
      "[2024-03-04 13:32:53,404] [    INFO] -   Total prediction steps = 125\r\n"
     ]
    },
    {
     "data": {
      "application/vnd.jupyter.widget-view+json": {
       "model_id": "484cd965b17e4772981c9547d019310b",
       "version_major": 2,
       "version_minor": 0
      },
      "text/plain": [
       "  0%|          | 0/125 [00:00<?, ?it/s]"
      ]
     },
     "metadata": {},
     "output_type": "display_data"
    },
    {
     "name": "stdout",
     "output_type": "stream",
     "text": [
      "eval_loss: 0.8164881467819214, eval_accuracy: 0.7605, eval_f1: 0.7247137706212174, eval_runtime: 20.9763, eval_samples_per_second: 95.346, eval_steps_per_second: 5.959, epoch: 2.6498\r\n"
     ]
    },
    {
     "name": "stderr",
     "output_type": "stream",
     "text": [
      "[2024-03-04 13:33:14,376] [    INFO] - Saving model checkpoint to ./work/output/checkpoint-4600\r\n",
      "[2024-03-04 13:33:18,358] [    INFO] - Deleting older checkpoint [work/output/checkpoint-2600] due to args.save_total_limit\r\n"
     ]
    },
    {
     "name": "stdout",
     "output_type": "stream",
     "text": [
      "loss: 0.50270438, learning_rate: 3.672235023041475e-05, global_step: 4610, interval_runtime: 29.3915, interval_samples_per_second: 0.544, interval_steps_per_second: 0.34, epoch: 2.6555\r\n",
      "loss: 0.40321679, learning_rate: 3.6693548387096776e-05, global_step: 4620, interval_runtime: 4.4127, interval_samples_per_second: 3.626, interval_steps_per_second: 2.266, epoch: 2.6613\r\n",
      "loss: 0.38213627, learning_rate: 3.666474654377881e-05, global_step: 4630, interval_runtime: 4.4121, interval_samples_per_second: 3.626, interval_steps_per_second: 2.267, epoch: 2.6671\r\n",
      "loss: 0.31355026, learning_rate: 3.6635944700460834e-05, global_step: 4640, interval_runtime: 4.4253, interval_samples_per_second: 3.616, interval_steps_per_second: 2.26, epoch: 2.6728\r\n",
      "loss: 0.43771744, learning_rate: 3.6607142857142853e-05, global_step: 4650, interval_runtime: 4.4239, interval_samples_per_second: 3.617, interval_steps_per_second: 2.26, epoch: 2.6786\r\n",
      "loss: 0.37841005, learning_rate: 3.6578341013824886e-05, global_step: 4660, interval_runtime: 4.4061, interval_samples_per_second: 3.631, interval_steps_per_second: 2.27, epoch: 2.6843\r\n",
      "loss: 0.26273973, learning_rate: 3.654953917050691e-05, global_step: 4670, interval_runtime: 4.4347, interval_samples_per_second: 3.608, interval_steps_per_second: 2.255, epoch: 2.6901\r\n",
      "loss: 0.4720592, learning_rate: 3.6520737327188945e-05, global_step: 4680, interval_runtime: 4.4413, interval_samples_per_second: 3.603, interval_steps_per_second: 2.252, epoch: 2.6959\r\n",
      "loss: 0.239079, learning_rate: 3.649193548387097e-05, global_step: 4690, interval_runtime: 4.425, interval_samples_per_second: 3.616, interval_steps_per_second: 2.26, epoch: 2.7016\r\n",
      "loss: 0.41948881, learning_rate: 3.6463133640552996e-05, global_step: 4700, interval_runtime: 4.4278, interval_samples_per_second: 3.614, interval_steps_per_second: 2.258, epoch: 2.7074\r\n",
      "loss: 0.45889435, learning_rate: 3.643433179723503e-05, global_step: 4710, interval_runtime: 4.4308, interval_samples_per_second: 3.611, interval_steps_per_second: 2.257, epoch: 2.7131\r\n",
      "loss: 0.44685106, learning_rate: 3.640552995391705e-05, global_step: 4720, interval_runtime: 4.4342, interval_samples_per_second: 3.608, interval_steps_per_second: 2.255, epoch: 2.7189\r\n",
      "loss: 0.43464489, learning_rate: 3.637672811059908e-05, global_step: 4730, interval_runtime: 4.4619, interval_samples_per_second: 3.586, interval_steps_per_second: 2.241, epoch: 2.7247\r\n",
      "loss: 0.48679595, learning_rate: 3.634792626728111e-05, global_step: 4740, interval_runtime: 4.4496, interval_samples_per_second: 3.596, interval_steps_per_second: 2.247, epoch: 2.7304\r\n",
      "loss: 0.40561604, learning_rate: 3.631912442396313e-05, global_step: 4750, interval_runtime: 4.4339, interval_samples_per_second: 3.609, interval_steps_per_second: 2.255, epoch: 2.7362\r\n",
      "loss: 0.29800336, learning_rate: 3.6290322580645165e-05, global_step: 4760, interval_runtime: 4.4347, interval_samples_per_second: 3.608, interval_steps_per_second: 2.255, epoch: 2.7419\r\n",
      "loss: 0.4380136, learning_rate: 3.626152073732719e-05, global_step: 4770, interval_runtime: 4.4454, interval_samples_per_second: 3.599, interval_steps_per_second: 2.25, epoch: 2.7477\r\n",
      "loss: 0.36707125, learning_rate: 3.6232718894009224e-05, global_step: 4780, interval_runtime: 4.4428, interval_samples_per_second: 3.601, interval_steps_per_second: 2.251, epoch: 2.7535\r\n",
      "loss: 0.37609522, learning_rate: 3.620391705069124e-05, global_step: 4790, interval_runtime: 4.4407, interval_samples_per_second: 3.603, interval_steps_per_second: 2.252, epoch: 2.7592\r\n",
      "loss: 0.31419373, learning_rate: 3.6175115207373276e-05, global_step: 4800, interval_runtime: 4.4401, interval_samples_per_second: 3.604, interval_steps_per_second: 2.252, epoch: 2.765\r\n"
     ]
    },
    {
     "name": "stderr",
     "output_type": "stream",
     "text": [
      "[2024-03-04 13:34:47,008] [    INFO] - ***** Running Evaluation *****\r\n",
      "[2024-03-04 13:34:47,019] [    INFO] -   Num examples = 2000\r\n",
      "[2024-03-04 13:34:47,024] [    INFO] -   Pre device batch size = 16\r\n",
      "[2024-03-04 13:34:47,027] [    INFO] -   Total Batch size = 16\r\n",
      "[2024-03-04 13:34:47,030] [    INFO] -   Total prediction steps = 125\r\n"
     ]
    },
    {
     "data": {
      "application/vnd.jupyter.widget-view+json": {
       "model_id": "9d25dce1120c4f51bc1b822a2117b2bc",
       "version_major": 2,
       "version_minor": 0
      },
      "text/plain": [
       "  0%|          | 0/125 [00:00<?, ?it/s]"
      ]
     },
     "metadata": {},
     "output_type": "display_data"
    },
    {
     "name": "stdout",
     "output_type": "stream",
     "text": [
      "eval_loss: 0.7542080879211426, eval_accuracy: 0.762, eval_f1: 0.7312677660201178, eval_runtime: 21.04, eval_samples_per_second: 95.057, eval_steps_per_second: 5.941, epoch: 2.765\r\n"
     ]
    },
    {
     "name": "stderr",
     "output_type": "stream",
     "text": [
      "[2024-03-04 13:35:08,054] [    INFO] - Saving model checkpoint to ./work/output/checkpoint-4800\r\n",
      "[2024-03-04 13:35:12,209] [    INFO] - Deleting older checkpoint [work/output/checkpoint-3000] due to args.save_total_limit\r\n"
     ]
    },
    {
     "name": "stdout",
     "output_type": "stream",
     "text": [
      "loss: 0.3100065, learning_rate: 3.61463133640553e-05, global_step: 4810, interval_runtime: 29.7615, interval_samples_per_second: 0.538, interval_steps_per_second: 0.336, epoch: 2.7707\r\n",
      "loss: 0.40383272, learning_rate: 3.611751152073733e-05, global_step: 4820, interval_runtime: 4.451, interval_samples_per_second: 3.595, interval_steps_per_second: 2.247, epoch: 2.7765\r\n",
      "loss: 0.31247797, learning_rate: 3.608870967741936e-05, global_step: 4830, interval_runtime: 4.4451, interval_samples_per_second: 3.599, interval_steps_per_second: 2.25, epoch: 2.7823\r\n",
      "loss: 0.30432167, learning_rate: 3.6059907834101386e-05, global_step: 4840, interval_runtime: 4.4267, interval_samples_per_second: 3.614, interval_steps_per_second: 2.259, epoch: 2.788\r\n",
      "loss: 0.37502439, learning_rate: 3.603110599078341e-05, global_step: 4850, interval_runtime: 4.4258, interval_samples_per_second: 3.615, interval_steps_per_second: 2.259, epoch: 2.7938\r\n",
      "loss: 0.36484344, learning_rate: 3.600230414746544e-05, global_step: 4860, interval_runtime: 4.4106, interval_samples_per_second: 3.628, interval_steps_per_second: 2.267, epoch: 2.7995\r\n",
      "loss: 0.35633616, learning_rate: 3.5973502304147464e-05, global_step: 4870, interval_runtime: 4.4163, interval_samples_per_second: 3.623, interval_steps_per_second: 2.264, epoch: 2.8053\r\n",
      "loss: 0.40426006, learning_rate: 3.5944700460829496e-05, global_step: 4880, interval_runtime: 4.4173, interval_samples_per_second: 3.622, interval_steps_per_second: 2.264, epoch: 2.8111\r\n",
      "loss: 0.48104749, learning_rate: 3.591589861751152e-05, global_step: 4890, interval_runtime: 4.3972, interval_samples_per_second: 3.639, interval_steps_per_second: 2.274, epoch: 2.8168\r\n",
      "loss: 0.41132989, learning_rate: 3.5887096774193555e-05, global_step: 4900, interval_runtime: 4.41, interval_samples_per_second: 3.628, interval_steps_per_second: 2.268, epoch: 2.8226\r\n",
      "loss: 0.37022243, learning_rate: 3.585829493087558e-05, global_step: 4910, interval_runtime: 4.4072, interval_samples_per_second: 3.63, interval_steps_per_second: 2.269, epoch: 2.8283\r\n",
      "loss: 0.36893408, learning_rate: 3.58294930875576e-05, global_step: 4920, interval_runtime: 4.4011, interval_samples_per_second: 3.635, interval_steps_per_second: 2.272, epoch: 2.8341\r\n",
      "loss: 0.20659256, learning_rate: 3.580069124423963e-05, global_step: 4930, interval_runtime: 4.414, interval_samples_per_second: 3.625, interval_steps_per_second: 2.266, epoch: 2.8399\r\n",
      "loss: 0.32076309, learning_rate: 3.577188940092166e-05, global_step: 4940, interval_runtime: 4.4061, interval_samples_per_second: 3.631, interval_steps_per_second: 2.27, epoch: 2.8456\r\n",
      "loss: 0.31597881, learning_rate: 3.574308755760369e-05, global_step: 4950, interval_runtime: 4.3993, interval_samples_per_second: 3.637, interval_steps_per_second: 2.273, epoch: 2.8514\r\n",
      "loss: 0.38142395, learning_rate: 3.571428571428572e-05, global_step: 4960, interval_runtime: 4.3934, interval_samples_per_second: 3.642, interval_steps_per_second: 2.276, epoch: 2.8571\r\n",
      "loss: 0.32655208, learning_rate: 3.568548387096774e-05, global_step: 4970, interval_runtime: 4.406, interval_samples_per_second: 3.631, interval_steps_per_second: 2.27, epoch: 2.8629\r\n",
      "loss: 0.40382276, learning_rate: 3.5656682027649776e-05, global_step: 4980, interval_runtime: 4.4039, interval_samples_per_second: 3.633, interval_steps_per_second: 2.271, epoch: 2.8687\r\n",
      "loss: 0.40297327, learning_rate: 3.5627880184331795e-05, global_step: 4990, interval_runtime: 4.4004, interval_samples_per_second: 3.636, interval_steps_per_second: 2.273, epoch: 2.8744\r\n",
      "loss: 0.40264325, learning_rate: 3.559907834101383e-05, global_step: 5000, interval_runtime: 4.4056, interval_samples_per_second: 3.632, interval_steps_per_second: 2.27, epoch: 2.8802\r\n"
     ]
    },
    {
     "name": "stderr",
     "output_type": "stream",
     "text": [
      "[2024-03-04 13:36:40,608] [    INFO] - ***** Running Evaluation *****\r\n",
      "[2024-03-04 13:36:40,611] [    INFO] -   Num examples = 2000\r\n",
      "[2024-03-04 13:36:40,615] [    INFO] -   Pre device batch size = 16\r\n",
      "[2024-03-04 13:36:40,618] [    INFO] -   Total Batch size = 16\r\n",
      "[2024-03-04 13:36:40,621] [    INFO] -   Total prediction steps = 125\r\n"
     ]
    },
    {
     "data": {
      "application/vnd.jupyter.widget-view+json": {
       "model_id": "a177e24da10548d69e127bcfd2d90533",
       "version_major": 2,
       "version_minor": 0
      },
      "text/plain": [
       "  0%|          | 0/125 [00:00<?, ?it/s]"
      ]
     },
     "metadata": {},
     "output_type": "display_data"
    },
    {
     "name": "stdout",
     "output_type": "stream",
     "text": [
      "eval_loss: 0.8032001852989197, eval_accuracy: 0.7565, eval_f1: 0.7240742819011797, eval_runtime: 20.8703, eval_samples_per_second: 95.83, eval_steps_per_second: 5.989, epoch: 2.8802\r\n"
     ]
    },
    {
     "name": "stderr",
     "output_type": "stream",
     "text": [
      "[2024-03-04 13:37:01,484] [    INFO] - Saving model checkpoint to ./work/output/checkpoint-5000\r\n",
      "[2024-03-04 13:37:05,415] [    INFO] - Deleting older checkpoint [work/output/checkpoint-3200] due to args.save_total_limit\r\n"
     ]
    },
    {
     "name": "stdout",
     "output_type": "stream",
     "text": [
      "loss: 0.45200834, learning_rate: 3.557027649769585e-05, global_step: 5010, interval_runtime: 29.3422, interval_samples_per_second: 0.545, interval_steps_per_second: 0.341, epoch: 2.8859\r\n",
      "loss: 0.36737604, learning_rate: 3.554147465437788e-05, global_step: 5020, interval_runtime: 4.4177, interval_samples_per_second: 3.622, interval_steps_per_second: 2.264, epoch: 2.8917\r\n",
      "loss: 0.33173196, learning_rate: 3.551267281105991e-05, global_step: 5030, interval_runtime: 4.4141, interval_samples_per_second: 3.625, interval_steps_per_second: 2.265, epoch: 2.8975\r\n",
      "loss: 0.3819082, learning_rate: 3.548387096774194e-05, global_step: 5040, interval_runtime: 4.4052, interval_samples_per_second: 3.632, interval_steps_per_second: 2.27, epoch: 2.9032\r\n",
      "loss: 0.45826569, learning_rate: 3.545506912442397e-05, global_step: 5050, interval_runtime: 4.4185, interval_samples_per_second: 3.621, interval_steps_per_second: 2.263, epoch: 2.909\r\n",
      "loss: 0.42491097, learning_rate: 3.542626728110599e-05, global_step: 5060, interval_runtime: 4.4164, interval_samples_per_second: 3.623, interval_steps_per_second: 2.264, epoch: 2.9147\r\n",
      "loss: 0.35112596, learning_rate: 3.539746543778802e-05, global_step: 5070, interval_runtime: 4.4104, interval_samples_per_second: 3.628, interval_steps_per_second: 2.267, epoch: 2.9205\r\n",
      "loss: 0.35077672, learning_rate: 3.536866359447005e-05, global_step: 5080, interval_runtime: 4.4114, interval_samples_per_second: 3.627, interval_steps_per_second: 2.267, epoch: 2.9263\r\n",
      "loss: 0.37816763, learning_rate: 3.5339861751152074e-05, global_step: 5090, interval_runtime: 4.6579, interval_samples_per_second: 3.435, interval_steps_per_second: 2.147, epoch: 2.932\r\n",
      "loss: 0.34015684, learning_rate: 3.5311059907834107e-05, global_step: 5100, interval_runtime: 4.4048, interval_samples_per_second: 3.632, interval_steps_per_second: 2.27, epoch: 2.9378\r\n",
      "loss: 0.39690883, learning_rate: 3.528225806451613e-05, global_step: 5110, interval_runtime: 4.4169, interval_samples_per_second: 3.622, interval_steps_per_second: 2.264, epoch: 2.9435\r\n",
      "loss: 0.32391579, learning_rate: 3.525345622119816e-05, global_step: 5120, interval_runtime: 4.4257, interval_samples_per_second: 3.615, interval_steps_per_second: 2.26, epoch: 2.9493\r\n",
      "loss: 0.33298893, learning_rate: 3.5224654377880184e-05, global_step: 5130, interval_runtime: 4.4022, interval_samples_per_second: 3.635, interval_steps_per_second: 2.272, epoch: 2.9551\r\n",
      "loss: 0.32505343, learning_rate: 3.519585253456221e-05, global_step: 5140, interval_runtime: 4.4178, interval_samples_per_second: 3.622, interval_steps_per_second: 2.264, epoch: 2.9608\r\n",
      "loss: 0.32772, learning_rate: 3.516705069124424e-05, global_step: 5150, interval_runtime: 4.4286, interval_samples_per_second: 3.613, interval_steps_per_second: 2.258, epoch: 2.9666\r\n",
      "loss: 0.33664052, learning_rate: 3.513824884792627e-05, global_step: 5160, interval_runtime: 4.4176, interval_samples_per_second: 3.622, interval_steps_per_second: 2.264, epoch: 2.9724\r\n",
      "loss: 0.39582822, learning_rate: 3.51094470046083e-05, global_step: 5170, interval_runtime: 4.4369, interval_samples_per_second: 3.606, interval_steps_per_second: 2.254, epoch: 2.9781\r\n",
      "loss: 0.30380085, learning_rate: 3.508064516129033e-05, global_step: 5180, interval_runtime: 4.4823, interval_samples_per_second: 3.57, interval_steps_per_second: 2.231, epoch: 2.9839\r\n",
      "loss: 0.49545364, learning_rate: 3.5051843317972346e-05, global_step: 5190, interval_runtime: 4.4827, interval_samples_per_second: 3.569, interval_steps_per_second: 2.231, epoch: 2.9896\r\n",
      "loss: 0.29697204, learning_rate: 3.502304147465438e-05, global_step: 5200, interval_runtime: 4.4469, interval_samples_per_second: 3.598, interval_steps_per_second: 2.249, epoch: 2.9954\r\n"
     ]
    },
    {
     "name": "stderr",
     "output_type": "stream",
     "text": [
      "[2024-03-04 13:38:34,263] [    INFO] - ***** Running Evaluation *****\r\n",
      "[2024-03-04 13:38:34,267] [    INFO] -   Num examples = 2000\r\n",
      "[2024-03-04 13:38:34,269] [    INFO] -   Pre device batch size = 16\r\n",
      "[2024-03-04 13:38:34,271] [    INFO] -   Total Batch size = 16\r\n",
      "[2024-03-04 13:38:34,274] [    INFO] -   Total prediction steps = 125\r\n"
     ]
    },
    {
     "data": {
      "application/vnd.jupyter.widget-view+json": {
       "model_id": "c76d1c3f289b4b52be64ad1a88fa78d5",
       "version_major": 2,
       "version_minor": 0
      },
      "text/plain": [
       "  0%|          | 0/125 [00:00<?, ?it/s]"
      ]
     },
     "metadata": {},
     "output_type": "display_data"
    },
    {
     "name": "stdout",
     "output_type": "stream",
     "text": [
      "eval_loss: 0.8250638246536255, eval_accuracy: 0.7615, eval_f1: 0.7317158745791442, eval_runtime: 20.9882, eval_samples_per_second: 95.292, eval_steps_per_second: 5.956, epoch: 2.9954\r\n"
     ]
    },
    {
     "name": "stderr",
     "output_type": "stream",
     "text": [
      "[2024-03-04 13:38:55,257] [    INFO] - Saving model checkpoint to ./work/output/checkpoint-5200\r\n",
      "[2024-03-04 13:38:59,109] [    INFO] - Deleting older checkpoint [work/output/checkpoint-3400] due to args.save_total_limit\r\n"
     ]
    },
    {
     "name": "stdout",
     "output_type": "stream",
     "text": [
      "loss: 0.38672242, learning_rate: 3.4994239631336405e-05, global_step: 5210, interval_runtime: 29.4321, interval_samples_per_second: 0.544, interval_steps_per_second: 0.34, epoch: 3.0012\r\n",
      "loss: 0.23307571, learning_rate: 3.496543778801844e-05, global_step: 5220, interval_runtime: 4.4322, interval_samples_per_second: 3.61, interval_steps_per_second: 2.256, epoch: 3.0069\r\n",
      "loss: 0.1578375, learning_rate: 3.493663594470046e-05, global_step: 5230, interval_runtime: 4.435, interval_samples_per_second: 3.608, interval_steps_per_second: 2.255, epoch: 3.0127\r\n",
      "loss: 0.19054056, learning_rate: 3.490783410138249e-05, global_step: 5240, interval_runtime: 4.444, interval_samples_per_second: 3.6, interval_steps_per_second: 2.25, epoch: 3.0184\r\n",
      "loss: 0.24588144, learning_rate: 3.487903225806452e-05, global_step: 5250, interval_runtime: 4.4406, interval_samples_per_second: 3.603, interval_steps_per_second: 2.252, epoch: 3.0242\r\n",
      "loss: 0.24973896, learning_rate: 3.485023041474654e-05, global_step: 5260, interval_runtime: 4.4298, interval_samples_per_second: 3.612, interval_steps_per_second: 2.257, epoch: 3.03\r\n",
      "loss: 0.17875332, learning_rate: 3.4821428571428574e-05, global_step: 5270, interval_runtime: 4.4365, interval_samples_per_second: 3.606, interval_steps_per_second: 2.254, epoch: 3.0357\r\n",
      "loss: 0.28215599, learning_rate: 3.47926267281106e-05, global_step: 5280, interval_runtime: 4.4595, interval_samples_per_second: 3.588, interval_steps_per_second: 2.242, epoch: 3.0415\r\n",
      "loss: 0.26554008, learning_rate: 3.4763824884792625e-05, global_step: 5290, interval_runtime: 4.4247, interval_samples_per_second: 3.616, interval_steps_per_second: 2.26, epoch: 3.0472\r\n",
      "loss: 0.22948341, learning_rate: 3.473502304147466e-05, global_step: 5300, interval_runtime: 4.4251, interval_samples_per_second: 3.616, interval_steps_per_second: 2.26, epoch: 3.053\r\n",
      "loss: 0.29148874, learning_rate: 3.4706221198156684e-05, global_step: 5310, interval_runtime: 4.4184, interval_samples_per_second: 3.621, interval_steps_per_second: 2.263, epoch: 3.0588\r\n",
      "loss: 0.10598978, learning_rate: 3.467741935483872e-05, global_step: 5320, interval_runtime: 4.4192, interval_samples_per_second: 3.621, interval_steps_per_second: 2.263, epoch: 3.0645\r\n",
      "loss: 0.10757258, learning_rate: 3.4648617511520736e-05, global_step: 5330, interval_runtime: 4.4229, interval_samples_per_second: 3.618, interval_steps_per_second: 2.261, epoch: 3.0703\r\n",
      "loss: 0.28526611, learning_rate: 3.461981566820277e-05, global_step: 5340, interval_runtime: 4.4419, interval_samples_per_second: 3.602, interval_steps_per_second: 2.251, epoch: 3.076\r\n",
      "loss: 0.23344359, learning_rate: 3.4591013824884794e-05, global_step: 5350, interval_runtime: 4.473, interval_samples_per_second: 3.577, interval_steps_per_second: 2.236, epoch: 3.0818\r\n",
      "loss: 0.18399829, learning_rate: 3.456221198156682e-05, global_step: 5360, interval_runtime: 4.5148, interval_samples_per_second: 3.544, interval_steps_per_second: 2.215, epoch: 3.0876\r\n",
      "loss: 0.24146907, learning_rate: 3.453341013824885e-05, global_step: 5370, interval_runtime: 4.4422, interval_samples_per_second: 3.602, interval_steps_per_second: 2.251, epoch: 3.0933\r\n",
      "loss: 0.26439562, learning_rate: 3.450460829493088e-05, global_step: 5380, interval_runtime: 4.4143, interval_samples_per_second: 3.625, interval_steps_per_second: 2.265, epoch: 3.0991\r\n",
      "loss: 0.30305493, learning_rate: 3.4475806451612905e-05, global_step: 5390, interval_runtime: 4.4398, interval_samples_per_second: 3.604, interval_steps_per_second: 2.252, epoch: 3.1048\r\n",
      "loss: 0.15685302, learning_rate: 3.444700460829493e-05, global_step: 5400, interval_runtime: 4.4385, interval_samples_per_second: 3.605, interval_steps_per_second: 2.253, epoch: 3.1106\r\n"
     ]
    },
    {
     "name": "stderr",
     "output_type": "stream",
     "text": [
      "[2024-03-04 13:40:28,048] [    INFO] - ***** Running Evaluation *****\r\n",
      "[2024-03-04 13:40:28,052] [    INFO] -   Num examples = 2000\r\n",
      "[2024-03-04 13:40:28,055] [    INFO] -   Pre device batch size = 16\r\n",
      "[2024-03-04 13:40:28,059] [    INFO] -   Total Batch size = 16\r\n",
      "[2024-03-04 13:40:28,062] [    INFO] -   Total prediction steps = 125\r\n"
     ]
    },
    {
     "data": {
      "application/vnd.jupyter.widget-view+json": {
       "model_id": "a53ce6cd6ca841e0b8861662b46c8074",
       "version_major": 2,
       "version_minor": 0
      },
      "text/plain": [
       "  0%|          | 0/125 [00:00<?, ?it/s]"
      ]
     },
     "metadata": {},
     "output_type": "display_data"
    },
    {
     "name": "stdout",
     "output_type": "stream",
     "text": [
      "eval_loss: 1.0157666206359863, eval_accuracy: 0.7625, eval_f1: 0.7347861655667295, eval_runtime: 20.9588, eval_samples_per_second: 95.425, eval_steps_per_second: 5.964, epoch: 3.1106\r\n"
     ]
    },
    {
     "name": "stderr",
     "output_type": "stream",
     "text": [
      "[2024-03-04 13:40:49,019] [    INFO] - Saving model checkpoint to ./work/output/checkpoint-5400\r\n",
      "[2024-03-04 13:40:53,051] [    INFO] - Deleting older checkpoint [work/output/checkpoint-3600] due to args.save_total_limit\r\n"
     ]
    },
    {
     "name": "stdout",
     "output_type": "stream",
     "text": [
      "loss: 0.34689691, learning_rate: 3.4418202764976956e-05, global_step: 5410, interval_runtime: 29.5765, interval_samples_per_second: 0.541, interval_steps_per_second: 0.338, epoch: 3.1164\r\n",
      "loss: 0.23214025, learning_rate: 3.438940092165899e-05, global_step: 5420, interval_runtime: 4.4261, interval_samples_per_second: 3.615, interval_steps_per_second: 2.259, epoch: 3.1221\r\n",
      "loss: 0.11028234, learning_rate: 3.4360599078341015e-05, global_step: 5430, interval_runtime: 4.4423, interval_samples_per_second: 3.602, interval_steps_per_second: 2.251, epoch: 3.1279\r\n",
      "loss: 0.3300288, learning_rate: 3.433179723502305e-05, global_step: 5440, interval_runtime: 4.4507, interval_samples_per_second: 3.595, interval_steps_per_second: 2.247, epoch: 3.1336\r\n",
      "loss: 0.37358413, learning_rate: 3.4302995391705074e-05, global_step: 5450, interval_runtime: 4.4176, interval_samples_per_second: 3.622, interval_steps_per_second: 2.264, epoch: 3.1394\r\n",
      "loss: 0.20473547, learning_rate: 3.427419354838709e-05, global_step: 5460, interval_runtime: 4.4316, interval_samples_per_second: 3.61, interval_steps_per_second: 2.257, epoch: 3.1452\r\n",
      "loss: 0.13749416, learning_rate: 3.4245391705069125e-05, global_step: 5470, interval_runtime: 4.4158, interval_samples_per_second: 3.623, interval_steps_per_second: 2.265, epoch: 3.1509\r\n",
      "loss: 0.53527918, learning_rate: 3.421658986175115e-05, global_step: 5480, interval_runtime: 4.4267, interval_samples_per_second: 3.614, interval_steps_per_second: 2.259, epoch: 3.1567\r\n",
      "loss: 0.24511371, learning_rate: 3.4187788018433184e-05, global_step: 5490, interval_runtime: 4.4275, interval_samples_per_second: 3.614, interval_steps_per_second: 2.259, epoch: 3.1624\r\n",
      "loss: 0.21368437, learning_rate: 3.415898617511521e-05, global_step: 5500, interval_runtime: 4.425, interval_samples_per_second: 3.616, interval_steps_per_second: 2.26, epoch: 3.1682\r\n",
      "loss: 0.15096087, learning_rate: 3.4130184331797236e-05, global_step: 5510, interval_runtime: 4.429, interval_samples_per_second: 3.613, interval_steps_per_second: 2.258, epoch: 3.174\r\n",
      "loss: 0.25934582, learning_rate: 3.410138248847927e-05, global_step: 5520, interval_runtime: 4.4183, interval_samples_per_second: 3.621, interval_steps_per_second: 2.263, epoch: 3.1797\r\n",
      "loss: 0.23244097, learning_rate: 3.407258064516129e-05, global_step: 5530, interval_runtime: 4.4254, interval_samples_per_second: 3.615, interval_steps_per_second: 2.26, epoch: 3.1855\r\n",
      "loss: 0.25768971, learning_rate: 3.404377880184332e-05, global_step: 5540, interval_runtime: 4.43, interval_samples_per_second: 3.612, interval_steps_per_second: 2.257, epoch: 3.1912\r\n",
      "loss: 0.24276273, learning_rate: 3.4014976958525346e-05, global_step: 5550, interval_runtime: 4.4424, interval_samples_per_second: 3.602, interval_steps_per_second: 2.251, epoch: 3.197\r\n",
      "loss: 0.15104547, learning_rate: 3.398617511520737e-05, global_step: 5560, interval_runtime: 4.4358, interval_samples_per_second: 3.607, interval_steps_per_second: 2.254, epoch: 3.2028\r\n",
      "loss: 0.20673018, learning_rate: 3.3957373271889405e-05, global_step: 5570, interval_runtime: 4.4396, interval_samples_per_second: 3.604, interval_steps_per_second: 2.252, epoch: 3.2085\r\n",
      "loss: 0.24434347, learning_rate: 3.392857142857143e-05, global_step: 5580, interval_runtime: 4.4285, interval_samples_per_second: 3.613, interval_steps_per_second: 2.258, epoch: 3.2143\r\n",
      "loss: 0.36327443, learning_rate: 3.389976958525346e-05, global_step: 5590, interval_runtime: 4.4311, interval_samples_per_second: 3.611, interval_steps_per_second: 2.257, epoch: 3.22\r\n",
      "loss: 0.27172356, learning_rate: 3.387096774193548e-05, global_step: 5600, interval_runtime: 4.4366, interval_samples_per_second: 3.606, interval_steps_per_second: 2.254, epoch: 3.2258\r\n"
     ]
    },
    {
     "name": "stderr",
     "output_type": "stream",
     "text": [
      "[2024-03-04 13:42:21,805] [    INFO] - ***** Running Evaluation *****\r\n",
      "[2024-03-04 13:42:21,809] [    INFO] -   Num examples = 2000\r\n",
      "[2024-03-04 13:42:21,824] [    INFO] -   Pre device batch size = 16\r\n",
      "[2024-03-04 13:42:21,826] [    INFO] -   Total Batch size = 16\r\n",
      "[2024-03-04 13:42:21,829] [    INFO] -   Total prediction steps = 125\r\n"
     ]
    },
    {
     "data": {
      "application/vnd.jupyter.widget-view+json": {
       "model_id": "1527121caba1467f8d73774d27e2ddb6",
       "version_major": 2,
       "version_minor": 0
      },
      "text/plain": [
       "  0%|          | 0/125 [00:00<?, ?it/s]"
      ]
     },
     "metadata": {},
     "output_type": "display_data"
    },
    {
     "name": "stdout",
     "output_type": "stream",
     "text": [
      "eval_loss: 1.0583391189575195, eval_accuracy: 0.765, eval_f1: 0.7283194832870458, eval_runtime: 20.967, eval_samples_per_second: 95.388, eval_steps_per_second: 5.962, epoch: 3.2258\r\n"
     ]
    },
    {
     "name": "stderr",
     "output_type": "stream",
     "text": [
      "[2024-03-04 13:42:42,778] [    INFO] - Saving model checkpoint to ./work/output/checkpoint-5600\r\n",
      "[2024-03-04 13:42:46,687] [    INFO] - Deleting older checkpoint [work/output/checkpoint-3800] due to args.save_total_limit\r\n"
     ]
    },
    {
     "name": "stdout",
     "output_type": "stream",
     "text": [
      "loss: 0.27033935, learning_rate: 3.3842165898617515e-05, global_step: 5610, interval_runtime: 29.4481, interval_samples_per_second: 0.543, interval_steps_per_second: 0.34, epoch: 3.2316\r\n",
      "loss: 0.20886796, learning_rate: 3.381336405529954e-05, global_step: 5620, interval_runtime: 4.4193, interval_samples_per_second: 3.62, interval_steps_per_second: 2.263, epoch: 3.2373\r\n",
      "loss: 0.26056314, learning_rate: 3.378456221198157e-05, global_step: 5630, interval_runtime: 4.4351, interval_samples_per_second: 3.608, interval_steps_per_second: 2.255, epoch: 3.2431\r\n",
      "loss: 0.26085184, learning_rate: 3.37557603686636e-05, global_step: 5640, interval_runtime: 4.4299, interval_samples_per_second: 3.612, interval_steps_per_second: 2.257, epoch: 3.2488\r\n",
      "loss: 0.26923742, learning_rate: 3.3726958525345625e-05, global_step: 5650, interval_runtime: 4.4386, interval_samples_per_second: 3.605, interval_steps_per_second: 2.253, epoch: 3.2546\r\n",
      "loss: 0.22934272, learning_rate: 3.369815668202765e-05, global_step: 5660, interval_runtime: 4.4218, interval_samples_per_second: 3.618, interval_steps_per_second: 2.262, epoch: 3.2604\r\n",
      "loss: 0.18555828, learning_rate: 3.366935483870968e-05, global_step: 5670, interval_runtime: 4.4225, interval_samples_per_second: 3.618, interval_steps_per_second: 2.261, epoch: 3.2661\r\n",
      "loss: 0.22549546, learning_rate: 3.36405529953917e-05, global_step: 5680, interval_runtime: 4.4321, interval_samples_per_second: 3.61, interval_steps_per_second: 2.256, epoch: 3.2719\r\n",
      "loss: 0.29697256, learning_rate: 3.3611751152073736e-05, global_step: 5690, interval_runtime: 4.4125, interval_samples_per_second: 3.626, interval_steps_per_second: 2.266, epoch: 3.2776\r\n",
      "loss: 0.33320942, learning_rate: 3.358294930875576e-05, global_step: 5700, interval_runtime: 4.4134, interval_samples_per_second: 3.625, interval_steps_per_second: 2.266, epoch: 3.2834\r\n",
      "loss: 0.13791101, learning_rate: 3.3554147465437794e-05, global_step: 5710, interval_runtime: 4.4232, interval_samples_per_second: 3.617, interval_steps_per_second: 2.261, epoch: 3.2892\r\n",
      "loss: 0.20067306, learning_rate: 3.352534562211982e-05, global_step: 5720, interval_runtime: 4.4069, interval_samples_per_second: 3.631, interval_steps_per_second: 2.269, epoch: 3.2949\r\n",
      "loss: 0.31052816, learning_rate: 3.3496543778801846e-05, global_step: 5730, interval_runtime: 4.4218, interval_samples_per_second: 3.618, interval_steps_per_second: 2.262, epoch: 3.3007\r\n",
      "loss: 0.26103885, learning_rate: 3.346774193548387e-05, global_step: 5740, interval_runtime: 4.4286, interval_samples_per_second: 3.613, interval_steps_per_second: 2.258, epoch: 3.3065\r\n",
      "loss: 0.2759774, learning_rate: 3.34389400921659e-05, global_step: 5750, interval_runtime: 4.4278, interval_samples_per_second: 3.614, interval_steps_per_second: 2.258, epoch: 3.3122\r\n",
      "loss: 0.30537932, learning_rate: 3.341013824884793e-05, global_step: 5760, interval_runtime: 4.4217, interval_samples_per_second: 3.619, interval_steps_per_second: 2.262, epoch: 3.318\r\n",
      "loss: 0.16827965, learning_rate: 3.3381336405529956e-05, global_step: 5770, interval_runtime: 4.4238, interval_samples_per_second: 3.617, interval_steps_per_second: 2.261, epoch: 3.3237\r\n",
      "loss: 0.27620709, learning_rate: 3.335253456221198e-05, global_step: 5780, interval_runtime: 4.4306, interval_samples_per_second: 3.611, interval_steps_per_second: 2.257, epoch: 3.3295\r\n",
      "loss: 0.16271685, learning_rate: 3.3323732718894015e-05, global_step: 5790, interval_runtime: 4.4188, interval_samples_per_second: 3.621, interval_steps_per_second: 2.263, epoch: 3.3353\r\n",
      "loss: 0.24490745, learning_rate: 3.3294930875576034e-05, global_step: 5800, interval_runtime: 4.4245, interval_samples_per_second: 3.616, interval_steps_per_second: 2.26, epoch: 3.341\r\n"
     ]
    },
    {
     "name": "stderr",
     "output_type": "stream",
     "text": [
      "[2024-03-04 13:44:15,306] [    INFO] - ***** Running Evaluation *****\r\n",
      "[2024-03-04 13:44:15,309] [    INFO] -   Num examples = 2000\r\n",
      "[2024-03-04 13:44:15,314] [    INFO] -   Pre device batch size = 16\r\n",
      "[2024-03-04 13:44:15,329] [    INFO] -   Total Batch size = 16\r\n",
      "[2024-03-04 13:44:15,334] [    INFO] -   Total prediction steps = 125\r\n"
     ]
    },
    {
     "data": {
      "application/vnd.jupyter.widget-view+json": {
       "model_id": "4b4b2dc0ec40418fb143c6652299962f",
       "version_major": 2,
       "version_minor": 0
      },
      "text/plain": [
       "  0%|          | 0/125 [00:00<?, ?it/s]"
      ]
     },
     "metadata": {},
     "output_type": "display_data"
    },
    {
     "name": "stdout",
     "output_type": "stream",
     "text": [
      "eval_loss: 1.0493983030319214, eval_accuracy: 0.754, eval_f1: 0.7195989592247335, eval_runtime: 21.0738, eval_samples_per_second: 94.904, eval_steps_per_second: 5.932, epoch: 3.341\r\n"
     ]
    },
    {
     "name": "stderr",
     "output_type": "stream",
     "text": [
      "[2024-03-04 13:44:36,386] [    INFO] - Saving model checkpoint to ./work/output/checkpoint-5800\r\n",
      "[2024-03-04 13:44:40,442] [    INFO] - Deleting older checkpoint [work/output/checkpoint-4000] due to args.save_total_limit\r\n"
     ]
    },
    {
     "name": "stdout",
     "output_type": "stream",
     "text": [
      "loss: 0.32802291, learning_rate: 3.3266129032258067e-05, global_step: 5810, interval_runtime: 29.7035, interval_samples_per_second: 0.539, interval_steps_per_second: 0.337, epoch: 3.3468\r\n",
      "loss: 0.20460596, learning_rate: 3.323732718894009e-05, global_step: 5820, interval_runtime: 4.4481, interval_samples_per_second: 3.597, interval_steps_per_second: 2.248, epoch: 3.3525\r\n",
      "loss: 0.16951203, learning_rate: 3.320852534562212e-05, global_step: 5830, interval_runtime: 4.4236, interval_samples_per_second: 3.617, interval_steps_per_second: 2.261, epoch: 3.3583\r\n",
      "loss: 0.16004534, learning_rate: 3.317972350230415e-05, global_step: 5840, interval_runtime: 4.4493, interval_samples_per_second: 3.596, interval_steps_per_second: 2.248, epoch: 3.3641\r\n",
      "loss: 0.34099565, learning_rate: 3.315092165898618e-05, global_step: 5850, interval_runtime: 4.4346, interval_samples_per_second: 3.608, interval_steps_per_second: 2.255, epoch: 3.3698\r\n",
      "loss: 0.16588264, learning_rate: 3.312211981566821e-05, global_step: 5860, interval_runtime: 4.4226, interval_samples_per_second: 3.618, interval_steps_per_second: 2.261, epoch: 3.3756\r\n",
      "loss: 0.30527036, learning_rate: 3.309331797235023e-05, global_step: 5870, interval_runtime: 4.4242, interval_samples_per_second: 3.617, interval_steps_per_second: 2.26, epoch: 3.3813\r\n",
      "loss: 0.28124621, learning_rate: 3.306451612903226e-05, global_step: 5880, interval_runtime: 4.4242, interval_samples_per_second: 3.616, interval_steps_per_second: 2.26, epoch: 3.3871\r\n",
      "loss: 0.42391562, learning_rate: 3.303571428571429e-05, global_step: 5890, interval_runtime: 4.8211, interval_samples_per_second: 3.319, interval_steps_per_second: 2.074, epoch: 3.3929\r\n",
      "loss: 0.19389296, learning_rate: 3.300691244239631e-05, global_step: 5900, interval_runtime: 4.4175, interval_samples_per_second: 3.622, interval_steps_per_second: 2.264, epoch: 3.3986\r\n",
      "loss: 0.17387071, learning_rate: 3.2978110599078346e-05, global_step: 5910, interval_runtime: 4.4084, interval_samples_per_second: 3.629, interval_steps_per_second: 2.268, epoch: 3.4044\r\n",
      "loss: 0.09662833, learning_rate: 3.294930875576037e-05, global_step: 5920, interval_runtime: 4.4192, interval_samples_per_second: 3.621, interval_steps_per_second: 2.263, epoch: 3.4101\r\n",
      "loss: 0.17543247, learning_rate: 3.29205069124424e-05, global_step: 5930, interval_runtime: 4.4217, interval_samples_per_second: 3.619, interval_steps_per_second: 2.262, epoch: 3.4159\r\n",
      "loss: 0.15911001, learning_rate: 3.2891705069124423e-05, global_step: 5940, interval_runtime: 4.4295, interval_samples_per_second: 3.612, interval_steps_per_second: 2.258, epoch: 3.4217\r\n",
      "loss: 0.20509462, learning_rate: 3.286290322580645e-05, global_step: 5950, interval_runtime: 4.3967, interval_samples_per_second: 3.639, interval_steps_per_second: 2.274, epoch: 3.4274\r\n",
      "loss: 0.25737026, learning_rate: 3.283410138248848e-05, global_step: 5960, interval_runtime: 4.3979, interval_samples_per_second: 3.638, interval_steps_per_second: 2.274, epoch: 3.4332\r\n",
      "loss: 0.22683959, learning_rate: 3.280529953917051e-05, global_step: 5970, interval_runtime: 4.418, interval_samples_per_second: 3.622, interval_steps_per_second: 2.263, epoch: 3.4389\r\n",
      "loss: 0.24527888, learning_rate: 3.277649769585254e-05, global_step: 5980, interval_runtime: 4.4209, interval_samples_per_second: 3.619, interval_steps_per_second: 2.262, epoch: 3.4447\r\n",
      "loss: 0.23435574, learning_rate: 3.2747695852534566e-05, global_step: 5990, interval_runtime: 4.4218, interval_samples_per_second: 3.618, interval_steps_per_second: 2.262, epoch: 3.4505\r\n",
      "loss: 0.18960317, learning_rate: 3.271889400921659e-05, global_step: 6000, interval_runtime: 4.4196, interval_samples_per_second: 3.62, interval_steps_per_second: 2.263, epoch: 3.4562\r\n"
     ]
    },
    {
     "name": "stderr",
     "output_type": "stream",
     "text": [
      "[2024-03-04 13:46:09,433] [    INFO] - ***** Running Evaluation *****\r\n",
      "[2024-03-04 13:46:09,436] [    INFO] -   Num examples = 2000\r\n",
      "[2024-03-04 13:46:09,439] [    INFO] -   Pre device batch size = 16\r\n",
      "[2024-03-04 13:46:09,442] [    INFO] -   Total Batch size = 16\r\n",
      "[2024-03-04 13:46:09,445] [    INFO] -   Total prediction steps = 125\r\n"
     ]
    },
    {
     "data": {
      "application/vnd.jupyter.widget-view+json": {
       "model_id": "a8217428136e4143a0a3e8f886643c1f",
       "version_major": 2,
       "version_minor": 0
      },
      "text/plain": [
       "  0%|          | 0/125 [00:00<?, ?it/s]"
      ]
     },
     "metadata": {},
     "output_type": "display_data"
    },
    {
     "name": "stdout",
     "output_type": "stream",
     "text": [
      "eval_loss: 1.0656288862228394, eval_accuracy: 0.7615, eval_f1: 0.726993604700357, eval_runtime: 20.9839, eval_samples_per_second: 95.311, eval_steps_per_second: 5.957, epoch: 3.4562\r\n"
     ]
    },
    {
     "name": "stderr",
     "output_type": "stream",
     "text": [
      "[2024-03-04 13:46:30,433] [    INFO] - Saving model checkpoint to ./work/output/checkpoint-6000\r\n",
      "[2024-03-04 13:46:34,373] [    INFO] - Deleting older checkpoint [work/output/checkpoint-4200] due to args.save_total_limit\r\n"
     ]
    },
    {
     "name": "stdout",
     "output_type": "stream",
     "text": [
      "loss: 0.33348258, learning_rate: 3.269009216589862e-05, global_step: 6010, interval_runtime: 29.5024, interval_samples_per_second: 0.542, interval_steps_per_second: 0.339, epoch: 3.462\r\n",
      "loss: 0.26268454, learning_rate: 3.2661290322580644e-05, global_step: 6020, interval_runtime: 4.4135, interval_samples_per_second: 3.625, interval_steps_per_second: 2.266, epoch: 3.4677\r\n",
      "loss: 0.09405248, learning_rate: 3.263248847926268e-05, global_step: 6030, interval_runtime: 4.4152, interval_samples_per_second: 3.624, interval_steps_per_second: 2.265, epoch: 3.4735\r\n",
      "loss: 0.21512749, learning_rate: 3.26036866359447e-05, global_step: 6040, interval_runtime: 4.4193, interval_samples_per_second: 3.62, interval_steps_per_second: 2.263, epoch: 3.4793\r\n",
      "loss: 0.2410398, learning_rate: 3.257488479262673e-05, global_step: 6050, interval_runtime: 4.4303, interval_samples_per_second: 3.611, interval_steps_per_second: 2.257, epoch: 3.485\r\n",
      "loss: 0.25374789, learning_rate: 3.254608294930876e-05, global_step: 6060, interval_runtime: 4.4264, interval_samples_per_second: 3.615, interval_steps_per_second: 2.259, epoch: 3.4908\r\n",
      "loss: 0.29472768, learning_rate: 3.251728110599078e-05, global_step: 6070, interval_runtime: 4.4119, interval_samples_per_second: 3.627, interval_steps_per_second: 2.267, epoch: 3.4965\r\n",
      "loss: 0.23141079, learning_rate: 3.248847926267281e-05, global_step: 6080, interval_runtime: 4.4079, interval_samples_per_second: 3.63, interval_steps_per_second: 2.269, epoch: 3.5023\r\n",
      "loss: 0.31640546, learning_rate: 3.245967741935484e-05, global_step: 6090, interval_runtime: 4.4132, interval_samples_per_second: 3.626, interval_steps_per_second: 2.266, epoch: 3.5081\r\n",
      "loss: 0.20124891, learning_rate: 3.2430875576036865e-05, global_step: 6100, interval_runtime: 4.4076, interval_samples_per_second: 3.63, interval_steps_per_second: 2.269, epoch: 3.5138\r\n",
      "loss: 0.10352334, learning_rate: 3.24020737327189e-05, global_step: 6110, interval_runtime: 4.4344, interval_samples_per_second: 3.608, interval_steps_per_second: 2.255, epoch: 3.5196\r\n",
      "loss: 0.3782943, learning_rate: 3.237327188940092e-05, global_step: 6120, interval_runtime: 4.4215, interval_samples_per_second: 3.619, interval_steps_per_second: 2.262, epoch: 3.5253\r\n",
      "loss: 0.25304234, learning_rate: 3.2344470046082956e-05, global_step: 6130, interval_runtime: 4.4073, interval_samples_per_second: 3.63, interval_steps_per_second: 2.269, epoch: 3.5311\r\n",
      "loss: 0.27816451, learning_rate: 3.2315668202764975e-05, global_step: 6140, interval_runtime: 4.4154, interval_samples_per_second: 3.624, interval_steps_per_second: 2.265, epoch: 3.5369\r\n",
      "loss: 0.22242556, learning_rate: 3.228686635944701e-05, global_step: 6150, interval_runtime: 4.4217, interval_samples_per_second: 3.618, interval_steps_per_second: 2.262, epoch: 3.5426\r\n",
      "loss: 0.20919747, learning_rate: 3.2258064516129034e-05, global_step: 6160, interval_runtime: 4.4351, interval_samples_per_second: 3.608, interval_steps_per_second: 2.255, epoch: 3.5484\r\n",
      "loss: 0.28922071, learning_rate: 3.222926267281106e-05, global_step: 6170, interval_runtime: 4.4289, interval_samples_per_second: 3.613, interval_steps_per_second: 2.258, epoch: 3.5541\r\n",
      "loss: 0.37636504, learning_rate: 3.220046082949309e-05, global_step: 6180, interval_runtime: 4.4274, interval_samples_per_second: 3.614, interval_steps_per_second: 2.259, epoch: 3.5599\r\n",
      "loss: 0.34167414, learning_rate: 3.217165898617512e-05, global_step: 6190, interval_runtime: 4.4312, interval_samples_per_second: 3.611, interval_steps_per_second: 2.257, epoch: 3.5657\r\n",
      "loss: 0.24836948, learning_rate: 3.2142857142857144e-05, global_step: 6200, interval_runtime: 4.4314, interval_samples_per_second: 3.611, interval_steps_per_second: 2.257, epoch: 3.5714\r\n"
     ]
    },
    {
     "name": "stderr",
     "output_type": "stream",
     "text": [
      "[2024-03-04 13:48:02,932] [    INFO] - ***** Running Evaluation *****\r\n",
      "[2024-03-04 13:48:02,936] [    INFO] -   Num examples = 2000\r\n",
      "[2024-03-04 13:48:02,939] [    INFO] -   Pre device batch size = 16\r\n",
      "[2024-03-04 13:48:02,942] [    INFO] -   Total Batch size = 16\r\n",
      "[2024-03-04 13:48:02,945] [    INFO] -   Total prediction steps = 125\r\n"
     ]
    },
    {
     "data": {
      "application/vnd.jupyter.widget-view+json": {
       "model_id": "b2605f3356e64de0ab8b5bd3bb713468",
       "version_major": 2,
       "version_minor": 0
      },
      "text/plain": [
       "  0%|          | 0/125 [00:00<?, ?it/s]"
      ]
     },
     "metadata": {},
     "output_type": "display_data"
    },
    {
     "name": "stdout",
     "output_type": "stream",
     "text": [
      "eval_loss: 1.0138381719589233, eval_accuracy: 0.753, eval_f1: 0.7101007855292187, eval_runtime: 21.0244, eval_samples_per_second: 95.128, eval_steps_per_second: 5.945, epoch: 3.5714\r\n"
     ]
    },
    {
     "name": "stderr",
     "output_type": "stream",
     "text": [
      "[2024-03-04 13:48:23,962] [    INFO] - Saving model checkpoint to ./work/output/checkpoint-6200\r\n",
      "[2024-03-04 13:48:27,953] [    INFO] - Deleting older checkpoint [work/output/checkpoint-4400] due to args.save_total_limit\r\n"
     ]
    },
    {
     "name": "stdout",
     "output_type": "stream",
     "text": [
      "loss: 0.233797, learning_rate: 3.211405529953917e-05, global_step: 6210, interval_runtime: 29.585, interval_samples_per_second: 0.541, interval_steps_per_second: 0.338, epoch: 3.5772\r\n",
      "loss: 0.22962713, learning_rate: 3.2085253456221196e-05, global_step: 6220, interval_runtime: 4.4322, interval_samples_per_second: 3.61, interval_steps_per_second: 2.256, epoch: 3.5829\r\n",
      "loss: 0.24458847, learning_rate: 3.205645161290323e-05, global_step: 6230, interval_runtime: 4.4528, interval_samples_per_second: 3.593, interval_steps_per_second: 2.246, epoch: 3.5887\r\n",
      "loss: 0.41156135, learning_rate: 3.2027649769585254e-05, global_step: 6240, interval_runtime: 4.4296, interval_samples_per_second: 3.612, interval_steps_per_second: 2.258, epoch: 3.5945\r\n",
      "loss: 0.26240647, learning_rate: 3.199884792626729e-05, global_step: 6250, interval_runtime: 4.4251, interval_samples_per_second: 3.616, interval_steps_per_second: 2.26, epoch: 3.6002\r\n",
      "loss: 0.23492732, learning_rate: 3.197004608294931e-05, global_step: 6260, interval_runtime: 4.4283, interval_samples_per_second: 3.613, interval_steps_per_second: 2.258, epoch: 3.606\r\n",
      "loss: 0.2337811, learning_rate: 3.194124423963134e-05, global_step: 6270, interval_runtime: 4.4265, interval_samples_per_second: 3.615, interval_steps_per_second: 2.259, epoch: 3.6118\r\n",
      "loss: 0.21838164, learning_rate: 3.1912442396313365e-05, global_step: 6280, interval_runtime: 4.4373, interval_samples_per_second: 3.606, interval_steps_per_second: 2.254, epoch: 3.6175\r\n",
      "loss: 0.27270184, learning_rate: 3.188364055299539e-05, global_step: 6290, interval_runtime: 4.4093, interval_samples_per_second: 3.629, interval_steps_per_second: 2.268, epoch: 3.6233\r\n",
      "loss: 0.29349601, learning_rate: 3.185483870967742e-05, global_step: 6300, interval_runtime: 4.4112, interval_samples_per_second: 3.627, interval_steps_per_second: 2.267, epoch: 3.629\r\n",
      "loss: 0.19002745, learning_rate: 3.182603686635945e-05, global_step: 6310, interval_runtime: 4.3988, interval_samples_per_second: 3.637, interval_steps_per_second: 2.273, epoch: 3.6348\r\n",
      "loss: 0.14985753, learning_rate: 3.1797235023041475e-05, global_step: 6320, interval_runtime: 4.412, interval_samples_per_second: 3.626, interval_steps_per_second: 2.267, epoch: 3.6406\r\n",
      "loss: 0.2860291, learning_rate: 3.176843317972351e-05, global_step: 6330, interval_runtime: 4.4079, interval_samples_per_second: 3.63, interval_steps_per_second: 2.269, epoch: 3.6463\r\n",
      "loss: 0.25446424, learning_rate: 3.1739631336405533e-05, global_step: 6340, interval_runtime: 4.4212, interval_samples_per_second: 3.619, interval_steps_per_second: 2.262, epoch: 3.6521\r\n",
      "loss: 0.30061448, learning_rate: 3.171082949308756e-05, global_step: 6350, interval_runtime: 4.4111, interval_samples_per_second: 3.627, interval_steps_per_second: 2.267, epoch: 3.6578\r\n",
      "loss: 0.26812406, learning_rate: 3.1682027649769585e-05, global_step: 6360, interval_runtime: 4.412, interval_samples_per_second: 3.626, interval_steps_per_second: 2.267, epoch: 3.6636\r\n",
      "loss: 0.1210119, learning_rate: 3.165322580645161e-05, global_step: 6370, interval_runtime: 4.4229, interval_samples_per_second: 3.618, interval_steps_per_second: 2.261, epoch: 3.6694\r\n",
      "loss: 0.23256271, learning_rate: 3.1624423963133644e-05, global_step: 6380, interval_runtime: 4.413, interval_samples_per_second: 3.626, interval_steps_per_second: 2.266, epoch: 3.6751\r\n",
      "loss: 0.1968595, learning_rate: 3.159562211981567e-05, global_step: 6390, interval_runtime: 4.422, interval_samples_per_second: 3.618, interval_steps_per_second: 2.261, epoch: 3.6809\r\n",
      "loss: 0.19540809, learning_rate: 3.15668202764977e-05, global_step: 6400, interval_runtime: 4.4443, interval_samples_per_second: 3.6, interval_steps_per_second: 2.25, epoch: 3.6866\r\n"
     ]
    },
    {
     "name": "stderr",
     "output_type": "stream",
     "text": [
      "[2024-03-04 13:49:56,535] [    INFO] - ***** Running Evaluation *****\r\n",
      "[2024-03-04 13:49:56,538] [    INFO] -   Num examples = 2000\r\n",
      "[2024-03-04 13:49:56,541] [    INFO] -   Pre device batch size = 16\r\n",
      "[2024-03-04 13:49:56,543] [    INFO] -   Total Batch size = 16\r\n",
      "[2024-03-04 13:49:56,546] [    INFO] -   Total prediction steps = 125\r\n"
     ]
    },
    {
     "data": {
      "application/vnd.jupyter.widget-view+json": {
       "model_id": "7f44a7e1bd5e4504983ebf0bcc507ffc",
       "version_major": 2,
       "version_minor": 0
      },
      "text/plain": [
       "  0%|          | 0/125 [00:00<?, ?it/s]"
      ]
     },
     "metadata": {},
     "output_type": "display_data"
    },
    {
     "name": "stdout",
     "output_type": "stream",
     "text": [
      "eval_loss: 1.108582615852356, eval_accuracy: 0.7525, eval_f1: 0.7156437180056661, eval_runtime: 20.9503, eval_samples_per_second: 95.464, eval_steps_per_second: 5.966, epoch: 3.6866\r\n"
     ]
    },
    {
     "name": "stderr",
     "output_type": "stream",
     "text": [
      "[2024-03-04 13:50:17,490] [    INFO] - Saving model checkpoint to ./work/output/checkpoint-6400\r\n",
      "[2024-03-04 13:50:21,289] [    INFO] - Deleting older checkpoint [work/output/checkpoint-4600] due to args.save_total_limit\r\n"
     ]
    },
    {
     "name": "stdout",
     "output_type": "stream",
     "text": [
      "loss: 0.1657282, learning_rate: 3.153801843317972e-05, global_step: 6410, interval_runtime: 29.2862, interval_samples_per_second: 0.546, interval_steps_per_second: 0.341, epoch: 3.6924\r\n",
      "loss: 0.35092707, learning_rate: 3.1509216589861754e-05, global_step: 6420, interval_runtime: 4.4359, interval_samples_per_second: 3.607, interval_steps_per_second: 2.254, epoch: 3.6982\r\n",
      "loss: 0.35557344, learning_rate: 3.148041474654378e-05, global_step: 6430, interval_runtime: 4.4475, interval_samples_per_second: 3.598, interval_steps_per_second: 2.248, epoch: 3.7039\r\n",
      "loss: 0.2726212, learning_rate: 3.1451612903225806e-05, global_step: 6440, interval_runtime: 4.4563, interval_samples_per_second: 3.59, interval_steps_per_second: 2.244, epoch: 3.7097\r\n",
      "loss: 0.40153775, learning_rate: 3.142281105990784e-05, global_step: 6450, interval_runtime: 4.4291, interval_samples_per_second: 3.612, interval_steps_per_second: 2.258, epoch: 3.7154\r\n",
      "loss: 0.28646472, learning_rate: 3.1394009216589864e-05, global_step: 6460, interval_runtime: 4.4192, interval_samples_per_second: 3.621, interval_steps_per_second: 2.263, epoch: 3.7212\r\n",
      "loss: 0.36049252, learning_rate: 3.136520737327189e-05, global_step: 6470, interval_runtime: 4.4209, interval_samples_per_second: 3.619, interval_steps_per_second: 2.262, epoch: 3.727\r\n",
      "loss: 0.37198498, learning_rate: 3.1336405529953916e-05, global_step: 6480, interval_runtime: 4.4193, interval_samples_per_second: 3.62, interval_steps_per_second: 2.263, epoch: 3.7327\r\n",
      "loss: 0.14971528, learning_rate: 3.130760368663594e-05, global_step: 6490, interval_runtime: 4.7566, interval_samples_per_second: 3.364, interval_steps_per_second: 2.102, epoch: 3.7385\r\n",
      "loss: 0.30528991, learning_rate: 3.1278801843317975e-05, global_step: 6500, interval_runtime: 4.4244, interval_samples_per_second: 3.616, interval_steps_per_second: 2.26, epoch: 3.7442\r\n",
      "loss: 0.20853853, learning_rate: 3.125e-05, global_step: 6510, interval_runtime: 4.4315, interval_samples_per_second: 3.611, interval_steps_per_second: 2.257, epoch: 3.75\r\n",
      "loss: 0.21750853, learning_rate: 3.122119815668203e-05, global_step: 6520, interval_runtime: 4.4138, interval_samples_per_second: 3.625, interval_steps_per_second: 2.266, epoch: 3.7558\r\n",
      "loss: 0.24876459, learning_rate: 3.119239631336406e-05, global_step: 6530, interval_runtime: 4.4167, interval_samples_per_second: 3.623, interval_steps_per_second: 2.264, epoch: 3.7615\r\n",
      "loss: 0.44958215, learning_rate: 3.1163594470046085e-05, global_step: 6540, interval_runtime: 4.4153, interval_samples_per_second: 3.624, interval_steps_per_second: 2.265, epoch: 3.7673\r\n",
      "loss: 0.17780998, learning_rate: 3.113479262672811e-05, global_step: 6550, interval_runtime: 4.4222, interval_samples_per_second: 3.618, interval_steps_per_second: 2.261, epoch: 3.773\r\n",
      "loss: 0.27144594, learning_rate: 3.110599078341014e-05, global_step: 6560, interval_runtime: 4.4245, interval_samples_per_second: 3.616, interval_steps_per_second: 2.26, epoch: 3.7788\r\n",
      "loss: 0.26176722, learning_rate: 3.107718894009217e-05, global_step: 6570, interval_runtime: 4.4258, interval_samples_per_second: 3.615, interval_steps_per_second: 2.259, epoch: 3.7846\r\n",
      "loss: 0.23356988, learning_rate: 3.1048387096774195e-05, global_step: 6580, interval_runtime: 4.4198, interval_samples_per_second: 3.62, interval_steps_per_second: 2.263, epoch: 3.7903\r\n",
      "loss: 0.33492908, learning_rate: 3.101958525345622e-05, global_step: 6590, interval_runtime: 4.4317, interval_samples_per_second: 3.61, interval_steps_per_second: 2.256, epoch: 3.7961\r\n",
      "loss: 0.24544225, learning_rate: 3.0990783410138254e-05, global_step: 6600, interval_runtime: 4.4347, interval_samples_per_second: 3.608, interval_steps_per_second: 2.255, epoch: 3.8018\r\n"
     ]
    },
    {
     "name": "stderr",
     "output_type": "stream",
     "text": [
      "[2024-03-04 13:51:50,265] [    INFO] - ***** Running Evaluation *****\r\n",
      "[2024-03-04 13:51:50,268] [    INFO] -   Num examples = 2000\r\n",
      "[2024-03-04 13:51:50,270] [    INFO] -   Pre device batch size = 16\r\n",
      "[2024-03-04 13:51:50,272] [    INFO] -   Total Batch size = 16\r\n",
      "[2024-03-04 13:51:50,274] [    INFO] -   Total prediction steps = 125\r\n"
     ]
    },
    {
     "data": {
      "application/vnd.jupyter.widget-view+json": {
       "model_id": "5b870a78ee50421d98f9f92e589fc29c",
       "version_major": 2,
       "version_minor": 0
      },
      "text/plain": [
       "  0%|          | 0/125 [00:00<?, ?it/s]"
      ]
     },
     "metadata": {},
     "output_type": "display_data"
    },
    {
     "name": "stdout",
     "output_type": "stream",
     "text": [
      "eval_loss: 0.9626110196113586, eval_accuracy: 0.7595, eval_f1: 0.7265967256465192, eval_runtime: 21.0213, eval_samples_per_second: 95.142, eval_steps_per_second: 5.946, epoch: 3.8018\r\n"
     ]
    },
    {
     "name": "stderr",
     "output_type": "stream",
     "text": [
      "[2024-03-04 13:52:11,304] [    INFO] - Saving model checkpoint to ./work/output/checkpoint-6600\r\n",
      "[2024-03-04 13:52:15,051] [    INFO] - Deleting older checkpoint [work/output/checkpoint-4800] due to args.save_total_limit\r\n"
     ]
    },
    {
     "name": "stdout",
     "output_type": "stream",
     "text": [
      "loss: 0.39392595, learning_rate: 3.096198156682028e-05, global_step: 6610, interval_runtime: 29.3336, interval_samples_per_second: 0.545, interval_steps_per_second: 0.341, epoch: 3.8076\r\n",
      "loss: 0.25154412, learning_rate: 3.0933179723502306e-05, global_step: 6620, interval_runtime: 4.4236, interval_samples_per_second: 3.617, interval_steps_per_second: 2.261, epoch: 3.8134\r\n",
      "loss: 0.33419662, learning_rate: 3.090437788018433e-05, global_step: 6630, interval_runtime: 4.4271, interval_samples_per_second: 3.614, interval_steps_per_second: 2.259, epoch: 3.8191\r\n",
      "loss: 0.3014729, learning_rate: 3.087557603686636e-05, global_step: 6640, interval_runtime: 4.4478, interval_samples_per_second: 3.597, interval_steps_per_second: 2.248, epoch: 3.8249\r\n",
      "loss: 0.24467092, learning_rate: 3.084677419354839e-05, global_step: 6650, interval_runtime: 4.4255, interval_samples_per_second: 3.615, interval_steps_per_second: 2.26, epoch: 3.8306\r\n",
      "loss: 0.17296417, learning_rate: 3.0817972350230416e-05, global_step: 6660, interval_runtime: 4.4465, interval_samples_per_second: 3.598, interval_steps_per_second: 2.249, epoch: 3.8364\r\n",
      "loss: 0.13889658, learning_rate: 3.078917050691245e-05, global_step: 6670, interval_runtime: 4.4224, interval_samples_per_second: 3.618, interval_steps_per_second: 2.261, epoch: 3.8422\r\n",
      "loss: 0.24649467, learning_rate: 3.076036866359447e-05, global_step: 6680, interval_runtime: 4.4278, interval_samples_per_second: 3.614, interval_steps_per_second: 2.258, epoch: 3.8479\r\n",
      "loss: 0.23691158, learning_rate: 3.07315668202765e-05, global_step: 6690, interval_runtime: 4.4413, interval_samples_per_second: 3.603, interval_steps_per_second: 2.252, epoch: 3.8537\r\n",
      "loss: 0.21129875, learning_rate: 3.0702764976958526e-05, global_step: 6700, interval_runtime: 4.4231, interval_samples_per_second: 3.617, interval_steps_per_second: 2.261, epoch: 3.8594\r\n",
      "loss: 0.21077518, learning_rate: 3.067396313364055e-05, global_step: 6710, interval_runtime: 4.4103, interval_samples_per_second: 3.628, interval_steps_per_second: 2.267, epoch: 3.8652\r\n",
      "loss: 0.34936595, learning_rate: 3.0645161290322585e-05, global_step: 6720, interval_runtime: 4.4183, interval_samples_per_second: 3.621, interval_steps_per_second: 2.263, epoch: 3.871\r\n",
      "loss: 0.28409355, learning_rate: 3.061635944700461e-05, global_step: 6730, interval_runtime: 4.4356, interval_samples_per_second: 3.607, interval_steps_per_second: 2.255, epoch: 3.8767\r\n",
      "loss: 0.13505063, learning_rate: 3.058755760368664e-05, global_step: 6740, interval_runtime: 4.4604, interval_samples_per_second: 3.587, interval_steps_per_second: 2.242, epoch: 3.8825\r\n",
      "loss: 0.34499309, learning_rate: 3.055875576036866e-05, global_step: 6750, interval_runtime: 4.4085, interval_samples_per_second: 3.629, interval_steps_per_second: 2.268, epoch: 3.8882\r\n",
      "loss: 0.32344995, learning_rate: 3.052995391705069e-05, global_step: 6760, interval_runtime: 4.4167, interval_samples_per_second: 3.623, interval_steps_per_second: 2.264, epoch: 3.894\r\n",
      "loss: 0.18794874, learning_rate: 3.0501152073732718e-05, global_step: 6770, interval_runtime: 4.4094, interval_samples_per_second: 3.629, interval_steps_per_second: 2.268, epoch: 3.8998\r\n",
      "loss: 0.18212175, learning_rate: 3.0472350230414747e-05, global_step: 6780, interval_runtime: 4.4177, interval_samples_per_second: 3.622, interval_steps_per_second: 2.264, epoch: 3.9055\r\n",
      "loss: 0.15621095, learning_rate: 3.0443548387096776e-05, global_step: 6790, interval_runtime: 4.4168, interval_samples_per_second: 3.623, interval_steps_per_second: 2.264, epoch: 3.9113\r\n",
      "loss: 0.17363908, learning_rate: 3.0414746543778806e-05, global_step: 6800, interval_runtime: 4.4207, interval_samples_per_second: 3.619, interval_steps_per_second: 2.262, epoch: 3.9171\r\n"
     ]
    },
    {
     "name": "stderr",
     "output_type": "stream",
     "text": [
      "[2024-03-04 13:53:43,700] [    INFO] - ***** Running Evaluation *****\r\n",
      "[2024-03-04 13:53:43,702] [    INFO] -   Num examples = 2000\r\n",
      "[2024-03-04 13:53:43,705] [    INFO] -   Pre device batch size = 16\r\n",
      "[2024-03-04 13:53:43,712] [    INFO] -   Total Batch size = 16\r\n",
      "[2024-03-04 13:53:43,723] [    INFO] -   Total prediction steps = 125\r\n"
     ]
    },
    {
     "data": {
      "application/vnd.jupyter.widget-view+json": {
       "model_id": "4c28d868a8714c0baf3f14115f3da72f",
       "version_major": 2,
       "version_minor": 0
      },
      "text/plain": [
       "  0%|          | 0/125 [00:00<?, ?it/s]"
      ]
     },
     "metadata": {},
     "output_type": "display_data"
    },
    {
     "name": "stdout",
     "output_type": "stream",
     "text": [
      "eval_loss: 1.1439751386642456, eval_accuracy: 0.751, eval_f1: 0.7208575610475174, eval_runtime: 20.9675, eval_samples_per_second: 95.386, eval_steps_per_second: 5.962, epoch: 3.9171\r\n"
     ]
    },
    {
     "name": "stderr",
     "output_type": "stream",
     "text": [
      "[2024-03-04 13:54:04,675] [    INFO] - Saving model checkpoint to ./work/output/checkpoint-6800\r\n",
      "[2024-03-04 13:54:08,661] [    INFO] - Deleting older checkpoint [work/output/checkpoint-5000] due to args.save_total_limit\r\n"
     ]
    },
    {
     "name": "stdout",
     "output_type": "stream",
     "text": [
      "loss: 0.27391002, learning_rate: 3.0385944700460835e-05, global_step: 6810, interval_runtime: 29.4883, interval_samples_per_second: 0.543, interval_steps_per_second: 0.339, epoch: 3.9228\r\n",
      "loss: 0.22667007, learning_rate: 3.0357142857142857e-05, global_step: 6820, interval_runtime: 4.4133, interval_samples_per_second: 3.625, interval_steps_per_second: 2.266, epoch: 3.9286\r\n",
      "loss: 0.2873189, learning_rate: 3.0328341013824883e-05, global_step: 6830, interval_runtime: 4.4291, interval_samples_per_second: 3.612, interval_steps_per_second: 2.258, epoch: 3.9343\r\n",
      "loss: 0.20289805, learning_rate: 3.0299539170506913e-05, global_step: 6840, interval_runtime: 4.4165, interval_samples_per_second: 3.623, interval_steps_per_second: 2.264, epoch: 3.9401\r\n",
      "loss: 0.24991474, learning_rate: 3.0270737327188942e-05, global_step: 6850, interval_runtime: 4.4252, interval_samples_per_second: 3.616, interval_steps_per_second: 2.26, epoch: 3.9459\r\n",
      "loss: 0.33479147, learning_rate: 3.024193548387097e-05, global_step: 6860, interval_runtime: 4.4114, interval_samples_per_second: 3.627, interval_steps_per_second: 2.267, epoch: 3.9516\r\n",
      "loss: 0.40056391, learning_rate: 3.0213133640552997e-05, global_step: 6870, interval_runtime: 4.4123, interval_samples_per_second: 3.626, interval_steps_per_second: 2.266, epoch: 3.9574\r\n",
      "loss: 0.30176439, learning_rate: 3.0184331797235026e-05, global_step: 6880, interval_runtime: 4.4091, interval_samples_per_second: 3.629, interval_steps_per_second: 2.268, epoch: 3.9631\r\n",
      "loss: 0.24590979, learning_rate: 3.015552995391705e-05, global_step: 6890, interval_runtime: 4.4057, interval_samples_per_second: 3.632, interval_steps_per_second: 2.27, epoch: 3.9689\r\n",
      "loss: 0.33497946, learning_rate: 3.0126728110599078e-05, global_step: 6900, interval_runtime: 4.4065, interval_samples_per_second: 3.631, interval_steps_per_second: 2.269, epoch: 3.9747\r\n",
      "loss: 0.18578011, learning_rate: 3.0097926267281107e-05, global_step: 6910, interval_runtime: 4.4141, interval_samples_per_second: 3.625, interval_steps_per_second: 2.265, epoch: 3.9804\r\n",
      "loss: 0.21895847, learning_rate: 3.0069124423963137e-05, global_step: 6920, interval_runtime: 4.423, interval_samples_per_second: 3.617, interval_steps_per_second: 2.261, epoch: 3.9862\r\n",
      "loss: 0.27623255, learning_rate: 3.0040322580645162e-05, global_step: 6930, interval_runtime: 4.4305, interval_samples_per_second: 3.611, interval_steps_per_second: 2.257, epoch: 3.9919\r\n",
      "loss: 0.23732228, learning_rate: 3.0011520737327192e-05, global_step: 6940, interval_runtime: 4.4573, interval_samples_per_second: 3.59, interval_steps_per_second: 2.244, epoch: 3.9977\r\n",
      "loss: 0.12578031, learning_rate: 2.998271889400922e-05, global_step: 6950, interval_runtime: 4.555, interval_samples_per_second: 3.513, interval_steps_per_second: 2.195, epoch: 4.0035\r\n",
      "loss: 0.18269672, learning_rate: 2.9953917050691244e-05, global_step: 6960, interval_runtime: 4.4211, interval_samples_per_second: 3.619, interval_steps_per_second: 2.262, epoch: 4.0092\r\n",
      "loss: 0.19607185, learning_rate: 2.9925115207373273e-05, global_step: 6970, interval_runtime: 4.4104, interval_samples_per_second: 3.628, interval_steps_per_second: 2.267, epoch: 4.015\r\n",
      "loss: 0.14297007, learning_rate: 2.9896313364055302e-05, global_step: 6980, interval_runtime: 4.4239, interval_samples_per_second: 3.617, interval_steps_per_second: 2.26, epoch: 4.0207\r\n",
      "loss: 0.18777934, learning_rate: 2.9867511520737328e-05, global_step: 6990, interval_runtime: 4.4159, interval_samples_per_second: 3.623, interval_steps_per_second: 2.265, epoch: 4.0265\r\n",
      "loss: 0.12963912, learning_rate: 2.9838709677419357e-05, global_step: 7000, interval_runtime: 4.4267, interval_samples_per_second: 3.614, interval_steps_per_second: 2.259, epoch: 4.0323\r\n"
     ]
    },
    {
     "name": "stderr",
     "output_type": "stream",
     "text": [
      "[2024-03-04 13:55:37,295] [    INFO] - ***** Running Evaluation *****\r\n",
      "[2024-03-04 13:55:37,298] [    INFO] -   Num examples = 2000\r\n",
      "[2024-03-04 13:55:37,300] [    INFO] -   Pre device batch size = 16\r\n",
      "[2024-03-04 13:55:37,302] [    INFO] -   Total Batch size = 16\r\n",
      "[2024-03-04 13:55:37,304] [    INFO] -   Total prediction steps = 125\r\n"
     ]
    },
    {
     "data": {
      "application/vnd.jupyter.widget-view+json": {
       "model_id": "20d8d04e019a42108e74e9478164322b",
       "version_major": 2,
       "version_minor": 0
      },
      "text/plain": [
       "  0%|          | 0/125 [00:00<?, ?it/s]"
      ]
     },
     "metadata": {},
     "output_type": "display_data"
    },
    {
     "name": "stdout",
     "output_type": "stream",
     "text": [
      "eval_loss: 1.1237232685089111, eval_accuracy: 0.764, eval_f1: 0.7319912650530465, eval_runtime: 20.9272, eval_samples_per_second: 95.569, eval_steps_per_second: 5.973, epoch: 4.0323\r\n"
     ]
    },
    {
     "name": "stderr",
     "output_type": "stream",
     "text": [
      "[2024-03-04 13:55:58,231] [    INFO] - Saving model checkpoint to ./work/output/checkpoint-7000\r\n",
      "[2024-03-04 13:56:01,844] [    INFO] - Deleting older checkpoint [work/output/checkpoint-5200] due to args.save_total_limit\r\n"
     ]
    },
    {
     "name": "stdout",
     "output_type": "stream",
     "text": [
      "loss: 0.11104003, learning_rate: 2.9809907834101387e-05, global_step: 7010, interval_runtime: 29.0841, interval_samples_per_second: 0.55, interval_steps_per_second: 0.344, epoch: 4.038\r\n",
      "loss: 0.1995888, learning_rate: 2.978110599078341e-05, global_step: 7020, interval_runtime: 4.4148, interval_samples_per_second: 3.624, interval_steps_per_second: 2.265, epoch: 4.0438\r\n",
      "loss: 0.2746177, learning_rate: 2.9752304147465438e-05, global_step: 7030, interval_runtime: 4.4141, interval_samples_per_second: 3.625, interval_steps_per_second: 2.265, epoch: 4.0495\r\n",
      "loss: 0.25716934, learning_rate: 2.9723502304147464e-05, global_step: 7040, interval_runtime: 4.4045, interval_samples_per_second: 3.633, interval_steps_per_second: 2.27, epoch: 4.0553\r\n",
      "loss: 0.28699315, learning_rate: 2.9694700460829493e-05, global_step: 7050, interval_runtime: 4.4212, interval_samples_per_second: 3.619, interval_steps_per_second: 2.262, epoch: 4.0611\r\n",
      "loss: 0.09837654, learning_rate: 2.9665898617511523e-05, global_step: 7060, interval_runtime: 4.4122, interval_samples_per_second: 3.626, interval_steps_per_second: 2.266, epoch: 4.0668\r\n",
      "loss: 0.28504727, learning_rate: 2.9637096774193552e-05, global_step: 7070, interval_runtime: 4.4168, interval_samples_per_second: 3.623, interval_steps_per_second: 2.264, epoch: 4.0726\r\n",
      "loss: 0.13183011, learning_rate: 2.960829493087558e-05, global_step: 7080, interval_runtime: 4.4233, interval_samples_per_second: 3.617, interval_steps_per_second: 2.261, epoch: 4.0783\r\n",
      "loss: 0.22499673, learning_rate: 2.9579493087557604e-05, global_step: 7090, interval_runtime: 4.4405, interval_samples_per_second: 3.603, interval_steps_per_second: 2.252, epoch: 4.0841\r\n",
      "loss: 0.12172152, learning_rate: 2.955069124423963e-05, global_step: 7100, interval_runtime: 4.4192, interval_samples_per_second: 3.621, interval_steps_per_second: 2.263, epoch: 4.0899\r\n",
      "loss: 0.11907524, learning_rate: 2.952188940092166e-05, global_step: 7110, interval_runtime: 4.4302, interval_samples_per_second: 3.612, interval_steps_per_second: 2.257, epoch: 4.0956\r\n",
      "loss: 0.15339652, learning_rate: 2.9493087557603688e-05, global_step: 7120, interval_runtime: 4.4342, interval_samples_per_second: 3.608, interval_steps_per_second: 2.255, epoch: 4.1014\r\n",
      "loss: 0.14075755, learning_rate: 2.9464285714285718e-05, global_step: 7130, interval_runtime: 4.446, interval_samples_per_second: 3.599, interval_steps_per_second: 2.249, epoch: 4.1071\r\n",
      "loss: 0.21369328, learning_rate: 2.9435483870967743e-05, global_step: 7140, interval_runtime: 4.4377, interval_samples_per_second: 3.606, interval_steps_per_second: 2.253, epoch: 4.1129\r\n",
      "loss: 0.26764636, learning_rate: 2.9406682027649773e-05, global_step: 7150, interval_runtime: 4.4356, interval_samples_per_second: 3.607, interval_steps_per_second: 2.254, epoch: 4.1187\r\n",
      "loss: 0.13765793, learning_rate: 2.9377880184331795e-05, global_step: 7160, interval_runtime: 4.4594, interval_samples_per_second: 3.588, interval_steps_per_second: 2.242, epoch: 4.1244\r\n",
      "loss: 0.22125387, learning_rate: 2.9349078341013824e-05, global_step: 7170, interval_runtime: 4.4599, interval_samples_per_second: 3.588, interval_steps_per_second: 2.242, epoch: 4.1302\r\n",
      "loss: 0.25924919, learning_rate: 2.9320276497695854e-05, global_step: 7180, interval_runtime: 4.4425, interval_samples_per_second: 3.602, interval_steps_per_second: 2.251, epoch: 4.1359\r\n",
      "loss: 0.1878135, learning_rate: 2.9291474654377883e-05, global_step: 7190, interval_runtime: 4.4479, interval_samples_per_second: 3.597, interval_steps_per_second: 2.248, epoch: 4.1417\r\n",
      "loss: 0.13705047, learning_rate: 2.926267281105991e-05, global_step: 7200, interval_runtime: 4.4465, interval_samples_per_second: 3.598, interval_steps_per_second: 2.249, epoch: 4.1475\r\n"
     ]
    },
    {
     "name": "stderr",
     "output_type": "stream",
     "text": [
      "[2024-03-04 13:57:30,585] [    INFO] - ***** Running Evaluation *****\r\n",
      "[2024-03-04 13:57:30,588] [    INFO] -   Num examples = 2000\r\n",
      "[2024-03-04 13:57:30,590] [    INFO] -   Pre device batch size = 16\r\n",
      "[2024-03-04 13:57:30,592] [    INFO] -   Total Batch size = 16\r\n",
      "[2024-03-04 13:57:30,595] [    INFO] -   Total prediction steps = 125\r\n"
     ]
    },
    {
     "data": {
      "application/vnd.jupyter.widget-view+json": {
       "model_id": "b5478d28520d43208b5ddda9397db70a",
       "version_major": 2,
       "version_minor": 0
      },
      "text/plain": [
       "  0%|          | 0/125 [00:00<?, ?it/s]"
      ]
     },
     "metadata": {},
     "output_type": "display_data"
    },
    {
     "name": "stdout",
     "output_type": "stream",
     "text": [
      "eval_loss: 1.211502194404602, eval_accuracy: 0.756, eval_f1: 0.7228244001549363, eval_runtime: 21.0103, eval_samples_per_second: 95.191, eval_steps_per_second: 5.949, epoch: 4.1475\r\n"
     ]
    },
    {
     "name": "stderr",
     "output_type": "stream",
     "text": [
      "[2024-03-04 13:57:51,603] [    INFO] - Saving model checkpoint to ./work/output/checkpoint-7200\r\n",
      "[2024-03-04 13:57:55,144] [    INFO] - Deleting older checkpoint [work/output/checkpoint-5400] due to args.save_total_limit\r\n"
     ]
    },
    {
     "name": "stdout",
     "output_type": "stream",
     "text": [
      "loss: 0.19503452, learning_rate: 2.9233870967741938e-05, global_step: 7210, interval_runtime: 29.1313, interval_samples_per_second: 0.549, interval_steps_per_second: 0.343, epoch: 4.1532\r\n",
      "loss: 0.21043072, learning_rate: 2.9205069124423967e-05, global_step: 7220, interval_runtime: 4.4415, interval_samples_per_second: 3.602, interval_steps_per_second: 2.251, epoch: 4.159\r\n",
      "loss: 0.06353274, learning_rate: 2.917626728110599e-05, global_step: 7230, interval_runtime: 4.4628, interval_samples_per_second: 3.585, interval_steps_per_second: 2.241, epoch: 4.1647\r\n",
      "loss: 0.19824883, learning_rate: 2.914746543778802e-05, global_step: 7240, interval_runtime: 4.426, interval_samples_per_second: 3.615, interval_steps_per_second: 2.259, epoch: 4.1705\r\n",
      "loss: 0.18249538, learning_rate: 2.911866359447005e-05, global_step: 7250, interval_runtime: 4.4336, interval_samples_per_second: 3.609, interval_steps_per_second: 2.256, epoch: 4.1763\r\n",
      "loss: 0.09690414, learning_rate: 2.9089861751152074e-05, global_step: 7260, interval_runtime: 4.4451, interval_samples_per_second: 3.599, interval_steps_per_second: 2.25, epoch: 4.182\r\n",
      "loss: 0.15110236, learning_rate: 2.9061059907834104e-05, global_step: 7270, interval_runtime: 4.4425, interval_samples_per_second: 3.602, interval_steps_per_second: 2.251, epoch: 4.1878\r\n",
      "loss: 0.2520627, learning_rate: 2.9032258064516133e-05, global_step: 7280, interval_runtime: 4.4266, interval_samples_per_second: 3.615, interval_steps_per_second: 2.259, epoch: 4.1935\r\n",
      "loss: 0.18417196, learning_rate: 2.9003456221198155e-05, global_step: 7290, interval_runtime: 4.4455, interval_samples_per_second: 3.599, interval_steps_per_second: 2.249, epoch: 4.1993\r\n",
      "loss: 0.13837098, learning_rate: 2.8974654377880185e-05, global_step: 7300, interval_runtime: 4.4353, interval_samples_per_second: 3.607, interval_steps_per_second: 2.255, epoch: 4.2051\r\n",
      "loss: 0.18134336, learning_rate: 2.894585253456221e-05, global_step: 7310, interval_runtime: 4.4389, interval_samples_per_second: 3.604, interval_steps_per_second: 2.253, epoch: 4.2108\r\n",
      "loss: 0.12430131, learning_rate: 2.891705069124424e-05, global_step: 7320, interval_runtime: 4.421, interval_samples_per_second: 3.619, interval_steps_per_second: 2.262, epoch: 4.2166\r\n",
      "loss: 0.32650716, learning_rate: 2.888824884792627e-05, global_step: 7330, interval_runtime: 4.4267, interval_samples_per_second: 3.614, interval_steps_per_second: 2.259, epoch: 4.2224\r\n",
      "loss: 0.20347064, learning_rate: 2.88594470046083e-05, global_step: 7340, interval_runtime: 4.4271, interval_samples_per_second: 3.614, interval_steps_per_second: 2.259, epoch: 4.2281\r\n",
      "loss: 0.21800704, learning_rate: 2.8830645161290328e-05, global_step: 7350, interval_runtime: 4.4281, interval_samples_per_second: 3.613, interval_steps_per_second: 2.258, epoch: 4.2339\r\n",
      "loss: 0.22104087, learning_rate: 2.880184331797235e-05, global_step: 7360, interval_runtime: 4.4388, interval_samples_per_second: 3.605, interval_steps_per_second: 2.253, epoch: 4.2396\r\n",
      "loss: 0.18727012, learning_rate: 2.8773041474654376e-05, global_step: 7370, interval_runtime: 4.4394, interval_samples_per_second: 3.604, interval_steps_per_second: 2.253, epoch: 4.2454\r\n",
      "loss: 0.12553772, learning_rate: 2.8744239631336405e-05, global_step: 7380, interval_runtime: 4.4318, interval_samples_per_second: 3.61, interval_steps_per_second: 2.256, epoch: 4.2512\r\n",
      "loss: 0.16718986, learning_rate: 2.8715437788018435e-05, global_step: 7390, interval_runtime: 4.4278, interval_samples_per_second: 3.614, interval_steps_per_second: 2.258, epoch: 4.2569\r\n",
      "loss: 0.14695131, learning_rate: 2.8686635944700464e-05, global_step: 7400, interval_runtime: 4.4246, interval_samples_per_second: 3.616, interval_steps_per_second: 2.26, epoch: 4.2627\r\n"
     ]
    },
    {
     "name": "stderr",
     "output_type": "stream",
     "text": [
      "[2024-03-04 13:59:23,980] [    INFO] - ***** Running Evaluation *****\r\n",
      "[2024-03-04 13:59:23,983] [    INFO] -   Num examples = 2000\r\n",
      "[2024-03-04 13:59:23,986] [    INFO] -   Pre device batch size = 16\r\n",
      "[2024-03-04 13:59:23,989] [    INFO] -   Total Batch size = 16\r\n",
      "[2024-03-04 13:59:23,992] [    INFO] -   Total prediction steps = 125\r\n"
     ]
    },
    {
     "data": {
      "application/vnd.jupyter.widget-view+json": {
       "model_id": "b20738125d4240e5b46bb2761fed170a",
       "version_major": 2,
       "version_minor": 0
      },
      "text/plain": [
       "  0%|          | 0/125 [00:00<?, ?it/s]"
      ]
     },
     "metadata": {},
     "output_type": "display_data"
    },
    {
     "name": "stdout",
     "output_type": "stream",
     "text": [
      "eval_loss: 1.1964232921600342, eval_accuracy: 0.758, eval_f1: 0.7260271249912477, eval_runtime: 20.8474, eval_samples_per_second: 95.935, eval_steps_per_second: 5.996, epoch: 4.2627\r\n"
     ]
    },
    {
     "name": "stderr",
     "output_type": "stream",
     "text": [
      "[2024-03-04 13:59:44,834] [    INFO] - Saving model checkpoint to ./work/output/checkpoint-7400\r\n",
      "[2024-03-04 13:59:48,314] [    INFO] - Deleting older checkpoint [work/output/checkpoint-5600] due to args.save_total_limit\r\n"
     ]
    },
    {
     "name": "stdout",
     "output_type": "stream",
     "text": [
      "loss: 0.21284571, learning_rate: 2.865783410138249e-05, global_step: 7410, interval_runtime: 28.8618, interval_samples_per_second: 0.554, interval_steps_per_second: 0.346, epoch: 4.2684\r\n",
      "loss: 0.15459744, learning_rate: 2.862903225806452e-05, global_step: 7420, interval_runtime: 4.4455, interval_samples_per_second: 3.599, interval_steps_per_second: 2.249, epoch: 4.2742\r\n",
      "loss: 0.18118241, learning_rate: 2.860023041474654e-05, global_step: 7430, interval_runtime: 4.45, interval_samples_per_second: 3.596, interval_steps_per_second: 2.247, epoch: 4.28\r\n",
      "loss: 0.0744012, learning_rate: 2.857142857142857e-05, global_step: 7440, interval_runtime: 4.4363, interval_samples_per_second: 3.607, interval_steps_per_second: 2.254, epoch: 4.2857\r\n",
      "loss: 0.16331795, learning_rate: 2.85426267281106e-05, global_step: 7450, interval_runtime: 4.4317, interval_samples_per_second: 3.61, interval_steps_per_second: 2.256, epoch: 4.2915\r\n",
      "loss: 0.24254694, learning_rate: 2.851382488479263e-05, global_step: 7460, interval_runtime: 4.436, interval_samples_per_second: 3.607, interval_steps_per_second: 2.254, epoch: 4.2972\r\n",
      "loss: 0.22241111, learning_rate: 2.8485023041474655e-05, global_step: 7470, interval_runtime: 4.4292, interval_samples_per_second: 3.612, interval_steps_per_second: 2.258, epoch: 4.303\r\n",
      "loss: 0.30841346, learning_rate: 2.8456221198156685e-05, global_step: 7480, interval_runtime: 4.564, interval_samples_per_second: 3.506, interval_steps_per_second: 2.191, epoch: 4.3088\r\n",
      "loss: 0.28538475, learning_rate: 2.8427419354838714e-05, global_step: 7490, interval_runtime: 4.4277, interval_samples_per_second: 3.614, interval_steps_per_second: 2.259, epoch: 4.3145\r\n",
      "loss: 0.16381547, learning_rate: 2.8398617511520736e-05, global_step: 7500, interval_runtime: 4.4256, interval_samples_per_second: 3.615, interval_steps_per_second: 2.26, epoch: 4.3203\r\n",
      "loss: 0.16385804, learning_rate: 2.8369815668202766e-05, global_step: 7510, interval_runtime: 4.4302, interval_samples_per_second: 3.612, interval_steps_per_second: 2.257, epoch: 4.326\r\n",
      "loss: 0.14165043, learning_rate: 2.8341013824884795e-05, global_step: 7520, interval_runtime: 4.4286, interval_samples_per_second: 3.613, interval_steps_per_second: 2.258, epoch: 4.3318\r\n",
      "loss: 0.21481557, learning_rate: 2.831221198156682e-05, global_step: 7530, interval_runtime: 4.4254, interval_samples_per_second: 3.616, interval_steps_per_second: 2.26, epoch: 4.3376\r\n",
      "loss: 0.20881243, learning_rate: 2.828341013824885e-05, global_step: 7540, interval_runtime: 4.4271, interval_samples_per_second: 3.614, interval_steps_per_second: 2.259, epoch: 4.3433\r\n",
      "loss: 0.18182658, learning_rate: 2.825460829493088e-05, global_step: 7550, interval_runtime: 4.4336, interval_samples_per_second: 3.609, interval_steps_per_second: 2.255, epoch: 4.3491\r\n",
      "loss: 0.11629829, learning_rate: 2.822580645161291e-05, global_step: 7560, interval_runtime: 4.4356, interval_samples_per_second: 3.607, interval_steps_per_second: 2.254, epoch: 4.3548\r\n",
      "loss: 0.23314376, learning_rate: 2.819700460829493e-05, global_step: 7570, interval_runtime: 4.4345, interval_samples_per_second: 3.608, interval_steps_per_second: 2.255, epoch: 4.3606\r\n",
      "loss: 0.07614073, learning_rate: 2.8168202764976957e-05, global_step: 7580, interval_runtime: 4.4301, interval_samples_per_second: 3.612, interval_steps_per_second: 2.257, epoch: 4.3664\r\n",
      "loss: 0.14477587, learning_rate: 2.8139400921658986e-05, global_step: 7590, interval_runtime: 4.4296, interval_samples_per_second: 3.612, interval_steps_per_second: 2.258, epoch: 4.3721\r\n",
      "loss: 0.27275405, learning_rate: 2.8110599078341016e-05, global_step: 7600, interval_runtime: 4.4301, interval_samples_per_second: 3.612, interval_steps_per_second: 2.257, epoch: 4.3779\r\n"
     ]
    },
    {
     "name": "stderr",
     "output_type": "stream",
     "text": [
      "[2024-03-04 14:01:17,195] [    INFO] - ***** Running Evaluation *****\r\n",
      "[2024-03-04 14:01:17,198] [    INFO] -   Num examples = 2000\r\n",
      "[2024-03-04 14:01:17,201] [    INFO] -   Pre device batch size = 16\r\n",
      "[2024-03-04 14:01:17,203] [    INFO] -   Total Batch size = 16\r\n",
      "[2024-03-04 14:01:17,205] [    INFO] -   Total prediction steps = 125\r\n"
     ]
    },
    {
     "data": {
      "application/vnd.jupyter.widget-view+json": {
       "model_id": "57a046bbd0f8486c856cd2f786acb926",
       "version_major": 2,
       "version_minor": 0
      },
      "text/plain": [
       "  0%|          | 0/125 [00:00<?, ?it/s]"
      ]
     },
     "metadata": {},
     "output_type": "display_data"
    },
    {
     "name": "stdout",
     "output_type": "stream",
     "text": [
      "eval_loss: 1.2025922536849976, eval_accuracy: 0.7555, eval_f1: 0.7158979148920518, eval_runtime: 20.8661, eval_samples_per_second: 95.849, eval_steps_per_second: 5.991, epoch: 4.3779\r\n"
     ]
    },
    {
     "name": "stderr",
     "output_type": "stream",
     "text": [
      "[2024-03-04 14:01:38,067] [    INFO] - Saving model checkpoint to ./work/output/checkpoint-7600\r\n",
      "[2024-03-04 14:01:41,620] [    INFO] - Deleting older checkpoint [work/output/checkpoint-5800] due to args.save_total_limit\r\n"
     ]
    },
    {
     "name": "stdout",
     "output_type": "stream",
     "text": [
      "loss: 0.23910329, learning_rate: 2.8081797235023045e-05, global_step: 7610, interval_runtime: 28.9462, interval_samples_per_second: 0.553, interval_steps_per_second: 0.345, epoch: 4.3836\r\n",
      "loss: 0.28550997, learning_rate: 2.8052995391705074e-05, global_step: 7620, interval_runtime: 4.4232, interval_samples_per_second: 3.617, interval_steps_per_second: 2.261, epoch: 4.3894\r\n",
      "loss: 0.21221628, learning_rate: 2.8024193548387097e-05, global_step: 7630, interval_runtime: 4.4097, interval_samples_per_second: 3.628, interval_steps_per_second: 2.268, epoch: 4.3952\r\n",
      "loss: 0.29253914, learning_rate: 2.7995391705069123e-05, global_step: 7640, interval_runtime: 4.4213, interval_samples_per_second: 3.619, interval_steps_per_second: 2.262, epoch: 4.4009\r\n",
      "loss: 0.05249949, learning_rate: 2.7966589861751152e-05, global_step: 7650, interval_runtime: 4.4183, interval_samples_per_second: 3.621, interval_steps_per_second: 2.263, epoch: 4.4067\r\n",
      "loss: 0.11405091, learning_rate: 2.793778801843318e-05, global_step: 7660, interval_runtime: 4.4194, interval_samples_per_second: 3.62, interval_steps_per_second: 2.263, epoch: 4.4124\r\n",
      "loss: 0.11777713, learning_rate: 2.790898617511521e-05, global_step: 7670, interval_runtime: 4.4136, interval_samples_per_second: 3.625, interval_steps_per_second: 2.266, epoch: 4.4182\r\n",
      "loss: 0.15371926, learning_rate: 2.7880184331797236e-05, global_step: 7680, interval_runtime: 4.4074, interval_samples_per_second: 3.63, interval_steps_per_second: 2.269, epoch: 4.424\r\n",
      "loss: 0.1085601, learning_rate: 2.7851382488479265e-05, global_step: 7690, interval_runtime: 4.4249, interval_samples_per_second: 3.616, interval_steps_per_second: 2.26, epoch: 4.4297\r\n",
      "loss: 0.20901749, learning_rate: 2.7822580645161288e-05, global_step: 7700, interval_runtime: 4.4214, interval_samples_per_second: 3.619, interval_steps_per_second: 2.262, epoch: 4.4355\r\n",
      "loss: 0.29260337, learning_rate: 2.7793778801843317e-05, global_step: 7710, interval_runtime: 4.411, interval_samples_per_second: 3.627, interval_steps_per_second: 2.267, epoch: 4.4412\r\n",
      "loss: 0.26555269, learning_rate: 2.7764976958525347e-05, global_step: 7720, interval_runtime: 4.425, interval_samples_per_second: 3.616, interval_steps_per_second: 2.26, epoch: 4.447\r\n",
      "loss: 0.15001086, learning_rate: 2.7736175115207376e-05, global_step: 7730, interval_runtime: 4.4223, interval_samples_per_second: 3.618, interval_steps_per_second: 2.261, epoch: 4.4528\r\n",
      "loss: 0.1989145, learning_rate: 2.7707373271889402e-05, global_step: 7740, interval_runtime: 4.4191, interval_samples_per_second: 3.621, interval_steps_per_second: 2.263, epoch: 4.4585\r\n",
      "loss: 0.08701411, learning_rate: 2.767857142857143e-05, global_step: 7750, interval_runtime: 4.4149, interval_samples_per_second: 3.624, interval_steps_per_second: 2.265, epoch: 4.4643\r\n",
      "loss: 0.14461727, learning_rate: 2.764976958525346e-05, global_step: 7760, interval_runtime: 4.4178, interval_samples_per_second: 3.622, interval_steps_per_second: 2.264, epoch: 4.47\r\n",
      "loss: 0.14776374, learning_rate: 2.7620967741935483e-05, global_step: 7770, interval_runtime: 4.4209, interval_samples_per_second: 3.619, interval_steps_per_second: 2.262, epoch: 4.4758\r\n",
      "loss: 0.17754591, learning_rate: 2.7592165898617512e-05, global_step: 7780, interval_runtime: 4.4261, interval_samples_per_second: 3.615, interval_steps_per_second: 2.259, epoch: 4.4816\r\n",
      "loss: 0.1955739, learning_rate: 2.756336405529954e-05, global_step: 7790, interval_runtime: 4.4302, interval_samples_per_second: 3.612, interval_steps_per_second: 2.257, epoch: 4.4873\r\n",
      "loss: 0.15820986, learning_rate: 2.7534562211981567e-05, global_step: 7800, interval_runtime: 4.4222, interval_samples_per_second: 3.618, interval_steps_per_second: 2.261, epoch: 4.4931\r\n"
     ]
    },
    {
     "name": "stderr",
     "output_type": "stream",
     "text": [
      "[2024-03-04 14:03:10,109] [    INFO] - ***** Running Evaluation *****\r\n",
      "[2024-03-04 14:03:10,114] [    INFO] -   Num examples = 2000\r\n",
      "[2024-03-04 14:03:10,119] [    INFO] -   Pre device batch size = 16\r\n",
      "[2024-03-04 14:03:10,122] [    INFO] -   Total Batch size = 16\r\n",
      "[2024-03-04 14:03:10,124] [    INFO] -   Total prediction steps = 125\r\n"
     ]
    },
    {
     "data": {
      "application/vnd.jupyter.widget-view+json": {
       "model_id": "5b162a0cfe60461680b103bd7305dd00",
       "version_major": 2,
       "version_minor": 0
      },
      "text/plain": [
       "  0%|          | 0/125 [00:00<?, ?it/s]"
      ]
     },
     "metadata": {},
     "output_type": "display_data"
    },
    {
     "name": "stdout",
     "output_type": "stream",
     "text": [
      "eval_loss: 1.245071530342102, eval_accuracy: 0.7505, eval_f1: 0.71761776347455, eval_runtime: 20.7955, eval_samples_per_second: 96.175, eval_steps_per_second: 6.011, epoch: 4.4931\r\n"
     ]
    },
    {
     "name": "stderr",
     "output_type": "stream",
     "text": [
      "[2024-03-04 14:03:30,910] [    INFO] - Saving model checkpoint to ./work/output/checkpoint-7800\r\n",
      "[2024-03-04 14:03:34,497] [    INFO] - Deleting older checkpoint [work/output/checkpoint-6000] due to args.save_total_limit\r\n"
     ]
    },
    {
     "name": "stdout",
     "output_type": "stream",
     "text": [
      "loss: 0.15601759, learning_rate: 2.7505760368663596e-05, global_step: 7810, interval_runtime: 28.9991, interval_samples_per_second: 0.552, interval_steps_per_second: 0.345, epoch: 4.4988\r\n",
      "loss: 0.11316512, learning_rate: 2.7476958525345626e-05, global_step: 7820, interval_runtime: 4.4245, interval_samples_per_second: 3.616, interval_steps_per_second: 2.26, epoch: 4.5046\r\n",
      "loss: 0.22432878, learning_rate: 2.7448156682027655e-05, global_step: 7830, interval_runtime: 4.4204, interval_samples_per_second: 3.62, interval_steps_per_second: 2.262, epoch: 4.5104\r\n",
      "loss: 0.1840627, learning_rate: 2.7419354838709678e-05, global_step: 7840, interval_runtime: 4.4235, interval_samples_per_second: 3.617, interval_steps_per_second: 2.261, epoch: 4.5161\r\n",
      "loss: 0.17279503, learning_rate: 2.7390552995391703e-05, global_step: 7850, interval_runtime: 4.4174, interval_samples_per_second: 3.622, interval_steps_per_second: 2.264, epoch: 4.5219\r\n",
      "loss: 0.20998838, learning_rate: 2.7361751152073733e-05, global_step: 7860, interval_runtime: 4.4281, interval_samples_per_second: 3.613, interval_steps_per_second: 2.258, epoch: 4.5276\r\n",
      "loss: 0.07949858, learning_rate: 2.7332949308755762e-05, global_step: 7870, interval_runtime: 4.434, interval_samples_per_second: 3.608, interval_steps_per_second: 2.255, epoch: 4.5334\r\n",
      "loss: 0.1379424, learning_rate: 2.730414746543779e-05, global_step: 7880, interval_runtime: 4.4275, interval_samples_per_second: 3.614, interval_steps_per_second: 2.259, epoch: 4.5392\r\n",
      "loss: 0.14405547, learning_rate: 2.727534562211982e-05, global_step: 7890, interval_runtime: 4.6593, interval_samples_per_second: 3.434, interval_steps_per_second: 2.146, epoch: 4.5449\r\n",
      "loss: 0.37937961, learning_rate: 2.7246543778801846e-05, global_step: 7900, interval_runtime: 4.4134, interval_samples_per_second: 3.625, interval_steps_per_second: 2.266, epoch: 4.5507\r\n",
      "loss: 0.13766272, learning_rate: 2.721774193548387e-05, global_step: 7910, interval_runtime: 4.4191, interval_samples_per_second: 3.621, interval_steps_per_second: 2.263, epoch: 4.5565\r\n",
      "loss: 0.15309796, learning_rate: 2.7188940092165898e-05, global_step: 7920, interval_runtime: 4.4282, interval_samples_per_second: 3.613, interval_steps_per_second: 2.258, epoch: 4.5622\r\n",
      "loss: 0.16408192, learning_rate: 2.7160138248847927e-05, global_step: 7930, interval_runtime: 4.4313, interval_samples_per_second: 3.611, interval_steps_per_second: 2.257, epoch: 4.568\r\n",
      "loss: 0.21547327, learning_rate: 2.7131336405529957e-05, global_step: 7940, interval_runtime: 4.4161, interval_samples_per_second: 3.623, interval_steps_per_second: 2.264, epoch: 4.5737\r\n",
      "loss: 0.17487574, learning_rate: 2.7102534562211983e-05, global_step: 7950, interval_runtime: 4.4142, interval_samples_per_second: 3.625, interval_steps_per_second: 2.265, epoch: 4.5795\r\n",
      "loss: 0.28432305, learning_rate: 2.7073732718894012e-05, global_step: 7960, interval_runtime: 4.4258, interval_samples_per_second: 3.615, interval_steps_per_second: 2.26, epoch: 4.5853\r\n",
      "loss: 0.08790085, learning_rate: 2.7044930875576034e-05, global_step: 7970, interval_runtime: 4.4181, interval_samples_per_second: 3.621, interval_steps_per_second: 2.263, epoch: 4.591\r\n",
      "loss: 0.22313571, learning_rate: 2.7016129032258064e-05, global_step: 7980, interval_runtime: 4.4152, interval_samples_per_second: 3.624, interval_steps_per_second: 2.265, epoch: 4.5968\r\n",
      "loss: 0.13209913, learning_rate: 2.6987327188940093e-05, global_step: 7990, interval_runtime: 4.4109, interval_samples_per_second: 3.627, interval_steps_per_second: 2.267, epoch: 4.6025\r\n",
      "loss: 0.13599856, learning_rate: 2.6958525345622122e-05, global_step: 8000, interval_runtime: 4.4537, interval_samples_per_second: 3.593, interval_steps_per_second: 2.245, epoch: 4.6083\r\n"
     ]
    },
    {
     "name": "stderr",
     "output_type": "stream",
     "text": [
      "[2024-03-04 14:05:03,388] [    INFO] - ***** Running Evaluation *****\r\n",
      "[2024-03-04 14:05:03,391] [    INFO] -   Num examples = 2000\r\n",
      "[2024-03-04 14:05:03,393] [    INFO] -   Pre device batch size = 16\r\n",
      "[2024-03-04 14:05:03,396] [    INFO] -   Total Batch size = 16\r\n",
      "[2024-03-04 14:05:03,398] [    INFO] -   Total prediction steps = 125\r\n"
     ]
    },
    {
     "data": {
      "application/vnd.jupyter.widget-view+json": {
       "model_id": "6d4c6ca5496f46e28ace0e3244ac23df",
       "version_major": 2,
       "version_minor": 0
      },
      "text/plain": [
       "  0%|          | 0/125 [00:00<?, ?it/s]"
      ]
     },
     "metadata": {},
     "output_type": "display_data"
    },
    {
     "name": "stdout",
     "output_type": "stream",
     "text": [
      "eval_loss: 1.3018957376480103, eval_accuracy: 0.756, eval_f1: 0.719030184965622, eval_runtime: 20.9392, eval_samples_per_second: 95.515, eval_steps_per_second: 5.97, epoch: 4.6083\r\n"
     ]
    },
    {
     "name": "stderr",
     "output_type": "stream",
     "text": [
      "[2024-03-04 14:05:24,333] [    INFO] - Saving model checkpoint to ./work/output/checkpoint-8000\r\n",
      "[2024-03-04 14:05:27,954] [    INFO] - Deleting older checkpoint [work/output/checkpoint-6200] due to args.save_total_limit\r\n"
     ]
    },
    {
     "name": "stdout",
     "output_type": "stream",
     "text": [
      "loss: 0.20867774, learning_rate: 2.6929723502304148e-05, global_step: 8010, interval_runtime: 29.0837, interval_samples_per_second: 0.55, interval_steps_per_second: 0.344, epoch: 4.6141\r\n",
      "loss: 0.09312252, learning_rate: 2.6900921658986177e-05, global_step: 8020, interval_runtime: 4.4058, interval_samples_per_second: 3.632, interval_steps_per_second: 2.27, epoch: 4.6198\r\n",
      "loss: 0.15758908, learning_rate: 2.6872119815668207e-05, global_step: 8030, interval_runtime: 4.4089, interval_samples_per_second: 3.629, interval_steps_per_second: 2.268, epoch: 4.6256\r\n",
      "loss: 0.17303996, learning_rate: 2.684331797235023e-05, global_step: 8040, interval_runtime: 4.4033, interval_samples_per_second: 3.634, interval_steps_per_second: 2.271, epoch: 4.6313\r\n",
      "loss: 0.15929981, learning_rate: 2.681451612903226e-05, global_step: 8050, interval_runtime: 4.4011, interval_samples_per_second: 3.635, interval_steps_per_second: 2.272, epoch: 4.6371\r\n",
      "loss: 0.11647, learning_rate: 2.6785714285714288e-05, global_step: 8060, interval_runtime: 4.4017, interval_samples_per_second: 3.635, interval_steps_per_second: 2.272, epoch: 4.6429\r\n",
      "loss: 0.18051224, learning_rate: 2.6756912442396314e-05, global_step: 8070, interval_runtime: 4.4155, interval_samples_per_second: 3.624, interval_steps_per_second: 2.265, epoch: 4.6486\r\n",
      "loss: 0.22366843, learning_rate: 2.6728110599078343e-05, global_step: 8080, interval_runtime: 4.4093, interval_samples_per_second: 3.629, interval_steps_per_second: 2.268, epoch: 4.6544\r\n",
      "loss: 0.07230656, learning_rate: 2.6699308755760372e-05, global_step: 8090, interval_runtime: 4.4072, interval_samples_per_second: 3.63, interval_steps_per_second: 2.269, epoch: 4.6601\r\n",
      "loss: 0.20848284, learning_rate: 2.66705069124424e-05, global_step: 8100, interval_runtime: 4.406, interval_samples_per_second: 3.631, interval_steps_per_second: 2.27, epoch: 4.6659\r\n",
      "loss: 0.21863303, learning_rate: 2.6641705069124424e-05, global_step: 8110, interval_runtime: 4.4043, interval_samples_per_second: 3.633, interval_steps_per_second: 2.271, epoch: 4.6717\r\n",
      "loss: 0.20856335, learning_rate: 2.661290322580645e-05, global_step: 8120, interval_runtime: 4.4079, interval_samples_per_second: 3.63, interval_steps_per_second: 2.269, epoch: 4.6774\r\n",
      "loss: 0.14579272, learning_rate: 2.658410138248848e-05, global_step: 8130, interval_runtime: 4.4023, interval_samples_per_second: 3.634, interval_steps_per_second: 2.272, epoch: 4.6832\r\n",
      "loss: 0.12774107, learning_rate: 2.655529953917051e-05, global_step: 8140, interval_runtime: 4.3977, interval_samples_per_second: 3.638, interval_steps_per_second: 2.274, epoch: 4.6889\r\n",
      "loss: 0.22218134, learning_rate: 2.6526497695852538e-05, global_step: 8150, interval_runtime: 4.4021, interval_samples_per_second: 3.635, interval_steps_per_second: 2.272, epoch: 4.6947\r\n",
      "loss: 0.15261872, learning_rate: 2.6497695852534567e-05, global_step: 8160, interval_runtime: 4.3991, interval_samples_per_second: 3.637, interval_steps_per_second: 2.273, epoch: 4.7005\r\n",
      "loss: 0.01011147, learning_rate: 2.6468894009216593e-05, global_step: 8170, interval_runtime: 4.411, interval_samples_per_second: 3.627, interval_steps_per_second: 2.267, epoch: 4.7062\r\n",
      "loss: 0.18206112, learning_rate: 2.6440092165898615e-05, global_step: 8180, interval_runtime: 4.408, interval_samples_per_second: 3.63, interval_steps_per_second: 2.269, epoch: 4.712\r\n",
      "loss: 0.15635154, learning_rate: 2.6411290322580645e-05, global_step: 8190, interval_runtime: 4.4215, interval_samples_per_second: 3.619, interval_steps_per_second: 2.262, epoch: 4.7177\r\n",
      "loss: 0.2518893, learning_rate: 2.6382488479262674e-05, global_step: 8200, interval_runtime: 4.4115, interval_samples_per_second: 3.627, interval_steps_per_second: 2.267, epoch: 4.7235\r\n"
     ]
    },
    {
     "name": "stderr",
     "output_type": "stream",
     "text": [
      "[2024-03-04 14:06:56,197] [    INFO] - ***** Running Evaluation *****\r\n",
      "[2024-03-04 14:06:56,200] [    INFO] -   Num examples = 2000\r\n",
      "[2024-03-04 14:06:56,203] [    INFO] -   Pre device batch size = 16\r\n",
      "[2024-03-04 14:06:56,206] [    INFO] -   Total Batch size = 16\r\n",
      "[2024-03-04 14:06:56,209] [    INFO] -   Total prediction steps = 125\r\n"
     ]
    },
    {
     "data": {
      "application/vnd.jupyter.widget-view+json": {
       "model_id": "eb47f2b3e94d4099a64a508c431bc530",
       "version_major": 2,
       "version_minor": 0
      },
      "text/plain": [
       "  0%|          | 0/125 [00:00<?, ?it/s]"
      ]
     },
     "metadata": {},
     "output_type": "display_data"
    },
    {
     "name": "stdout",
     "output_type": "stream",
     "text": [
      "eval_loss: 1.2940471172332764, eval_accuracy: 0.7605, eval_f1: 0.720294945428216, eval_runtime: 20.9104, eval_samples_per_second: 95.646, eval_steps_per_second: 5.978, epoch: 4.7235\r\n"
     ]
    },
    {
     "name": "stderr",
     "output_type": "stream",
     "text": [
      "[2024-03-04 14:07:17,112] [    INFO] - Saving model checkpoint to ./work/output/checkpoint-8200\r\n",
      "[2024-03-04 14:07:20,697] [    INFO] - Deleting older checkpoint [work/output/checkpoint-6400] due to args.save_total_limit\r\n"
     ]
    },
    {
     "name": "stdout",
     "output_type": "stream",
     "text": [
      "loss: 0.11966499, learning_rate: 2.6353686635944703e-05, global_step: 8210, interval_runtime: 29.0219, interval_samples_per_second: 0.551, interval_steps_per_second: 0.345, epoch: 4.7293\r\n",
      "loss: 0.17847214, learning_rate: 2.632488479262673e-05, global_step: 8220, interval_runtime: 4.4175, interval_samples_per_second: 3.622, interval_steps_per_second: 2.264, epoch: 4.735\r\n",
      "loss: 0.17695539, learning_rate: 2.629608294930876e-05, global_step: 8230, interval_runtime: 4.4236, interval_samples_per_second: 3.617, interval_steps_per_second: 2.261, epoch: 4.7408\r\n",
      "loss: 0.12802118, learning_rate: 2.626728110599078e-05, global_step: 8240, interval_runtime: 4.4451, interval_samples_per_second: 3.599, interval_steps_per_second: 2.25, epoch: 4.7465\r\n",
      "loss: 0.13170058, learning_rate: 2.623847926267281e-05, global_step: 8250, interval_runtime: 4.4157, interval_samples_per_second: 3.623, interval_steps_per_second: 2.265, epoch: 4.7523\r\n",
      "loss: 0.0835596, learning_rate: 2.620967741935484e-05, global_step: 8260, interval_runtime: 4.4111, interval_samples_per_second: 3.627, interval_steps_per_second: 2.267, epoch: 4.7581\r\n",
      "loss: 0.16996953, learning_rate: 2.618087557603687e-05, global_step: 8270, interval_runtime: 4.4109, interval_samples_per_second: 3.627, interval_steps_per_second: 2.267, epoch: 4.7638\r\n",
      "loss: 0.21279709, learning_rate: 2.6152073732718895e-05, global_step: 8280, interval_runtime: 4.411, interval_samples_per_second: 3.627, interval_steps_per_second: 2.267, epoch: 4.7696\r\n",
      "loss: 0.35654194, learning_rate: 2.6123271889400924e-05, global_step: 8290, interval_runtime: 4.4017, interval_samples_per_second: 3.635, interval_steps_per_second: 2.272, epoch: 4.7753\r\n",
      "loss: 0.10213935, learning_rate: 2.6094470046082953e-05, global_step: 8300, interval_runtime: 4.4068, interval_samples_per_second: 3.631, interval_steps_per_second: 2.269, epoch: 4.7811\r\n",
      "loss: 0.13280509, learning_rate: 2.6065668202764976e-05, global_step: 8310, interval_runtime: 4.4119, interval_samples_per_second: 3.627, interval_steps_per_second: 2.267, epoch: 4.7869\r\n",
      "loss: 0.3761889, learning_rate: 2.6036866359447005e-05, global_step: 8320, interval_runtime: 4.4156, interval_samples_per_second: 3.624, interval_steps_per_second: 2.265, epoch: 4.7926\r\n",
      "loss: 0.17691089, learning_rate: 2.6008064516129034e-05, global_step: 8330, interval_runtime: 4.4037, interval_samples_per_second: 3.633, interval_steps_per_second: 2.271, epoch: 4.7984\r\n",
      "loss: 0.16729492, learning_rate: 2.597926267281106e-05, global_step: 8340, interval_runtime: 4.412, interval_samples_per_second: 3.626, interval_steps_per_second: 2.267, epoch: 4.8041\r\n",
      "loss: 0.27911899, learning_rate: 2.595046082949309e-05, global_step: 8350, interval_runtime: 4.4162, interval_samples_per_second: 3.623, interval_steps_per_second: 2.264, epoch: 4.8099\r\n",
      "loss: 0.1712337, learning_rate: 2.592165898617512e-05, global_step: 8360, interval_runtime: 4.4112, interval_samples_per_second: 3.627, interval_steps_per_second: 2.267, epoch: 4.8157\r\n",
      "loss: 0.12330971, learning_rate: 2.5892857142857148e-05, global_step: 8370, interval_runtime: 4.4205, interval_samples_per_second: 3.62, interval_steps_per_second: 2.262, epoch: 4.8214\r\n",
      "loss: 0.20432749, learning_rate: 2.586405529953917e-05, global_step: 8380, interval_runtime: 4.4183, interval_samples_per_second: 3.621, interval_steps_per_second: 2.263, epoch: 4.8272\r\n",
      "loss: 0.12248806, learning_rate: 2.5835253456221196e-05, global_step: 8390, interval_runtime: 4.4191, interval_samples_per_second: 3.621, interval_steps_per_second: 2.263, epoch: 4.8329\r\n",
      "loss: 0.27101722, learning_rate: 2.5806451612903226e-05, global_step: 8400, interval_runtime: 4.4102, interval_samples_per_second: 3.628, interval_steps_per_second: 2.267, epoch: 4.8387\r\n"
     ]
    },
    {
     "name": "stderr",
     "output_type": "stream",
     "text": [
      "[2024-03-04 14:08:49,101] [    INFO] - ***** Running Evaluation *****\r\n",
      "[2024-03-04 14:08:49,104] [    INFO] -   Num examples = 2000\r\n",
      "[2024-03-04 14:08:49,107] [    INFO] -   Pre device batch size = 16\r\n",
      "[2024-03-04 14:08:49,109] [    INFO] -   Total Batch size = 16\r\n",
      "[2024-03-04 14:08:49,111] [    INFO] -   Total prediction steps = 125\r\n"
     ]
    },
    {
     "data": {
      "application/vnd.jupyter.widget-view+json": {
       "model_id": "338fcf18187b4bd2a06afe98fc8339bd",
       "version_major": 2,
       "version_minor": 0
      },
      "text/plain": [
       "  0%|          | 0/125 [00:00<?, ?it/s]"
      ]
     },
     "metadata": {},
     "output_type": "display_data"
    },
    {
     "name": "stdout",
     "output_type": "stream",
     "text": [
      "eval_loss: 1.226168155670166, eval_accuracy: 0.759, eval_f1: 0.7219092134128992, eval_runtime: 20.8739, eval_samples_per_second: 95.813, eval_steps_per_second: 5.988, epoch: 4.8387\r\n"
     ]
    },
    {
     "name": "stderr",
     "output_type": "stream",
     "text": [
      "[2024-03-04 14:09:09,982] [    INFO] - Saving model checkpoint to ./work/output/checkpoint-8400\r\n",
      "[2024-03-04 14:09:13,526] [    INFO] - Deleting older checkpoint [work/output/checkpoint-6600] due to args.save_total_limit\r\n"
     ]
    },
    {
     "name": "stdout",
     "output_type": "stream",
     "text": [
      "loss: 0.04786511, learning_rate: 2.5777649769585255e-05, global_step: 8410, interval_runtime: 28.9978, interval_samples_per_second: 0.552, interval_steps_per_second: 0.345, epoch: 4.8445\r\n",
      "loss: 0.16544447, learning_rate: 2.5748847926267284e-05, global_step: 8420, interval_runtime: 4.4303, interval_samples_per_second: 3.611, interval_steps_per_second: 2.257, epoch: 4.8502\r\n",
      "loss: 0.10542387, learning_rate: 2.5720046082949313e-05, global_step: 8430, interval_runtime: 4.4283, interval_samples_per_second: 3.613, interval_steps_per_second: 2.258, epoch: 4.856\r\n",
      "loss: 0.24585145, learning_rate: 2.569124423963134e-05, global_step: 8440, interval_runtime: 4.4372, interval_samples_per_second: 3.606, interval_steps_per_second: 2.254, epoch: 4.8618\r\n",
      "loss: 0.27050524, learning_rate: 2.5662442396313362e-05, global_step: 8450, interval_runtime: 4.4391, interval_samples_per_second: 3.604, interval_steps_per_second: 2.253, epoch: 4.8675\r\n",
      "loss: 0.17599173, learning_rate: 2.563364055299539e-05, global_step: 8460, interval_runtime: 4.4419, interval_samples_per_second: 3.602, interval_steps_per_second: 2.251, epoch: 4.8733\r\n",
      "loss: 0.14209218, learning_rate: 2.560483870967742e-05, global_step: 8470, interval_runtime: 4.4468, interval_samples_per_second: 3.598, interval_steps_per_second: 2.249, epoch: 4.879\r\n",
      "loss: 0.23845644, learning_rate: 2.557603686635945e-05, global_step: 8480, interval_runtime: 4.4391, interval_samples_per_second: 3.604, interval_steps_per_second: 2.253, epoch: 4.8848\r\n",
      "loss: 0.38731012, learning_rate: 2.5547235023041475e-05, global_step: 8490, interval_runtime: 4.4282, interval_samples_per_second: 3.613, interval_steps_per_second: 2.258, epoch: 4.8906\r\n",
      "loss: 0.20111806, learning_rate: 2.5518433179723505e-05, global_step: 8500, interval_runtime: 4.4373, interval_samples_per_second: 3.606, interval_steps_per_second: 2.254, epoch: 4.8963\r\n",
      "loss: 0.1946576, learning_rate: 2.5489631336405534e-05, global_step: 8510, interval_runtime: 4.4344, interval_samples_per_second: 3.608, interval_steps_per_second: 2.255, epoch: 4.9021\r\n",
      "loss: 0.23017015, learning_rate: 2.5460829493087556e-05, global_step: 8520, interval_runtime: 4.4387, interval_samples_per_second: 3.605, interval_steps_per_second: 2.253, epoch: 4.9078\r\n",
      "loss: 0.16191558, learning_rate: 2.5432027649769586e-05, global_step: 8530, interval_runtime: 4.4348, interval_samples_per_second: 3.608, interval_steps_per_second: 2.255, epoch: 4.9136\r\n",
      "loss: 0.07011374, learning_rate: 2.5403225806451615e-05, global_step: 8540, interval_runtime: 4.4358, interval_samples_per_second: 3.607, interval_steps_per_second: 2.254, epoch: 4.9194\r\n",
      "loss: 0.25410857, learning_rate: 2.537442396313364e-05, global_step: 8550, interval_runtime: 4.4346, interval_samples_per_second: 3.608, interval_steps_per_second: 2.255, epoch: 4.9251\r\n",
      "loss: 0.21301591, learning_rate: 2.534562211981567e-05, global_step: 8560, interval_runtime: 4.4467, interval_samples_per_second: 3.598, interval_steps_per_second: 2.249, epoch: 4.9309\r\n",
      "loss: 0.22351365, learning_rate: 2.53168202764977e-05, global_step: 8570, interval_runtime: 4.4348, interval_samples_per_second: 3.608, interval_steps_per_second: 2.255, epoch: 4.9366\r\n",
      "loss: 0.39179773, learning_rate: 2.5288018433179722e-05, global_step: 8580, interval_runtime: 4.429, interval_samples_per_second: 3.613, interval_steps_per_second: 2.258, epoch: 4.9424\r\n",
      "loss: 0.09934933, learning_rate: 2.525921658986175e-05, global_step: 8590, interval_runtime: 4.4256, interval_samples_per_second: 3.615, interval_steps_per_second: 2.26, epoch: 4.9482\r\n",
      "loss: 0.18030763, learning_rate: 2.523041474654378e-05, global_step: 8600, interval_runtime: 4.4435, interval_samples_per_second: 3.601, interval_steps_per_second: 2.25, epoch: 4.9539\r\n"
     ]
    },
    {
     "name": "stderr",
     "output_type": "stream",
     "text": [
      "[2024-03-04 14:10:42,387] [    INFO] - ***** Running Evaluation *****\r\n",
      "[2024-03-04 14:10:42,390] [    INFO] -   Num examples = 2000\r\n",
      "[2024-03-04 14:10:42,393] [    INFO] -   Pre device batch size = 16\r\n",
      "[2024-03-04 14:10:42,397] [    INFO] -   Total Batch size = 16\r\n",
      "[2024-03-04 14:10:42,399] [    INFO] -   Total prediction steps = 125\r\n"
     ]
    },
    {
     "data": {
      "application/vnd.jupyter.widget-view+json": {
       "model_id": "24023559452c4ef1a377e95a41958dc1",
       "version_major": 2,
       "version_minor": 0
      },
      "text/plain": [
       "  0%|          | 0/125 [00:00<?, ?it/s]"
      ]
     },
     "metadata": {},
     "output_type": "display_data"
    },
    {
     "name": "stdout",
     "output_type": "stream",
     "text": [
      "eval_loss: 1.19387948513031, eval_accuracy: 0.7525, eval_f1: 0.7134484481583194, eval_runtime: 21.0431, eval_samples_per_second: 95.043, eval_steps_per_second: 5.94, epoch: 4.9539\r\n"
     ]
    },
    {
     "name": "stderr",
     "output_type": "stream",
     "text": [
      "[2024-03-04 14:11:03,436] [    INFO] - Saving model checkpoint to ./work/output/checkpoint-8600\r\n",
      "[2024-03-04 14:11:07,337] [    INFO] - Deleting older checkpoint [work/output/checkpoint-6800] due to args.save_total_limit\r\n"
     ]
    },
    {
     "name": "stdout",
     "output_type": "stream",
     "text": [
      "loss: 0.26409075, learning_rate: 2.5201612903225806e-05, global_step: 8610, interval_runtime: 29.5222, interval_samples_per_second: 0.542, interval_steps_per_second: 0.339, epoch: 4.9597\r\n",
      "loss: 0.17554272, learning_rate: 2.5172811059907836e-05, global_step: 8620, interval_runtime: 4.4217, interval_samples_per_second: 3.619, interval_steps_per_second: 2.262, epoch: 4.9654\r\n",
      "loss: 0.22497826, learning_rate: 2.5144009216589865e-05, global_step: 8630, interval_runtime: 4.4347, interval_samples_per_second: 3.608, interval_steps_per_second: 2.255, epoch: 4.9712\r\n",
      "loss: 0.13039347, learning_rate: 2.5115207373271894e-05, global_step: 8640, interval_runtime: 4.4299, interval_samples_per_second: 3.612, interval_steps_per_second: 2.257, epoch: 4.977\r\n",
      "loss: 0.18472946, learning_rate: 2.5086405529953917e-05, global_step: 8650, interval_runtime: 4.4253, interval_samples_per_second: 3.616, interval_steps_per_second: 2.26, epoch: 4.9827\r\n",
      "loss: 0.16210779, learning_rate: 2.5057603686635943e-05, global_step: 8660, interval_runtime: 4.421, interval_samples_per_second: 3.619, interval_steps_per_second: 2.262, epoch: 4.9885\r\n",
      "loss: 0.11848958, learning_rate: 2.5028801843317972e-05, global_step: 8670, interval_runtime: 4.4194, interval_samples_per_second: 3.62, interval_steps_per_second: 2.263, epoch: 4.9942\r\n",
      "loss: 0.20133533, learning_rate: 2.5e-05, global_step: 8680, interval_runtime: 4.1685, interval_samples_per_second: 3.838, interval_steps_per_second: 2.399, epoch: 5.0\r\n",
      "loss: 0.08681883, learning_rate: 2.497119815668203e-05, global_step: 8690, interval_runtime: 4.7863, interval_samples_per_second: 3.343, interval_steps_per_second: 2.089, epoch: 5.0058\r\n",
      "loss: 0.04833753, learning_rate: 2.4942396313364056e-05, global_step: 8700, interval_runtime: 4.43, interval_samples_per_second: 3.612, interval_steps_per_second: 2.257, epoch: 5.0115\r\n",
      "loss: 0.10227474, learning_rate: 2.4913594470046082e-05, global_step: 8710, interval_runtime: 4.4225, interval_samples_per_second: 3.618, interval_steps_per_second: 2.261, epoch: 5.0173\r\n",
      "loss: 0.09932993, learning_rate: 2.488479262672811e-05, global_step: 8720, interval_runtime: 4.4201, interval_samples_per_second: 3.62, interval_steps_per_second: 2.262, epoch: 5.023\r\n",
      "loss: 0.07736385, learning_rate: 2.485599078341014e-05, global_step: 8730, interval_runtime: 4.4265, interval_samples_per_second: 3.615, interval_steps_per_second: 2.259, epoch: 5.0288\r\n",
      "loss: 0.10050715, learning_rate: 2.4827188940092167e-05, global_step: 8740, interval_runtime: 4.4414, interval_samples_per_second: 3.602, interval_steps_per_second: 2.252, epoch: 5.0346\r\n",
      "loss: 0.0568478, learning_rate: 2.4798387096774196e-05, global_step: 8750, interval_runtime: 4.4296, interval_samples_per_second: 3.612, interval_steps_per_second: 2.258, epoch: 5.0403\r\n",
      "loss: 0.12239809, learning_rate: 2.4769585253456222e-05, global_step: 8760, interval_runtime: 4.4202, interval_samples_per_second: 3.62, interval_steps_per_second: 2.262, epoch: 5.0461\r\n",
      "loss: 0.10082977, learning_rate: 2.4740783410138248e-05, global_step: 8770, interval_runtime: 4.4364, interval_samples_per_second: 3.607, interval_steps_per_second: 2.254, epoch: 5.0518\r\n",
      "loss: 0.11142012, learning_rate: 2.4711981566820277e-05, global_step: 8780, interval_runtime: 4.4355, interval_samples_per_second: 3.607, interval_steps_per_second: 2.255, epoch: 5.0576\r\n",
      "loss: 0.13813236, learning_rate: 2.4683179723502306e-05, global_step: 8790, interval_runtime: 4.4312, interval_samples_per_second: 3.611, interval_steps_per_second: 2.257, epoch: 5.0634\r\n",
      "loss: 0.08680369, learning_rate: 2.4654377880184332e-05, global_step: 8800, interval_runtime: 4.4329, interval_samples_per_second: 3.609, interval_steps_per_second: 2.256, epoch: 5.0691\r\n"
     ]
    },
    {
     "name": "stderr",
     "output_type": "stream",
     "text": [
      "[2024-03-04 14:12:36,141] [    INFO] - ***** Running Evaluation *****\r\n",
      "[2024-03-04 14:12:36,144] [    INFO] -   Num examples = 2000\r\n",
      "[2024-03-04 14:12:36,146] [    INFO] -   Pre device batch size = 16\r\n",
      "[2024-03-04 14:12:36,148] [    INFO] -   Total Batch size = 16\r\n",
      "[2024-03-04 14:12:36,151] [    INFO] -   Total prediction steps = 125\r\n"
     ]
    },
    {
     "data": {
      "application/vnd.jupyter.widget-view+json": {
       "model_id": "3f1f863d465047fcb76cc63f1e2cd9ce",
       "version_major": 2,
       "version_minor": 0
      },
      "text/plain": [
       "  0%|          | 0/125 [00:00<?, ?it/s]"
      ]
     },
     "metadata": {},
     "output_type": "display_data"
    },
    {
     "name": "stdout",
     "output_type": "stream",
     "text": [
      "eval_loss: 1.4034923315048218, eval_accuracy: 0.7485, eval_f1: 0.7062971527489035, eval_runtime: 20.8958, eval_samples_per_second: 95.713, eval_steps_per_second: 5.982, epoch: 5.0691\r\n"
     ]
    },
    {
     "name": "stderr",
     "output_type": "stream",
     "text": [
      "[2024-03-04 14:12:57,042] [    INFO] - Saving model checkpoint to ./work/output/checkpoint-8800\r\n",
      "[2024-03-04 14:13:00,890] [    INFO] - Deleting older checkpoint [work/output/checkpoint-7000] due to args.save_total_limit\r\n"
     ]
    },
    {
     "name": "stdout",
     "output_type": "stream",
     "text": [
      "loss: 0.073203, learning_rate: 2.462557603686636e-05, global_step: 8810, interval_runtime: 29.3039, interval_samples_per_second: 0.546, interval_steps_per_second: 0.341, epoch: 5.0749\r\n",
      "loss: 0.172913, learning_rate: 2.4596774193548387e-05, global_step: 8820, interval_runtime: 4.4127, interval_samples_per_second: 3.626, interval_steps_per_second: 2.266, epoch: 5.0806\r\n",
      "loss: 0.15355314, learning_rate: 2.4567972350230417e-05, global_step: 8830, interval_runtime: 4.4242, interval_samples_per_second: 3.616, interval_steps_per_second: 2.26, epoch: 5.0864\r\n",
      "loss: 0.14039481, learning_rate: 2.4539170506912443e-05, global_step: 8840, interval_runtime: 4.433, interval_samples_per_second: 3.609, interval_steps_per_second: 2.256, epoch: 5.0922\r\n",
      "loss: 0.105303, learning_rate: 2.4510368663594472e-05, global_step: 8850, interval_runtime: 4.4116, interval_samples_per_second: 3.627, interval_steps_per_second: 2.267, epoch: 5.0979\r\n",
      "loss: 0.213535, learning_rate: 2.44815668202765e-05, global_step: 8860, interval_runtime: 4.4187, interval_samples_per_second: 3.621, interval_steps_per_second: 2.263, epoch: 5.1037\r\n",
      "loss: 0.1019161, learning_rate: 2.4452764976958527e-05, global_step: 8870, interval_runtime: 4.424, interval_samples_per_second: 3.617, interval_steps_per_second: 2.26, epoch: 5.1094\r\n",
      "loss: 0.1355636, learning_rate: 2.4423963133640553e-05, global_step: 8880, interval_runtime: 4.411, interval_samples_per_second: 3.627, interval_steps_per_second: 2.267, epoch: 5.1152\r\n",
      "loss: 0.05319781, learning_rate: 2.4395161290322582e-05, global_step: 8890, interval_runtime: 4.4147, interval_samples_per_second: 3.624, interval_steps_per_second: 2.265, epoch: 5.121\r\n",
      "loss: 0.14789004, learning_rate: 2.436635944700461e-05, global_step: 8900, interval_runtime: 4.4229, interval_samples_per_second: 3.618, interval_steps_per_second: 2.261, epoch: 5.1267\r\n",
      "loss: 0.05855871, learning_rate: 2.4337557603686637e-05, global_step: 8910, interval_runtime: 4.4346, interval_samples_per_second: 3.608, interval_steps_per_second: 2.255, epoch: 5.1325\r\n",
      "loss: 0.07632411, learning_rate: 2.4308755760368667e-05, global_step: 8920, interval_runtime: 4.4067, interval_samples_per_second: 3.631, interval_steps_per_second: 2.269, epoch: 5.1382\r\n",
      "loss: 0.13323689, learning_rate: 2.4279953917050692e-05, global_step: 8930, interval_runtime: 4.4205, interval_samples_per_second: 3.619, interval_steps_per_second: 2.262, epoch: 5.144\r\n",
      "loss: 0.05535541, learning_rate: 2.425115207373272e-05, global_step: 8940, interval_runtime: 4.4283, interval_samples_per_second: 3.613, interval_steps_per_second: 2.258, epoch: 5.1498\r\n",
      "loss: 0.12903432, learning_rate: 2.4222350230414748e-05, global_step: 8950, interval_runtime: 4.4111, interval_samples_per_second: 3.627, interval_steps_per_second: 2.267, epoch: 5.1555\r\n",
      "loss: 0.17852559, learning_rate: 2.4193548387096777e-05, global_step: 8960, interval_runtime: 4.4155, interval_samples_per_second: 3.624, interval_steps_per_second: 2.265, epoch: 5.1613\r\n",
      "loss: 0.14144231, learning_rate: 2.4164746543778803e-05, global_step: 8970, interval_runtime: 4.4255, interval_samples_per_second: 3.615, interval_steps_per_second: 2.26, epoch: 5.1671\r\n",
      "loss: 0.1019439, learning_rate: 2.413594470046083e-05, global_step: 8980, interval_runtime: 4.4185, interval_samples_per_second: 3.621, interval_steps_per_second: 2.263, epoch: 5.1728\r\n",
      "loss: 0.02987947, learning_rate: 2.4107142857142858e-05, global_step: 8990, interval_runtime: 4.4438, interval_samples_per_second: 3.601, interval_steps_per_second: 2.25, epoch: 5.1786\r\n",
      "loss: 0.04523234, learning_rate: 2.4078341013824887e-05, global_step: 9000, interval_runtime: 4.4393, interval_samples_per_second: 3.604, interval_steps_per_second: 2.253, epoch: 5.1843\r\n"
     ]
    },
    {
     "name": "stderr",
     "output_type": "stream",
     "text": [
      "[2024-03-04 14:14:29,463] [    INFO] - ***** Running Evaluation *****\r\n",
      "[2024-03-04 14:14:29,466] [    INFO] -   Num examples = 2000\r\n",
      "[2024-03-04 14:14:29,470] [    INFO] -   Pre device batch size = 16\r\n",
      "[2024-03-04 14:14:29,472] [    INFO] -   Total Batch size = 16\r\n",
      "[2024-03-04 14:14:29,475] [    INFO] -   Total prediction steps = 125\r\n"
     ]
    },
    {
     "data": {
      "application/vnd.jupyter.widget-view+json": {
       "model_id": "b368769dfc724fd98e947b68c63317a8",
       "version_major": 2,
       "version_minor": 0
      },
      "text/plain": [
       "  0%|          | 0/125 [00:00<?, ?it/s]"
      ]
     },
     "metadata": {},
     "output_type": "display_data"
    },
    {
     "name": "stdout",
     "output_type": "stream",
     "text": [
      "eval_loss: 1.5052510499954224, eval_accuracy: 0.7475, eval_f1: 0.7112206954370995, eval_runtime: 21.2555, eval_samples_per_second: 94.093, eval_steps_per_second: 5.881, epoch: 5.1843\r\n"
     ]
    },
    {
     "name": "stderr",
     "output_type": "stream",
     "text": [
      "[2024-03-04 14:14:50,738] [    INFO] - Saving model checkpoint to ./work/output/checkpoint-9000\r\n",
      "[2024-03-04 14:14:54,581] [    INFO] - Deleting older checkpoint [work/output/checkpoint-7200] due to args.save_total_limit\r\n"
     ]
    },
    {
     "name": "stdout",
     "output_type": "stream",
     "text": [
      "loss: 0.05982295, learning_rate: 2.4049539170506913e-05, global_step: 9010, interval_runtime: 29.6576, interval_samples_per_second: 0.539, interval_steps_per_second: 0.337, epoch: 5.1901\r\n",
      "loss: 0.09168118, learning_rate: 2.4020737327188942e-05, global_step: 9020, interval_runtime: 4.4238, interval_samples_per_second: 3.617, interval_steps_per_second: 2.26, epoch: 5.1959\r\n",
      "loss: 0.14483883, learning_rate: 2.3991935483870968e-05, global_step: 9030, interval_runtime: 4.4343, interval_samples_per_second: 3.608, interval_steps_per_second: 2.255, epoch: 5.2016\r\n",
      "loss: 0.09603243, learning_rate: 2.3963133640552994e-05, global_step: 9040, interval_runtime: 4.4219, interval_samples_per_second: 3.618, interval_steps_per_second: 2.261, epoch: 5.2074\r\n",
      "loss: 0.15184326, learning_rate: 2.3934331797235023e-05, global_step: 9050, interval_runtime: 4.4332, interval_samples_per_second: 3.609, interval_steps_per_second: 2.256, epoch: 5.2131\r\n",
      "loss: 0.23313606, learning_rate: 2.3905529953917053e-05, global_step: 9060, interval_runtime: 4.434, interval_samples_per_second: 3.608, interval_steps_per_second: 2.255, epoch: 5.2189\r\n",
      "loss: 0.22614653, learning_rate: 2.387672811059908e-05, global_step: 9070, interval_runtime: 4.4315, interval_samples_per_second: 3.611, interval_steps_per_second: 2.257, epoch: 5.2247\r\n",
      "loss: 0.14674977, learning_rate: 2.3847926267281108e-05, global_step: 9080, interval_runtime: 4.4118, interval_samples_per_second: 3.627, interval_steps_per_second: 2.267, epoch: 5.2304\r\n",
      "loss: 0.06454847, learning_rate: 2.3819124423963134e-05, global_step: 9090, interval_runtime: 4.4365, interval_samples_per_second: 3.606, interval_steps_per_second: 2.254, epoch: 5.2362\r\n",
      "loss: 0.13530225, learning_rate: 2.3790322580645163e-05, global_step: 9100, interval_runtime: 4.4238, interval_samples_per_second: 3.617, interval_steps_per_second: 2.261, epoch: 5.2419\r\n",
      "loss: 0.19684129, learning_rate: 2.376152073732719e-05, global_step: 9110, interval_runtime: 4.4351, interval_samples_per_second: 3.608, interval_steps_per_second: 2.255, epoch: 5.2477\r\n",
      "loss: 0.06894367, learning_rate: 2.3732718894009218e-05, global_step: 9120, interval_runtime: 4.435, interval_samples_per_second: 3.608, interval_steps_per_second: 2.255, epoch: 5.2535\r\n",
      "loss: 0.02941613, learning_rate: 2.3703917050691247e-05, global_step: 9130, interval_runtime: 4.4354, interval_samples_per_second: 3.607, interval_steps_per_second: 2.255, epoch: 5.2592\r\n",
      "loss: 0.16613014, learning_rate: 2.3675115207373273e-05, global_step: 9140, interval_runtime: 4.4437, interval_samples_per_second: 3.601, interval_steps_per_second: 2.25, epoch: 5.265\r\n",
      "loss: 0.06945131, learning_rate: 2.36463133640553e-05, global_step: 9150, interval_runtime: 4.4252, interval_samples_per_second: 3.616, interval_steps_per_second: 2.26, epoch: 5.2707\r\n",
      "loss: 0.05253755, learning_rate: 2.361751152073733e-05, global_step: 9160, interval_runtime: 4.4203, interval_samples_per_second: 3.62, interval_steps_per_second: 2.262, epoch: 5.2765\r\n",
      "loss: 0.25579598, learning_rate: 2.3588709677419358e-05, global_step: 9170, interval_runtime: 4.4221, interval_samples_per_second: 3.618, interval_steps_per_second: 2.261, epoch: 5.2823\r\n",
      "loss: 0.04598737, learning_rate: 2.3559907834101384e-05, global_step: 9180, interval_runtime: 4.4257, interval_samples_per_second: 3.615, interval_steps_per_second: 2.26, epoch: 5.288\r\n",
      "loss: 0.10337417, learning_rate: 2.3531105990783413e-05, global_step: 9190, interval_runtime: 4.4513, interval_samples_per_second: 3.594, interval_steps_per_second: 2.247, epoch: 5.2938\r\n",
      "loss: 0.17229418, learning_rate: 2.350230414746544e-05, global_step: 9200, interval_runtime: 4.4282, interval_samples_per_second: 3.613, interval_steps_per_second: 2.258, epoch: 5.2995\r\n"
     ]
    },
    {
     "name": "stderr",
     "output_type": "stream",
     "text": [
      "[2024-03-04 14:16:23,292] [    INFO] - ***** Running Evaluation *****\r\n",
      "[2024-03-04 14:16:23,295] [    INFO] -   Num examples = 2000\r\n",
      "[2024-03-04 14:16:23,297] [    INFO] -   Pre device batch size = 16\r\n",
      "[2024-03-04 14:16:23,300] [    INFO] -   Total Batch size = 16\r\n",
      "[2024-03-04 14:16:23,302] [    INFO] -   Total prediction steps = 125\r\n"
     ]
    },
    {
     "data": {
      "application/vnd.jupyter.widget-view+json": {
       "model_id": "ab8bdb410b0647cdaf90cdb4cda22a53",
       "version_major": 2,
       "version_minor": 0
      },
      "text/plain": [
       "  0%|          | 0/125 [00:00<?, ?it/s]"
      ]
     },
     "metadata": {},
     "output_type": "display_data"
    },
    {
     "name": "stdout",
     "output_type": "stream",
     "text": [
      "eval_loss: 1.4954060316085815, eval_accuracy: 0.7515, eval_f1: 0.7148685448955758, eval_runtime: 20.8861, eval_samples_per_second: 95.757, eval_steps_per_second: 5.985, epoch: 5.2995\r\n"
     ]
    },
    {
     "name": "stderr",
     "output_type": "stream",
     "text": [
      "[2024-03-04 14:16:44,184] [    INFO] - Saving model checkpoint to ./work/output/checkpoint-9200\r\n",
      "[2024-03-04 14:16:47,958] [    INFO] - Deleting older checkpoint [work/output/checkpoint-7400] due to args.save_total_limit\r\n"
     ]
    },
    {
     "name": "stdout",
     "output_type": "stream",
     "text": [
      "loss: 0.10118865, learning_rate: 2.3473502304147465e-05, global_step: 9210, interval_runtime: 29.2002, interval_samples_per_second: 0.548, interval_steps_per_second: 0.342, epoch: 5.3053\r\n",
      "loss: 0.1859093, learning_rate: 2.3444700460829494e-05, global_step: 9220, interval_runtime: 4.4224, interval_samples_per_second: 3.618, interval_steps_per_second: 2.261, epoch: 5.3111\r\n",
      "loss: 0.05876986, learning_rate: 2.3415898617511523e-05, global_step: 9230, interval_runtime: 4.424, interval_samples_per_second: 3.617, interval_steps_per_second: 2.26, epoch: 5.3168\r\n",
      "loss: 0.08743584, learning_rate: 2.338709677419355e-05, global_step: 9240, interval_runtime: 4.4173, interval_samples_per_second: 3.622, interval_steps_per_second: 2.264, epoch: 5.3226\r\n",
      "loss: 0.11484735, learning_rate: 2.3358294930875575e-05, global_step: 9250, interval_runtime: 4.4341, interval_samples_per_second: 3.608, interval_steps_per_second: 2.255, epoch: 5.3283\r\n",
      "loss: 0.20153346, learning_rate: 2.3329493087557604e-05, global_step: 9260, interval_runtime: 4.4274, interval_samples_per_second: 3.614, interval_steps_per_second: 2.259, epoch: 5.3341\r\n",
      "loss: 0.19045819, learning_rate: 2.3300691244239634e-05, global_step: 9270, interval_runtime: 4.4918, interval_samples_per_second: 3.562, interval_steps_per_second: 2.226, epoch: 5.3399\r\n",
      "loss: 0.06856683, learning_rate: 2.327188940092166e-05, global_step: 9280, interval_runtime: 4.4485, interval_samples_per_second: 3.597, interval_steps_per_second: 2.248, epoch: 5.3456\r\n",
      "loss: 0.21583467, learning_rate: 2.324308755760369e-05, global_step: 9290, interval_runtime: 4.4461, interval_samples_per_second: 3.599, interval_steps_per_second: 2.249, epoch: 5.3514\r\n",
      "loss: 0.25179284, learning_rate: 2.3214285714285715e-05, global_step: 9300, interval_runtime: 4.4203, interval_samples_per_second: 3.62, interval_steps_per_second: 2.262, epoch: 5.3571\r\n",
      "loss: 0.08052428, learning_rate: 2.318548387096774e-05, global_step: 9310, interval_runtime: 4.4291, interval_samples_per_second: 3.612, interval_steps_per_second: 2.258, epoch: 5.3629\r\n",
      "loss: 0.06534488, learning_rate: 2.315668202764977e-05, global_step: 9320, interval_runtime: 4.4287, interval_samples_per_second: 3.613, interval_steps_per_second: 2.258, epoch: 5.3687\r\n",
      "loss: 0.14089068, learning_rate: 2.31278801843318e-05, global_step: 9330, interval_runtime: 4.4272, interval_samples_per_second: 3.614, interval_steps_per_second: 2.259, epoch: 5.3744\r\n",
      "loss: 0.01845774, learning_rate: 2.309907834101383e-05, global_step: 9340, interval_runtime: 4.4397, interval_samples_per_second: 3.604, interval_steps_per_second: 2.252, epoch: 5.3802\r\n",
      "loss: 0.13306081, learning_rate: 2.3070276497695854e-05, global_step: 9350, interval_runtime: 4.4367, interval_samples_per_second: 3.606, interval_steps_per_second: 2.254, epoch: 5.3859\r\n",
      "loss: 0.16119888, learning_rate: 2.304147465437788e-05, global_step: 9360, interval_runtime: 4.4376, interval_samples_per_second: 3.606, interval_steps_per_second: 2.253, epoch: 5.3917\r\n",
      "loss: 0.10782028, learning_rate: 2.301267281105991e-05, global_step: 9370, interval_runtime: 4.4422, interval_samples_per_second: 3.602, interval_steps_per_second: 2.251, epoch: 5.3975\r\n",
      "loss: 0.13623388, learning_rate: 2.2983870967741935e-05, global_step: 9380, interval_runtime: 4.5151, interval_samples_per_second: 3.544, interval_steps_per_second: 2.215, epoch: 5.4032\r\n",
      "loss: 0.09447184, learning_rate: 2.2955069124423965e-05, global_step: 9390, interval_runtime: 4.4692, interval_samples_per_second: 3.58, interval_steps_per_second: 2.238, epoch: 5.409\r\n",
      "loss: 0.11672399, learning_rate: 2.2926267281105994e-05, global_step: 9400, interval_runtime: 4.4418, interval_samples_per_second: 3.602, interval_steps_per_second: 2.251, epoch: 5.4147\r\n"
     ]
    },
    {
     "name": "stderr",
     "output_type": "stream",
     "text": [
      "[2024-03-04 14:18:16,892] [    INFO] - ***** Running Evaluation *****\r\n",
      "[2024-03-04 14:18:16,895] [    INFO] -   Num examples = 2000\r\n",
      "[2024-03-04 14:18:16,898] [    INFO] -   Pre device batch size = 16\r\n",
      "[2024-03-04 14:18:16,900] [    INFO] -   Total Batch size = 16\r\n",
      "[2024-03-04 14:18:16,903] [    INFO] -   Total prediction steps = 125\r\n"
     ]
    },
    {
     "data": {
      "application/vnd.jupyter.widget-view+json": {
       "model_id": "22009901d85647789a6feed6ef7bdc16",
       "version_major": 2,
       "version_minor": 0
      },
      "text/plain": [
       "  0%|          | 0/125 [00:00<?, ?it/s]"
      ]
     },
     "metadata": {},
     "output_type": "display_data"
    },
    {
     "name": "stdout",
     "output_type": "stream",
     "text": [
      "eval_loss: 1.4842028617858887, eval_accuracy: 0.753, eval_f1: 0.7165224638262165, eval_runtime: 21.0203, eval_samples_per_second: 95.146, eval_steps_per_second: 5.947, epoch: 5.4147\r\n"
     ]
    },
    {
     "name": "stderr",
     "output_type": "stream",
     "text": [
      "[2024-03-04 14:18:37,926] [    INFO] - Saving model checkpoint to ./work/output/checkpoint-9400\r\n",
      "[2024-03-04 14:18:42,097] [    INFO] - Deleting older checkpoint [work/output/checkpoint-7600] due to args.save_total_limit\r\n"
     ]
    },
    {
     "name": "stdout",
     "output_type": "stream",
     "text": [
      "loss: 0.21283071, learning_rate: 2.289746543778802e-05, global_step: 9410, interval_runtime: 29.7589, interval_samples_per_second: 0.538, interval_steps_per_second: 0.336, epoch: 5.4205\r\n",
      "loss: 0.20038271, learning_rate: 2.2868663594470046e-05, global_step: 9420, interval_runtime: 4.4262, interval_samples_per_second: 3.615, interval_steps_per_second: 2.259, epoch: 5.4263\r\n",
      "loss: 0.14830137, learning_rate: 2.2839861751152075e-05, global_step: 9430, interval_runtime: 4.4173, interval_samples_per_second: 3.622, interval_steps_per_second: 2.264, epoch: 5.432\r\n",
      "loss: 0.13677902, learning_rate: 2.2811059907834104e-05, global_step: 9440, interval_runtime: 4.4206, interval_samples_per_second: 3.619, interval_steps_per_second: 2.262, epoch: 5.4378\r\n",
      "loss: 0.16447132, learning_rate: 2.278225806451613e-05, global_step: 9450, interval_runtime: 4.418, interval_samples_per_second: 3.622, interval_steps_per_second: 2.263, epoch: 5.4435\r\n",
      "loss: 0.12329724, learning_rate: 2.275345622119816e-05, global_step: 9460, interval_runtime: 4.4321, interval_samples_per_second: 3.61, interval_steps_per_second: 2.256, epoch: 5.4493\r\n",
      "loss: 0.05835119, learning_rate: 2.2724654377880185e-05, global_step: 9470, interval_runtime: 4.4093, interval_samples_per_second: 3.629, interval_steps_per_second: 2.268, epoch: 5.4551\r\n",
      "loss: 0.05112429, learning_rate: 2.269585253456221e-05, global_step: 9480, interval_runtime: 4.4325, interval_samples_per_second: 3.61, interval_steps_per_second: 2.256, epoch: 5.4608\r\n",
      "loss: 0.05920206, learning_rate: 2.266705069124424e-05, global_step: 9490, interval_runtime: 4.4222, interval_samples_per_second: 3.618, interval_steps_per_second: 2.261, epoch: 5.4666\r\n",
      "loss: 0.04759608, learning_rate: 2.263824884792627e-05, global_step: 9500, interval_runtime: 4.4171, interval_samples_per_second: 3.622, interval_steps_per_second: 2.264, epoch: 5.4724\r\n",
      "loss: 0.09337426, learning_rate: 2.26094470046083e-05, global_step: 9510, interval_runtime: 4.4055, interval_samples_per_second: 3.632, interval_steps_per_second: 2.27, epoch: 5.4781\r\n",
      "loss: 0.17149352, learning_rate: 2.258064516129032e-05, global_step: 9520, interval_runtime: 4.4193, interval_samples_per_second: 3.621, interval_steps_per_second: 2.263, epoch: 5.4839\r\n",
      "loss: 0.09183327, learning_rate: 2.255184331797235e-05, global_step: 9530, interval_runtime: 4.4129, interval_samples_per_second: 3.626, interval_steps_per_second: 2.266, epoch: 5.4896\r\n",
      "loss: 0.26482112, learning_rate: 2.252304147465438e-05, global_step: 9540, interval_runtime: 4.4276, interval_samples_per_second: 3.614, interval_steps_per_second: 2.259, epoch: 5.4954\r\n",
      "loss: 0.12107522, learning_rate: 2.2494239631336406e-05, global_step: 9550, interval_runtime: 4.4113, interval_samples_per_second: 3.627, interval_steps_per_second: 2.267, epoch: 5.5012\r\n",
      "loss: 0.18435386, learning_rate: 2.2465437788018435e-05, global_step: 9560, interval_runtime: 4.418, interval_samples_per_second: 3.622, interval_steps_per_second: 2.263, epoch: 5.5069\r\n",
      "loss: 0.12876716, learning_rate: 2.243663594470046e-05, global_step: 9570, interval_runtime: 4.4108, interval_samples_per_second: 3.627, interval_steps_per_second: 2.267, epoch: 5.5127\r\n",
      "loss: 0.13330463, learning_rate: 2.2407834101382487e-05, global_step: 9580, interval_runtime: 4.438, interval_samples_per_second: 3.605, interval_steps_per_second: 2.253, epoch: 5.5184\r\n",
      "loss: 0.08373975, learning_rate: 2.2379032258064516e-05, global_step: 9590, interval_runtime: 4.4232, interval_samples_per_second: 3.617, interval_steps_per_second: 2.261, epoch: 5.5242\r\n",
      "loss: 0.14435973, learning_rate: 2.2350230414746546e-05, global_step: 9600, interval_runtime: 4.4248, interval_samples_per_second: 3.616, interval_steps_per_second: 2.26, epoch: 5.53\r\n"
     ]
    },
    {
     "name": "stderr",
     "output_type": "stream",
     "text": [
      "[2024-03-04 14:20:10,638] [    INFO] - ***** Running Evaluation *****\r\n",
      "[2024-03-04 14:20:10,644] [    INFO] -   Num examples = 2000\r\n",
      "[2024-03-04 14:20:10,646] [    INFO] -   Pre device batch size = 16\r\n",
      "[2024-03-04 14:20:10,648] [    INFO] -   Total Batch size = 16\r\n",
      "[2024-03-04 14:20:10,650] [    INFO] -   Total prediction steps = 125\r\n"
     ]
    },
    {
     "data": {
      "application/vnd.jupyter.widget-view+json": {
       "model_id": "d98805a2f214484491ea5c25cdc63b82",
       "version_major": 2,
       "version_minor": 0
      },
      "text/plain": [
       "  0%|          | 0/125 [00:00<?, ?it/s]"
      ]
     },
     "metadata": {},
     "output_type": "display_data"
    },
    {
     "name": "stdout",
     "output_type": "stream",
     "text": [
      "eval_loss: 1.4720219373703003, eval_accuracy: 0.757, eval_f1: 0.7235324866965794, eval_runtime: 20.9654, eval_samples_per_second: 95.395, eval_steps_per_second: 5.962, epoch: 5.53\r\n"
     ]
    },
    {
     "name": "stderr",
     "output_type": "stream",
     "text": [
      "[2024-03-04 14:20:31,610] [    INFO] - Saving model checkpoint to ./work/output/checkpoint-9600\r\n",
      "[2024-03-04 14:20:35,779] [    INFO] - Deleting older checkpoint [work/output/checkpoint-7800] due to args.save_total_limit\r\n"
     ]
    },
    {
     "name": "stdout",
     "output_type": "stream",
     "text": [
      "loss: 0.13073313, learning_rate: 2.2321428571428575e-05, global_step: 9610, interval_runtime: 29.6828, interval_samples_per_second: 0.539, interval_steps_per_second: 0.337, epoch: 5.5357\r\n",
      "loss: 0.28995621, learning_rate: 2.22926267281106e-05, global_step: 9620, interval_runtime: 4.4341, interval_samples_per_second: 3.608, interval_steps_per_second: 2.255, epoch: 5.5415\r\n",
      "loss: 0.12399304, learning_rate: 2.2263824884792627e-05, global_step: 9630, interval_runtime: 4.4265, interval_samples_per_second: 3.615, interval_steps_per_second: 2.259, epoch: 5.5472\r\n",
      "loss: 0.16509697, learning_rate: 2.2235023041474656e-05, global_step: 9640, interval_runtime: 4.4204, interval_samples_per_second: 3.62, interval_steps_per_second: 2.262, epoch: 5.553\r\n",
      "loss: 0.27411056, learning_rate: 2.2206221198156682e-05, global_step: 9650, interval_runtime: 4.4313, interval_samples_per_second: 3.611, interval_steps_per_second: 2.257, epoch: 5.5588\r\n",
      "loss: 0.10819063, learning_rate: 2.217741935483871e-05, global_step: 9660, interval_runtime: 4.4094, interval_samples_per_second: 3.629, interval_steps_per_second: 2.268, epoch: 5.5645\r\n",
      "loss: 0.11285641, learning_rate: 2.214861751152074e-05, global_step: 9670, interval_runtime: 4.4214, interval_samples_per_second: 3.619, interval_steps_per_second: 2.262, epoch: 5.5703\r\n",
      "loss: 0.16776084, learning_rate: 2.2119815668202766e-05, global_step: 9680, interval_runtime: 4.4255, interval_samples_per_second: 3.615, interval_steps_per_second: 2.26, epoch: 5.576\r\n",
      "loss: 0.06790903, learning_rate: 2.2091013824884792e-05, global_step: 9690, interval_runtime: 4.436, interval_samples_per_second: 3.607, interval_steps_per_second: 2.254, epoch: 5.5818\r\n",
      "loss: 0.11191447, learning_rate: 2.206221198156682e-05, global_step: 9700, interval_runtime: 4.4153, interval_samples_per_second: 3.624, interval_steps_per_second: 2.265, epoch: 5.5876\r\n",
      "loss: 0.11494005, learning_rate: 2.203341013824885e-05, global_step: 9710, interval_runtime: 4.4018, interval_samples_per_second: 3.635, interval_steps_per_second: 2.272, epoch: 5.5933\r\n",
      "loss: 0.15793512, learning_rate: 2.2004608294930877e-05, global_step: 9720, interval_runtime: 4.4082, interval_samples_per_second: 3.63, interval_steps_per_second: 2.269, epoch: 5.5991\r\n",
      "loss: 0.13282083, learning_rate: 2.1975806451612906e-05, global_step: 9730, interval_runtime: 4.4119, interval_samples_per_second: 3.627, interval_steps_per_second: 2.267, epoch: 5.6048\r\n",
      "loss: 0.10885677, learning_rate: 2.194700460829493e-05, global_step: 9740, interval_runtime: 4.4093, interval_samples_per_second: 3.629, interval_steps_per_second: 2.268, epoch: 5.6106\r\n",
      "loss: 0.04641882, learning_rate: 2.1918202764976958e-05, global_step: 9750, interval_runtime: 4.4102, interval_samples_per_second: 3.628, interval_steps_per_second: 2.267, epoch: 5.6164\r\n",
      "loss: 0.05574534, learning_rate: 2.1889400921658987e-05, global_step: 9760, interval_runtime: 4.4415, interval_samples_per_second: 3.602, interval_steps_per_second: 2.252, epoch: 5.6221\r\n",
      "loss: 0.16957723, learning_rate: 2.1860599078341016e-05, global_step: 9770, interval_runtime: 4.4203, interval_samples_per_second: 3.62, interval_steps_per_second: 2.262, epoch: 5.6279\r\n",
      "loss: 0.1162585, learning_rate: 2.1831797235023045e-05, global_step: 9780, interval_runtime: 4.4316, interval_samples_per_second: 3.61, interval_steps_per_second: 2.257, epoch: 5.6336\r\n",
      "loss: 0.01616566, learning_rate: 2.1802995391705068e-05, global_step: 9790, interval_runtime: 4.4142, interval_samples_per_second: 3.625, interval_steps_per_second: 2.265, epoch: 5.6394\r\n",
      "loss: 0.01586905, learning_rate: 2.1774193548387097e-05, global_step: 9800, interval_runtime: 4.418, interval_samples_per_second: 3.622, interval_steps_per_second: 2.263, epoch: 5.6452\r\n"
     ]
    },
    {
     "name": "stderr",
     "output_type": "stream",
     "text": [
      "[2024-03-04 14:22:04,308] [    INFO] - ***** Running Evaluation *****\r\n",
      "[2024-03-04 14:22:04,316] [    INFO] -   Num examples = 2000\r\n",
      "[2024-03-04 14:22:04,326] [    INFO] -   Pre device batch size = 16\r\n",
      "[2024-03-04 14:22:04,329] [    INFO] -   Total Batch size = 16\r\n",
      "[2024-03-04 14:22:04,337] [    INFO] -   Total prediction steps = 125\r\n"
     ]
    },
    {
     "data": {
      "application/vnd.jupyter.widget-view+json": {
       "model_id": "e30a88e9911247a08d33c7357b7dfac8",
       "version_major": 2,
       "version_minor": 0
      },
      "text/plain": [
       "  0%|          | 0/125 [00:00<?, ?it/s]"
      ]
     },
     "metadata": {},
     "output_type": "display_data"
    },
    {
     "name": "stdout",
     "output_type": "stream",
     "text": [
      "eval_loss: 1.535119891166687, eval_accuracy: 0.7535, eval_f1: 0.7191140508194347, eval_runtime: 20.8987, eval_samples_per_second: 95.7, eval_steps_per_second: 5.981, epoch: 5.6452\r\n"
     ]
    },
    {
     "name": "stderr",
     "output_type": "stream",
     "text": [
      "[2024-03-04 14:22:25,216] [    INFO] - Saving model checkpoint to ./work/output/checkpoint-9800\r\n",
      "[2024-03-04 14:22:29,100] [    INFO] - Deleting older checkpoint [work/output/checkpoint-8000] due to args.save_total_limit\r\n"
     ]
    },
    {
     "name": "stdout",
     "output_type": "stream",
     "text": [
      "loss: 0.12478402, learning_rate: 2.1745391705069126e-05, global_step: 9810, interval_runtime: 29.3244, interval_samples_per_second: 0.546, interval_steps_per_second: 0.341, epoch: 5.6509\r\n",
      "loss: 0.13985096, learning_rate: 2.1716589861751152e-05, global_step: 9820, interval_runtime: 4.4362, interval_samples_per_second: 3.607, interval_steps_per_second: 2.254, epoch: 5.6567\r\n",
      "loss: 0.18357253, learning_rate: 2.168778801843318e-05, global_step: 9830, interval_runtime: 4.4101, interval_samples_per_second: 3.628, interval_steps_per_second: 2.268, epoch: 5.6624\r\n",
      "loss: 0.17462034, learning_rate: 2.1658986175115207e-05, global_step: 9840, interval_runtime: 4.4384, interval_samples_per_second: 3.605, interval_steps_per_second: 2.253, epoch: 5.6682\r\n",
      "loss: 0.20781736, learning_rate: 2.1630184331797233e-05, global_step: 9850, interval_runtime: 4.4158, interval_samples_per_second: 3.623, interval_steps_per_second: 2.265, epoch: 5.674\r\n",
      "loss: 0.03881186, learning_rate: 2.1601382488479263e-05, global_step: 9860, interval_runtime: 4.428, interval_samples_per_second: 3.613, interval_steps_per_second: 2.258, epoch: 5.6797\r\n",
      "loss: 0.11263251, learning_rate: 2.1572580645161292e-05, global_step: 9870, interval_runtime: 4.4244, interval_samples_per_second: 3.616, interval_steps_per_second: 2.26, epoch: 5.6855\r\n",
      "loss: 0.12602072, learning_rate: 2.154377880184332e-05, global_step: 9880, interval_runtime: 4.9118, interval_samples_per_second: 3.257, interval_steps_per_second: 2.036, epoch: 5.6912\r\n",
      "loss: 0.2296885, learning_rate: 2.1514976958525347e-05, global_step: 9890, interval_runtime: 4.432, interval_samples_per_second: 3.61, interval_steps_per_second: 2.256, epoch: 5.697\r\n",
      "loss: 0.20534422, learning_rate: 2.1486175115207373e-05, global_step: 9900, interval_runtime: 4.4217, interval_samples_per_second: 3.618, interval_steps_per_second: 2.262, epoch: 5.7028\r\n",
      "loss: 0.14533609, learning_rate: 2.1457373271889402e-05, global_step: 9910, interval_runtime: 4.4439, interval_samples_per_second: 3.6, interval_steps_per_second: 2.25, epoch: 5.7085\r\n",
      "loss: 0.20859683, learning_rate: 2.1428571428571428e-05, global_step: 9920, interval_runtime: 4.4273, interval_samples_per_second: 3.614, interval_steps_per_second: 2.259, epoch: 5.7143\r\n",
      "loss: 0.19473029, learning_rate: 2.1399769585253457e-05, global_step: 9930, interval_runtime: 4.4474, interval_samples_per_second: 3.598, interval_steps_per_second: 2.249, epoch: 5.72\r\n",
      "loss: 0.17451735, learning_rate: 2.1370967741935487e-05, global_step: 9940, interval_runtime: 4.4357, interval_samples_per_second: 3.607, interval_steps_per_second: 2.254, epoch: 5.7258\r\n",
      "loss: 0.11160989, learning_rate: 2.1342165898617513e-05, global_step: 9950, interval_runtime: 4.4265, interval_samples_per_second: 3.615, interval_steps_per_second: 2.259, epoch: 5.7316\r\n",
      "loss: 0.18881632, learning_rate: 2.131336405529954e-05, global_step: 9960, interval_runtime: 4.4479, interval_samples_per_second: 3.597, interval_steps_per_second: 2.248, epoch: 5.7373\r\n",
      "loss: 0.10359051, learning_rate: 2.1284562211981568e-05, global_step: 9970, interval_runtime: 4.4313, interval_samples_per_second: 3.611, interval_steps_per_second: 2.257, epoch: 5.7431\r\n",
      "loss: 0.12017967, learning_rate: 2.1255760368663597e-05, global_step: 9980, interval_runtime: 4.4341, interval_samples_per_second: 3.608, interval_steps_per_second: 2.255, epoch: 5.7488\r\n",
      "loss: 0.06414118, learning_rate: 2.1226958525345623e-05, global_step: 9990, interval_runtime: 4.4207, interval_samples_per_second: 3.619, interval_steps_per_second: 2.262, epoch: 5.7546\r\n",
      "loss: 0.23066432, learning_rate: 2.1198156682027652e-05, global_step: 10000, interval_runtime: 4.4219, interval_samples_per_second: 3.618, interval_steps_per_second: 2.261, epoch: 5.7604\r\n"
     ]
    },
    {
     "name": "stderr",
     "output_type": "stream",
     "text": [
      "[2024-03-04 14:23:58,288] [    INFO] - ***** Running Evaluation *****\r\n",
      "[2024-03-04 14:23:58,291] [    INFO] -   Num examples = 2000\r\n",
      "[2024-03-04 14:23:58,293] [    INFO] -   Pre device batch size = 16\r\n",
      "[2024-03-04 14:23:58,299] [    INFO] -   Total Batch size = 16\r\n",
      "[2024-03-04 14:23:58,301] [    INFO] -   Total prediction steps = 125\r\n"
     ]
    },
    {
     "data": {
      "application/vnd.jupyter.widget-view+json": {
       "model_id": "c1b881b942de4684bcd777702f86635f",
       "version_major": 2,
       "version_minor": 0
      },
      "text/plain": [
       "  0%|          | 0/125 [00:00<?, ?it/s]"
      ]
     },
     "metadata": {},
     "output_type": "display_data"
    },
    {
     "name": "stdout",
     "output_type": "stream",
     "text": [
      "eval_loss: 1.4492703676223755, eval_accuracy: 0.7555, eval_f1: 0.7216977912529221, eval_runtime: 21.1959, eval_samples_per_second: 94.358, eval_steps_per_second: 5.897, epoch: 5.7604\r\n"
     ]
    },
    {
     "name": "stderr",
     "output_type": "stream",
     "text": [
      "[2024-03-04 14:24:19,490] [    INFO] - Saving model checkpoint to ./work/output/checkpoint-10000\r\n",
      "[2024-03-04 14:24:23,565] [    INFO] - Deleting older checkpoint [work/output/checkpoint-8200] due to args.save_total_limit\r\n"
     ]
    },
    {
     "name": "stdout",
     "output_type": "stream",
     "text": [
      "loss: 0.04413256, learning_rate: 2.1169354838709678e-05, global_step: 10010, interval_runtime: 29.8131, interval_samples_per_second: 0.537, interval_steps_per_second: 0.335, epoch: 5.7661\r\n",
      "loss: 0.01505273, learning_rate: 2.1140552995391704e-05, global_step: 10020, interval_runtime: 4.449, interval_samples_per_second: 3.596, interval_steps_per_second: 2.248, epoch: 5.7719\r\n",
      "loss: 0.18365763, learning_rate: 2.1111751152073733e-05, global_step: 10030, interval_runtime: 4.44, interval_samples_per_second: 3.604, interval_steps_per_second: 2.252, epoch: 5.7776\r\n",
      "loss: 0.34205046, learning_rate: 2.1082949308755763e-05, global_step: 10040, interval_runtime: 4.434, interval_samples_per_second: 3.608, interval_steps_per_second: 2.255, epoch: 5.7834\r\n",
      "loss: 0.15401697, learning_rate: 2.1054147465437792e-05, global_step: 10050, interval_runtime: 4.4339, interval_samples_per_second: 3.609, interval_steps_per_second: 2.255, epoch: 5.7892\r\n",
      "loss: 0.09339328, learning_rate: 2.1025345622119814e-05, global_step: 10060, interval_runtime: 4.4169, interval_samples_per_second: 3.622, interval_steps_per_second: 2.264, epoch: 5.7949\r\n",
      "loss: 0.24138429, learning_rate: 2.0996543778801844e-05, global_step: 10070, interval_runtime: 4.4259, interval_samples_per_second: 3.615, interval_steps_per_second: 2.259, epoch: 5.8007\r\n",
      "loss: 0.27636075, learning_rate: 2.0967741935483873e-05, global_step: 10080, interval_runtime: 4.4151, interval_samples_per_second: 3.624, interval_steps_per_second: 2.265, epoch: 5.8065\r\n",
      "loss: 0.09170045, learning_rate: 2.09389400921659e-05, global_step: 10090, interval_runtime: 4.4188, interval_samples_per_second: 3.621, interval_steps_per_second: 2.263, epoch: 5.8122\r\n",
      "loss: 0.13857685, learning_rate: 2.0910138248847928e-05, global_step: 10100, interval_runtime: 4.4287, interval_samples_per_second: 3.613, interval_steps_per_second: 2.258, epoch: 5.818\r\n",
      "loss: 0.16647279, learning_rate: 2.0881336405529954e-05, global_step: 10110, interval_runtime: 4.4127, interval_samples_per_second: 3.626, interval_steps_per_second: 2.266, epoch: 5.8237\r\n",
      "loss: 0.01339113, learning_rate: 2.0852534562211983e-05, global_step: 10120, interval_runtime: 4.41, interval_samples_per_second: 3.628, interval_steps_per_second: 2.268, epoch: 5.8295\r\n",
      "loss: 0.14865551, learning_rate: 2.082373271889401e-05, global_step: 10130, interval_runtime: 4.418, interval_samples_per_second: 3.622, interval_steps_per_second: 2.263, epoch: 5.8353\r\n",
      "loss: 0.15302449, learning_rate: 2.079493087557604e-05, global_step: 10140, interval_runtime: 4.4056, interval_samples_per_second: 3.632, interval_steps_per_second: 2.27, epoch: 5.841\r\n",
      "loss: 0.23670723, learning_rate: 2.0766129032258068e-05, global_step: 10150, interval_runtime: 4.418, interval_samples_per_second: 3.622, interval_steps_per_second: 2.263, epoch: 5.8468\r\n",
      "loss: 0.1873945, learning_rate: 2.0737327188940094e-05, global_step: 10160, interval_runtime: 4.4228, interval_samples_per_second: 3.618, interval_steps_per_second: 2.261, epoch: 5.8525\r\n",
      "loss: 0.12805809, learning_rate: 2.070852534562212e-05, global_step: 10170, interval_runtime: 4.4373, interval_samples_per_second: 3.606, interval_steps_per_second: 2.254, epoch: 5.8583\r\n",
      "loss: 0.06533677, learning_rate: 2.067972350230415e-05, global_step: 10180, interval_runtime: 4.4428, interval_samples_per_second: 3.601, interval_steps_per_second: 2.251, epoch: 5.8641\r\n",
      "loss: 0.06356505, learning_rate: 2.0650921658986175e-05, global_step: 10190, interval_runtime: 4.4241, interval_samples_per_second: 3.617, interval_steps_per_second: 2.26, epoch: 5.8698\r\n",
      "loss: 0.10177788, learning_rate: 2.0622119815668204e-05, global_step: 10200, interval_runtime: 4.4165, interval_samples_per_second: 3.623, interval_steps_per_second: 2.264, epoch: 5.8756\r\n"
     ]
    },
    {
     "name": "stderr",
     "output_type": "stream",
     "text": [
      "[2024-03-04 14:25:52,176] [    INFO] - ***** Running Evaluation *****\r\n",
      "[2024-03-04 14:25:52,179] [    INFO] -   Num examples = 2000\r\n",
      "[2024-03-04 14:25:52,181] [    INFO] -   Pre device batch size = 16\r\n",
      "[2024-03-04 14:25:52,184] [    INFO] -   Total Batch size = 16\r\n",
      "[2024-03-04 14:25:52,186] [    INFO] -   Total prediction steps = 125\r\n"
     ]
    },
    {
     "data": {
      "application/vnd.jupyter.widget-view+json": {
       "model_id": "904256f896fb495a9390fa3d3c9b0c61",
       "version_major": 2,
       "version_minor": 0
      },
      "text/plain": [
       "  0%|          | 0/125 [00:00<?, ?it/s]"
      ]
     },
     "metadata": {},
     "output_type": "display_data"
    },
    {
     "name": "stdout",
     "output_type": "stream",
     "text": [
      "eval_loss: 1.4451391696929932, eval_accuracy: 0.7575, eval_f1: 0.7197480175835328, eval_runtime: 20.9719, eval_samples_per_second: 95.366, eval_steps_per_second: 5.96, epoch: 5.8756\r\n"
     ]
    },
    {
     "name": "stderr",
     "output_type": "stream",
     "text": [
      "[2024-03-04 14:26:13,153] [    INFO] - Saving model checkpoint to ./work/output/checkpoint-10200\r\n",
      "[2024-03-04 14:26:17,000] [    INFO] - Deleting older checkpoint [work/output/checkpoint-8400] due to args.save_total_limit\r\n"
     ]
    },
    {
     "name": "stdout",
     "output_type": "stream",
     "text": [
      "loss: 0.14119321, learning_rate: 2.0593317972350233e-05, global_step: 10210, interval_runtime: 29.3802, interval_samples_per_second: 0.545, interval_steps_per_second: 0.34, epoch: 5.8813\r\n",
      "loss: 0.14625233, learning_rate: 2.056451612903226e-05, global_step: 10220, interval_runtime: 4.4201, interval_samples_per_second: 3.62, interval_steps_per_second: 2.262, epoch: 5.8871\r\n",
      "loss: 0.07400839, learning_rate: 2.0535714285714285e-05, global_step: 10230, interval_runtime: 4.4143, interval_samples_per_second: 3.625, interval_steps_per_second: 2.265, epoch: 5.8929\r\n",
      "loss: 0.24902408, learning_rate: 2.0506912442396314e-05, global_step: 10240, interval_runtime: 4.4264, interval_samples_per_second: 3.615, interval_steps_per_second: 2.259, epoch: 5.8986\r\n",
      "loss: 0.27204762, learning_rate: 2.0478110599078343e-05, global_step: 10250, interval_runtime: 4.4346, interval_samples_per_second: 3.608, interval_steps_per_second: 2.255, epoch: 5.9044\r\n",
      "loss: 0.04761764, learning_rate: 2.044930875576037e-05, global_step: 10260, interval_runtime: 4.4201, interval_samples_per_second: 3.62, interval_steps_per_second: 2.262, epoch: 5.9101\r\n",
      "loss: 0.08861697, learning_rate: 2.04205069124424e-05, global_step: 10270, interval_runtime: 4.4211, interval_samples_per_second: 3.619, interval_steps_per_second: 2.262, epoch: 5.9159\r\n",
      "loss: 0.109565, learning_rate: 2.0391705069124424e-05, global_step: 10280, interval_runtime: 4.4198, interval_samples_per_second: 3.62, interval_steps_per_second: 2.263, epoch: 5.9217\r\n",
      "loss: 0.04823888, learning_rate: 2.0362903225806454e-05, global_step: 10290, interval_runtime: 4.6504, interval_samples_per_second: 3.441, interval_steps_per_second: 2.15, epoch: 5.9274\r\n",
      "loss: 0.15907437, learning_rate: 2.033410138248848e-05, global_step: 10300, interval_runtime: 4.4379, interval_samples_per_second: 3.605, interval_steps_per_second: 2.253, epoch: 5.9332\r\n",
      "loss: 0.15983095, learning_rate: 2.030529953917051e-05, global_step: 10310, interval_runtime: 4.4297, interval_samples_per_second: 3.612, interval_steps_per_second: 2.258, epoch: 5.9389\r\n",
      "loss: 0.09421877, learning_rate: 2.0276497695852538e-05, global_step: 10320, interval_runtime: 4.4148, interval_samples_per_second: 3.624, interval_steps_per_second: 2.265, epoch: 5.9447\r\n",
      "loss: 0.08016368, learning_rate: 2.024769585253456e-05, global_step: 10330, interval_runtime: 4.4226, interval_samples_per_second: 3.618, interval_steps_per_second: 2.261, epoch: 5.9505\r\n",
      "loss: 0.09975254, learning_rate: 2.021889400921659e-05, global_step: 10340, interval_runtime: 4.4157, interval_samples_per_second: 3.623, interval_steps_per_second: 2.265, epoch: 5.9562\r\n",
      "loss: 0.15363142, learning_rate: 2.019009216589862e-05, global_step: 10350, interval_runtime: 4.4269, interval_samples_per_second: 3.614, interval_steps_per_second: 2.259, epoch: 5.962\r\n",
      "loss: 0.1217291, learning_rate: 2.0161290322580645e-05, global_step: 10360, interval_runtime: 4.4281, interval_samples_per_second: 3.613, interval_steps_per_second: 2.258, epoch: 5.9677\r\n",
      "loss: 0.01948892, learning_rate: 2.0132488479262674e-05, global_step: 10370, interval_runtime: 4.4322, interval_samples_per_second: 3.61, interval_steps_per_second: 2.256, epoch: 5.9735\r\n",
      "loss: 0.08832158, learning_rate: 2.01036866359447e-05, global_step: 10380, interval_runtime: 4.4262, interval_samples_per_second: 3.615, interval_steps_per_second: 2.259, epoch: 5.9793\r\n",
      "loss: 0.11284391, learning_rate: 2.007488479262673e-05, global_step: 10390, interval_runtime: 4.4273, interval_samples_per_second: 3.614, interval_steps_per_second: 2.259, epoch: 5.985\r\n",
      "loss: 0.10684066, learning_rate: 2.0046082949308755e-05, global_step: 10400, interval_runtime: 4.4279, interval_samples_per_second: 3.613, interval_steps_per_second: 2.258, epoch: 5.9908\r\n"
     ]
    },
    {
     "name": "stderr",
     "output_type": "stream",
     "text": [
      "[2024-03-04 14:27:45,847] [    INFO] - ***** Running Evaluation *****\r\n",
      "[2024-03-04 14:27:45,850] [    INFO] -   Num examples = 2000\r\n",
      "[2024-03-04 14:27:45,852] [    INFO] -   Pre device batch size = 16\r\n",
      "[2024-03-04 14:27:45,855] [    INFO] -   Total Batch size = 16\r\n",
      "[2024-03-04 14:27:45,857] [    INFO] -   Total prediction steps = 125\r\n"
     ]
    },
    {
     "data": {
      "application/vnd.jupyter.widget-view+json": {
       "model_id": "32ad9ac9073545e1b693a3117b8c4000",
       "version_major": 2,
       "version_minor": 0
      },
      "text/plain": [
       "  0%|          | 0/125 [00:00<?, ?it/s]"
      ]
     },
     "metadata": {},
     "output_type": "display_data"
    },
    {
     "name": "stdout",
     "output_type": "stream",
     "text": [
      "eval_loss: 1.5038610696792603, eval_accuracy: 0.7545, eval_f1: 0.7219389258473784, eval_runtime: 20.9073, eval_samples_per_second: 95.661, eval_steps_per_second: 5.979, epoch: 5.9908\r\n"
     ]
    },
    {
     "name": "stderr",
     "output_type": "stream",
     "text": [
      "[2024-03-04 14:28:06,759] [    INFO] - Saving model checkpoint to ./work/output/checkpoint-10400\r\n",
      "[2024-03-04 14:28:10,860] [    INFO] - Deleting older checkpoint [work/output/checkpoint-8600] due to args.save_total_limit\r\n"
     ]
    },
    {
     "name": "stdout",
     "output_type": "stream",
     "text": [
      "loss: 0.07687179, learning_rate: 2.0017281105990785e-05, global_step: 10410, interval_runtime: 29.5352, interval_samples_per_second: 0.542, interval_steps_per_second: 0.339, epoch: 5.9965\r\n",
      "loss: 0.14508058, learning_rate: 1.9988479262672814e-05, global_step: 10420, interval_runtime: 4.4048, interval_samples_per_second: 3.632, interval_steps_per_second: 2.27, epoch: 6.0023\r\n",
      "loss: 0.13780593, learning_rate: 1.995967741935484e-05, global_step: 10430, interval_runtime: 4.4492, interval_samples_per_second: 3.596, interval_steps_per_second: 2.248, epoch: 6.0081\r\n",
      "loss: 0.10707407, learning_rate: 1.9930875576036866e-05, global_step: 10440, interval_runtime: 4.4271, interval_samples_per_second: 3.614, interval_steps_per_second: 2.259, epoch: 6.0138\r\n",
      "loss: 0.10160891, learning_rate: 1.9902073732718895e-05, global_step: 10450, interval_runtime: 4.4131, interval_samples_per_second: 3.626, interval_steps_per_second: 2.266, epoch: 6.0196\r\n",
      "loss: 0.1118139, learning_rate: 1.9873271889400924e-05, global_step: 10460, interval_runtime: 4.4222, interval_samples_per_second: 3.618, interval_steps_per_second: 2.261, epoch: 6.0253\r\n",
      "loss: 0.01553284, learning_rate: 1.984447004608295e-05, global_step: 10470, interval_runtime: 4.4335, interval_samples_per_second: 3.609, interval_steps_per_second: 2.256, epoch: 6.0311\r\n",
      "loss: 0.12423668, learning_rate: 1.981566820276498e-05, global_step: 10480, interval_runtime: 4.447, interval_samples_per_second: 3.598, interval_steps_per_second: 2.249, epoch: 6.0369\r\n",
      "loss: 0.08818337, learning_rate: 1.9786866359447005e-05, global_step: 10490, interval_runtime: 4.4196, interval_samples_per_second: 3.62, interval_steps_per_second: 2.263, epoch: 6.0426\r\n",
      "loss: 0.17548842, learning_rate: 1.975806451612903e-05, global_step: 10500, interval_runtime: 4.418, interval_samples_per_second: 3.622, interval_steps_per_second: 2.263, epoch: 6.0484\r\n",
      "loss: 0.21054013, learning_rate: 1.972926267281106e-05, global_step: 10510, interval_runtime: 4.4409, interval_samples_per_second: 3.603, interval_steps_per_second: 2.252, epoch: 6.0541\r\n",
      "loss: 0.00694896, learning_rate: 1.970046082949309e-05, global_step: 10520, interval_runtime: 4.4287, interval_samples_per_second: 3.613, interval_steps_per_second: 2.258, epoch: 6.0599\r\n",
      "loss: 0.1394663, learning_rate: 1.9671658986175116e-05, global_step: 10530, interval_runtime: 4.4252, interval_samples_per_second: 3.616, interval_steps_per_second: 2.26, epoch: 6.0657\r\n",
      "loss: 0.06767284, learning_rate: 1.9642857142857145e-05, global_step: 10540, interval_runtime: 4.4415, interval_samples_per_second: 3.602, interval_steps_per_second: 2.251, epoch: 6.0714\r\n",
      "loss: 0.01044022, learning_rate: 1.961405529953917e-05, global_step: 10550, interval_runtime: 4.4444, interval_samples_per_second: 3.6, interval_steps_per_second: 2.25, epoch: 6.0772\r\n",
      "loss: 0.05290587, learning_rate: 1.95852534562212e-05, global_step: 10560, interval_runtime: 4.431, interval_samples_per_second: 3.611, interval_steps_per_second: 2.257, epoch: 6.0829\r\n",
      "loss: 0.03207193, learning_rate: 1.9556451612903226e-05, global_step: 10570, interval_runtime: 4.4252, interval_samples_per_second: 3.616, interval_steps_per_second: 2.26, epoch: 6.0887\r\n",
      "loss: 0.09468361, learning_rate: 1.9527649769585255e-05, global_step: 10580, interval_runtime: 4.4202, interval_samples_per_second: 3.62, interval_steps_per_second: 2.262, epoch: 6.0945\r\n",
      "loss: 0.08502943, learning_rate: 1.9498847926267285e-05, global_step: 10590, interval_runtime: 4.4222, interval_samples_per_second: 3.618, interval_steps_per_second: 2.261, epoch: 6.1002\r\n",
      "loss: 0.05485249, learning_rate: 1.9470046082949307e-05, global_step: 10600, interval_runtime: 4.4336, interval_samples_per_second: 3.609, interval_steps_per_second: 2.256, epoch: 6.106\r\n"
     ]
    },
    {
     "name": "stderr",
     "output_type": "stream",
     "text": [
      "[2024-03-04 14:29:39,531] [    INFO] - ***** Running Evaluation *****\r\n",
      "[2024-03-04 14:29:39,536] [    INFO] -   Num examples = 2000\r\n",
      "[2024-03-04 14:29:39,541] [    INFO] -   Pre device batch size = 16\r\n",
      "[2024-03-04 14:29:39,548] [    INFO] -   Total Batch size = 16\r\n",
      "[2024-03-04 14:29:39,555] [    INFO] -   Total prediction steps = 125\r\n"
     ]
    },
    {
     "data": {
      "application/vnd.jupyter.widget-view+json": {
       "model_id": "e7fd9f58281546c895a5906ef5516ca7",
       "version_major": 2,
       "version_minor": 0
      },
      "text/plain": [
       "  0%|          | 0/125 [00:00<?, ?it/s]"
      ]
     },
     "metadata": {},
     "output_type": "display_data"
    },
    {
     "name": "stdout",
     "output_type": "stream",
     "text": [
      "eval_loss: 1.5975456237792969, eval_accuracy: 0.7535, eval_f1: 0.713623225437189, eval_runtime: 20.9743, eval_samples_per_second: 95.355, eval_steps_per_second: 5.96, epoch: 6.106\r\n"
     ]
    },
    {
     "name": "stderr",
     "output_type": "stream",
     "text": [
      "[2024-03-04 14:30:00,514] [    INFO] - Saving model checkpoint to ./work/output/checkpoint-10600\r\n",
      "[2024-03-04 14:30:04,315] [    INFO] - Deleting older checkpoint [work/output/checkpoint-8800] due to args.save_total_limit\r\n"
     ]
    },
    {
     "name": "stdout",
     "output_type": "stream",
     "text": [
      "loss: 0.02605353, learning_rate: 1.9441244239631336e-05, global_step: 10610, interval_runtime: 29.3291, interval_samples_per_second: 0.546, interval_steps_per_second: 0.341, epoch: 6.1118\r\n",
      "loss: 0.04576273, learning_rate: 1.9412442396313366e-05, global_step: 10620, interval_runtime: 4.4204, interval_samples_per_second: 3.62, interval_steps_per_second: 2.262, epoch: 6.1175\r\n",
      "loss: 0.06354821, learning_rate: 1.938364055299539e-05, global_step: 10630, interval_runtime: 4.4362, interval_samples_per_second: 3.607, interval_steps_per_second: 2.254, epoch: 6.1233\r\n",
      "loss: 0.1419184, learning_rate: 1.935483870967742e-05, global_step: 10640, interval_runtime: 4.4301, interval_samples_per_second: 3.612, interval_steps_per_second: 2.257, epoch: 6.129\r\n",
      "loss: 0.13966699, learning_rate: 1.9326036866359447e-05, global_step: 10650, interval_runtime: 4.4314, interval_samples_per_second: 3.611, interval_steps_per_second: 2.257, epoch: 6.1348\r\n",
      "loss: 0.04694709, learning_rate: 1.9297235023041476e-05, global_step: 10660, interval_runtime: 4.428, interval_samples_per_second: 3.613, interval_steps_per_second: 2.258, epoch: 6.1406\r\n",
      "loss: 0.14363898, learning_rate: 1.9268433179723502e-05, global_step: 10670, interval_runtime: 4.4479, interval_samples_per_second: 3.597, interval_steps_per_second: 2.248, epoch: 6.1463\r\n",
      "loss: 0.04021506, learning_rate: 1.923963133640553e-05, global_step: 10680, interval_runtime: 4.4146, interval_samples_per_second: 3.624, interval_steps_per_second: 2.265, epoch: 6.1521\r\n",
      "loss: 0.08847373, learning_rate: 1.921082949308756e-05, global_step: 10690, interval_runtime: 4.4357, interval_samples_per_second: 3.607, interval_steps_per_second: 2.254, epoch: 6.1578\r\n",
      "loss: 0.04498215, learning_rate: 1.9182027649769586e-05, global_step: 10700, interval_runtime: 4.4263, interval_samples_per_second: 3.615, interval_steps_per_second: 2.259, epoch: 6.1636\r\n",
      "loss: 0.05067295, learning_rate: 1.9153225806451612e-05, global_step: 10710, interval_runtime: 4.4145, interval_samples_per_second: 3.624, interval_steps_per_second: 2.265, epoch: 6.1694\r\n",
      "loss: 0.24188757, learning_rate: 1.912442396313364e-05, global_step: 10720, interval_runtime: 4.4162, interval_samples_per_second: 3.623, interval_steps_per_second: 2.264, epoch: 6.1751\r\n",
      "loss: 0.0771069, learning_rate: 1.909562211981567e-05, global_step: 10730, interval_runtime: 4.4161, interval_samples_per_second: 3.623, interval_steps_per_second: 2.264, epoch: 6.1809\r\n",
      "loss: 0.0824725, learning_rate: 1.9066820276497697e-05, global_step: 10740, interval_runtime: 4.414, interval_samples_per_second: 3.625, interval_steps_per_second: 2.266, epoch: 6.1866\r\n",
      "loss: 0.18282509, learning_rate: 1.9038018433179726e-05, global_step: 10750, interval_runtime: 4.4061, interval_samples_per_second: 3.631, interval_steps_per_second: 2.27, epoch: 6.1924\r\n",
      "loss: 0.00844936, learning_rate: 1.9009216589861752e-05, global_step: 10760, interval_runtime: 4.4129, interval_samples_per_second: 3.626, interval_steps_per_second: 2.266, epoch: 6.1982\r\n",
      "loss: 0.06196467, learning_rate: 1.8980414746543778e-05, global_step: 10770, interval_runtime: 4.434, interval_samples_per_second: 3.608, interval_steps_per_second: 2.255, epoch: 6.2039\r\n",
      "loss: 0.09484898, learning_rate: 1.8951612903225807e-05, global_step: 10780, interval_runtime: 4.4153, interval_samples_per_second: 3.624, interval_steps_per_second: 2.265, epoch: 6.2097\r\n",
      "loss: 0.02097609, learning_rate: 1.8922811059907836e-05, global_step: 10790, interval_runtime: 4.4291, interval_samples_per_second: 3.613, interval_steps_per_second: 2.258, epoch: 6.2154\r\n",
      "loss: 0.08000028, learning_rate: 1.8894009216589862e-05, global_step: 10800, interval_runtime: 4.4413, interval_samples_per_second: 3.603, interval_steps_per_second: 2.252, epoch: 6.2212\r\n"
     ]
    },
    {
     "name": "stderr",
     "output_type": "stream",
     "text": [
      "[2024-03-04 14:31:32,933] [    INFO] - ***** Running Evaluation *****\r\n",
      "[2024-03-04 14:31:32,936] [    INFO] -   Num examples = 2000\r\n",
      "[2024-03-04 14:31:32,939] [    INFO] -   Pre device batch size = 16\r\n",
      "[2024-03-04 14:31:32,942] [    INFO] -   Total Batch size = 16\r\n",
      "[2024-03-04 14:31:32,945] [    INFO] -   Total prediction steps = 125\r\n"
     ]
    },
    {
     "data": {
      "application/vnd.jupyter.widget-view+json": {
       "model_id": "bc5119adc27648da87f2c4cc67322387",
       "version_major": 2,
       "version_minor": 0
      },
      "text/plain": [
       "  0%|          | 0/125 [00:00<?, ?it/s]"
      ]
     },
     "metadata": {},
     "output_type": "display_data"
    },
    {
     "name": "stdout",
     "output_type": "stream",
     "text": [
      "eval_loss: 1.6430104970932007, eval_accuracy: 0.7535, eval_f1: 0.7186876349097914, eval_runtime: 20.9406, eval_samples_per_second: 95.508, eval_steps_per_second: 5.969, epoch: 6.2212\r\n"
     ]
    },
    {
     "name": "stderr",
     "output_type": "stream",
     "text": [
      "[2024-03-04 14:31:53,889] [    INFO] - Saving model checkpoint to ./work/output/checkpoint-10800\r\n",
      "[2024-03-04 14:31:57,870] [    INFO] - Deleting older checkpoint [work/output/checkpoint-9000] due to args.save_total_limit\r\n"
     ]
    },
    {
     "name": "stdout",
     "output_type": "stream",
     "text": [
      "loss: 0.09215513, learning_rate: 1.886520737327189e-05, global_step: 10810, interval_runtime: 29.4932, interval_samples_per_second: 0.542, interval_steps_per_second: 0.339, epoch: 6.227\r\n",
      "loss: 0.02260468, learning_rate: 1.8836405529953917e-05, global_step: 10820, interval_runtime: 4.4196, interval_samples_per_second: 3.62, interval_steps_per_second: 2.263, epoch: 6.2327\r\n",
      "loss: 0.06934943, learning_rate: 1.8807603686635947e-05, global_step: 10830, interval_runtime: 4.4178, interval_samples_per_second: 3.622, interval_steps_per_second: 2.264, epoch: 6.2385\r\n",
      "loss: 0.13542886, learning_rate: 1.8778801843317972e-05, global_step: 10840, interval_runtime: 4.4275, interval_samples_per_second: 3.614, interval_steps_per_second: 2.259, epoch: 6.2442\r\n",
      "loss: 0.31828985, learning_rate: 1.8750000000000002e-05, global_step: 10850, interval_runtime: 4.4265, interval_samples_per_second: 3.615, interval_steps_per_second: 2.259, epoch: 6.25\r\n",
      "loss: 0.01370533, learning_rate: 1.872119815668203e-05, global_step: 10860, interval_runtime: 4.4154, interval_samples_per_second: 3.624, interval_steps_per_second: 2.265, epoch: 6.2558\r\n",
      "loss: 0.06228638, learning_rate: 1.8692396313364054e-05, global_step: 10870, interval_runtime: 4.425, interval_samples_per_second: 3.616, interval_steps_per_second: 2.26, epoch: 6.2615\r\n",
      "loss: 0.05240964, learning_rate: 1.8663594470046083e-05, global_step: 10880, interval_runtime: 4.3988, interval_samples_per_second: 3.637, interval_steps_per_second: 2.273, epoch: 6.2673\r\n",
      "loss: 0.01053883, learning_rate: 1.8634792626728112e-05, global_step: 10890, interval_runtime: 4.4067, interval_samples_per_second: 3.631, interval_steps_per_second: 2.269, epoch: 6.273\r\n",
      "loss: 0.10078712, learning_rate: 1.860599078341014e-05, global_step: 10900, interval_runtime: 4.4036, interval_samples_per_second: 3.633, interval_steps_per_second: 2.271, epoch: 6.2788\r\n",
      "loss: 0.05876927, learning_rate: 1.8577188940092167e-05, global_step: 10910, interval_runtime: 4.4167, interval_samples_per_second: 3.623, interval_steps_per_second: 2.264, epoch: 6.2846\r\n",
      "loss: 0.17060001, learning_rate: 1.8548387096774193e-05, global_step: 10920, interval_runtime: 4.399, interval_samples_per_second: 3.637, interval_steps_per_second: 2.273, epoch: 6.2903\r\n",
      "loss: 0.03430576, learning_rate: 1.8519585253456222e-05, global_step: 10930, interval_runtime: 4.4119, interval_samples_per_second: 3.627, interval_steps_per_second: 2.267, epoch: 6.2961\r\n",
      "loss: 0.09897411, learning_rate: 1.8490783410138248e-05, global_step: 10940, interval_runtime: 4.4184, interval_samples_per_second: 3.621, interval_steps_per_second: 2.263, epoch: 6.3018\r\n",
      "loss: 0.20352263, learning_rate: 1.8461981566820278e-05, global_step: 10950, interval_runtime: 4.4206, interval_samples_per_second: 3.619, interval_steps_per_second: 2.262, epoch: 6.3076\r\n",
      "loss: 0.08437242, learning_rate: 1.8433179723502307e-05, global_step: 10960, interval_runtime: 4.4109, interval_samples_per_second: 3.627, interval_steps_per_second: 2.267, epoch: 6.3134\r\n",
      "loss: 0.08425978, learning_rate: 1.8404377880184333e-05, global_step: 10970, interval_runtime: 4.4233, interval_samples_per_second: 3.617, interval_steps_per_second: 2.261, epoch: 6.3191\r\n",
      "loss: 0.13397373, learning_rate: 1.837557603686636e-05, global_step: 10980, interval_runtime: 4.4247, interval_samples_per_second: 3.616, interval_steps_per_second: 2.26, epoch: 6.3249\r\n",
      "loss: 0.11098135, learning_rate: 1.8346774193548388e-05, global_step: 10990, interval_runtime: 4.4186, interval_samples_per_second: 3.621, interval_steps_per_second: 2.263, epoch: 6.3306\r\n",
      "loss: 0.08097161, learning_rate: 1.8317972350230417e-05, global_step: 11000, interval_runtime: 4.4143, interval_samples_per_second: 3.625, interval_steps_per_second: 2.265, epoch: 6.3364\r\n"
     ]
    },
    {
     "name": "stderr",
     "output_type": "stream",
     "text": [
      "[2024-03-04 14:33:26,328] [    INFO] - ***** Running Evaluation *****\r\n",
      "[2024-03-04 14:33:26,330] [    INFO] -   Num examples = 2000\r\n",
      "[2024-03-04 14:33:26,333] [    INFO] -   Pre device batch size = 16\r\n",
      "[2024-03-04 14:33:26,335] [    INFO] -   Total Batch size = 16\r\n",
      "[2024-03-04 14:33:26,337] [    INFO] -   Total prediction steps = 125\r\n"
     ]
    },
    {
     "data": {
      "application/vnd.jupyter.widget-view+json": {
       "model_id": "c284979b350b45e5ba978a9641771c3e",
       "version_major": 2,
       "version_minor": 0
      },
      "text/plain": [
       "  0%|          | 0/125 [00:00<?, ?it/s]"
      ]
     },
     "metadata": {},
     "output_type": "display_data"
    },
    {
     "name": "stdout",
     "output_type": "stream",
     "text": [
      "eval_loss: 1.6000356674194336, eval_accuracy: 0.753, eval_f1: 0.7172216627529965, eval_runtime: 20.9477, eval_samples_per_second: 95.476, eval_steps_per_second: 5.967, epoch: 6.3364\r\n"
     ]
    },
    {
     "name": "stderr",
     "output_type": "stream",
     "text": [
      "[2024-03-04 14:33:47,281] [    INFO] - Saving model checkpoint to ./work/output/checkpoint-11000\r\n",
      "[2024-03-04 14:33:51,360] [    INFO] - Deleting older checkpoint [work/output/checkpoint-9200] due to args.save_total_limit\r\n"
     ]
    },
    {
     "name": "stdout",
     "output_type": "stream",
     "text": [
      "loss: 0.11456225, learning_rate: 1.8289170506912443e-05, global_step: 11010, interval_runtime: 29.5914, interval_samples_per_second: 0.541, interval_steps_per_second: 0.338, epoch: 6.3422\r\n",
      "loss: 0.01107028, learning_rate: 1.8260368663594472e-05, global_step: 11020, interval_runtime: 4.4457, interval_samples_per_second: 3.599, interval_steps_per_second: 2.249, epoch: 6.3479\r\n",
      "loss: 0.11854219, learning_rate: 1.8231566820276498e-05, global_step: 11030, interval_runtime: 4.4361, interval_samples_per_second: 3.607, interval_steps_per_second: 2.254, epoch: 6.3537\r\n",
      "loss: 0.00468061, learning_rate: 1.8202764976958524e-05, global_step: 11040, interval_runtime: 4.4283, interval_samples_per_second: 3.613, interval_steps_per_second: 2.258, epoch: 6.3594\r\n",
      "loss: 0.04697812, learning_rate: 1.8173963133640553e-05, global_step: 11050, interval_runtime: 4.4322, interval_samples_per_second: 3.61, interval_steps_per_second: 2.256, epoch: 6.3652\r\n",
      "loss: 0.14498675, learning_rate: 1.8145161290322583e-05, global_step: 11060, interval_runtime: 4.439, interval_samples_per_second: 3.604, interval_steps_per_second: 2.253, epoch: 6.371\r\n",
      "loss: 0.09685765, learning_rate: 1.8116359447004612e-05, global_step: 11070, interval_runtime: 4.4326, interval_samples_per_second: 3.61, interval_steps_per_second: 2.256, epoch: 6.3767\r\n",
      "loss: 0.0854382, learning_rate: 1.8087557603686638e-05, global_step: 11080, interval_runtime: 4.4308, interval_samples_per_second: 3.611, interval_steps_per_second: 2.257, epoch: 6.3825\r\n",
      "loss: 0.14324139, learning_rate: 1.8058755760368664e-05, global_step: 11090, interval_runtime: 4.4191, interval_samples_per_second: 3.621, interval_steps_per_second: 2.263, epoch: 6.3882\r\n",
      "loss: 0.00236509, learning_rate: 1.8029953917050693e-05, global_step: 11100, interval_runtime: 4.4331, interval_samples_per_second: 3.609, interval_steps_per_second: 2.256, epoch: 6.394\r\n",
      "loss: 0.11670703, learning_rate: 1.800115207373272e-05, global_step: 11110, interval_runtime: 4.4201, interval_samples_per_second: 3.62, interval_steps_per_second: 2.262, epoch: 6.3998\r\n",
      "loss: 0.12319812, learning_rate: 1.7972350230414748e-05, global_step: 11120, interval_runtime: 4.4203, interval_samples_per_second: 3.62, interval_steps_per_second: 2.262, epoch: 6.4055\r\n",
      "loss: 0.1656707, learning_rate: 1.7943548387096777e-05, global_step: 11130, interval_runtime: 4.4195, interval_samples_per_second: 3.62, interval_steps_per_second: 2.263, epoch: 6.4113\r\n",
      "loss: 0.12228884, learning_rate: 1.79147465437788e-05, global_step: 11140, interval_runtime: 4.4155, interval_samples_per_second: 3.624, interval_steps_per_second: 2.265, epoch: 6.4171\r\n",
      "loss: 0.12968413, learning_rate: 1.788594470046083e-05, global_step: 11150, interval_runtime: 4.4212, interval_samples_per_second: 3.619, interval_steps_per_second: 2.262, epoch: 6.4228\r\n",
      "loss: 0.08533989, learning_rate: 1.785714285714286e-05, global_step: 11160, interval_runtime: 4.4166, interval_samples_per_second: 3.623, interval_steps_per_second: 2.264, epoch: 6.4286\r\n",
      "loss: 0.13989295, learning_rate: 1.7828341013824888e-05, global_step: 11170, interval_runtime: 4.4484, interval_samples_per_second: 3.597, interval_steps_per_second: 2.248, epoch: 6.4343\r\n",
      "loss: 0.02655488, learning_rate: 1.7799539170506914e-05, global_step: 11180, interval_runtime: 4.4237, interval_samples_per_second: 3.617, interval_steps_per_second: 2.261, epoch: 6.4401\r\n",
      "loss: 0.071245, learning_rate: 1.777073732718894e-05, global_step: 11190, interval_runtime: 4.4193, interval_samples_per_second: 3.621, interval_steps_per_second: 2.263, epoch: 6.4459\r\n",
      "loss: 0.07526438, learning_rate: 1.774193548387097e-05, global_step: 11200, interval_runtime: 4.4565, interval_samples_per_second: 3.59, interval_steps_per_second: 2.244, epoch: 6.4516\r\n"
     ]
    },
    {
     "name": "stderr",
     "output_type": "stream",
     "text": [
      "[2024-03-04 14:35:20,072] [    INFO] - ***** Running Evaluation *****\r\n",
      "[2024-03-04 14:35:20,075] [    INFO] -   Num examples = 2000\r\n",
      "[2024-03-04 14:35:20,077] [    INFO] -   Pre device batch size = 16\r\n",
      "[2024-03-04 14:35:20,079] [    INFO] -   Total Batch size = 16\r\n",
      "[2024-03-04 14:35:20,082] [    INFO] -   Total prediction steps = 125\r\n"
     ]
    },
    {
     "data": {
      "application/vnd.jupyter.widget-view+json": {
       "model_id": "2353230c5ad6476ba134fa5633a2a274",
       "version_major": 2,
       "version_minor": 0
      },
      "text/plain": [
       "  0%|          | 0/125 [00:00<?, ?it/s]"
      ]
     },
     "metadata": {},
     "output_type": "display_data"
    },
    {
     "name": "stdout",
     "output_type": "stream",
     "text": [
      "eval_loss: 1.565563678741455, eval_accuracy: 0.7505, eval_f1: 0.7125073033552126, eval_runtime: 20.8699, eval_samples_per_second: 95.832, eval_steps_per_second: 5.989, epoch: 6.4516\r\n"
     ]
    },
    {
     "name": "stderr",
     "output_type": "stream",
     "text": [
      "[2024-03-04 14:35:40,947] [    INFO] - Saving model checkpoint to ./work/output/checkpoint-11200\r\n",
      "[2024-03-04 14:35:44,783] [    INFO] - Deleting older checkpoint [work/output/checkpoint-9400] due to args.save_total_limit\r\n"
     ]
    },
    {
     "name": "stdout",
     "output_type": "stream",
     "text": [
      "loss: 0.11476383, learning_rate: 1.7713133640552995e-05, global_step: 11210, interval_runtime: 29.2401, interval_samples_per_second: 0.547, interval_steps_per_second: 0.342, epoch: 6.4574\r\n",
      "loss: 0.07137604, learning_rate: 1.7684331797235024e-05, global_step: 11220, interval_runtime: 4.4352, interval_samples_per_second: 3.607, interval_steps_per_second: 2.255, epoch: 6.4631\r\n",
      "loss: 0.06899961, learning_rate: 1.7655529953917053e-05, global_step: 11230, interval_runtime: 4.4363, interval_samples_per_second: 3.607, interval_steps_per_second: 2.254, epoch: 6.4689\r\n",
      "loss: 0.13609204, learning_rate: 1.762672811059908e-05, global_step: 11240, interval_runtime: 4.423, interval_samples_per_second: 3.617, interval_steps_per_second: 2.261, epoch: 6.4747\r\n",
      "loss: 0.08431775, learning_rate: 1.7597926267281105e-05, global_step: 11250, interval_runtime: 4.4196, interval_samples_per_second: 3.62, interval_steps_per_second: 2.263, epoch: 6.4804\r\n",
      "loss: 0.04237277, learning_rate: 1.7569124423963134e-05, global_step: 11260, interval_runtime: 4.4348, interval_samples_per_second: 3.608, interval_steps_per_second: 2.255, epoch: 6.4862\r\n",
      "loss: 0.09785174, learning_rate: 1.7540322580645164e-05, global_step: 11270, interval_runtime: 4.4187, interval_samples_per_second: 3.621, interval_steps_per_second: 2.263, epoch: 6.4919\r\n",
      "loss: 0.05276839, learning_rate: 1.751152073732719e-05, global_step: 11280, interval_runtime: 4.5655, interval_samples_per_second: 3.505, interval_steps_per_second: 2.19, epoch: 6.4977\r\n",
      "loss: 0.10427068, learning_rate: 1.748271889400922e-05, global_step: 11290, interval_runtime: 4.418, interval_samples_per_second: 3.622, interval_steps_per_second: 2.263, epoch: 6.5035\r\n",
      "loss: 0.14113011, learning_rate: 1.7453917050691245e-05, global_step: 11300, interval_runtime: 4.4152, interval_samples_per_second: 3.624, interval_steps_per_second: 2.265, epoch: 6.5092\r\n",
      "loss: 0.00439305, learning_rate: 1.742511520737327e-05, global_step: 11310, interval_runtime: 4.4259, interval_samples_per_second: 3.615, interval_steps_per_second: 2.259, epoch: 6.515\r\n",
      "loss: 0.11065667, learning_rate: 1.73963133640553e-05, global_step: 11320, interval_runtime: 4.4215, interval_samples_per_second: 3.619, interval_steps_per_second: 2.262, epoch: 6.5207\r\n",
      "loss: 0.0654373, learning_rate: 1.736751152073733e-05, global_step: 11330, interval_runtime: 4.4198, interval_samples_per_second: 3.62, interval_steps_per_second: 2.263, epoch: 6.5265\r\n",
      "loss: 0.0747116, learning_rate: 1.733870967741936e-05, global_step: 11340, interval_runtime: 4.409, interval_samples_per_second: 3.629, interval_steps_per_second: 2.268, epoch: 6.5323\r\n",
      "loss: 0.06747488, learning_rate: 1.7309907834101384e-05, global_step: 11350, interval_runtime: 4.4146, interval_samples_per_second: 3.624, interval_steps_per_second: 2.265, epoch: 6.538\r\n",
      "loss: 0.11764197, learning_rate: 1.728110599078341e-05, global_step: 11360, interval_runtime: 4.412, interval_samples_per_second: 3.626, interval_steps_per_second: 2.267, epoch: 6.5438\r\n",
      "loss: 0.12325854, learning_rate: 1.725230414746544e-05, global_step: 11370, interval_runtime: 4.4097, interval_samples_per_second: 3.628, interval_steps_per_second: 2.268, epoch: 6.5495\r\n",
      "loss: 0.11839353, learning_rate: 1.7223502304147465e-05, global_step: 11380, interval_runtime: 4.4174, interval_samples_per_second: 3.622, interval_steps_per_second: 2.264, epoch: 6.5553\r\n",
      "loss: 0.10848917, learning_rate: 1.7194700460829495e-05, global_step: 11390, interval_runtime: 4.4073, interval_samples_per_second: 3.63, interval_steps_per_second: 2.269, epoch: 6.5611\r\n",
      "loss: 0.0336993, learning_rate: 1.7165898617511524e-05, global_step: 11400, interval_runtime: 4.4157, interval_samples_per_second: 3.623, interval_steps_per_second: 2.265, epoch: 6.5668\r\n"
     ]
    },
    {
     "name": "stderr",
     "output_type": "stream",
     "text": [
      "[2024-03-04 14:37:13,436] [    INFO] - ***** Running Evaluation *****\r\n",
      "[2024-03-04 14:37:13,439] [    INFO] -   Num examples = 2000\r\n",
      "[2024-03-04 14:37:13,442] [    INFO] -   Pre device batch size = 16\r\n",
      "[2024-03-04 14:37:13,448] [    INFO] -   Total Batch size = 16\r\n",
      "[2024-03-04 14:37:13,451] [    INFO] -   Total prediction steps = 125\r\n"
     ]
    },
    {
     "data": {
      "application/vnd.jupyter.widget-view+json": {
       "model_id": "3fa65b3deeaf4228af994aee53d5bcce",
       "version_major": 2,
       "version_minor": 0
      },
      "text/plain": [
       "  0%|          | 0/125 [00:00<?, ?it/s]"
      ]
     },
     "metadata": {},
     "output_type": "display_data"
    },
    {
     "name": "stdout",
     "output_type": "stream",
     "text": [
      "eval_loss: 1.605291724205017, eval_accuracy: 0.7495, eval_f1: 0.715395030341443, eval_runtime: 20.9083, eval_samples_per_second: 95.656, eval_steps_per_second: 5.978, epoch: 6.5668\r\n"
     ]
    },
    {
     "name": "stderr",
     "output_type": "stream",
     "text": [
      "[2024-03-04 14:37:34,352] [    INFO] - Saving model checkpoint to ./work/output/checkpoint-11400\r\n",
      "[2024-03-04 14:37:38,683] [    INFO] - Deleting older checkpoint [work/output/checkpoint-9600] due to args.save_total_limit\r\n"
     ]
    },
    {
     "name": "stdout",
     "output_type": "stream",
     "text": [
      "loss: 0.08004939, learning_rate: 1.7137096774193546e-05, global_step: 11410, interval_runtime: 29.7779, interval_samples_per_second: 0.537, interval_steps_per_second: 0.336, epoch: 6.5726\r\n",
      "loss: 0.06493801, learning_rate: 1.7108294930875576e-05, global_step: 11420, interval_runtime: 4.4194, interval_samples_per_second: 3.62, interval_steps_per_second: 2.263, epoch: 6.5783\r\n",
      "loss: 0.08475181, learning_rate: 1.7079493087557605e-05, global_step: 11430, interval_runtime: 4.4325, interval_samples_per_second: 3.61, interval_steps_per_second: 2.256, epoch: 6.5841\r\n",
      "loss: 0.07673042, learning_rate: 1.7050691244239634e-05, global_step: 11440, interval_runtime: 4.4511, interval_samples_per_second: 3.595, interval_steps_per_second: 2.247, epoch: 6.5899\r\n",
      "loss: 0.10514381, learning_rate: 1.702188940092166e-05, global_step: 11450, interval_runtime: 4.4439, interval_samples_per_second: 3.6, interval_steps_per_second: 2.25, epoch: 6.5956\r\n",
      "loss: 0.06628569, learning_rate: 1.6993087557603686e-05, global_step: 11460, interval_runtime: 4.424, interval_samples_per_second: 3.617, interval_steps_per_second: 2.26, epoch: 6.6014\r\n",
      "loss: 0.020353, learning_rate: 1.6964285714285715e-05, global_step: 11470, interval_runtime: 4.4346, interval_samples_per_second: 3.608, interval_steps_per_second: 2.255, epoch: 6.6071\r\n",
      "loss: 0.06211736, learning_rate: 1.693548387096774e-05, global_step: 11480, interval_runtime: 4.4216, interval_samples_per_second: 3.619, interval_steps_per_second: 2.262, epoch: 6.6129\r\n",
      "loss: 0.18394635, learning_rate: 1.690668202764977e-05, global_step: 11490, interval_runtime: 4.6675, interval_samples_per_second: 3.428, interval_steps_per_second: 2.142, epoch: 6.6187\r\n",
      "loss: 0.18843963, learning_rate: 1.68778801843318e-05, global_step: 11500, interval_runtime: 4.4195, interval_samples_per_second: 3.62, interval_steps_per_second: 2.263, epoch: 6.6244\r\n",
      "loss: 0.13611542, learning_rate: 1.6849078341013826e-05, global_step: 11510, interval_runtime: 4.4139, interval_samples_per_second: 3.625, interval_steps_per_second: 2.266, epoch: 6.6302\r\n",
      "loss: 0.08512303, learning_rate: 1.682027649769585e-05, global_step: 11520, interval_runtime: 4.4299, interval_samples_per_second: 3.612, interval_steps_per_second: 2.257, epoch: 6.6359\r\n",
      "loss: 0.15668721, learning_rate: 1.679147465437788e-05, global_step: 11530, interval_runtime: 4.4397, interval_samples_per_second: 3.604, interval_steps_per_second: 2.252, epoch: 6.6417\r\n",
      "loss: 0.17087677, learning_rate: 1.676267281105991e-05, global_step: 11540, interval_runtime: 4.4239, interval_samples_per_second: 3.617, interval_steps_per_second: 2.26, epoch: 6.6475\r\n",
      "loss: 0.23086765, learning_rate: 1.6733870967741936e-05, global_step: 11550, interval_runtime: 4.4245, interval_samples_per_second: 3.616, interval_steps_per_second: 2.26, epoch: 6.6532\r\n",
      "loss: 0.09410261, learning_rate: 1.6705069124423965e-05, global_step: 11560, interval_runtime: 4.4415, interval_samples_per_second: 3.602, interval_steps_per_second: 2.252, epoch: 6.659\r\n",
      "loss: 0.11158249, learning_rate: 1.667626728110599e-05, global_step: 11570, interval_runtime: 4.4122, interval_samples_per_second: 3.626, interval_steps_per_second: 2.266, epoch: 6.6647\r\n",
      "loss: 0.08142056, learning_rate: 1.6647465437788017e-05, global_step: 11580, interval_runtime: 4.4155, interval_samples_per_second: 3.624, interval_steps_per_second: 2.265, epoch: 6.6705\r\n",
      "loss: 0.03225507, learning_rate: 1.6618663594470046e-05, global_step: 11590, interval_runtime: 4.4331, interval_samples_per_second: 3.609, interval_steps_per_second: 2.256, epoch: 6.6763\r\n",
      "loss: 0.0336087, learning_rate: 1.6589861751152075e-05, global_step: 11600, interval_runtime: 4.4299, interval_samples_per_second: 3.612, interval_steps_per_second: 2.257, epoch: 6.682\r\n"
     ]
    },
    {
     "name": "stderr",
     "output_type": "stream",
     "text": [
      "[2024-03-04 14:39:07,590] [    INFO] - ***** Running Evaluation *****\r\n",
      "[2024-03-04 14:39:07,593] [    INFO] -   Num examples = 2000\r\n",
      "[2024-03-04 14:39:07,595] [    INFO] -   Pre device batch size = 16\r\n",
      "[2024-03-04 14:39:07,597] [    INFO] -   Total Batch size = 16\r\n",
      "[2024-03-04 14:39:07,600] [    INFO] -   Total prediction steps = 125\r\n"
     ]
    },
    {
     "data": {
      "application/vnd.jupyter.widget-view+json": {
       "model_id": "b6466ee6152f4a6e896e3f81e6deb68e",
       "version_major": 2,
       "version_minor": 0
      },
      "text/plain": [
       "  0%|          | 0/125 [00:00<?, ?it/s]"
      ]
     },
     "metadata": {},
     "output_type": "display_data"
    },
    {
     "name": "stdout",
     "output_type": "stream",
     "text": [
      "eval_loss: 1.57943594455719, eval_accuracy: 0.7605, eval_f1: 0.7273816615222817, eval_runtime: 20.9495, eval_samples_per_second: 95.468, eval_steps_per_second: 5.967, epoch: 6.682\r\n"
     ]
    },
    {
     "name": "stderr",
     "output_type": "stream",
     "text": [
      "[2024-03-04 14:39:28,545] [    INFO] - Saving model checkpoint to ./work/output/checkpoint-11600\r\n",
      "[2024-03-04 14:39:32,357] [    INFO] - Deleting older checkpoint [work/output/checkpoint-9800] due to args.save_total_limit\r\n"
     ]
    },
    {
     "name": "stdout",
     "output_type": "stream",
     "text": [
      "loss: 0.07399665, learning_rate: 1.6561059907834105e-05, global_step: 11610, interval_runtime: 29.3453, interval_samples_per_second: 0.545, interval_steps_per_second: 0.341, epoch: 6.6878\r\n",
      "loss: 0.06962731, learning_rate: 1.653225806451613e-05, global_step: 11620, interval_runtime: 4.4316, interval_samples_per_second: 3.61, interval_steps_per_second: 2.257, epoch: 6.6935\r\n",
      "loss: 0.17381606, learning_rate: 1.6503456221198157e-05, global_step: 11630, interval_runtime: 4.4271, interval_samples_per_second: 3.614, interval_steps_per_second: 2.259, epoch: 6.6993\r\n",
      "loss: 0.00260564, learning_rate: 1.6474654377880186e-05, global_step: 11640, interval_runtime: 4.4417, interval_samples_per_second: 3.602, interval_steps_per_second: 2.251, epoch: 6.7051\r\n",
      "loss: 0.11519141, learning_rate: 1.6445852534562212e-05, global_step: 11650, interval_runtime: 4.4241, interval_samples_per_second: 3.617, interval_steps_per_second: 2.26, epoch: 6.7108\r\n",
      "loss: 0.17413645, learning_rate: 1.641705069124424e-05, global_step: 11660, interval_runtime: 4.4249, interval_samples_per_second: 3.616, interval_steps_per_second: 2.26, epoch: 6.7166\r\n",
      "loss: 0.23275306, learning_rate: 1.638824884792627e-05, global_step: 11670, interval_runtime: 4.4248, interval_samples_per_second: 3.616, interval_steps_per_second: 2.26, epoch: 6.7224\r\n",
      "loss: 0.20367196, learning_rate: 1.6359447004608296e-05, global_step: 11680, interval_runtime: 4.421, interval_samples_per_second: 3.619, interval_steps_per_second: 2.262, epoch: 6.7281\r\n",
      "loss: 0.12932742, learning_rate: 1.6330645161290322e-05, global_step: 11690, interval_runtime: 4.4178, interval_samples_per_second: 3.622, interval_steps_per_second: 2.264, epoch: 6.7339\r\n",
      "loss: 0.08074283, learning_rate: 1.630184331797235e-05, global_step: 11700, interval_runtime: 4.42, interval_samples_per_second: 3.62, interval_steps_per_second: 2.262, epoch: 6.7396\r\n",
      "loss: 0.08290678, learning_rate: 1.627304147465438e-05, global_step: 11710, interval_runtime: 4.4083, interval_samples_per_second: 3.629, interval_steps_per_second: 2.268, epoch: 6.7454\r\n",
      "loss: 0.09306703, learning_rate: 1.6244239631336406e-05, global_step: 11720, interval_runtime: 4.42, interval_samples_per_second: 3.62, interval_steps_per_second: 2.262, epoch: 6.7512\r\n",
      "loss: 0.04796894, learning_rate: 1.6215437788018432e-05, global_step: 11730, interval_runtime: 4.417, interval_samples_per_second: 3.622, interval_steps_per_second: 2.264, epoch: 6.7569\r\n",
      "loss: 0.26183476, learning_rate: 1.618663594470046e-05, global_step: 11740, interval_runtime: 4.4253, interval_samples_per_second: 3.616, interval_steps_per_second: 2.26, epoch: 6.7627\r\n",
      "loss: 0.07659931, learning_rate: 1.6157834101382488e-05, global_step: 11750, interval_runtime: 4.4101, interval_samples_per_second: 3.628, interval_steps_per_second: 2.268, epoch: 6.7684\r\n",
      "loss: 0.10278189, learning_rate: 1.6129032258064517e-05, global_step: 11760, interval_runtime: 4.4147, interval_samples_per_second: 3.624, interval_steps_per_second: 2.265, epoch: 6.7742\r\n",
      "loss: 0.0971301, learning_rate: 1.6100230414746546e-05, global_step: 11770, interval_runtime: 4.413, interval_samples_per_second: 3.626, interval_steps_per_second: 2.266, epoch: 6.78\r\n",
      "loss: 0.08696962, learning_rate: 1.6071428571428572e-05, global_step: 11780, interval_runtime: 4.4179, interval_samples_per_second: 3.622, interval_steps_per_second: 2.264, epoch: 6.7857\r\n",
      "loss: 0.01200006, learning_rate: 1.6042626728110598e-05, global_step: 11790, interval_runtime: 4.4102, interval_samples_per_second: 3.628, interval_steps_per_second: 2.267, epoch: 6.7915\r\n",
      "loss: 0.03431651, learning_rate: 1.6013824884792627e-05, global_step: 11800, interval_runtime: 4.4136, interval_samples_per_second: 3.625, interval_steps_per_second: 2.266, epoch: 6.7972\r\n"
     ]
    },
    {
     "name": "stderr",
     "output_type": "stream",
     "text": [
      "[2024-03-04 14:41:00,921] [    INFO] - ***** Running Evaluation *****\r\n",
      "[2024-03-04 14:41:00,929] [    INFO] -   Num examples = 2000\r\n",
      "[2024-03-04 14:41:00,943] [    INFO] -   Pre device batch size = 16\r\n",
      "[2024-03-04 14:41:00,967] [    INFO] -   Total Batch size = 16\r\n",
      "[2024-03-04 14:41:00,983] [    INFO] -   Total prediction steps = 125\r\n"
     ]
    },
    {
     "data": {
      "application/vnd.jupyter.widget-view+json": {
       "model_id": "fe05e4d730784e098d5e82bb0515f91d",
       "version_major": 2,
       "version_minor": 0
      },
      "text/plain": [
       "  0%|          | 0/125 [00:00<?, ?it/s]"
      ]
     },
     "metadata": {},
     "output_type": "display_data"
    },
    {
     "name": "stdout",
     "output_type": "stream",
     "text": [
      "eval_loss: 1.5709463357925415, eval_accuracy: 0.7555, eval_f1: 0.7234648932587794, eval_runtime: 21.347, eval_samples_per_second: 93.69, eval_steps_per_second: 5.856, epoch: 6.7972\r\n"
     ]
    },
    {
     "name": "stderr",
     "output_type": "stream",
     "text": [
      "[2024-03-04 14:41:22,274] [    INFO] - Saving model checkpoint to ./work/output/checkpoint-11800\r\n",
      "[2024-03-04 14:41:26,104] [    INFO] - Deleting older checkpoint [work/output/checkpoint-10000] due to args.save_total_limit\r\n"
     ]
    },
    {
     "name": "stdout",
     "output_type": "stream",
     "text": [
      "loss: 0.03842135, learning_rate: 1.5985023041474656e-05, global_step: 11810, interval_runtime: 29.7076, interval_samples_per_second: 0.539, interval_steps_per_second: 0.337, epoch: 6.803\r\n",
      "loss: 0.07701749, learning_rate: 1.5956221198156682e-05, global_step: 11820, interval_runtime: 4.4113, interval_samples_per_second: 3.627, interval_steps_per_second: 2.267, epoch: 6.8088\r\n",
      "loss: 0.22885118, learning_rate: 1.592741935483871e-05, global_step: 11830, interval_runtime: 4.4491, interval_samples_per_second: 3.596, interval_steps_per_second: 2.248, epoch: 6.8145\r\n",
      "loss: 0.04113282, learning_rate: 1.5898617511520737e-05, global_step: 11840, interval_runtime: 4.4308, interval_samples_per_second: 3.611, interval_steps_per_second: 2.257, epoch: 6.8203\r\n",
      "loss: 0.0539931, learning_rate: 1.5869815668202767e-05, global_step: 11850, interval_runtime: 4.4438, interval_samples_per_second: 3.6, interval_steps_per_second: 2.25, epoch: 6.826\r\n",
      "loss: 0.05726588, learning_rate: 1.5841013824884793e-05, global_step: 11860, interval_runtime: 4.4157, interval_samples_per_second: 3.623, interval_steps_per_second: 2.265, epoch: 6.8318\r\n",
      "loss: 0.15681474, learning_rate: 1.5812211981566822e-05, global_step: 11870, interval_runtime: 4.4151, interval_samples_per_second: 3.624, interval_steps_per_second: 2.265, epoch: 6.8376\r\n",
      "loss: 0.06159896, learning_rate: 1.578341013824885e-05, global_step: 11880, interval_runtime: 4.4393, interval_samples_per_second: 3.604, interval_steps_per_second: 2.253, epoch: 6.8433\r\n",
      "loss: 0.07087952, learning_rate: 1.5754608294930877e-05, global_step: 11890, interval_runtime: 4.4201, interval_samples_per_second: 3.62, interval_steps_per_second: 2.262, epoch: 6.8491\r\n",
      "loss: 0.05173361, learning_rate: 1.5725806451612903e-05, global_step: 11900, interval_runtime: 4.4255, interval_samples_per_second: 3.615, interval_steps_per_second: 2.26, epoch: 6.8548\r\n",
      "loss: 0.15270743, learning_rate: 1.5697004608294932e-05, global_step: 11910, interval_runtime: 4.4316, interval_samples_per_second: 3.61, interval_steps_per_second: 2.257, epoch: 6.8606\r\n",
      "loss: 0.13902388, learning_rate: 1.5668202764976958e-05, global_step: 11920, interval_runtime: 4.442, interval_samples_per_second: 3.602, interval_steps_per_second: 2.251, epoch: 6.8664\r\n",
      "loss: 0.07178049, learning_rate: 1.5639400921658987e-05, global_step: 11930, interval_runtime: 4.4321, interval_samples_per_second: 3.61, interval_steps_per_second: 2.256, epoch: 6.8721\r\n",
      "loss: 0.09413737, learning_rate: 1.5610599078341017e-05, global_step: 11940, interval_runtime: 4.4347, interval_samples_per_second: 3.608, interval_steps_per_second: 2.255, epoch: 6.8779\r\n",
      "loss: 0.01878802, learning_rate: 1.5581797235023043e-05, global_step: 11950, interval_runtime: 4.4326, interval_samples_per_second: 3.61, interval_steps_per_second: 2.256, epoch: 6.8836\r\n",
      "loss: 0.1325462, learning_rate: 1.555299539170507e-05, global_step: 11960, interval_runtime: 4.4227, interval_samples_per_second: 3.618, interval_steps_per_second: 2.261, epoch: 6.8894\r\n",
      "loss: 0.15320007, learning_rate: 1.5524193548387098e-05, global_step: 11970, interval_runtime: 4.4354, interval_samples_per_second: 3.607, interval_steps_per_second: 2.255, epoch: 6.8952\r\n",
      "loss: 0.14534907, learning_rate: 1.5495391705069127e-05, global_step: 11980, interval_runtime: 4.4357, interval_samples_per_second: 3.607, interval_steps_per_second: 2.254, epoch: 6.9009\r\n",
      "loss: 0.04268989, learning_rate: 1.5466589861751153e-05, global_step: 11990, interval_runtime: 4.4469, interval_samples_per_second: 3.598, interval_steps_per_second: 2.249, epoch: 6.9067\r\n",
      "loss: 0.09280101, learning_rate: 1.543778801843318e-05, global_step: 12000, interval_runtime: 4.4405, interval_samples_per_second: 3.603, interval_steps_per_second: 2.252, epoch: 6.9124\r\n"
     ]
    },
    {
     "name": "stderr",
     "output_type": "stream",
     "text": [
      "[2024-03-04 14:42:54,830] [    INFO] - ***** Running Evaluation *****\r\n",
      "[2024-03-04 14:42:54,835] [    INFO] -   Num examples = 2000\r\n",
      "[2024-03-04 14:42:54,839] [    INFO] -   Pre device batch size = 16\r\n",
      "[2024-03-04 14:42:54,841] [    INFO] -   Total Batch size = 16\r\n",
      "[2024-03-04 14:42:54,845] [    INFO] -   Total prediction steps = 125\r\n"
     ]
    },
    {
     "data": {
      "application/vnd.jupyter.widget-view+json": {
       "model_id": "1a0eecab82274ea3b131a64327e249db",
       "version_major": 2,
       "version_minor": 0
      },
      "text/plain": [
       "  0%|          | 0/125 [00:00<?, ?it/s]"
      ]
     },
     "metadata": {},
     "output_type": "display_data"
    },
    {
     "name": "stdout",
     "output_type": "stream",
     "text": [
      "eval_loss: 1.5844402313232422, eval_accuracy: 0.751, eval_f1: 0.7186027126130482, eval_runtime: 21.1168, eval_samples_per_second: 94.711, eval_steps_per_second: 5.919, epoch: 6.9124\r\n"
     ]
    },
    {
     "name": "stderr",
     "output_type": "stream",
     "text": [
      "[2024-03-04 14:43:15,954] [    INFO] - Saving model checkpoint to ./work/output/checkpoint-12000\r\n",
      "[2024-03-04 14:43:19,854] [    INFO] - Deleting older checkpoint [work/output/checkpoint-10200] due to args.save_total_limit\r\n"
     ]
    },
    {
     "name": "stdout",
     "output_type": "stream",
     "text": [
      "loss: 0.15287248, learning_rate: 1.5408986175115208e-05, global_step: 12010, interval_runtime: 29.5691, interval_samples_per_second: 0.541, interval_steps_per_second: 0.338, epoch: 6.9182\r\n",
      "loss: 0.16372072, learning_rate: 1.5380184331797234e-05, global_step: 12020, interval_runtime: 4.4378, interval_samples_per_second: 3.605, interval_steps_per_second: 2.253, epoch: 6.924\r\n",
      "loss: 0.11628516, learning_rate: 1.5351382488479263e-05, global_step: 12030, interval_runtime: 4.4184, interval_samples_per_second: 3.621, interval_steps_per_second: 2.263, epoch: 6.9297\r\n",
      "loss: 0.027183, learning_rate: 1.5322580645161292e-05, global_step: 12040, interval_runtime: 4.4241, interval_samples_per_second: 3.617, interval_steps_per_second: 2.26, epoch: 6.9355\r\n",
      "loss: 0.04796409, learning_rate: 1.529377880184332e-05, global_step: 12050, interval_runtime: 4.4325, interval_samples_per_second: 3.61, interval_steps_per_second: 2.256, epoch: 6.9412\r\n",
      "loss: 0.08261654, learning_rate: 1.5264976958525344e-05, global_step: 12060, interval_runtime: 4.4446, interval_samples_per_second: 3.6, interval_steps_per_second: 2.25, epoch: 6.947\r\n",
      "loss: 0.08356651, learning_rate: 1.5236175115207374e-05, global_step: 12070, interval_runtime: 4.4276, interval_samples_per_second: 3.614, interval_steps_per_second: 2.259, epoch: 6.9528\r\n",
      "loss: 0.04097056, learning_rate: 1.5207373271889403e-05, global_step: 12080, interval_runtime: 4.4259, interval_samples_per_second: 3.615, interval_steps_per_second: 2.259, epoch: 6.9585\r\n",
      "loss: 0.07164902, learning_rate: 1.5178571428571429e-05, global_step: 12090, interval_runtime: 4.4172, interval_samples_per_second: 3.622, interval_steps_per_second: 2.264, epoch: 6.9643\r\n",
      "loss: 0.02231745, learning_rate: 1.5149769585253456e-05, global_step: 12100, interval_runtime: 4.4235, interval_samples_per_second: 3.617, interval_steps_per_second: 2.261, epoch: 6.97\r\n",
      "loss: 0.13557612, learning_rate: 1.5120967741935486e-05, global_step: 12110, interval_runtime: 4.4241, interval_samples_per_second: 3.617, interval_steps_per_second: 2.26, epoch: 6.9758\r\n",
      "loss: 0.03333107, learning_rate: 1.5092165898617513e-05, global_step: 12120, interval_runtime: 4.4178, interval_samples_per_second: 3.622, interval_steps_per_second: 2.264, epoch: 6.9816\r\n",
      "loss: 0.08698006, learning_rate: 1.5063364055299539e-05, global_step: 12130, interval_runtime: 4.4231, interval_samples_per_second: 3.617, interval_steps_per_second: 2.261, epoch: 6.9873\r\n",
      "loss: 0.09919267, learning_rate: 1.5034562211981568e-05, global_step: 12140, interval_runtime: 4.417, interval_samples_per_second: 3.622, interval_steps_per_second: 2.264, epoch: 6.9931\r\n",
      "loss: 0.05661392, learning_rate: 1.5005760368663596e-05, global_step: 12150, interval_runtime: 4.4201, interval_samples_per_second: 3.62, interval_steps_per_second: 2.262, epoch: 6.9988\r\n",
      "loss: 0.00195837, learning_rate: 1.4976958525345622e-05, global_step: 12160, interval_runtime: 4.436, interval_samples_per_second: 3.607, interval_steps_per_second: 2.254, epoch: 7.0046\r\n",
      "loss: 0.00278541, learning_rate: 1.4948156682027651e-05, global_step: 12170, interval_runtime: 4.4248, interval_samples_per_second: 3.616, interval_steps_per_second: 2.26, epoch: 7.0104\r\n",
      "loss: 0.00246845, learning_rate: 1.4919354838709679e-05, global_step: 12180, interval_runtime: 4.4477, interval_samples_per_second: 3.597, interval_steps_per_second: 2.248, epoch: 7.0161\r\n",
      "loss: 0.04781878, learning_rate: 1.4890552995391705e-05, global_step: 12190, interval_runtime: 4.4234, interval_samples_per_second: 3.617, interval_steps_per_second: 2.261, epoch: 7.0219\r\n",
      "loss: 0.0506091, learning_rate: 1.4861751152073732e-05, global_step: 12200, interval_runtime: 4.4263, interval_samples_per_second: 3.615, interval_steps_per_second: 2.259, epoch: 7.0276\r\n"
     ]
    },
    {
     "name": "stderr",
     "output_type": "stream",
     "text": [
      "[2024-03-04 14:44:48,512] [    INFO] - ***** Running Evaluation *****\r\n",
      "[2024-03-04 14:44:48,518] [    INFO] -   Num examples = 2000\r\n",
      "[2024-03-04 14:44:48,521] [    INFO] -   Pre device batch size = 16\r\n",
      "[2024-03-04 14:44:48,524] [    INFO] -   Total Batch size = 16\r\n",
      "[2024-03-04 14:44:48,528] [    INFO] -   Total prediction steps = 125\r\n"
     ]
    },
    {
     "data": {
      "application/vnd.jupyter.widget-view+json": {
       "model_id": "33baab1fbd5341958bf91efb8a22d20d",
       "version_major": 2,
       "version_minor": 0
      },
      "text/plain": [
       "  0%|          | 0/125 [00:00<?, ?it/s]"
      ]
     },
     "metadata": {},
     "output_type": "display_data"
    },
    {
     "name": "stdout",
     "output_type": "stream",
     "text": [
      "eval_loss: 1.7088056802749634, eval_accuracy: 0.752, eval_f1: 0.7181166846764343, eval_runtime: 20.9716, eval_samples_per_second: 95.367, eval_steps_per_second: 5.96, epoch: 7.0276\r\n"
     ]
    },
    {
     "name": "stderr",
     "output_type": "stream",
     "text": [
      "[2024-03-04 14:45:09,492] [    INFO] - Saving model checkpoint to ./work/output/checkpoint-12200\r\n",
      "[2024-03-04 14:45:13,586] [    INFO] - Deleting older checkpoint [work/output/checkpoint-10400] due to args.save_total_limit\r\n"
     ]
    },
    {
     "name": "stdout",
     "output_type": "stream",
     "text": [
      "loss: 0.05014001, learning_rate: 1.4832949308755761e-05, global_step: 12210, interval_runtime: 29.6256, interval_samples_per_second: 0.54, interval_steps_per_second: 0.338, epoch: 7.0334\r\n",
      "loss: 0.04505325, learning_rate: 1.480414746543779e-05, global_step: 12220, interval_runtime: 4.4385, interval_samples_per_second: 3.605, interval_steps_per_second: 2.253, epoch: 7.0392\r\n",
      "loss: 0.11993586, learning_rate: 1.4775345622119815e-05, global_step: 12230, interval_runtime: 4.4219, interval_samples_per_second: 3.618, interval_steps_per_second: 2.261, epoch: 7.0449\r\n",
      "loss: 0.10074357, learning_rate: 1.4746543778801844e-05, global_step: 12240, interval_runtime: 4.4295, interval_samples_per_second: 3.612, interval_steps_per_second: 2.258, epoch: 7.0507\r\n",
      "loss: 0.09928536, learning_rate: 1.4717741935483872e-05, global_step: 12250, interval_runtime: 4.4353, interval_samples_per_second: 3.607, interval_steps_per_second: 2.255, epoch: 7.0565\r\n",
      "loss: 0.11934873, learning_rate: 1.4688940092165898e-05, global_step: 12260, interval_runtime: 4.4257, interval_samples_per_second: 3.615, interval_steps_per_second: 2.26, epoch: 7.0622\r\n",
      "loss: 0.13822236, learning_rate: 1.4660138248847927e-05, global_step: 12270, interval_runtime: 4.4275, interval_samples_per_second: 3.614, interval_steps_per_second: 2.259, epoch: 7.068\r\n",
      "loss: 0.05159174, learning_rate: 1.4631336405529954e-05, global_step: 12280, interval_runtime: 4.4361, interval_samples_per_second: 3.607, interval_steps_per_second: 2.254, epoch: 7.0737\r\n",
      "loss: 0.05658098, learning_rate: 1.4602534562211984e-05, global_step: 12290, interval_runtime: 4.4414, interval_samples_per_second: 3.602, interval_steps_per_second: 2.252, epoch: 7.0795\r\n",
      "loss: 0.12004228, learning_rate: 1.457373271889401e-05, global_step: 12300, interval_runtime: 4.4315, interval_samples_per_second: 3.611, interval_steps_per_second: 2.257, epoch: 7.0853\r\n",
      "loss: 0.00415637, learning_rate: 1.4544930875576037e-05, global_step: 12310, interval_runtime: 4.4304, interval_samples_per_second: 3.611, interval_steps_per_second: 2.257, epoch: 7.091\r\n",
      "loss: 0.00886784, learning_rate: 1.4516129032258066e-05, global_step: 12320, interval_runtime: 4.4318, interval_samples_per_second: 3.61, interval_steps_per_second: 2.256, epoch: 7.0968\r\n",
      "loss: 0.03799149, learning_rate: 1.4487327188940092e-05, global_step: 12330, interval_runtime: 4.4184, interval_samples_per_second: 3.621, interval_steps_per_second: 2.263, epoch: 7.1025\r\n",
      "loss: 0.05366009, learning_rate: 1.445852534562212e-05, global_step: 12340, interval_runtime: 4.4289, interval_samples_per_second: 3.613, interval_steps_per_second: 2.258, epoch: 7.1083\r\n",
      "loss: 0.0586144, learning_rate: 1.442972350230415e-05, global_step: 12350, interval_runtime: 4.4209, interval_samples_per_second: 3.619, interval_steps_per_second: 2.262, epoch: 7.1141\r\n",
      "loss: 0.0388691, learning_rate: 1.4400921658986175e-05, global_step: 12360, interval_runtime: 4.4217, interval_samples_per_second: 3.618, interval_steps_per_second: 2.262, epoch: 7.1198\r\n",
      "loss: 0.03548843, learning_rate: 1.4372119815668203e-05, global_step: 12370, interval_runtime: 4.4308, interval_samples_per_second: 3.611, interval_steps_per_second: 2.257, epoch: 7.1256\r\n",
      "loss: 0.07925417, learning_rate: 1.4343317972350232e-05, global_step: 12380, interval_runtime: 4.4246, interval_samples_per_second: 3.616, interval_steps_per_second: 2.26, epoch: 7.1313\r\n",
      "loss: 0.01562489, learning_rate: 1.431451612903226e-05, global_step: 12390, interval_runtime: 4.4244, interval_samples_per_second: 3.616, interval_steps_per_second: 2.26, epoch: 7.1371\r\n",
      "loss: 0.00851946, learning_rate: 1.4285714285714285e-05, global_step: 12400, interval_runtime: 4.4233, interval_samples_per_second: 3.617, interval_steps_per_second: 2.261, epoch: 7.1429\r\n"
     ]
    },
    {
     "name": "stderr",
     "output_type": "stream",
     "text": [
      "[2024-03-04 14:46:42,280] [    INFO] - ***** Running Evaluation *****\r\n",
      "[2024-03-04 14:46:42,282] [    INFO] -   Num examples = 2000\r\n",
      "[2024-03-04 14:46:42,284] [    INFO] -   Pre device batch size = 16\r\n",
      "[2024-03-04 14:46:42,286] [    INFO] -   Total Batch size = 16\r\n",
      "[2024-03-04 14:46:42,288] [    INFO] -   Total prediction steps = 125\r\n"
     ]
    },
    {
     "data": {
      "application/vnd.jupyter.widget-view+json": {
       "model_id": "5cef3444c98647409403c54add3e4306",
       "version_major": 2,
       "version_minor": 0
      },
      "text/plain": [
       "  0%|          | 0/125 [00:00<?, ?it/s]"
      ]
     },
     "metadata": {},
     "output_type": "display_data"
    },
    {
     "name": "stdout",
     "output_type": "stream",
     "text": [
      "eval_loss: 1.664333701133728, eval_accuracy: 0.7565, eval_f1: 0.719776047872045, eval_runtime: 20.9232, eval_samples_per_second: 95.588, eval_steps_per_second: 5.974, epoch: 7.1429\r\n"
     ]
    },
    {
     "name": "stderr",
     "output_type": "stream",
     "text": [
      "[2024-03-04 14:47:03,208] [    INFO] - Saving model checkpoint to ./work/output/checkpoint-12400\r\n",
      "[2024-03-04 14:47:06,969] [    INFO] - Deleting older checkpoint [work/output/checkpoint-10600] due to args.save_total_limit\r\n"
     ]
    },
    {
     "name": "stdout",
     "output_type": "stream",
     "text": [
      "loss: 0.03757934, learning_rate: 1.4256912442396315e-05, global_step: 12410, interval_runtime: 29.2676, interval_samples_per_second: 0.547, interval_steps_per_second: 0.342, epoch: 7.1486\r\n",
      "loss: 0.11315877, learning_rate: 1.4228110599078342e-05, global_step: 12420, interval_runtime: 4.472, interval_samples_per_second: 3.578, interval_steps_per_second: 2.236, epoch: 7.1544\r\n",
      "loss: 0.01801212, learning_rate: 1.4199308755760368e-05, global_step: 12430, interval_runtime: 4.425, interval_samples_per_second: 3.616, interval_steps_per_second: 2.26, epoch: 7.1601\r\n",
      "loss: 0.03819338, learning_rate: 1.4170506912442397e-05, global_step: 12440, interval_runtime: 4.4253, interval_samples_per_second: 3.616, interval_steps_per_second: 2.26, epoch: 7.1659\r\n",
      "loss: 0.08798847, learning_rate: 1.4141705069124425e-05, global_step: 12450, interval_runtime: 4.4292, interval_samples_per_second: 3.612, interval_steps_per_second: 2.258, epoch: 7.1717\r\n",
      "loss: 0.11575915, learning_rate: 1.4112903225806454e-05, global_step: 12460, interval_runtime: 4.4524, interval_samples_per_second: 3.594, interval_steps_per_second: 2.246, epoch: 7.1774\r\n",
      "loss: 0.00796895, learning_rate: 1.4084101382488479e-05, global_step: 12470, interval_runtime: 4.4315, interval_samples_per_second: 3.611, interval_steps_per_second: 2.257, epoch: 7.1832\r\n",
      "loss: 0.19310383, learning_rate: 1.4055299539170508e-05, global_step: 12480, interval_runtime: 4.431, interval_samples_per_second: 3.611, interval_steps_per_second: 2.257, epoch: 7.1889\r\n",
      "loss: 0.03431965, learning_rate: 1.4026497695852537e-05, global_step: 12490, interval_runtime: 4.4439, interval_samples_per_second: 3.6, interval_steps_per_second: 2.25, epoch: 7.1947\r\n",
      "loss: 0.08248358, learning_rate: 1.3997695852534561e-05, global_step: 12500, interval_runtime: 4.435, interval_samples_per_second: 3.608, interval_steps_per_second: 2.255, epoch: 7.2005\r\n",
      "loss: 0.1586663, learning_rate: 1.396889400921659e-05, global_step: 12510, interval_runtime: 4.4386, interval_samples_per_second: 3.605, interval_steps_per_second: 2.253, epoch: 7.2062\r\n",
      "loss: 0.07459446, learning_rate: 1.3940092165898618e-05, global_step: 12520, interval_runtime: 4.4391, interval_samples_per_second: 3.604, interval_steps_per_second: 2.253, epoch: 7.212\r\n",
      "loss: 0.03863232, learning_rate: 1.3911290322580644e-05, global_step: 12530, interval_runtime: 4.4265, interval_samples_per_second: 3.615, interval_steps_per_second: 2.259, epoch: 7.2177\r\n",
      "loss: 0.06699955, learning_rate: 1.3882488479262673e-05, global_step: 12540, interval_runtime: 4.4365, interval_samples_per_second: 3.606, interval_steps_per_second: 2.254, epoch: 7.2235\r\n",
      "loss: 0.0614728, learning_rate: 1.3853686635944701e-05, global_step: 12550, interval_runtime: 4.4342, interval_samples_per_second: 3.608, interval_steps_per_second: 2.255, epoch: 7.2293\r\n",
      "loss: 0.13134395, learning_rate: 1.382488479262673e-05, global_step: 12560, interval_runtime: 4.4448, interval_samples_per_second: 3.6, interval_steps_per_second: 2.25, epoch: 7.235\r\n",
      "loss: 0.05316039, learning_rate: 1.3796082949308756e-05, global_step: 12570, interval_runtime: 4.4342, interval_samples_per_second: 3.608, interval_steps_per_second: 2.255, epoch: 7.2408\r\n",
      "loss: 0.00345768, learning_rate: 1.3767281105990784e-05, global_step: 12580, interval_runtime: 4.498, interval_samples_per_second: 3.557, interval_steps_per_second: 2.223, epoch: 7.2465\r\n",
      "loss: 0.02275497, learning_rate: 1.3738479262672813e-05, global_step: 12590, interval_runtime: 4.4324, interval_samples_per_second: 3.61, interval_steps_per_second: 2.256, epoch: 7.2523\r\n",
      "loss: 0.01732925, learning_rate: 1.3709677419354839e-05, global_step: 12600, interval_runtime: 4.4298, interval_samples_per_second: 3.612, interval_steps_per_second: 2.257, epoch: 7.2581\r\n"
     ]
    },
    {
     "name": "stderr",
     "output_type": "stream",
     "text": [
      "[2024-03-04 14:48:35,907] [    INFO] - ***** Running Evaluation *****\r\n",
      "[2024-03-04 14:48:35,909] [    INFO] -   Num examples = 2000\r\n",
      "[2024-03-04 14:48:35,912] [    INFO] -   Pre device batch size = 16\r\n",
      "[2024-03-04 14:48:35,914] [    INFO] -   Total Batch size = 16\r\n",
      "[2024-03-04 14:48:35,916] [    INFO] -   Total prediction steps = 125\r\n"
     ]
    },
    {
     "data": {
      "application/vnd.jupyter.widget-view+json": {
       "model_id": "9588894fdbb14f17ab9fcdb601db3f3b",
       "version_major": 2,
       "version_minor": 0
      },
      "text/plain": [
       "  0%|          | 0/125 [00:00<?, ?it/s]"
      ]
     },
     "metadata": {},
     "output_type": "display_data"
    },
    {
     "name": "stdout",
     "output_type": "stream",
     "text": [
      "eval_loss: 1.6699740886688232, eval_accuracy: 0.76, eval_f1: 0.7261053502040872, eval_runtime: 20.9664, eval_samples_per_second: 95.391, eval_steps_per_second: 5.962, epoch: 7.2581\r\n"
     ]
    },
    {
     "name": "stderr",
     "output_type": "stream",
     "text": [
      "[2024-03-04 14:48:56,879] [    INFO] - Saving model checkpoint to ./work/output/checkpoint-12600\r\n",
      "[2024-03-04 14:49:00,895] [    INFO] - Deleting older checkpoint [work/output/checkpoint-10800] due to args.save_total_limit\r\n"
     ]
    },
    {
     "name": "stdout",
     "output_type": "stream",
     "text": [
      "loss: 0.05529826, learning_rate: 1.3680875576036866e-05, global_step: 12610, interval_runtime: 29.5254, interval_samples_per_second: 0.542, interval_steps_per_second: 0.339, epoch: 7.2638\r\n",
      "loss: 0.04581306, learning_rate: 1.3652073732718896e-05, global_step: 12620, interval_runtime: 4.4697, interval_samples_per_second: 3.58, interval_steps_per_second: 2.237, epoch: 7.2696\r\n",
      "loss: 0.06175195, learning_rate: 1.3623271889400923e-05, global_step: 12630, interval_runtime: 4.431, interval_samples_per_second: 3.611, interval_steps_per_second: 2.257, epoch: 7.2753\r\n",
      "loss: 0.08497742, learning_rate: 1.3594470046082949e-05, global_step: 12640, interval_runtime: 4.4134, interval_samples_per_second: 3.625, interval_steps_per_second: 2.266, epoch: 7.2811\r\n",
      "loss: 0.06648079, learning_rate: 1.3565668202764978e-05, global_step: 12650, interval_runtime: 4.4178, interval_samples_per_second: 3.622, interval_steps_per_second: 2.264, epoch: 7.2869\r\n",
      "loss: 0.00142958, learning_rate: 1.3536866359447006e-05, global_step: 12660, interval_runtime: 4.4199, interval_samples_per_second: 3.62, interval_steps_per_second: 2.263, epoch: 7.2926\r\n",
      "loss: 0.06919118, learning_rate: 1.3508064516129032e-05, global_step: 12670, interval_runtime: 4.4403, interval_samples_per_second: 3.603, interval_steps_per_second: 2.252, epoch: 7.2984\r\n",
      "loss: 0.05689136, learning_rate: 1.3479262672811061e-05, global_step: 12680, interval_runtime: 4.4349, interval_samples_per_second: 3.608, interval_steps_per_second: 2.255, epoch: 7.3041\r\n",
      "loss: 0.06047754, learning_rate: 1.3450460829493089e-05, global_step: 12690, interval_runtime: 4.4213, interval_samples_per_second: 3.619, interval_steps_per_second: 2.262, epoch: 7.3099\r\n",
      "loss: 0.09160683, learning_rate: 1.3421658986175115e-05, global_step: 12700, interval_runtime: 4.5299, interval_samples_per_second: 3.532, interval_steps_per_second: 2.208, epoch: 7.3157\r\n",
      "loss: 0.00234068, learning_rate: 1.3392857142857144e-05, global_step: 12710, interval_runtime: 4.4971, interval_samples_per_second: 3.558, interval_steps_per_second: 2.224, epoch: 7.3214\r\n",
      "loss: 0.02783858, learning_rate: 1.3364055299539171e-05, global_step: 12720, interval_runtime: 4.4506, interval_samples_per_second: 3.595, interval_steps_per_second: 2.247, epoch: 7.3272\r\n",
      "loss: 0.00838574, learning_rate: 1.33352534562212e-05, global_step: 12730, interval_runtime: 4.5029, interval_samples_per_second: 3.553, interval_steps_per_second: 2.221, epoch: 7.3329\r\n",
      "loss: 0.02673479, learning_rate: 1.3306451612903225e-05, global_step: 12740, interval_runtime: 4.4283, interval_samples_per_second: 3.613, interval_steps_per_second: 2.258, epoch: 7.3387\r\n",
      "loss: 0.00468819, learning_rate: 1.3277649769585254e-05, global_step: 12750, interval_runtime: 4.4302, interval_samples_per_second: 3.612, interval_steps_per_second: 2.257, epoch: 7.3445\r\n",
      "loss: 0.03236393, learning_rate: 1.3248847926267283e-05, global_step: 12760, interval_runtime: 4.421, interval_samples_per_second: 3.619, interval_steps_per_second: 2.262, epoch: 7.3502\r\n",
      "loss: 0.04650138, learning_rate: 1.3220046082949308e-05, global_step: 12770, interval_runtime: 4.4205, interval_samples_per_second: 3.619, interval_steps_per_second: 2.262, epoch: 7.356\r\n",
      "loss: 0.04791874, learning_rate: 1.3191244239631337e-05, global_step: 12780, interval_runtime: 4.4468, interval_samples_per_second: 3.598, interval_steps_per_second: 2.249, epoch: 7.3618\r\n",
      "loss: 0.01295437, learning_rate: 1.3162442396313365e-05, global_step: 12790, interval_runtime: 4.4261, interval_samples_per_second: 3.615, interval_steps_per_second: 2.259, epoch: 7.3675\r\n",
      "loss: 0.08886541, learning_rate: 1.313364055299539e-05, global_step: 12800, interval_runtime: 4.4299, interval_samples_per_second: 3.612, interval_steps_per_second: 2.257, epoch: 7.3733\r\n"
     ]
    },
    {
     "name": "stderr",
     "output_type": "stream",
     "text": [
      "[2024-03-04 14:50:29,864] [    INFO] - ***** Running Evaluation *****\r\n",
      "[2024-03-04 14:50:29,866] [    INFO] -   Num examples = 2000\r\n",
      "[2024-03-04 14:50:29,869] [    INFO] -   Pre device batch size = 16\r\n",
      "[2024-03-04 14:50:29,871] [    INFO] -   Total Batch size = 16\r\n",
      "[2024-03-04 14:50:29,873] [    INFO] -   Total prediction steps = 125\r\n"
     ]
    },
    {
     "data": {
      "application/vnd.jupyter.widget-view+json": {
       "model_id": "7e1f71651f6447dabb3d43b31b5b745d",
       "version_major": 2,
       "version_minor": 0
      },
      "text/plain": [
       "  0%|          | 0/125 [00:00<?, ?it/s]"
      ]
     },
     "metadata": {},
     "output_type": "display_data"
    },
    {
     "name": "stdout",
     "output_type": "stream",
     "text": [
      "eval_loss: 1.7245545387268066, eval_accuracy: 0.749, eval_f1: 0.712454502560003, eval_runtime: 21.004, eval_samples_per_second: 95.22, eval_steps_per_second: 5.951, epoch: 7.3733\r\n"
     ]
    },
    {
     "name": "stderr",
     "output_type": "stream",
     "text": [
      "[2024-03-04 14:50:50,878] [    INFO] - Saving model checkpoint to ./work/output/checkpoint-12800\r\n",
      "[2024-03-04 14:50:54,675] [    INFO] - Deleting older checkpoint [work/output/checkpoint-11000] due to args.save_total_limit\r\n"
     ]
    },
    {
     "name": "stdout",
     "output_type": "stream",
     "text": [
      "loss: 0.09388167, learning_rate: 1.310483870967742e-05, global_step: 12810, interval_runtime: 29.3475, interval_samples_per_second: 0.545, interval_steps_per_second: 0.341, epoch: 7.379\r\n",
      "loss: 0.01203396, learning_rate: 1.3076036866359447e-05, global_step: 12820, interval_runtime: 4.4348, interval_samples_per_second: 3.608, interval_steps_per_second: 2.255, epoch: 7.3848\r\n",
      "loss: 0.08352381, learning_rate: 1.3047235023041477e-05, global_step: 12830, interval_runtime: 4.4197, interval_samples_per_second: 3.62, interval_steps_per_second: 2.263, epoch: 7.3906\r\n",
      "loss: 0.0084763, learning_rate: 1.3018433179723502e-05, global_step: 12840, interval_runtime: 4.4278, interval_samples_per_second: 3.614, interval_steps_per_second: 2.258, epoch: 7.3963\r\n",
      "loss: 0.07556951, learning_rate: 1.298963133640553e-05, global_step: 12850, interval_runtime: 4.4248, interval_samples_per_second: 3.616, interval_steps_per_second: 2.26, epoch: 7.4021\r\n",
      "loss: 0.12935621, learning_rate: 1.296082949308756e-05, global_step: 12860, interval_runtime: 4.4316, interval_samples_per_second: 3.61, interval_steps_per_second: 2.257, epoch: 7.4078\r\n",
      "loss: 0.03877637, learning_rate: 1.2932027649769585e-05, global_step: 12870, interval_runtime: 4.4233, interval_samples_per_second: 3.617, interval_steps_per_second: 2.261, epoch: 7.4136\r\n",
      "loss: 0.09104764, learning_rate: 1.2903225806451613e-05, global_step: 12880, interval_runtime: 4.5211, interval_samples_per_second: 3.539, interval_steps_per_second: 2.212, epoch: 7.4194\r\n",
      "loss: 0.00170899, learning_rate: 1.2874423963133642e-05, global_step: 12890, interval_runtime: 4.4426, interval_samples_per_second: 3.601, interval_steps_per_second: 2.251, epoch: 7.4251\r\n",
      "loss: 0.05170656, learning_rate: 1.284562211981567e-05, global_step: 12900, interval_runtime: 4.418, interval_samples_per_second: 3.622, interval_steps_per_second: 2.263, epoch: 7.4309\r\n",
      "loss: 0.08405875, learning_rate: 1.2816820276497696e-05, global_step: 12910, interval_runtime: 4.4357, interval_samples_per_second: 3.607, interval_steps_per_second: 2.254, epoch: 7.4366\r\n",
      "loss: 0.03835407, learning_rate: 1.2788018433179725e-05, global_step: 12920, interval_runtime: 4.4208, interval_samples_per_second: 3.619, interval_steps_per_second: 2.262, epoch: 7.4424\r\n",
      "loss: 0.09042519, learning_rate: 1.2759216589861752e-05, global_step: 12930, interval_runtime: 4.4355, interval_samples_per_second: 3.607, interval_steps_per_second: 2.255, epoch: 7.4482\r\n",
      "loss: 0.02464132, learning_rate: 1.2730414746543778e-05, global_step: 12940, interval_runtime: 4.4327, interval_samples_per_second: 3.61, interval_steps_per_second: 2.256, epoch: 7.4539\r\n",
      "loss: 0.06579458, learning_rate: 1.2701612903225808e-05, global_step: 12950, interval_runtime: 4.4301, interval_samples_per_second: 3.612, interval_steps_per_second: 2.257, epoch: 7.4597\r\n",
      "loss: 0.00799403, learning_rate: 1.2672811059907835e-05, global_step: 12960, interval_runtime: 4.4332, interval_samples_per_second: 3.609, interval_steps_per_second: 2.256, epoch: 7.4654\r\n",
      "loss: 0.03890524, learning_rate: 1.2644009216589861e-05, global_step: 12970, interval_runtime: 4.4292, interval_samples_per_second: 3.612, interval_steps_per_second: 2.258, epoch: 7.4712\r\n",
      "loss: 0.15449451, learning_rate: 1.261520737327189e-05, global_step: 12980, interval_runtime: 4.4215, interval_samples_per_second: 3.619, interval_steps_per_second: 2.262, epoch: 7.477\r\n",
      "loss: 0.09581999, learning_rate: 1.2586405529953918e-05, global_step: 12990, interval_runtime: 4.4282, interval_samples_per_second: 3.613, interval_steps_per_second: 2.258, epoch: 7.4827\r\n",
      "loss: 0.00128931, learning_rate: 1.2557603686635947e-05, global_step: 13000, interval_runtime: 4.439, interval_samples_per_second: 3.604, interval_steps_per_second: 2.253, epoch: 7.4885\r\n"
     ]
    },
    {
     "name": "stderr",
     "output_type": "stream",
     "text": [
      "[2024-03-04 14:52:23,464] [    INFO] - ***** Running Evaluation *****\r\n",
      "[2024-03-04 14:52:23,468] [    INFO] -   Num examples = 2000\r\n",
      "[2024-03-04 14:52:23,473] [    INFO] -   Pre device batch size = 16\r\n",
      "[2024-03-04 14:52:23,475] [    INFO] -   Total Batch size = 16\r\n",
      "[2024-03-04 14:52:23,477] [    INFO] -   Total prediction steps = 125\r\n"
     ]
    },
    {
     "data": {
      "application/vnd.jupyter.widget-view+json": {
       "model_id": "16175d6971334be2ba21850a07669129",
       "version_major": 2,
       "version_minor": 0
      },
      "text/plain": [
       "  0%|          | 0/125 [00:00<?, ?it/s]"
      ]
     },
     "metadata": {},
     "output_type": "display_data"
    },
    {
     "name": "stdout",
     "output_type": "stream",
     "text": [
      "eval_loss: 1.6512255668640137, eval_accuracy: 0.756, eval_f1: 0.7221707812596797, eval_runtime: 21.2253, eval_samples_per_second: 94.227, eval_steps_per_second: 5.889, epoch: 7.4885\r\n"
     ]
    },
    {
     "name": "stderr",
     "output_type": "stream",
     "text": [
      "[2024-03-04 14:52:44,696] [    INFO] - Saving model checkpoint to ./work/output/checkpoint-13000\r\n",
      "[2024-03-04 14:52:48,885] [    INFO] - Deleting older checkpoint [work/output/checkpoint-11200] due to args.save_total_limit\r\n"
     ]
    },
    {
     "name": "stdout",
     "output_type": "stream",
     "text": [
      "loss: 0.12638092, learning_rate: 1.2528801843317971e-05, global_step: 13010, interval_runtime: 30.0553, interval_samples_per_second: 0.532, interval_steps_per_second: 0.333, epoch: 7.4942\r\n",
      "loss: 0.21494141, learning_rate: 1.25e-05, global_step: 13020, interval_runtime: 4.4536, interval_samples_per_second: 3.593, interval_steps_per_second: 2.245, epoch: 7.5\r\n",
      "loss: 0.05606225, learning_rate: 1.2471198156682028e-05, global_step: 13030, interval_runtime: 4.4249, interval_samples_per_second: 3.616, interval_steps_per_second: 2.26, epoch: 7.5058\r\n",
      "loss: 0.05226091, learning_rate: 1.2442396313364056e-05, global_step: 13040, interval_runtime: 4.4303, interval_samples_per_second: 3.612, interval_steps_per_second: 2.257, epoch: 7.5115\r\n",
      "loss: 0.07247798, learning_rate: 1.2413594470046083e-05, global_step: 13050, interval_runtime: 4.4331, interval_samples_per_second: 3.609, interval_steps_per_second: 2.256, epoch: 7.5173\r\n",
      "loss: 0.00475624, learning_rate: 1.2384792626728111e-05, global_step: 13060, interval_runtime: 4.4129, interval_samples_per_second: 3.626, interval_steps_per_second: 2.266, epoch: 7.523\r\n",
      "loss: 0.01160424, learning_rate: 1.2355990783410139e-05, global_step: 13070, interval_runtime: 4.4263, interval_samples_per_second: 3.615, interval_steps_per_second: 2.259, epoch: 7.5288\r\n",
      "loss: 0.04430587, learning_rate: 1.2327188940092166e-05, global_step: 13080, interval_runtime: 4.4319, interval_samples_per_second: 3.61, interval_steps_per_second: 2.256, epoch: 7.5346\r\n",
      "loss: 0.0398786, learning_rate: 1.2298387096774194e-05, global_step: 13090, interval_runtime: 4.4173, interval_samples_per_second: 3.622, interval_steps_per_second: 2.264, epoch: 7.5403\r\n",
      "loss: 0.00116666, learning_rate: 1.2269585253456221e-05, global_step: 13100, interval_runtime: 4.4183, interval_samples_per_second: 3.621, interval_steps_per_second: 2.263, epoch: 7.5461\r\n",
      "loss: 0.00179566, learning_rate: 1.224078341013825e-05, global_step: 13110, interval_runtime: 4.4076, interval_samples_per_second: 3.63, interval_steps_per_second: 2.269, epoch: 7.5518\r\n",
      "loss: 0.09122673, learning_rate: 1.2211981566820276e-05, global_step: 13120, interval_runtime: 4.4165, interval_samples_per_second: 3.623, interval_steps_per_second: 2.264, epoch: 7.5576\r\n",
      "loss: 0.05943284, learning_rate: 1.2183179723502306e-05, global_step: 13130, interval_runtime: 4.4144, interval_samples_per_second: 3.624, interval_steps_per_second: 2.265, epoch: 7.5634\r\n",
      "loss: 0.0875885, learning_rate: 1.2154377880184333e-05, global_step: 13140, interval_runtime: 4.4329, interval_samples_per_second: 3.609, interval_steps_per_second: 2.256, epoch: 7.5691\r\n",
      "loss: 0.06778848, learning_rate: 1.212557603686636e-05, global_step: 13150, interval_runtime: 4.4262, interval_samples_per_second: 3.615, interval_steps_per_second: 2.259, epoch: 7.5749\r\n",
      "loss: 0.13013402, learning_rate: 1.2096774193548388e-05, global_step: 13160, interval_runtime: 4.4163, interval_samples_per_second: 3.623, interval_steps_per_second: 2.264, epoch: 7.5806\r\n",
      "loss: 0.11729523, learning_rate: 1.2067972350230414e-05, global_step: 13170, interval_runtime: 4.4374, interval_samples_per_second: 3.606, interval_steps_per_second: 2.254, epoch: 7.5864\r\n",
      "loss: 0.06399919, learning_rate: 1.2039170506912444e-05, global_step: 13180, interval_runtime: 4.4332, interval_samples_per_second: 3.609, interval_steps_per_second: 2.256, epoch: 7.5922\r\n",
      "loss: 0.00146955, learning_rate: 1.2010368663594471e-05, global_step: 13190, interval_runtime: 4.4277, interval_samples_per_second: 3.614, interval_steps_per_second: 2.259, epoch: 7.5979\r\n",
      "loss: 0.06680963, learning_rate: 1.1981566820276497e-05, global_step: 13200, interval_runtime: 4.4358, interval_samples_per_second: 3.607, interval_steps_per_second: 2.254, epoch: 7.6037\r\n"
     ]
    },
    {
     "name": "stderr",
     "output_type": "stream",
     "text": [
      "[2024-03-04 14:54:17,624] [    INFO] - ***** Running Evaluation *****\r\n",
      "[2024-03-04 14:54:17,628] [    INFO] -   Num examples = 2000\r\n",
      "[2024-03-04 14:54:17,631] [    INFO] -   Pre device batch size = 16\r\n",
      "[2024-03-04 14:54:17,634] [    INFO] -   Total Batch size = 16\r\n",
      "[2024-03-04 14:54:17,637] [    INFO] -   Total prediction steps = 125\r\n"
     ]
    },
    {
     "data": {
      "application/vnd.jupyter.widget-view+json": {
       "model_id": "b8ac26b11cad49a09065db074b540df9",
       "version_major": 2,
       "version_minor": 0
      },
      "text/plain": [
       "  0%|          | 0/125 [00:00<?, ?it/s]"
      ]
     },
     "metadata": {},
     "output_type": "display_data"
    },
    {
     "name": "stdout",
     "output_type": "stream",
     "text": [
      "eval_loss: 1.6826635599136353, eval_accuracy: 0.748, eval_f1: 0.712096309536733, eval_runtime: 21.056, eval_samples_per_second: 94.985, eval_steps_per_second: 5.937, epoch: 7.6037\r\n"
     ]
    },
    {
     "name": "stderr",
     "output_type": "stream",
     "text": [
      "[2024-03-04 14:54:38,686] [    INFO] - Saving model checkpoint to ./work/output/checkpoint-13200\r\n",
      "[2024-03-04 14:54:42,869] [    INFO] - Deleting older checkpoint [work/output/checkpoint-11400] due to args.save_total_limit\r\n"
     ]
    },
    {
     "name": "stdout",
     "output_type": "stream",
     "text": [
      "loss: 0.10403789, learning_rate: 1.1952764976958526e-05, global_step: 13210, interval_runtime: 29.7865, interval_samples_per_second: 0.537, interval_steps_per_second: 0.336, epoch: 7.6094\r\n",
      "loss: 0.03976419, learning_rate: 1.1923963133640554e-05, global_step: 13220, interval_runtime: 4.4107, interval_samples_per_second: 3.628, interval_steps_per_second: 2.267, epoch: 7.6152\r\n",
      "loss: 0.03838813, learning_rate: 1.1895161290322582e-05, global_step: 13230, interval_runtime: 4.4452, interval_samples_per_second: 3.599, interval_steps_per_second: 2.25, epoch: 7.621\r\n",
      "loss: 0.00680158, learning_rate: 1.1866359447004609e-05, global_step: 13240, interval_runtime: 4.4238, interval_samples_per_second: 3.617, interval_steps_per_second: 2.261, epoch: 7.6267\r\n",
      "loss: 0.06909469, learning_rate: 1.1837557603686637e-05, global_step: 13250, interval_runtime: 4.4371, interval_samples_per_second: 3.606, interval_steps_per_second: 2.254, epoch: 7.6325\r\n",
      "loss: 0.06300283, learning_rate: 1.1808755760368664e-05, global_step: 13260, interval_runtime: 4.4698, interval_samples_per_second: 3.58, interval_steps_per_second: 2.237, epoch: 7.6382\r\n",
      "loss: 0.10043972, learning_rate: 1.1779953917050692e-05, global_step: 13270, interval_runtime: 4.4268, interval_samples_per_second: 3.614, interval_steps_per_second: 2.259, epoch: 7.644\r\n",
      "loss: 0.11120387, learning_rate: 1.175115207373272e-05, global_step: 13280, interval_runtime: 4.427, interval_samples_per_second: 3.614, interval_steps_per_second: 2.259, epoch: 7.6498\r\n",
      "loss: 0.1843356, learning_rate: 1.1722350230414747e-05, global_step: 13290, interval_runtime: 4.4261, interval_samples_per_second: 3.615, interval_steps_per_second: 2.259, epoch: 7.6555\r\n",
      "loss: 0.01386766, learning_rate: 1.1693548387096775e-05, global_step: 13300, interval_runtime: 4.4234, interval_samples_per_second: 3.617, interval_steps_per_second: 2.261, epoch: 7.6613\r\n",
      "loss: 0.07692499, learning_rate: 1.1664746543778802e-05, global_step: 13310, interval_runtime: 4.4409, interval_samples_per_second: 3.603, interval_steps_per_second: 2.252, epoch: 7.6671\r\n",
      "loss: 0.05789366, learning_rate: 1.163594470046083e-05, global_step: 13320, interval_runtime: 4.4308, interval_samples_per_second: 3.611, interval_steps_per_second: 2.257, epoch: 7.6728\r\n",
      "loss: 0.04067573, learning_rate: 1.1607142857142857e-05, global_step: 13330, interval_runtime: 4.4284, interval_samples_per_second: 3.613, interval_steps_per_second: 2.258, epoch: 7.6786\r\n",
      "loss: 0.05542691, learning_rate: 1.1578341013824885e-05, global_step: 13340, interval_runtime: 4.4341, interval_samples_per_second: 3.608, interval_steps_per_second: 2.255, epoch: 7.6843\r\n",
      "loss: 0.04366384, learning_rate: 1.1549539170506914e-05, global_step: 13350, interval_runtime: 4.4336, interval_samples_per_second: 3.609, interval_steps_per_second: 2.256, epoch: 7.6901\r\n",
      "loss: 0.01645299, learning_rate: 1.152073732718894e-05, global_step: 13360, interval_runtime: 4.4503, interval_samples_per_second: 3.595, interval_steps_per_second: 2.247, epoch: 7.6959\r\n",
      "loss: 0.07826979, learning_rate: 1.1491935483870968e-05, global_step: 13370, interval_runtime: 4.4346, interval_samples_per_second: 3.608, interval_steps_per_second: 2.255, epoch: 7.7016\r\n",
      "loss: 0.06518068, learning_rate: 1.1463133640552997e-05, global_step: 13380, interval_runtime: 4.4385, interval_samples_per_second: 3.605, interval_steps_per_second: 2.253, epoch: 7.7074\r\n",
      "loss: 0.09736907, learning_rate: 1.1434331797235023e-05, global_step: 13390, interval_runtime: 4.4385, interval_samples_per_second: 3.605, interval_steps_per_second: 2.253, epoch: 7.7131\r\n",
      "loss: 0.06639495, learning_rate: 1.1405529953917052e-05, global_step: 13400, interval_runtime: 4.4384, interval_samples_per_second: 3.605, interval_steps_per_second: 2.253, epoch: 7.7189\r\n"
     ]
    },
    {
     "name": "stderr",
     "output_type": "stream",
     "text": [
      "[2024-03-04 14:56:11,665] [    INFO] - ***** Running Evaluation *****\r\n",
      "[2024-03-04 14:56:11,669] [    INFO] -   Num examples = 2000\r\n",
      "[2024-03-04 14:56:11,672] [    INFO] -   Pre device batch size = 16\r\n",
      "[2024-03-04 14:56:11,674] [    INFO] -   Total Batch size = 16\r\n",
      "[2024-03-04 14:56:11,677] [    INFO] -   Total prediction steps = 125\r\n"
     ]
    },
    {
     "data": {
      "application/vnd.jupyter.widget-view+json": {
       "model_id": "7479fa5607144df6a8ddaa3faeb06091",
       "version_major": 2,
       "version_minor": 0
      },
      "text/plain": [
       "  0%|          | 0/125 [00:00<?, ?it/s]"
      ]
     },
     "metadata": {},
     "output_type": "display_data"
    },
    {
     "name": "stdout",
     "output_type": "stream",
     "text": [
      "eval_loss: 1.6773031949996948, eval_accuracy: 0.7525, eval_f1: 0.7204742984842504, eval_runtime: 21.0172, eval_samples_per_second: 95.16, eval_steps_per_second: 5.948, epoch: 7.7189\r\n"
     ]
    },
    {
     "name": "stderr",
     "output_type": "stream",
     "text": [
      "[2024-03-04 14:56:32,693] [    INFO] - Saving model checkpoint to ./work/output/checkpoint-13400\r\n",
      "[2024-03-04 14:56:36,400] [    INFO] - Deleting older checkpoint [work/output/checkpoint-11600] due to args.save_total_limit\r\n"
     ]
    },
    {
     "name": "stdout",
     "output_type": "stream",
     "text": [
      "loss: 0.03769239, learning_rate: 1.137672811059908e-05, global_step: 13410, interval_runtime: 29.2691, interval_samples_per_second: 0.547, interval_steps_per_second: 0.342, epoch: 7.7247\r\n",
      "loss: 0.00819317, learning_rate: 1.1347926267281106e-05, global_step: 13420, interval_runtime: 4.4331, interval_samples_per_second: 3.609, interval_steps_per_second: 2.256, epoch: 7.7304\r\n",
      "loss: 0.12944831, learning_rate: 1.1319124423963135e-05, global_step: 13430, interval_runtime: 4.4341, interval_samples_per_second: 3.608, interval_steps_per_second: 2.255, epoch: 7.7362\r\n",
      "loss: 0.0040658, learning_rate: 1.129032258064516e-05, global_step: 13440, interval_runtime: 4.422, interval_samples_per_second: 3.618, interval_steps_per_second: 2.261, epoch: 7.7419\r\n",
      "loss: 0.09064798, learning_rate: 1.126152073732719e-05, global_step: 13450, interval_runtime: 4.423, interval_samples_per_second: 3.617, interval_steps_per_second: 2.261, epoch: 7.7477\r\n",
      "loss: 0.08926095, learning_rate: 1.1232718894009218e-05, global_step: 13460, interval_runtime: 4.4284, interval_samples_per_second: 3.613, interval_steps_per_second: 2.258, epoch: 7.7535\r\n",
      "loss: 0.12240913, learning_rate: 1.1203917050691243e-05, global_step: 13470, interval_runtime: 4.4235, interval_samples_per_second: 3.617, interval_steps_per_second: 2.261, epoch: 7.7592\r\n",
      "loss: 0.07027664, learning_rate: 1.1175115207373273e-05, global_step: 13480, interval_runtime: 4.4429, interval_samples_per_second: 3.601, interval_steps_per_second: 2.251, epoch: 7.765\r\n",
      "loss: 0.0539385, learning_rate: 1.11463133640553e-05, global_step: 13490, interval_runtime: 4.4355, interval_samples_per_second: 3.607, interval_steps_per_second: 2.255, epoch: 7.7707\r\n",
      "loss: 0.04001437, learning_rate: 1.1117511520737328e-05, global_step: 13500, interval_runtime: 4.4277, interval_samples_per_second: 3.614, interval_steps_per_second: 2.259, epoch: 7.7765\r\n",
      "loss: 0.10830678, learning_rate: 1.1088709677419356e-05, global_step: 13510, interval_runtime: 4.434, interval_samples_per_second: 3.608, interval_steps_per_second: 2.255, epoch: 7.7823\r\n",
      "loss: 0.03967026, learning_rate: 1.1059907834101383e-05, global_step: 13520, interval_runtime: 4.4241, interval_samples_per_second: 3.617, interval_steps_per_second: 2.26, epoch: 7.788\r\n",
      "loss: 0.00085067, learning_rate: 1.103110599078341e-05, global_step: 13530, interval_runtime: 4.4297, interval_samples_per_second: 3.612, interval_steps_per_second: 2.257, epoch: 7.7938\r\n",
      "loss: 0.1481805, learning_rate: 1.1002304147465438e-05, global_step: 13540, interval_runtime: 4.4287, interval_samples_per_second: 3.613, interval_steps_per_second: 2.258, epoch: 7.7995\r\n",
      "loss: 0.06372612, learning_rate: 1.0973502304147466e-05, global_step: 13550, interval_runtime: 4.4383, interval_samples_per_second: 3.605, interval_steps_per_second: 2.253, epoch: 7.8053\r\n",
      "loss: 0.00442274, learning_rate: 1.0944700460829493e-05, global_step: 13560, interval_runtime: 4.4381, interval_samples_per_second: 3.605, interval_steps_per_second: 2.253, epoch: 7.8111\r\n",
      "loss: 0.05285456, learning_rate: 1.0915898617511523e-05, global_step: 13570, interval_runtime: 4.4426, interval_samples_per_second: 3.601, interval_steps_per_second: 2.251, epoch: 7.8168\r\n",
      "loss: 0.03648838, learning_rate: 1.0887096774193549e-05, global_step: 13580, interval_runtime: 4.421, interval_samples_per_second: 3.619, interval_steps_per_second: 2.262, epoch: 7.8226\r\n",
      "loss: 0.08992193, learning_rate: 1.0858294930875576e-05, global_step: 13590, interval_runtime: 4.4339, interval_samples_per_second: 3.609, interval_steps_per_second: 2.255, epoch: 7.8283\r\n",
      "loss: 0.01439589, learning_rate: 1.0829493087557604e-05, global_step: 13600, interval_runtime: 4.4409, interval_samples_per_second: 3.603, interval_steps_per_second: 2.252, epoch: 7.8341\r\n"
     ]
    },
    {
     "name": "stderr",
     "output_type": "stream",
     "text": [
      "[2024-03-04 14:58:05,136] [    INFO] - ***** Running Evaluation *****\r\n",
      "[2024-03-04 14:58:05,139] [    INFO] -   Num examples = 2000\r\n",
      "[2024-03-04 14:58:05,141] [    INFO] -   Pre device batch size = 16\r\n",
      "[2024-03-04 14:58:05,144] [    INFO] -   Total Batch size = 16\r\n",
      "[2024-03-04 14:58:05,146] [    INFO] -   Total prediction steps = 125\r\n"
     ]
    },
    {
     "data": {
      "application/vnd.jupyter.widget-view+json": {
       "model_id": "dab4404bb02d4f0b910a42f8567bb2a6",
       "version_major": 2,
       "version_minor": 0
      },
      "text/plain": [
       "  0%|          | 0/125 [00:00<?, ?it/s]"
      ]
     },
     "metadata": {},
     "output_type": "display_data"
    },
    {
     "name": "stdout",
     "output_type": "stream",
     "text": [
      "eval_loss: 1.727809190750122, eval_accuracy: 0.7505, eval_f1: 0.7183432893927483, eval_runtime: 20.8859, eval_samples_per_second: 95.759, eval_steps_per_second: 5.985, epoch: 7.8341\r\n"
     ]
    },
    {
     "name": "stderr",
     "output_type": "stream",
     "text": [
      "[2024-03-04 14:58:26,029] [    INFO] - Saving model checkpoint to ./work/output/checkpoint-13600\r\n",
      "[2024-03-04 14:58:30,230] [    INFO] - Deleting older checkpoint [work/output/checkpoint-11800] due to args.save_total_limit\r\n"
     ]
    },
    {
     "name": "stdout",
     "output_type": "stream",
     "text": [
      "loss: 0.01639923, learning_rate: 1.0800691244239631e-05, global_step: 13610, interval_runtime: 29.6181, interval_samples_per_second: 0.54, interval_steps_per_second: 0.338, epoch: 7.8399\r\n",
      "loss: 0.06225177, learning_rate: 1.077188940092166e-05, global_step: 13620, interval_runtime: 4.4184, interval_samples_per_second: 3.621, interval_steps_per_second: 2.263, epoch: 7.8456\r\n",
      "loss: 0.04954706, learning_rate: 1.0743087557603686e-05, global_step: 13630, interval_runtime: 4.443, interval_samples_per_second: 3.601, interval_steps_per_second: 2.251, epoch: 7.8514\r\n",
      "loss: 0.05428475, learning_rate: 1.0714285714285714e-05, global_step: 13640, interval_runtime: 4.4278, interval_samples_per_second: 3.614, interval_steps_per_second: 2.258, epoch: 7.8571\r\n",
      "loss: 0.06755075, learning_rate: 1.0685483870967743e-05, global_step: 13650, interval_runtime: 4.4138, interval_samples_per_second: 3.625, interval_steps_per_second: 2.266, epoch: 7.8629\r\n",
      "loss: 0.12932518, learning_rate: 1.065668202764977e-05, global_step: 13660, interval_runtime: 4.4251, interval_samples_per_second: 3.616, interval_steps_per_second: 2.26, epoch: 7.8687\r\n",
      "loss: 0.00318846, learning_rate: 1.0627880184331799e-05, global_step: 13670, interval_runtime: 4.4276, interval_samples_per_second: 3.614, interval_steps_per_second: 2.259, epoch: 7.8744\r\n",
      "loss: 0.06739339, learning_rate: 1.0599078341013826e-05, global_step: 13680, interval_runtime: 4.4258, interval_samples_per_second: 3.615, interval_steps_per_second: 2.259, epoch: 7.8802\r\n",
      "loss: 0.11179866, learning_rate: 1.0570276497695852e-05, global_step: 13690, interval_runtime: 4.4339, interval_samples_per_second: 3.609, interval_steps_per_second: 2.255, epoch: 7.8859\r\n",
      "loss: 0.05683211, learning_rate: 1.0541474654377881e-05, global_step: 13700, interval_runtime: 4.4071, interval_samples_per_second: 3.631, interval_steps_per_second: 2.269, epoch: 7.8917\r\n",
      "loss: 0.04194139, learning_rate: 1.0512672811059907e-05, global_step: 13710, interval_runtime: 4.4271, interval_samples_per_second: 3.614, interval_steps_per_second: 2.259, epoch: 7.8975\r\n",
      "loss: 0.04784211, learning_rate: 1.0483870967741936e-05, global_step: 13720, interval_runtime: 4.4305, interval_samples_per_second: 3.611, interval_steps_per_second: 2.257, epoch: 7.9032\r\n",
      "loss: 0.00127267, learning_rate: 1.0455069124423964e-05, global_step: 13730, interval_runtime: 4.4239, interval_samples_per_second: 3.617, interval_steps_per_second: 2.26, epoch: 7.909\r\n",
      "loss: 0.03192415, learning_rate: 1.0426267281105992e-05, global_step: 13740, interval_runtime: 4.4426, interval_samples_per_second: 3.602, interval_steps_per_second: 2.251, epoch: 7.9147\r\n",
      "loss: 0.07581189, learning_rate: 1.039746543778802e-05, global_step: 13750, interval_runtime: 4.4318, interval_samples_per_second: 3.61, interval_steps_per_second: 2.256, epoch: 7.9205\r\n",
      "loss: 0.07206509, learning_rate: 1.0368663594470047e-05, global_step: 13760, interval_runtime: 4.4293, interval_samples_per_second: 3.612, interval_steps_per_second: 2.258, epoch: 7.9263\r\n",
      "loss: 0.07015253, learning_rate: 1.0339861751152074e-05, global_step: 13770, interval_runtime: 4.4222, interval_samples_per_second: 3.618, interval_steps_per_second: 2.261, epoch: 7.932\r\n",
      "loss: 0.08476275, learning_rate: 1.0311059907834102e-05, global_step: 13780, interval_runtime: 4.425, interval_samples_per_second: 3.616, interval_steps_per_second: 2.26, epoch: 7.9378\r\n",
      "loss: 0.05261263, learning_rate: 1.028225806451613e-05, global_step: 13790, interval_runtime: 4.4683, interval_samples_per_second: 3.581, interval_steps_per_second: 2.238, epoch: 7.9435\r\n",
      "loss: 0.05974363, learning_rate: 1.0253456221198157e-05, global_step: 13800, interval_runtime: 4.4526, interval_samples_per_second: 3.593, interval_steps_per_second: 2.246, epoch: 7.9493\r\n"
     ]
    },
    {
     "name": "stderr",
     "output_type": "stream",
     "text": [
      "[2024-03-04 14:59:58,928] [    INFO] - ***** Running Evaluation *****\r\n",
      "[2024-03-04 14:59:58,932] [    INFO] -   Num examples = 2000\r\n",
      "[2024-03-04 14:59:58,936] [    INFO] -   Pre device batch size = 16\r\n",
      "[2024-03-04 14:59:58,940] [    INFO] -   Total Batch size = 16\r\n",
      "[2024-03-04 14:59:58,948] [    INFO] -   Total prediction steps = 125\r\n"
     ]
    },
    {
     "data": {
      "application/vnd.jupyter.widget-view+json": {
       "model_id": "2635dbb244a944b6b1abc02116670c3a",
       "version_major": 2,
       "version_minor": 0
      },
      "text/plain": [
       "  0%|          | 0/125 [00:00<?, ?it/s]"
      ]
     },
     "metadata": {},
     "output_type": "display_data"
    },
    {
     "name": "stdout",
     "output_type": "stream",
     "text": [
      "eval_loss: 1.7387136220932007, eval_accuracy: 0.751, eval_f1: 0.7187547779388971, eval_runtime: 21.0864, eval_samples_per_second: 94.848, eval_steps_per_second: 5.928, epoch: 7.9493\r\n"
     ]
    },
    {
     "name": "stderr",
     "output_type": "stream",
     "text": [
      "[2024-03-04 15:00:20,036] [    INFO] - Saving model checkpoint to ./work/output/checkpoint-13800\r\n",
      "[2024-03-04 15:00:23,895] [    INFO] - Deleting older checkpoint [work/output/checkpoint-12000] due to args.save_total_limit\r\n"
     ]
    },
    {
     "name": "stdout",
     "output_type": "stream",
     "text": [
      "loss: 0.13850396, learning_rate: 1.0224654377880185e-05, global_step: 13810, interval_runtime: 29.4861, interval_samples_per_second: 0.543, interval_steps_per_second: 0.339, epoch: 7.9551\r\n",
      "loss: 0.02328836, learning_rate: 1.0195852534562212e-05, global_step: 13820, interval_runtime: 4.4144, interval_samples_per_second: 3.625, interval_steps_per_second: 2.265, epoch: 7.9608\r\n",
      "loss: 0.12632141, learning_rate: 1.016705069124424e-05, global_step: 13830, interval_runtime: 4.4151, interval_samples_per_second: 3.624, interval_steps_per_second: 2.265, epoch: 7.9666\r\n",
      "loss: 0.07777366, learning_rate: 1.0138248847926269e-05, global_step: 13840, interval_runtime: 4.4143, interval_samples_per_second: 3.625, interval_steps_per_second: 2.265, epoch: 7.9724\r\n",
      "loss: 0.15155225, learning_rate: 1.0109447004608295e-05, global_step: 13850, interval_runtime: 4.4335, interval_samples_per_second: 3.609, interval_steps_per_second: 2.256, epoch: 7.9781\r\n",
      "loss: 0.16737278, learning_rate: 1.0080645161290323e-05, global_step: 13860, interval_runtime: 4.4331, interval_samples_per_second: 3.609, interval_steps_per_second: 2.256, epoch: 7.9839\r\n",
      "loss: 0.02073635, learning_rate: 1.005184331797235e-05, global_step: 13870, interval_runtime: 4.4214, interval_samples_per_second: 3.619, interval_steps_per_second: 2.262, epoch: 7.9896\r\n",
      "loss: 0.04506787, learning_rate: 1.0023041474654378e-05, global_step: 13880, interval_runtime: 4.4287, interval_samples_per_second: 3.613, interval_steps_per_second: 2.258, epoch: 7.9954\r\n",
      "loss: 0.03400357, learning_rate: 9.994239631336407e-06, global_step: 13890, interval_runtime: 4.4627, interval_samples_per_second: 3.585, interval_steps_per_second: 2.241, epoch: 8.0012\r\n",
      "loss: 0.00241081, learning_rate: 9.965437788018433e-06, global_step: 13900, interval_runtime: 4.4211, interval_samples_per_second: 3.619, interval_steps_per_second: 2.262, epoch: 8.0069\r\n",
      "loss: 0.02140832, learning_rate: 9.936635944700462e-06, global_step: 13910, interval_runtime: 4.4277, interval_samples_per_second: 3.614, interval_steps_per_second: 2.259, epoch: 8.0127\r\n",
      "loss: 0.0024702, learning_rate: 9.90783410138249e-06, global_step: 13920, interval_runtime: 4.4195, interval_samples_per_second: 3.62, interval_steps_per_second: 2.263, epoch: 8.0184\r\n",
      "loss: 0.00980047, learning_rate: 9.879032258064516e-06, global_step: 13930, interval_runtime: 4.4423, interval_samples_per_second: 3.602, interval_steps_per_second: 2.251, epoch: 8.0242\r\n",
      "loss: 0.00440599, learning_rate: 9.850230414746545e-06, global_step: 13940, interval_runtime: 4.4377, interval_samples_per_second: 3.605, interval_steps_per_second: 2.253, epoch: 8.03\r\n",
      "loss: 0.00411286, learning_rate: 9.821428571428573e-06, global_step: 13950, interval_runtime: 4.4516, interval_samples_per_second: 3.594, interval_steps_per_second: 2.246, epoch: 8.0357\r\n",
      "loss: 0.0006883, learning_rate: 9.7926267281106e-06, global_step: 13960, interval_runtime: 4.4301, interval_samples_per_second: 3.612, interval_steps_per_second: 2.257, epoch: 8.0415\r\n",
      "loss: 0.03753552, learning_rate: 9.763824884792628e-06, global_step: 13970, interval_runtime: 4.4177, interval_samples_per_second: 3.622, interval_steps_per_second: 2.264, epoch: 8.0472\r\n",
      "loss: 0.00121398, learning_rate: 9.735023041474654e-06, global_step: 13980, interval_runtime: 4.4209, interval_samples_per_second: 3.619, interval_steps_per_second: 2.262, epoch: 8.053\r\n",
      "loss: 0.00057781, learning_rate: 9.706221198156683e-06, global_step: 13990, interval_runtime: 4.4296, interval_samples_per_second: 3.612, interval_steps_per_second: 2.258, epoch: 8.0588\r\n",
      "loss: 0.00295025, learning_rate: 9.67741935483871e-06, global_step: 14000, interval_runtime: 4.4213, interval_samples_per_second: 3.619, interval_steps_per_second: 2.262, epoch: 8.0645\r\n"
     ]
    },
    {
     "name": "stderr",
     "output_type": "stream",
     "text": [
      "[2024-03-04 15:01:52,557] [    INFO] - ***** Running Evaluation *****\r\n",
      "[2024-03-04 15:01:52,560] [    INFO] -   Num examples = 2000\r\n",
      "[2024-03-04 15:01:52,564] [    INFO] -   Pre device batch size = 16\r\n",
      "[2024-03-04 15:01:52,567] [    INFO] -   Total Batch size = 16\r\n",
      "[2024-03-04 15:01:52,572] [    INFO] -   Total prediction steps = 125\r\n"
     ]
    },
    {
     "data": {
      "application/vnd.jupyter.widget-view+json": {
       "model_id": "688dea96f1534b759f339edbccd187cc",
       "version_major": 2,
       "version_minor": 0
      },
      "text/plain": [
       "  0%|          | 0/125 [00:00<?, ?it/s]"
      ]
     },
     "metadata": {},
     "output_type": "display_data"
    },
    {
     "name": "stdout",
     "output_type": "stream",
     "text": [
      "eval_loss: 1.776201605796814, eval_accuracy: 0.7565, eval_f1: 0.7259585731931238, eval_runtime: 21.0321, eval_samples_per_second: 95.093, eval_steps_per_second: 5.943, epoch: 8.0645\r\n"
     ]
    },
    {
     "name": "stderr",
     "output_type": "stream",
     "text": [
      "[2024-03-04 15:02:13,602] [    INFO] - Saving model checkpoint to ./work/output/checkpoint-14000\r\n",
      "[2024-03-04 15:02:17,475] [    INFO] - Deleting older checkpoint [work/output/checkpoint-12200] due to args.save_total_limit\r\n"
     ]
    },
    {
     "name": "stdout",
     "output_type": "stream",
     "text": [
      "loss: 0.01305067, learning_rate: 9.648617511520738e-06, global_step: 14010, interval_runtime: 29.4289, interval_samples_per_second: 0.544, interval_steps_per_second: 0.34, epoch: 8.0703\r\n",
      "loss: 0.00073375, learning_rate: 9.619815668202766e-06, global_step: 14020, interval_runtime: 4.4144, interval_samples_per_second: 3.624, interval_steps_per_second: 2.265, epoch: 8.076\r\n",
      "loss: 0.00046537, learning_rate: 9.591013824884793e-06, global_step: 14030, interval_runtime: 4.4157, interval_samples_per_second: 3.623, interval_steps_per_second: 2.265, epoch: 8.0818\r\n",
      "loss: 0.15131826, learning_rate: 9.56221198156682e-06, global_step: 14040, interval_runtime: 4.4248, interval_samples_per_second: 3.616, interval_steps_per_second: 2.26, epoch: 8.0876\r\n",
      "loss: 0.0003939, learning_rate: 9.533410138248848e-06, global_step: 14050, interval_runtime: 4.4298, interval_samples_per_second: 3.612, interval_steps_per_second: 2.257, epoch: 8.0933\r\n",
      "loss: 0.00241157, learning_rate: 9.504608294930876e-06, global_step: 14060, interval_runtime: 4.4197, interval_samples_per_second: 3.62, interval_steps_per_second: 2.263, epoch: 8.0991\r\n",
      "loss: 0.06172933, learning_rate: 9.475806451612903e-06, global_step: 14070, interval_runtime: 4.4323, interval_samples_per_second: 3.61, interval_steps_per_second: 2.256, epoch: 8.1048\r\n",
      "loss: 0.03766526, learning_rate: 9.447004608294931e-06, global_step: 14080, interval_runtime: 4.451, interval_samples_per_second: 3.595, interval_steps_per_second: 2.247, epoch: 8.1106\r\n",
      "loss: 0.02588068, learning_rate: 9.418202764976959e-06, global_step: 14090, interval_runtime: 4.4318, interval_samples_per_second: 3.61, interval_steps_per_second: 2.256, epoch: 8.1164\r\n",
      "loss: 0.03503256, learning_rate: 9.389400921658986e-06, global_step: 14100, interval_runtime: 4.4299, interval_samples_per_second: 3.612, interval_steps_per_second: 2.257, epoch: 8.1221\r\n",
      "loss: 0.00071572, learning_rate: 9.360599078341016e-06, global_step: 14110, interval_runtime: 4.4192, interval_samples_per_second: 3.621, interval_steps_per_second: 2.263, epoch: 8.1279\r\n",
      "loss: 0.05188351, learning_rate: 9.331797235023041e-06, global_step: 14120, interval_runtime: 4.4249, interval_samples_per_second: 3.616, interval_steps_per_second: 2.26, epoch: 8.1336\r\n",
      "loss: 0.0223775, learning_rate: 9.30299539170507e-06, global_step: 14130, interval_runtime: 4.4302, interval_samples_per_second: 3.612, interval_steps_per_second: 2.257, epoch: 8.1394\r\n",
      "loss: 0.03844147, learning_rate: 9.274193548387097e-06, global_step: 14140, interval_runtime: 4.4253, interval_samples_per_second: 3.616, interval_steps_per_second: 2.26, epoch: 8.1452\r\n",
      "loss: 0.02846349, learning_rate: 9.245391705069124e-06, global_step: 14150, interval_runtime: 4.4147, interval_samples_per_second: 3.624, interval_steps_per_second: 2.265, epoch: 8.1509\r\n",
      "loss: 0.01365211, learning_rate: 9.216589861751153e-06, global_step: 14160, interval_runtime: 4.4309, interval_samples_per_second: 3.611, interval_steps_per_second: 2.257, epoch: 8.1567\r\n",
      "loss: 0.01042189, learning_rate: 9.18778801843318e-06, global_step: 14170, interval_runtime: 4.4268, interval_samples_per_second: 3.614, interval_steps_per_second: 2.259, epoch: 8.1624\r\n",
      "loss: 0.05894385, learning_rate: 9.158986175115209e-06, global_step: 14180, interval_runtime: 4.4292, interval_samples_per_second: 3.612, interval_steps_per_second: 2.258, epoch: 8.1682\r\n",
      "loss: 0.00066985, learning_rate: 9.130184331797236e-06, global_step: 14190, interval_runtime: 4.4225, interval_samples_per_second: 3.618, interval_steps_per_second: 2.261, epoch: 8.174\r\n",
      "loss: 0.0505825, learning_rate: 9.101382488479262e-06, global_step: 14200, interval_runtime: 4.4317, interval_samples_per_second: 3.61, interval_steps_per_second: 2.256, epoch: 8.1797\r\n"
     ]
    },
    {
     "name": "stderr",
     "output_type": "stream",
     "text": [
      "[2024-03-04 15:03:46,089] [    INFO] - ***** Running Evaluation *****\r\n",
      "[2024-03-04 15:03:46,092] [    INFO] -   Num examples = 2000\r\n",
      "[2024-03-04 15:03:46,095] [    INFO] -   Pre device batch size = 16\r\n",
      "[2024-03-04 15:03:46,097] [    INFO] -   Total Batch size = 16\r\n",
      "[2024-03-04 15:03:46,099] [    INFO] -   Total prediction steps = 125\r\n"
     ]
    },
    {
     "data": {
      "application/vnd.jupyter.widget-view+json": {
       "model_id": "e71b0bca980747e6926593b65e65d3c2",
       "version_major": 2,
       "version_minor": 0
      },
      "text/plain": [
       "  0%|          | 0/125 [00:00<?, ?it/s]"
      ]
     },
     "metadata": {},
     "output_type": "display_data"
    },
    {
     "name": "stdout",
     "output_type": "stream",
     "text": [
      "eval_loss: 1.8574953079223633, eval_accuracy: 0.752, eval_f1: 0.7178012501933028, eval_runtime: 21.0347, eval_samples_per_second: 95.081, eval_steps_per_second: 5.943, epoch: 8.1797\r\n"
     ]
    },
    {
     "name": "stderr",
     "output_type": "stream",
     "text": [
      "[2024-03-04 15:04:07,130] [    INFO] - Saving model checkpoint to ./work/output/checkpoint-14200\r\n",
      "[2024-03-04 15:04:11,207] [    INFO] - Deleting older checkpoint [work/output/checkpoint-12400] due to args.save_total_limit\r\n"
     ]
    },
    {
     "name": "stdout",
     "output_type": "stream",
     "text": [
      "loss: 0.0244807, learning_rate: 9.072580645161291e-06, global_step: 14210, interval_runtime: 29.6703, interval_samples_per_second: 0.539, interval_steps_per_second: 0.337, epoch: 8.1855\r\n",
      "loss: 0.00278344, learning_rate: 9.043778801843319e-06, global_step: 14220, interval_runtime: 4.4244, interval_samples_per_second: 3.616, interval_steps_per_second: 2.26, epoch: 8.1912\r\n",
      "loss: 0.00157202, learning_rate: 9.014976958525346e-06, global_step: 14230, interval_runtime: 4.4449, interval_samples_per_second: 3.6, interval_steps_per_second: 2.25, epoch: 8.197\r\n",
      "loss: 0.00091637, learning_rate: 8.986175115207374e-06, global_step: 14240, interval_runtime: 4.4206, interval_samples_per_second: 3.619, interval_steps_per_second: 2.262, epoch: 8.2028\r\n",
      "loss: 0.04587781, learning_rate: 8.9573732718894e-06, global_step: 14250, interval_runtime: 4.4265, interval_samples_per_second: 3.615, interval_steps_per_second: 2.259, epoch: 8.2085\r\n",
      "loss: 0.08989353, learning_rate: 8.92857142857143e-06, global_step: 14260, interval_runtime: 4.4172, interval_samples_per_second: 3.622, interval_steps_per_second: 2.264, epoch: 8.2143\r\n",
      "loss: 0.00044742, learning_rate: 8.899769585253457e-06, global_step: 14270, interval_runtime: 4.4212, interval_samples_per_second: 3.619, interval_steps_per_second: 2.262, epoch: 8.22\r\n",
      "loss: 0.00472588, learning_rate: 8.870967741935484e-06, global_step: 14280, interval_runtime: 4.4358, interval_samples_per_second: 3.607, interval_steps_per_second: 2.254, epoch: 8.2258\r\n",
      "loss: 0.0003062, learning_rate: 8.842165898617512e-06, global_step: 14290, interval_runtime: 4.6889, interval_samples_per_second: 3.412, interval_steps_per_second: 2.133, epoch: 8.2316\r\n",
      "loss: 0.02255446, learning_rate: 8.81336405529954e-06, global_step: 14300, interval_runtime: 4.4161, interval_samples_per_second: 3.623, interval_steps_per_second: 2.264, epoch: 8.2373\r\n",
      "loss: 0.04714401, learning_rate: 8.784562211981567e-06, global_step: 14310, interval_runtime: 4.4376, interval_samples_per_second: 3.606, interval_steps_per_second: 2.253, epoch: 8.2431\r\n",
      "loss: 0.01638932, learning_rate: 8.755760368663595e-06, global_step: 14320, interval_runtime: 4.4207, interval_samples_per_second: 3.619, interval_steps_per_second: 2.262, epoch: 8.2488\r\n",
      "loss: 0.01723897, learning_rate: 8.726958525345622e-06, global_step: 14330, interval_runtime: 4.4239, interval_samples_per_second: 3.617, interval_steps_per_second: 2.26, epoch: 8.2546\r\n",
      "loss: 0.03336703, learning_rate: 8.69815668202765e-06, global_step: 14340, interval_runtime: 4.4224, interval_samples_per_second: 3.618, interval_steps_per_second: 2.261, epoch: 8.2604\r\n",
      "loss: 0.04244975, learning_rate: 8.66935483870968e-06, global_step: 14350, interval_runtime: 4.4125, interval_samples_per_second: 3.626, interval_steps_per_second: 2.266, epoch: 8.2661\r\n",
      "loss: 0.00253859, learning_rate: 8.640552995391705e-06, global_step: 14360, interval_runtime: 4.4058, interval_samples_per_second: 3.632, interval_steps_per_second: 2.27, epoch: 8.2719\r\n",
      "loss: 0.08729949, learning_rate: 8.611751152073733e-06, global_step: 14370, interval_runtime: 4.4284, interval_samples_per_second: 3.613, interval_steps_per_second: 2.258, epoch: 8.2776\r\n",
      "loss: 0.0167786, learning_rate: 8.582949308755762e-06, global_step: 14380, interval_runtime: 4.4576, interval_samples_per_second: 3.589, interval_steps_per_second: 2.243, epoch: 8.2834\r\n",
      "loss: 0.01222461, learning_rate: 8.554147465437788e-06, global_step: 14390, interval_runtime: 4.4272, interval_samples_per_second: 3.614, interval_steps_per_second: 2.259, epoch: 8.2892\r\n",
      "loss: 0.04924688, learning_rate: 8.525345622119817e-06, global_step: 14400, interval_runtime: 4.4237, interval_samples_per_second: 3.617, interval_steps_per_second: 2.261, epoch: 8.2949\r\n"
     ]
    },
    {
     "name": "stderr",
     "output_type": "stream",
     "text": [
      "[2024-03-04 15:05:40,124] [    INFO] - ***** Running Evaluation *****\r\n",
      "[2024-03-04 15:05:40,129] [    INFO] -   Num examples = 2000\r\n",
      "[2024-03-04 15:05:40,132] [    INFO] -   Pre device batch size = 16\r\n",
      "[2024-03-04 15:05:40,135] [    INFO] -   Total Batch size = 16\r\n",
      "[2024-03-04 15:05:40,137] [    INFO] -   Total prediction steps = 125\r\n"
     ]
    },
    {
     "data": {
      "application/vnd.jupyter.widget-view+json": {
       "model_id": "daf988af689c4c51b21b70fdeeeaca84",
       "version_major": 2,
       "version_minor": 0
      },
      "text/plain": [
       "  0%|          | 0/125 [00:00<?, ?it/s]"
      ]
     },
     "metadata": {},
     "output_type": "display_data"
    },
    {
     "name": "stdout",
     "output_type": "stream",
     "text": [
      "eval_loss: 1.849353551864624, eval_accuracy: 0.7505, eval_f1: 0.7130468407311404, eval_runtime: 21.1223, eval_samples_per_second: 94.687, eval_steps_per_second: 5.918, epoch: 8.2949\r\n"
     ]
    },
    {
     "name": "stderr",
     "output_type": "stream",
     "text": [
      "[2024-03-04 15:06:01,252] [    INFO] - Saving model checkpoint to ./work/output/checkpoint-14400\r\n",
      "[2024-03-04 15:06:05,328] [    INFO] - Deleting older checkpoint [work/output/checkpoint-12600] due to args.save_total_limit\r\n"
     ]
    },
    {
     "name": "stdout",
     "output_type": "stream",
     "text": [
      "loss: 0.04338367, learning_rate: 8.496543778801843e-06, global_step: 14410, interval_runtime: 29.728, interval_samples_per_second: 0.538, interval_steps_per_second: 0.336, epoch: 8.3007\r\n",
      "loss: 0.01421435, learning_rate: 8.46774193548387e-06, global_step: 14420, interval_runtime: 4.4299, interval_samples_per_second: 3.612, interval_steps_per_second: 2.257, epoch: 8.3065\r\n",
      "loss: 0.07181915, learning_rate: 8.4389400921659e-06, global_step: 14430, interval_runtime: 4.4167, interval_samples_per_second: 3.623, interval_steps_per_second: 2.264, epoch: 8.3122\r\n",
      "loss: 0.04183153, learning_rate: 8.410138248847926e-06, global_step: 14440, interval_runtime: 4.4278, interval_samples_per_second: 3.614, interval_steps_per_second: 2.258, epoch: 8.318\r\n",
      "loss: 0.00140253, learning_rate: 8.381336405529955e-06, global_step: 14450, interval_runtime: 4.4327, interval_samples_per_second: 3.61, interval_steps_per_second: 2.256, epoch: 8.3237\r\n",
      "loss: 0.07069847, learning_rate: 8.352534562211983e-06, global_step: 14460, interval_runtime: 4.4124, interval_samples_per_second: 3.626, interval_steps_per_second: 2.266, epoch: 8.3295\r\n",
      "loss: 0.07884335, learning_rate: 8.323732718894008e-06, global_step: 14470, interval_runtime: 4.4028, interval_samples_per_second: 3.634, interval_steps_per_second: 2.271, epoch: 8.3353\r\n",
      "loss: 0.00069386, learning_rate: 8.294930875576038e-06, global_step: 14480, interval_runtime: 4.402, interval_samples_per_second: 3.635, interval_steps_per_second: 2.272, epoch: 8.341\r\n",
      "loss: 0.05079321, learning_rate: 8.266129032258065e-06, global_step: 14490, interval_runtime: 4.4199, interval_samples_per_second: 3.62, interval_steps_per_second: 2.262, epoch: 8.3468\r\n",
      "loss: 0.13784282, learning_rate: 8.237327188940093e-06, global_step: 14500, interval_runtime: 4.4195, interval_samples_per_second: 3.62, interval_steps_per_second: 2.263, epoch: 8.3525\r\n",
      "loss: 0.0006653, learning_rate: 8.20852534562212e-06, global_step: 14510, interval_runtime: 4.4201, interval_samples_per_second: 3.62, interval_steps_per_second: 2.262, epoch: 8.3583\r\n",
      "loss: 0.00470461, learning_rate: 8.179723502304148e-06, global_step: 14520, interval_runtime: 4.3973, interval_samples_per_second: 3.639, interval_steps_per_second: 2.274, epoch: 8.3641\r\n",
      "loss: 0.04923723, learning_rate: 8.150921658986176e-06, global_step: 14530, interval_runtime: 4.4108, interval_samples_per_second: 3.627, interval_steps_per_second: 2.267, epoch: 8.3698\r\n",
      "loss: 0.03141455, learning_rate: 8.122119815668203e-06, global_step: 14540, interval_runtime: 4.4342, interval_samples_per_second: 3.608, interval_steps_per_second: 2.255, epoch: 8.3756\r\n",
      "loss: 0.06205507, learning_rate: 8.09331797235023e-06, global_step: 14550, interval_runtime: 4.4088, interval_samples_per_second: 3.629, interval_steps_per_second: 2.268, epoch: 8.3813\r\n",
      "loss: 0.02967879, learning_rate: 8.064516129032258e-06, global_step: 14560, interval_runtime: 4.4118, interval_samples_per_second: 3.627, interval_steps_per_second: 2.267, epoch: 8.3871\r\n",
      "loss: 0.06878412, learning_rate: 8.035714285714286e-06, global_step: 14570, interval_runtime: 4.4159, interval_samples_per_second: 3.623, interval_steps_per_second: 2.265, epoch: 8.3929\r\n",
      "loss: 0.03129682, learning_rate: 8.006912442396314e-06, global_step: 14580, interval_runtime: 4.4031, interval_samples_per_second: 3.634, interval_steps_per_second: 2.271, epoch: 8.3986\r\n",
      "loss: 0.02358879, learning_rate: 7.978110599078341e-06, global_step: 14590, interval_runtime: 4.4236, interval_samples_per_second: 3.617, interval_steps_per_second: 2.261, epoch: 8.4044\r\n",
      "loss: 0.09551382, learning_rate: 7.949308755760369e-06, global_step: 14600, interval_runtime: 4.4489, interval_samples_per_second: 3.596, interval_steps_per_second: 2.248, epoch: 8.4101\r\n"
     ]
    },
    {
     "name": "stderr",
     "output_type": "stream",
     "text": [
      "[2024-03-04 15:07:33,782] [    INFO] - ***** Running Evaluation *****\r\n",
      "[2024-03-04 15:07:33,784] [    INFO] -   Num examples = 2000\r\n",
      "[2024-03-04 15:07:33,787] [    INFO] -   Pre device batch size = 16\r\n",
      "[2024-03-04 15:07:33,789] [    INFO] -   Total Batch size = 16\r\n",
      "[2024-03-04 15:07:33,791] [    INFO] -   Total prediction steps = 125\r\n"
     ]
    },
    {
     "data": {
      "application/vnd.jupyter.widget-view+json": {
       "model_id": "35523829390f41cdbe16ac00994eb982",
       "version_major": 2,
       "version_minor": 0
      },
      "text/plain": [
       "  0%|          | 0/125 [00:00<?, ?it/s]"
      ]
     },
     "metadata": {},
     "output_type": "display_data"
    },
    {
     "name": "stdout",
     "output_type": "stream",
     "text": [
      "eval_loss: 1.8360484838485718, eval_accuracy: 0.747, eval_f1: 0.7130981355761857, eval_runtime: 20.9224, eval_samples_per_second: 95.591, eval_steps_per_second: 5.974, epoch: 8.4101\r\n"
     ]
    },
    {
     "name": "stderr",
     "output_type": "stream",
     "text": [
      "[2024-03-04 15:07:54,711] [    INFO] - Saving model checkpoint to ./work/output/checkpoint-14600\r\n",
      "[2024-03-04 15:07:58,866] [    INFO] - Deleting older checkpoint [work/output/checkpoint-12800] due to args.save_total_limit\r\n"
     ]
    },
    {
     "name": "stdout",
     "output_type": "stream",
     "text": [
      "loss: 0.06055274, learning_rate: 7.920506912442396e-06, global_step: 14610, interval_runtime: 29.624, interval_samples_per_second: 0.54, interval_steps_per_second: 0.338, epoch: 8.4159\r\n",
      "loss: 0.0119016, learning_rate: 7.891705069124426e-06, global_step: 14620, interval_runtime: 4.4098, interval_samples_per_second: 3.628, interval_steps_per_second: 2.268, epoch: 8.4217\r\n",
      "loss: 0.02800602, learning_rate: 7.862903225806451e-06, global_step: 14630, interval_runtime: 4.4193, interval_samples_per_second: 3.62, interval_steps_per_second: 2.263, epoch: 8.4274\r\n",
      "loss: 0.01140745, learning_rate: 7.834101382488479e-06, global_step: 14640, interval_runtime: 4.4528, interval_samples_per_second: 3.593, interval_steps_per_second: 2.246, epoch: 8.4332\r\n",
      "loss: 0.04333201, learning_rate: 7.805299539170508e-06, global_step: 14650, interval_runtime: 4.4105, interval_samples_per_second: 3.628, interval_steps_per_second: 2.267, epoch: 8.4389\r\n",
      "loss: 0.00146749, learning_rate: 7.776497695852534e-06, global_step: 14660, interval_runtime: 4.4136, interval_samples_per_second: 3.625, interval_steps_per_second: 2.266, epoch: 8.4447\r\n",
      "loss: 0.01466054, learning_rate: 7.747695852534563e-06, global_step: 14670, interval_runtime: 4.4236, interval_samples_per_second: 3.617, interval_steps_per_second: 2.261, epoch: 8.4505\r\n",
      "loss: 0.16377332, learning_rate: 7.71889400921659e-06, global_step: 14680, interval_runtime: 4.4398, interval_samples_per_second: 3.604, interval_steps_per_second: 2.252, epoch: 8.4562\r\n",
      "loss: 0.08050663, learning_rate: 7.690092165898617e-06, global_step: 14690, interval_runtime: 4.4323, interval_samples_per_second: 3.61, interval_steps_per_second: 2.256, epoch: 8.462\r\n",
      "loss: 0.02163571, learning_rate: 7.661290322580646e-06, global_step: 14700, interval_runtime: 4.4231, interval_samples_per_second: 3.617, interval_steps_per_second: 2.261, epoch: 8.4677\r\n",
      "loss: 0.07123974, learning_rate: 7.632488479262672e-06, global_step: 14710, interval_runtime: 4.4296, interval_samples_per_second: 3.612, interval_steps_per_second: 2.258, epoch: 8.4735\r\n",
      "loss: 0.05085439, learning_rate: 7.603686635944701e-06, global_step: 14720, interval_runtime: 4.4549, interval_samples_per_second: 3.592, interval_steps_per_second: 2.245, epoch: 8.4793\r\n",
      "loss: 0.0192189, learning_rate: 7.574884792626728e-06, global_step: 14730, interval_runtime: 4.4508, interval_samples_per_second: 3.595, interval_steps_per_second: 2.247, epoch: 8.485\r\n",
      "loss: 0.01680088, learning_rate: 7.5460829493087566e-06, global_step: 14740, interval_runtime: 4.4078, interval_samples_per_second: 3.63, interval_steps_per_second: 2.269, epoch: 8.4908\r\n",
      "loss: 0.01195562, learning_rate: 7.517281105990784e-06, global_step: 14750, interval_runtime: 4.4315, interval_samples_per_second: 3.611, interval_steps_per_second: 2.257, epoch: 8.4965\r\n",
      "loss: 0.0008363, learning_rate: 7.488479262672811e-06, global_step: 14760, interval_runtime: 4.418, interval_samples_per_second: 3.622, interval_steps_per_second: 2.263, epoch: 8.5023\r\n",
      "loss: 0.00256101, learning_rate: 7.459677419354839e-06, global_step: 14770, interval_runtime: 4.4242, interval_samples_per_second: 3.616, interval_steps_per_second: 2.26, epoch: 8.5081\r\n",
      "loss: 0.02835884, learning_rate: 7.430875576036866e-06, global_step: 14780, interval_runtime: 4.4268, interval_samples_per_second: 3.614, interval_steps_per_second: 2.259, epoch: 8.5138\r\n",
      "loss: 0.09099056, learning_rate: 7.402073732718895e-06, global_step: 14790, interval_runtime: 4.4269, interval_samples_per_second: 3.614, interval_steps_per_second: 2.259, epoch: 8.5196\r\n",
      "loss: 0.02195595, learning_rate: 7.373271889400922e-06, global_step: 14800, interval_runtime: 4.4271, interval_samples_per_second: 3.614, interval_steps_per_second: 2.259, epoch: 8.5253\r\n"
     ]
    },
    {
     "name": "stderr",
     "output_type": "stream",
     "text": [
      "[2024-03-04 15:09:27,530] [    INFO] - ***** Running Evaluation *****\r\n",
      "[2024-03-04 15:09:27,534] [    INFO] -   Num examples = 2000\r\n",
      "[2024-03-04 15:09:27,537] [    INFO] -   Pre device batch size = 16\r\n",
      "[2024-03-04 15:09:27,539] [    INFO] -   Total Batch size = 16\r\n",
      "[2024-03-04 15:09:27,545] [    INFO] -   Total prediction steps = 125\r\n"
     ]
    },
    {
     "data": {
      "application/vnd.jupyter.widget-view+json": {
       "model_id": "5ea4df228e1742fb820574084f2a3531",
       "version_major": 2,
       "version_minor": 0
      },
      "text/plain": [
       "  0%|          | 0/125 [00:00<?, ?it/s]"
      ]
     },
     "metadata": {},
     "output_type": "display_data"
    },
    {
     "name": "stdout",
     "output_type": "stream",
     "text": [
      "eval_loss: 1.8700973987579346, eval_accuracy: 0.7555, eval_f1: 0.7215406324074918, eval_runtime: 20.9003, eval_samples_per_second: 95.693, eval_steps_per_second: 5.981, epoch: 8.5253\r\n"
     ]
    },
    {
     "name": "stderr",
     "output_type": "stream",
     "text": [
      "[2024-03-04 15:09:48,436] [    INFO] - Saving model checkpoint to ./work/output/checkpoint-14800\r\n",
      "[2024-03-04 15:09:52,396] [    INFO] - Deleting older checkpoint [work/output/checkpoint-13000] due to args.save_total_limit\r\n"
     ]
    },
    {
     "name": "stdout",
     "output_type": "stream",
     "text": [
      "loss: 0.03106871, learning_rate: 7.344470046082949e-06, global_step: 14810, interval_runtime: 29.4081, interval_samples_per_second: 0.544, interval_steps_per_second: 0.34, epoch: 8.5311\r\n",
      "loss: 0.03284041, learning_rate: 7.315668202764977e-06, global_step: 14820, interval_runtime: 4.4571, interval_samples_per_second: 3.59, interval_steps_per_second: 2.244, epoch: 8.5369\r\n",
      "loss: 0.0443229, learning_rate: 7.286866359447005e-06, global_step: 14830, interval_runtime: 4.4434, interval_samples_per_second: 3.601, interval_steps_per_second: 2.251, epoch: 8.5426\r\n",
      "loss: 0.04792559, learning_rate: 7.258064516129033e-06, global_step: 14840, interval_runtime: 4.4466, interval_samples_per_second: 3.598, interval_steps_per_second: 2.249, epoch: 8.5484\r\n",
      "loss: 0.01471901, learning_rate: 7.22926267281106e-06, global_step: 14850, interval_runtime: 4.438, interval_samples_per_second: 3.605, interval_steps_per_second: 2.253, epoch: 8.5541\r\n",
      "loss: 0.05740531, learning_rate: 7.2004608294930876e-06, global_step: 14860, interval_runtime: 4.4397, interval_samples_per_second: 3.604, interval_steps_per_second: 2.252, epoch: 8.5599\r\n",
      "loss: 0.04936135, learning_rate: 7.171658986175116e-06, global_step: 14870, interval_runtime: 4.4349, interval_samples_per_second: 3.608, interval_steps_per_second: 2.255, epoch: 8.5657\r\n",
      "loss: 0.09425567, learning_rate: 7.142857142857143e-06, global_step: 14880, interval_runtime: 4.4278, interval_samples_per_second: 3.614, interval_steps_per_second: 2.258, epoch: 8.5714\r\n",
      "loss: 0.13001872, learning_rate: 7.114055299539171e-06, global_step: 14890, interval_runtime: 4.4444, interval_samples_per_second: 3.6, interval_steps_per_second: 2.25, epoch: 8.5772\r\n",
      "loss: 0.07218638, learning_rate: 7.085253456221199e-06, global_step: 14900, interval_runtime: 4.4336, interval_samples_per_second: 3.609, interval_steps_per_second: 2.255, epoch: 8.5829\r\n",
      "loss: 0.03021474, learning_rate: 7.056451612903227e-06, global_step: 14910, interval_runtime: 4.4166, interval_samples_per_second: 3.623, interval_steps_per_second: 2.264, epoch: 8.5887\r\n",
      "loss: 0.11392881, learning_rate: 7.027649769585254e-06, global_step: 14920, interval_runtime: 4.4429, interval_samples_per_second: 3.601, interval_steps_per_second: 2.251, epoch: 8.5945\r\n",
      "loss: 0.1087474, learning_rate: 6.998847926267281e-06, global_step: 14930, interval_runtime: 4.4235, interval_samples_per_second: 3.617, interval_steps_per_second: 2.261, epoch: 8.6002\r\n",
      "loss: 0.06608415, learning_rate: 6.970046082949309e-06, global_step: 14940, interval_runtime: 4.4363, interval_samples_per_second: 3.607, interval_steps_per_second: 2.254, epoch: 8.606\r\n",
      "loss: 0.07812278, learning_rate: 6.941244239631337e-06, global_step: 14950, interval_runtime: 4.4343, interval_samples_per_second: 3.608, interval_steps_per_second: 2.255, epoch: 8.6118\r\n",
      "loss: 0.10599176, learning_rate: 6.912442396313365e-06, global_step: 14960, interval_runtime: 4.4283, interval_samples_per_second: 3.613, interval_steps_per_second: 2.258, epoch: 8.6175\r\n",
      "loss: 0.07089563, learning_rate: 6.883640552995392e-06, global_step: 14970, interval_runtime: 4.424, interval_samples_per_second: 3.617, interval_steps_per_second: 2.26, epoch: 8.6233\r\n",
      "loss: 0.03820381, learning_rate: 6.854838709677419e-06, global_step: 14980, interval_runtime: 4.4266, interval_samples_per_second: 3.614, interval_steps_per_second: 2.259, epoch: 8.629\r\n",
      "loss: 0.03056197, learning_rate: 6.826036866359448e-06, global_step: 14990, interval_runtime: 4.4143, interval_samples_per_second: 3.625, interval_steps_per_second: 2.265, epoch: 8.6348\r\n",
      "loss: 0.0794021, learning_rate: 6.7972350230414745e-06, global_step: 15000, interval_runtime: 4.4228, interval_samples_per_second: 3.618, interval_steps_per_second: 2.261, epoch: 8.6406\r\n"
     ]
    },
    {
     "name": "stderr",
     "output_type": "stream",
     "text": [
      "[2024-03-04 15:11:21,172] [    INFO] - ***** Running Evaluation *****\r\n",
      "[2024-03-04 15:11:21,175] [    INFO] -   Num examples = 2000\r\n",
      "[2024-03-04 15:11:21,177] [    INFO] -   Pre device batch size = 16\r\n",
      "[2024-03-04 15:11:21,179] [    INFO] -   Total Batch size = 16\r\n",
      "[2024-03-04 15:11:21,181] [    INFO] -   Total prediction steps = 125\r\n"
     ]
    },
    {
     "data": {
      "application/vnd.jupyter.widget-view+json": {
       "model_id": "518fb42da46541878d6f53237c9021e3",
       "version_major": 2,
       "version_minor": 0
      },
      "text/plain": [
       "  0%|          | 0/125 [00:00<?, ?it/s]"
      ]
     },
     "metadata": {},
     "output_type": "display_data"
    },
    {
     "name": "stdout",
     "output_type": "stream",
     "text": [
      "eval_loss: 1.761148452758789, eval_accuracy: 0.7515, eval_f1: 0.7154229802672805, eval_runtime: 20.932, eval_samples_per_second: 95.547, eval_steps_per_second: 5.972, epoch: 8.6406\r\n"
     ]
    },
    {
     "name": "stderr",
     "output_type": "stream",
     "text": [
      "[2024-03-04 15:11:42,124] [    INFO] - Saving model checkpoint to ./work/output/checkpoint-15000\r\n",
      "[2024-03-04 15:11:47,855] [    INFO] - Deleting older checkpoint [work/output/checkpoint-13200] due to args.save_total_limit\r\n"
     ]
    },
    {
     "name": "stdout",
     "output_type": "stream",
     "text": [
      "loss: 0.03439203, learning_rate: 6.768433179723503e-06, global_step: 15010, interval_runtime: 31.2466, interval_samples_per_second: 0.512, interval_steps_per_second: 0.32, epoch: 8.6463\r\n",
      "loss: 0.02446317, learning_rate: 6.7396313364055306e-06, global_step: 15020, interval_runtime: 4.4333, interval_samples_per_second: 3.609, interval_steps_per_second: 2.256, epoch: 8.6521\r\n",
      "loss: 0.12390158, learning_rate: 6.710829493087557e-06, global_step: 15030, interval_runtime: 4.4131, interval_samples_per_second: 3.626, interval_steps_per_second: 2.266, epoch: 8.6578\r\n",
      "loss: 0.00494118, learning_rate: 6.682027649769586e-06, global_step: 15040, interval_runtime: 4.4085, interval_samples_per_second: 3.629, interval_steps_per_second: 2.268, epoch: 8.6636\r\n",
      "loss: 0.00072384, learning_rate: 6.6532258064516125e-06, global_step: 15050, interval_runtime: 4.4071, interval_samples_per_second: 3.631, interval_steps_per_second: 2.269, epoch: 8.6694\r\n",
      "loss: 0.06571988, learning_rate: 6.624423963133642e-06, global_step: 15060, interval_runtime: 4.4089, interval_samples_per_second: 3.629, interval_steps_per_second: 2.268, epoch: 8.6751\r\n",
      "loss: 0.04026012, learning_rate: 6.5956221198156685e-06, global_step: 15070, interval_runtime: 4.3994, interval_samples_per_second: 3.637, interval_steps_per_second: 2.273, epoch: 8.6809\r\n",
      "loss: 0.07079279, learning_rate: 6.566820276497695e-06, global_step: 15080, interval_runtime: 4.4167, interval_samples_per_second: 3.623, interval_steps_per_second: 2.264, epoch: 8.6866\r\n",
      "loss: 0.04261771, learning_rate: 6.538018433179724e-06, global_step: 15090, interval_runtime: 4.3986, interval_samples_per_second: 3.637, interval_steps_per_second: 2.273, epoch: 8.6924\r\n",
      "loss: 0.08905833, learning_rate: 6.509216589861751e-06, global_step: 15100, interval_runtime: 4.4083, interval_samples_per_second: 3.63, interval_steps_per_second: 2.268, epoch: 8.6982\r\n",
      "loss: 0.09038252, learning_rate: 6.48041474654378e-06, global_step: 15110, interval_runtime: 4.4156, interval_samples_per_second: 3.624, interval_steps_per_second: 2.265, epoch: 8.7039\r\n",
      "loss: 0.02867232, learning_rate: 6.451612903225806e-06, global_step: 15120, interval_runtime: 4.4008, interval_samples_per_second: 3.636, interval_steps_per_second: 2.272, epoch: 8.7097\r\n",
      "loss: 0.14639703, learning_rate: 6.422811059907835e-06, global_step: 15130, interval_runtime: 4.402, interval_samples_per_second: 3.635, interval_steps_per_second: 2.272, epoch: 8.7154\r\n",
      "loss: 0.02285053, learning_rate: 6.394009216589862e-06, global_step: 15140, interval_runtime: 4.4061, interval_samples_per_second: 3.631, interval_steps_per_second: 2.27, epoch: 8.7212\r\n",
      "loss: 0.04799524, learning_rate: 6.365207373271889e-06, global_step: 15150, interval_runtime: 4.3972, interval_samples_per_second: 3.639, interval_steps_per_second: 2.274, epoch: 8.727\r\n",
      "loss: 0.05809236, learning_rate: 6.3364055299539176e-06, global_step: 15160, interval_runtime: 4.4346, interval_samples_per_second: 3.608, interval_steps_per_second: 2.255, epoch: 8.7327\r\n",
      "loss: 0.01340111, learning_rate: 6.307603686635945e-06, global_step: 15170, interval_runtime: 4.4367, interval_samples_per_second: 3.606, interval_steps_per_second: 2.254, epoch: 8.7385\r\n",
      "loss: 0.00098848, learning_rate: 6.2788018433179736e-06, global_step: 15180, interval_runtime: 4.4065, interval_samples_per_second: 3.631, interval_steps_per_second: 2.269, epoch: 8.7442\r\n",
      "loss: 0.0600278, learning_rate: 6.25e-06, global_step: 15190, interval_runtime: 4.4115, interval_samples_per_second: 3.627, interval_steps_per_second: 2.267, epoch: 8.75\r\n",
      "loss: 0.0735968, learning_rate: 6.221198156682028e-06, global_step: 15200, interval_runtime: 4.4207, interval_samples_per_second: 3.619, interval_steps_per_second: 2.262, epoch: 8.7558\r\n"
     ]
    },
    {
     "name": "stderr",
     "output_type": "stream",
     "text": [
      "[2024-03-04 15:13:16,245] [    INFO] - ***** Running Evaluation *****\r\n",
      "[2024-03-04 15:13:16,247] [    INFO] -   Num examples = 2000\r\n",
      "[2024-03-04 15:13:16,250] [    INFO] -   Pre device batch size = 16\r\n",
      "[2024-03-04 15:13:16,252] [    INFO] -   Total Batch size = 16\r\n",
      "[2024-03-04 15:13:16,255] [    INFO] -   Total prediction steps = 125\r\n"
     ]
    },
    {
     "data": {
      "application/vnd.jupyter.widget-view+json": {
       "model_id": "ea0902ca66b5497fb75cdc64cf70f4e0",
       "version_major": 2,
       "version_minor": 0
      },
      "text/plain": [
       "  0%|          | 0/125 [00:00<?, ?it/s]"
      ]
     },
     "metadata": {},
     "output_type": "display_data"
    },
    {
     "name": "stdout",
     "output_type": "stream",
     "text": [
      "eval_loss: 1.7651604413986206, eval_accuracy: 0.755, eval_f1: 0.7226850244764393, eval_runtime: 20.9308, eval_samples_per_second: 95.553, eval_steps_per_second: 5.972, epoch: 8.7558\r\n"
     ]
    },
    {
     "name": "stderr",
     "output_type": "stream",
     "text": [
      "[2024-03-04 15:13:37,181] [    INFO] - Saving model checkpoint to ./work/output/checkpoint-15200\r\n",
      "[2024-03-04 15:13:41,044] [    INFO] - Deleting older checkpoint [work/output/checkpoint-13400] due to args.save_total_limit\r\n"
     ]
    },
    {
     "name": "stdout",
     "output_type": "stream",
     "text": [
      "loss: 0.00280881, learning_rate: 6.1923963133640555e-06, global_step: 15210, interval_runtime: 29.3313, interval_samples_per_second: 0.545, interval_steps_per_second: 0.341, epoch: 8.7615\r\n",
      "loss: 0.00338304, learning_rate: 6.163594470046083e-06, global_step: 15220, interval_runtime: 4.4416, interval_samples_per_second: 3.602, interval_steps_per_second: 2.251, epoch: 8.7673\r\n",
      "loss: 0.00063156, learning_rate: 6.134792626728111e-06, global_step: 15230, interval_runtime: 4.4466, interval_samples_per_second: 3.598, interval_steps_per_second: 2.249, epoch: 8.773\r\n",
      "loss: 0.00084587, learning_rate: 6.105990783410138e-06, global_step: 15240, interval_runtime: 4.4473, interval_samples_per_second: 3.598, interval_steps_per_second: 2.249, epoch: 8.7788\r\n",
      "loss: 0.00508065, learning_rate: 6.077188940092167e-06, global_step: 15250, interval_runtime: 4.4507, interval_samples_per_second: 3.595, interval_steps_per_second: 2.247, epoch: 8.7846\r\n",
      "loss: 0.05755515, learning_rate: 6.048387096774194e-06, global_step: 15260, interval_runtime: 4.4436, interval_samples_per_second: 3.601, interval_steps_per_second: 2.25, epoch: 8.7903\r\n",
      "loss: 0.00057623, learning_rate: 6.019585253456222e-06, global_step: 15270, interval_runtime: 4.4324, interval_samples_per_second: 3.61, interval_steps_per_second: 2.256, epoch: 8.7961\r\n",
      "loss: 0.07407107, learning_rate: 5.9907834101382485e-06, global_step: 15280, interval_runtime: 4.4353, interval_samples_per_second: 3.607, interval_steps_per_second: 2.255, epoch: 8.8018\r\n",
      "loss: 0.06097401, learning_rate: 5.961981566820277e-06, global_step: 15290, interval_runtime: 4.6557, interval_samples_per_second: 3.437, interval_steps_per_second: 2.148, epoch: 8.8076\r\n",
      "loss: 0.05876549, learning_rate: 5.9331797235023045e-06, global_step: 15300, interval_runtime: 4.429, interval_samples_per_second: 3.613, interval_steps_per_second: 2.258, epoch: 8.8134\r\n",
      "loss: 0.00243652, learning_rate: 5.904377880184332e-06, global_step: 15310, interval_runtime: 4.4276, interval_samples_per_second: 3.614, interval_steps_per_second: 2.259, epoch: 8.8191\r\n",
      "loss: 0.14187729, learning_rate: 5.87557603686636e-06, global_step: 15320, interval_runtime: 4.4295, interval_samples_per_second: 3.612, interval_steps_per_second: 2.258, epoch: 8.8249\r\n",
      "loss: 0.05835917, learning_rate: 5.846774193548387e-06, global_step: 15330, interval_runtime: 4.4484, interval_samples_per_second: 3.597, interval_steps_per_second: 2.248, epoch: 8.8306\r\n",
      "loss: 0.03917241, learning_rate: 5.817972350230415e-06, global_step: 15340, interval_runtime: 4.4635, interval_samples_per_second: 3.585, interval_steps_per_second: 2.24, epoch: 8.8364\r\n",
      "loss: 0.09879953, learning_rate: 5.7891705069124425e-06, global_step: 15350, interval_runtime: 4.4266, interval_samples_per_second: 3.615, interval_steps_per_second: 2.259, epoch: 8.8422\r\n",
      "loss: 0.02623431, learning_rate: 5.76036866359447e-06, global_step: 15360, interval_runtime: 4.4398, interval_samples_per_second: 3.604, interval_steps_per_second: 2.252, epoch: 8.8479\r\n",
      "loss: 0.00176666, learning_rate: 5.7315668202764985e-06, global_step: 15370, interval_runtime: 4.422, interval_samples_per_second: 3.618, interval_steps_per_second: 2.261, epoch: 8.8537\r\n",
      "loss: 0.00102733, learning_rate: 5.702764976958526e-06, global_step: 15380, interval_runtime: 4.4316, interval_samples_per_second: 3.61, interval_steps_per_second: 2.257, epoch: 8.8594\r\n",
      "loss: 0.02416127, learning_rate: 5.673963133640553e-06, global_step: 15390, interval_runtime: 4.4465, interval_samples_per_second: 3.598, interval_steps_per_second: 2.249, epoch: 8.8652\r\n",
      "loss: 0.0120675, learning_rate: 5.64516129032258e-06, global_step: 15400, interval_runtime: 4.4217, interval_samples_per_second: 3.619, interval_steps_per_second: 2.262, epoch: 8.871\r\n"
     ]
    },
    {
     "name": "stderr",
     "output_type": "stream",
     "text": [
      "[2024-03-04 15:15:10,116] [    INFO] - ***** Running Evaluation *****\r\n",
      "[2024-03-04 15:15:10,134] [    INFO] -   Num examples = 2000\r\n",
      "[2024-03-04 15:15:10,144] [    INFO] -   Pre device batch size = 16\r\n",
      "[2024-03-04 15:15:10,146] [    INFO] -   Total Batch size = 16\r\n",
      "[2024-03-04 15:15:10,148] [    INFO] -   Total prediction steps = 125\r\n"
     ]
    },
    {
     "data": {
      "application/vnd.jupyter.widget-view+json": {
       "model_id": "ca7cd6399fdb4b839be70e779eb875ea",
       "version_major": 2,
       "version_minor": 0
      },
      "text/plain": [
       "  0%|          | 0/125 [00:00<?, ?it/s]"
      ]
     },
     "metadata": {},
     "output_type": "display_data"
    },
    {
     "name": "stdout",
     "output_type": "stream",
     "text": [
      "eval_loss: 1.8003169298171997, eval_accuracy: 0.7565, eval_f1: 0.7197224777892663, eval_runtime: 21.0571, eval_samples_per_second: 94.98, eval_steps_per_second: 5.936, epoch: 8.871\r\n"
     ]
    },
    {
     "name": "stderr",
     "output_type": "stream",
     "text": [
      "[2024-03-04 15:15:31,179] [    INFO] - Saving model checkpoint to ./work/output/checkpoint-15400\r\n",
      "[2024-03-04 15:15:35,085] [    INFO] - Deleting older checkpoint [work/output/checkpoint-13600] due to args.save_total_limit\r\n"
     ]
    },
    {
     "name": "stdout",
     "output_type": "stream",
     "text": [
      "loss: 0.0304238, learning_rate: 5.616359447004609e-06, global_step: 15410, interval_runtime: 29.5641, interval_samples_per_second: 0.541, interval_steps_per_second: 0.338, epoch: 8.8767\r\n",
      "loss: 0.06642622, learning_rate: 5.587557603686636e-06, global_step: 15420, interval_runtime: 4.4378, interval_samples_per_second: 3.605, interval_steps_per_second: 2.253, epoch: 8.8825\r\n",
      "loss: 0.04301959, learning_rate: 5.558755760368664e-06, global_step: 15430, interval_runtime: 4.4581, interval_samples_per_second: 3.589, interval_steps_per_second: 2.243, epoch: 8.8882\r\n",
      "loss: 0.03451086, learning_rate: 5.5299539170506915e-06, global_step: 15440, interval_runtime: 4.414, interval_samples_per_second: 3.625, interval_steps_per_second: 2.266, epoch: 8.894\r\n",
      "loss: 0.01466711, learning_rate: 5.501152073732719e-06, global_step: 15450, interval_runtime: 4.4382, interval_samples_per_second: 3.605, interval_steps_per_second: 2.253, epoch: 8.8998\r\n",
      "loss: 0.0462088, learning_rate: 5.472350230414747e-06, global_step: 15460, interval_runtime: 4.4139, interval_samples_per_second: 3.625, interval_steps_per_second: 2.266, epoch: 8.9055\r\n",
      "loss: 0.03718035, learning_rate: 5.443548387096774e-06, global_step: 15470, interval_runtime: 4.4086, interval_samples_per_second: 3.629, interval_steps_per_second: 2.268, epoch: 8.9113\r\n",
      "loss: 0.08281496, learning_rate: 5.414746543778802e-06, global_step: 15480, interval_runtime: 4.407, interval_samples_per_second: 3.631, interval_steps_per_second: 2.269, epoch: 8.9171\r\n",
      "loss: 0.0781408, learning_rate: 5.38594470046083e-06, global_step: 15490, interval_runtime: 4.4103, interval_samples_per_second: 3.628, interval_steps_per_second: 2.267, epoch: 8.9228\r\n",
      "loss: 0.03177015, learning_rate: 5.357142857142857e-06, global_step: 15500, interval_runtime: 4.4022, interval_samples_per_second: 3.635, interval_steps_per_second: 2.272, epoch: 8.9286\r\n",
      "loss: 0.08296164, learning_rate: 5.328341013824885e-06, global_step: 15510, interval_runtime: 4.4092, interval_samples_per_second: 3.629, interval_steps_per_second: 2.268, epoch: 8.9343\r\n",
      "loss: 0.0611542, learning_rate: 5.299539170506913e-06, global_step: 15520, interval_runtime: 4.428, interval_samples_per_second: 3.613, interval_steps_per_second: 2.258, epoch: 8.9401\r\n",
      "loss: 0.02979384, learning_rate: 5.270737327188941e-06, global_step: 15530, interval_runtime: 4.4006, interval_samples_per_second: 3.636, interval_steps_per_second: 2.272, epoch: 8.9459\r\n",
      "loss: 0.03411603, learning_rate: 5.241935483870968e-06, global_step: 15540, interval_runtime: 4.4001, interval_samples_per_second: 3.636, interval_steps_per_second: 2.273, epoch: 8.9516\r\n",
      "loss: 0.00908416, learning_rate: 5.213133640552996e-06, global_step: 15550, interval_runtime: 4.4152, interval_samples_per_second: 3.624, interval_steps_per_second: 2.265, epoch: 8.9574\r\n",
      "loss: 0.00058202, learning_rate: 5.184331797235023e-06, global_step: 15560, interval_runtime: 4.4105, interval_samples_per_second: 3.628, interval_steps_per_second: 2.267, epoch: 8.9631\r\n",
      "loss: 0.06605542, learning_rate: 5.155529953917051e-06, global_step: 15570, interval_runtime: 4.4113, interval_samples_per_second: 3.627, interval_steps_per_second: 2.267, epoch: 8.9689\r\n",
      "loss: 0.00057555, learning_rate: 5.1267281105990785e-06, global_step: 15580, interval_runtime: 4.4099, interval_samples_per_second: 3.628, interval_steps_per_second: 2.268, epoch: 8.9747\r\n",
      "loss: 0.02069157, learning_rate: 5.097926267281106e-06, global_step: 15590, interval_runtime: 4.4294, interval_samples_per_second: 3.612, interval_steps_per_second: 2.258, epoch: 8.9804\r\n",
      "loss: 0.04161491, learning_rate: 5.0691244239631346e-06, global_step: 15600, interval_runtime: 4.4421, interval_samples_per_second: 3.602, interval_steps_per_second: 2.251, epoch: 8.9862\r\n"
     ]
    },
    {
     "name": "stderr",
     "output_type": "stream",
     "text": [
      "[2024-03-04 15:17:03,630] [    INFO] - ***** Running Evaluation *****\r\n",
      "[2024-03-04 15:17:03,633] [    INFO] -   Num examples = 2000\r\n",
      "[2024-03-04 15:17:03,639] [    INFO] -   Pre device batch size = 16\r\n",
      "[2024-03-04 15:17:03,646] [    INFO] -   Total Batch size = 16\r\n",
      "[2024-03-04 15:17:03,654] [    INFO] -   Total prediction steps = 125\r\n"
     ]
    },
    {
     "data": {
      "application/vnd.jupyter.widget-view+json": {
       "model_id": "22435f2d04f6453d952800c92703498f",
       "version_major": 2,
       "version_minor": 0
      },
      "text/plain": [
       "  0%|          | 0/125 [00:00<?, ?it/s]"
      ]
     },
     "metadata": {},
     "output_type": "display_data"
    },
    {
     "name": "stdout",
     "output_type": "stream",
     "text": [
      "eval_loss: 1.7787641286849976, eval_accuracy: 0.753, eval_f1: 0.7191711565470751, eval_runtime: 21.06, eval_samples_per_second: 94.967, eval_steps_per_second: 5.935, epoch: 8.9862\r\n"
     ]
    },
    {
     "name": "stderr",
     "output_type": "stream",
     "text": [
      "[2024-03-04 15:17:24,739] [    INFO] - Saving model checkpoint to ./work/output/checkpoint-15600\r\n",
      "[2024-03-04 15:17:28,855] [    INFO] - Deleting older checkpoint [work/output/checkpoint-13800] due to args.save_total_limit\r\n"
     ]
    },
    {
     "name": "stdout",
     "output_type": "stream",
     "text": [
      "loss: 0.14393142, learning_rate: 5.040322580645161e-06, global_step: 15610, interval_runtime: 29.7578, interval_samples_per_second: 0.538, interval_steps_per_second: 0.336, epoch: 8.9919\r\n",
      "loss: 0.05431042, learning_rate: 5.011520737327189e-06, global_step: 15620, interval_runtime: 4.4357, interval_samples_per_second: 3.607, interval_steps_per_second: 2.254, epoch: 8.9977\r\n",
      "loss: 0.00559215, learning_rate: 4.9827188940092165e-06, global_step: 15630, interval_runtime: 4.4125, interval_samples_per_second: 3.626, interval_steps_per_second: 2.266, epoch: 9.0035\r\n",
      "loss: 0.06475911, learning_rate: 4.953917050691245e-06, global_step: 15640, interval_runtime: 4.432, interval_samples_per_second: 3.61, interval_steps_per_second: 2.256, epoch: 9.0092\r\n",
      "loss: 0.03627209, learning_rate: 4.9251152073732725e-06, global_step: 15650, interval_runtime: 4.4119, interval_samples_per_second: 3.627, interval_steps_per_second: 2.267, epoch: 9.015\r\n",
      "loss: 0.02170688, learning_rate: 4.8963133640553e-06, global_step: 15660, interval_runtime: 4.4286, interval_samples_per_second: 3.613, interval_steps_per_second: 2.258, epoch: 9.0207\r\n",
      "loss: 0.01996626, learning_rate: 4.867511520737327e-06, global_step: 15670, interval_runtime: 4.4363, interval_samples_per_second: 3.607, interval_steps_per_second: 2.254, epoch: 9.0265\r\n",
      "loss: 0.00847967, learning_rate: 4.838709677419355e-06, global_step: 15680, interval_runtime: 4.4148, interval_samples_per_second: 3.624, interval_steps_per_second: 2.265, epoch: 9.0323\r\n",
      "loss: 0.07704619, learning_rate: 4.809907834101383e-06, global_step: 15690, interval_runtime: 4.4163, interval_samples_per_second: 3.623, interval_steps_per_second: 2.264, epoch: 9.038\r\n",
      "loss: 0.04026833, learning_rate: 4.78110599078341e-06, global_step: 15700, interval_runtime: 4.4194, interval_samples_per_second: 3.62, interval_steps_per_second: 2.263, epoch: 9.0438\r\n",
      "loss: 0.04833915, learning_rate: 4.752304147465438e-06, global_step: 15710, interval_runtime: 4.4153, interval_samples_per_second: 3.624, interval_steps_per_second: 2.265, epoch: 9.0495\r\n",
      "loss: 0.03468805, learning_rate: 4.7235023041474655e-06, global_step: 15720, interval_runtime: 4.4388, interval_samples_per_second: 3.605, interval_steps_per_second: 2.253, epoch: 9.0553\r\n",
      "loss: 0.00080347, learning_rate: 4.694700460829493e-06, global_step: 15730, interval_runtime: 4.4365, interval_samples_per_second: 3.606, interval_steps_per_second: 2.254, epoch: 9.0611\r\n",
      "loss: 0.00162234, learning_rate: 4.665898617511521e-06, global_step: 15740, interval_runtime: 4.4341, interval_samples_per_second: 3.608, interval_steps_per_second: 2.255, epoch: 9.0668\r\n",
      "loss: 0.01130252, learning_rate: 4.637096774193548e-06, global_step: 15750, interval_runtime: 4.4462, interval_samples_per_second: 3.599, interval_steps_per_second: 2.249, epoch: 9.0726\r\n",
      "loss: 0.04468401, learning_rate: 4.608294930875577e-06, global_step: 15760, interval_runtime: 4.444, interval_samples_per_second: 3.6, interval_steps_per_second: 2.25, epoch: 9.0783\r\n",
      "loss: 0.00060432, learning_rate: 4.579493087557604e-06, global_step: 15770, interval_runtime: 4.43, interval_samples_per_second: 3.612, interval_steps_per_second: 2.257, epoch: 9.0841\r\n",
      "loss: 0.00046048, learning_rate: 4.550691244239631e-06, global_step: 15780, interval_runtime: 4.4564, interval_samples_per_second: 3.59, interval_steps_per_second: 2.244, epoch: 9.0899\r\n",
      "loss: 0.06527967, learning_rate: 4.5218894009216595e-06, global_step: 15790, interval_runtime: 4.4292, interval_samples_per_second: 3.612, interval_steps_per_second: 2.258, epoch: 9.0956\r\n",
      "loss: 0.0422874, learning_rate: 4.493087557603687e-06, global_step: 15800, interval_runtime: 4.4322, interval_samples_per_second: 3.61, interval_steps_per_second: 2.256, epoch: 9.1014\r\n"
     ]
    },
    {
     "name": "stderr",
     "output_type": "stream",
     "text": [
      "[2024-03-04 15:18:57,555] [    INFO] - ***** Running Evaluation *****\r\n",
      "[2024-03-04 15:18:57,558] [    INFO] -   Num examples = 2000\r\n",
      "[2024-03-04 15:18:57,560] [    INFO] -   Pre device batch size = 16\r\n",
      "[2024-03-04 15:18:57,563] [    INFO] -   Total Batch size = 16\r\n",
      "[2024-03-04 15:18:57,565] [    INFO] -   Total prediction steps = 125\r\n"
     ]
    },
    {
     "data": {
      "application/vnd.jupyter.widget-view+json": {
       "model_id": "e8bef953c9834e14af14eeffd1a1256e",
       "version_major": 2,
       "version_minor": 0
      },
      "text/plain": [
       "  0%|          | 0/125 [00:00<?, ?it/s]"
      ]
     },
     "metadata": {},
     "output_type": "display_data"
    },
    {
     "name": "stdout",
     "output_type": "stream",
     "text": [
      "eval_loss: 1.8051788806915283, eval_accuracy: 0.7545, eval_f1: 0.719206996103887, eval_runtime: 21.0014, eval_samples_per_second: 95.232, eval_steps_per_second: 5.952, epoch: 9.1014\r\n"
     ]
    },
    {
     "name": "stderr",
     "output_type": "stream",
     "text": [
      "[2024-03-04 15:19:18,570] [    INFO] - Saving model checkpoint to ./work/output/checkpoint-15800\r\n",
      "[2024-03-04 15:19:22,569] [    INFO] - Deleting older checkpoint [work/output/checkpoint-14000] due to args.save_total_limit\r\n"
     ]
    },
    {
     "name": "stdout",
     "output_type": "stream",
     "text": [
      "loss: 0.00061119, learning_rate: 4.464285714285715e-06, global_step: 15810, interval_runtime: 29.5325, interval_samples_per_second: 0.542, interval_steps_per_second: 0.339, epoch: 9.1071\r\n",
      "loss: 0.0212767, learning_rate: 4.435483870967742e-06, global_step: 15820, interval_runtime: 4.4372, interval_samples_per_second: 3.606, interval_steps_per_second: 2.254, epoch: 9.1129\r\n",
      "loss: 0.00338467, learning_rate: 4.40668202764977e-06, global_step: 15830, interval_runtime: 4.4269, interval_samples_per_second: 3.614, interval_steps_per_second: 2.259, epoch: 9.1187\r\n",
      "loss: 0.06070588, learning_rate: 4.377880184331797e-06, global_step: 15840, interval_runtime: 4.4203, interval_samples_per_second: 3.62, interval_steps_per_second: 2.262, epoch: 9.1244\r\n",
      "loss: 0.02410859, learning_rate: 4.349078341013825e-06, global_step: 15850, interval_runtime: 4.4284, interval_samples_per_second: 3.613, interval_steps_per_second: 2.258, epoch: 9.1302\r\n",
      "loss: 0.01290715, learning_rate: 4.3202764976958525e-06, global_step: 15860, interval_runtime: 4.4246, interval_samples_per_second: 3.616, interval_steps_per_second: 2.26, epoch: 9.1359\r\n",
      "loss: 0.00449213, learning_rate: 4.291474654377881e-06, global_step: 15870, interval_runtime: 4.4222, interval_samples_per_second: 3.618, interval_steps_per_second: 2.261, epoch: 9.1417\r\n",
      "loss: 0.00316784, learning_rate: 4.2626728110599085e-06, global_step: 15880, interval_runtime: 4.4304, interval_samples_per_second: 3.611, interval_steps_per_second: 2.257, epoch: 9.1475\r\n",
      "loss: 0.01988737, learning_rate: 4.233870967741935e-06, global_step: 15890, interval_runtime: 4.4113, interval_samples_per_second: 3.627, interval_steps_per_second: 2.267, epoch: 9.1532\r\n",
      "loss: 0.00058398, learning_rate: 4.205069124423963e-06, global_step: 15900, interval_runtime: 4.3991, interval_samples_per_second: 3.637, interval_steps_per_second: 2.273, epoch: 9.159\r\n",
      "loss: 0.04995843, learning_rate: 4.176267281105991e-06, global_step: 15910, interval_runtime: 4.4121, interval_samples_per_second: 3.626, interval_steps_per_second: 2.266, epoch: 9.1647\r\n",
      "loss: 0.00056651, learning_rate: 4.147465437788019e-06, global_step: 15920, interval_runtime: 4.398, interval_samples_per_second: 3.638, interval_steps_per_second: 2.274, epoch: 9.1705\r\n",
      "loss: 0.0097, learning_rate: 4.1186635944700465e-06, global_step: 15930, interval_runtime: 4.4084, interval_samples_per_second: 3.629, interval_steps_per_second: 2.268, epoch: 9.1763\r\n",
      "loss: 0.00031131, learning_rate: 4.089861751152074e-06, global_step: 15940, interval_runtime: 4.4193, interval_samples_per_second: 3.62, interval_steps_per_second: 2.263, epoch: 9.182\r\n",
      "loss: 0.06661445, learning_rate: 4.061059907834102e-06, global_step: 15950, interval_runtime: 4.4256, interval_samples_per_second: 3.615, interval_steps_per_second: 2.26, epoch: 9.1878\r\n",
      "loss: 0.0011002, learning_rate: 4.032258064516129e-06, global_step: 15960, interval_runtime: 4.4274, interval_samples_per_second: 3.614, interval_steps_per_second: 2.259, epoch: 9.1935\r\n",
      "loss: 0.00507683, learning_rate: 4.003456221198157e-06, global_step: 15970, interval_runtime: 4.4055, interval_samples_per_second: 3.632, interval_steps_per_second: 2.27, epoch: 9.1993\r\n",
      "loss: 0.03076239, learning_rate: 3.974654377880184e-06, global_step: 15980, interval_runtime: 4.4108, interval_samples_per_second: 3.627, interval_steps_per_second: 2.267, epoch: 9.2051\r\n",
      "loss: 0.00502215, learning_rate: 3.945852534562213e-06, global_step: 15990, interval_runtime: 4.4111, interval_samples_per_second: 3.627, interval_steps_per_second: 2.267, epoch: 9.2108\r\n",
      "loss: 0.03914092, learning_rate: 3.9170506912442395e-06, global_step: 16000, interval_runtime: 4.4584, interval_samples_per_second: 3.589, interval_steps_per_second: 2.243, epoch: 9.2166\r\n"
     ]
    },
    {
     "name": "stderr",
     "output_type": "stream",
     "text": [
      "[2024-03-04 15:20:51,064] [    INFO] - ***** Running Evaluation *****\r\n",
      "[2024-03-04 15:20:51,067] [    INFO] -   Num examples = 2000\r\n",
      "[2024-03-04 15:20:51,069] [    INFO] -   Pre device batch size = 16\r\n",
      "[2024-03-04 15:20:51,071] [    INFO] -   Total Batch size = 16\r\n",
      "[2024-03-04 15:20:51,073] [    INFO] -   Total prediction steps = 125\r\n"
     ]
    },
    {
     "data": {
      "application/vnd.jupyter.widget-view+json": {
       "model_id": "4eb1a4a8f40c4375985d8dcfcc37dae5",
       "version_major": 2,
       "version_minor": 0
      },
      "text/plain": [
       "  0%|          | 0/125 [00:00<?, ?it/s]"
      ]
     },
     "metadata": {},
     "output_type": "display_data"
    },
    {
     "name": "stdout",
     "output_type": "stream",
     "text": [
      "eval_loss: 1.865842342376709, eval_accuracy: 0.754, eval_f1: 0.7176154569109775, eval_runtime: 20.939, eval_samples_per_second: 95.516, eval_steps_per_second: 5.97, epoch: 9.2166\r\n"
     ]
    },
    {
     "name": "stderr",
     "output_type": "stream",
     "text": [
      "[2024-03-04 15:21:12,010] [    INFO] - Saving model checkpoint to ./work/output/checkpoint-16000\r\n",
      "[2024-03-04 15:21:15,989] [    INFO] - Deleting older checkpoint [work/output/checkpoint-14200] due to args.save_total_limit\r\n"
     ]
    },
    {
     "name": "stdout",
     "output_type": "stream",
     "text": [
      "loss: 0.00069423, learning_rate: 3.888248847926267e-06, global_step: 16010, interval_runtime: 29.4507, interval_samples_per_second: 0.543, interval_steps_per_second: 0.34, epoch: 9.2224\r\n",
      "loss: 0.03625959, learning_rate: 3.859447004608295e-06, global_step: 16020, interval_runtime: 4.414, interval_samples_per_second: 3.625, interval_steps_per_second: 2.266, epoch: 9.2281\r\n",
      "loss: 0.02985746, learning_rate: 3.830645161290323e-06, global_step: 16030, interval_runtime: 4.4448, interval_samples_per_second: 3.6, interval_steps_per_second: 2.25, epoch: 9.2339\r\n",
      "loss: 0.03311375, learning_rate: 3.8018433179723507e-06, global_step: 16040, interval_runtime: 4.4224, interval_samples_per_second: 3.618, interval_steps_per_second: 2.261, epoch: 9.2396\r\n",
      "loss: 0.06693748, learning_rate: 3.7730414746543783e-06, global_step: 16050, interval_runtime: 4.4181, interval_samples_per_second: 3.621, interval_steps_per_second: 2.263, epoch: 9.2454\r\n",
      "loss: 0.01904279, learning_rate: 3.7442396313364054e-06, global_step: 16060, interval_runtime: 4.4128, interval_samples_per_second: 3.626, interval_steps_per_second: 2.266, epoch: 9.2512\r\n",
      "loss: 0.03138028, learning_rate: 3.715437788018433e-06, global_step: 16070, interval_runtime: 4.4104, interval_samples_per_second: 3.628, interval_steps_per_second: 2.267, epoch: 9.2569\r\n",
      "loss: 0.00059971, learning_rate: 3.686635944700461e-06, global_step: 16080, interval_runtime: 4.4259, interval_samples_per_second: 3.615, interval_steps_per_second: 2.259, epoch: 9.2627\r\n",
      "loss: 0.00075961, learning_rate: 3.6578341013824886e-06, global_step: 16090, interval_runtime: 4.4277, interval_samples_per_second: 3.614, interval_steps_per_second: 2.259, epoch: 9.2684\r\n",
      "loss: 0.01471145, learning_rate: 3.6290322580645166e-06, global_step: 16100, interval_runtime: 4.4168, interval_samples_per_second: 3.623, interval_steps_per_second: 2.264, epoch: 9.2742\r\n",
      "loss: 0.06909401, learning_rate: 3.6002304147465438e-06, global_step: 16110, interval_runtime: 4.4272, interval_samples_per_second: 3.614, interval_steps_per_second: 2.259, epoch: 9.28\r\n",
      "loss: 0.00039048, learning_rate: 3.5714285714285714e-06, global_step: 16120, interval_runtime: 4.4998, interval_samples_per_second: 3.556, interval_steps_per_second: 2.222, epoch: 9.2857\r\n",
      "loss: 0.0641791, learning_rate: 3.5426267281105994e-06, global_step: 16130, interval_runtime: 4.5392, interval_samples_per_second: 3.525, interval_steps_per_second: 2.203, epoch: 9.2915\r\n",
      "loss: 0.02431091, learning_rate: 3.513824884792627e-06, global_step: 16140, interval_runtime: 4.4228, interval_samples_per_second: 3.618, interval_steps_per_second: 2.261, epoch: 9.2972\r\n",
      "loss: 0.02014702, learning_rate: 3.4850230414746545e-06, global_step: 16150, interval_runtime: 4.4395, interval_samples_per_second: 3.604, interval_steps_per_second: 2.252, epoch: 9.303\r\n",
      "loss: 0.00022021, learning_rate: 3.4562211981566825e-06, global_step: 16160, interval_runtime: 4.4296, interval_samples_per_second: 3.612, interval_steps_per_second: 2.258, epoch: 9.3088\r\n",
      "loss: 0.00060754, learning_rate: 3.4274193548387097e-06, global_step: 16170, interval_runtime: 4.4372, interval_samples_per_second: 3.606, interval_steps_per_second: 2.254, epoch: 9.3145\r\n",
      "loss: 0.01044532, learning_rate: 3.3986175115207373e-06, global_step: 16180, interval_runtime: 4.4287, interval_samples_per_second: 3.613, interval_steps_per_second: 2.258, epoch: 9.3203\r\n",
      "loss: 0.00039336, learning_rate: 3.3698156682027653e-06, global_step: 16190, interval_runtime: 4.4254, interval_samples_per_second: 3.615, interval_steps_per_second: 2.26, epoch: 9.326\r\n",
      "loss: 0.05167295, learning_rate: 3.341013824884793e-06, global_step: 16200, interval_runtime: 4.4178, interval_samples_per_second: 3.622, interval_steps_per_second: 2.264, epoch: 9.3318\r\n"
     ]
    },
    {
     "name": "stderr",
     "output_type": "stream",
     "text": [
      "[2024-03-04 15:22:44,783] [    INFO] - ***** Running Evaluation *****\r\n",
      "[2024-03-04 15:22:44,786] [    INFO] -   Num examples = 2000\r\n",
      "[2024-03-04 15:22:44,788] [    INFO] -   Pre device batch size = 16\r\n",
      "[2024-03-04 15:22:44,791] [    INFO] -   Total Batch size = 16\r\n",
      "[2024-03-04 15:22:44,793] [    INFO] -   Total prediction steps = 125\r\n"
     ]
    },
    {
     "data": {
      "application/vnd.jupyter.widget-view+json": {
       "model_id": "9a0292e0e9d54ba78a138dd6f2c5c244",
       "version_major": 2,
       "version_minor": 0
      },
      "text/plain": [
       "  0%|          | 0/125 [00:00<?, ?it/s]"
      ]
     },
     "metadata": {},
     "output_type": "display_data"
    },
    {
     "name": "stdout",
     "output_type": "stream",
     "text": [
      "eval_loss: 1.8576014041900635, eval_accuracy: 0.758, eval_f1: 0.7227583006723051, eval_runtime: 21.0528, eval_samples_per_second: 94.999, eval_steps_per_second: 5.937, epoch: 9.3318\r\n"
     ]
    },
    {
     "name": "stderr",
     "output_type": "stream",
     "text": [
      "[2024-03-04 15:23:05,841] [    INFO] - Saving model checkpoint to ./work/output/checkpoint-16200\r\n",
      "[2024-03-04 15:23:09,978] [    INFO] - Deleting older checkpoint [work/output/checkpoint-14400] due to args.save_total_limit\r\n"
     ]
    },
    {
     "name": "stdout",
     "output_type": "stream",
     "text": [
      "loss: 0.05149931, learning_rate: 3.312211981566821e-06, global_step: 16210, interval_runtime: 29.735, interval_samples_per_second: 0.538, interval_steps_per_second: 0.336, epoch: 9.3376\r\n",
      "loss: 0.00047091, learning_rate: 3.2834101382488476e-06, global_step: 16220, interval_runtime: 4.4185, interval_samples_per_second: 3.621, interval_steps_per_second: 2.263, epoch: 9.3433\r\n",
      "loss: 0.07094712, learning_rate: 3.2546082949308756e-06, global_step: 16230, interval_runtime: 4.4222, interval_samples_per_second: 3.618, interval_steps_per_second: 2.261, epoch: 9.3491\r\n",
      "loss: 0.01012797, learning_rate: 3.225806451612903e-06, global_step: 16240, interval_runtime: 4.4197, interval_samples_per_second: 3.62, interval_steps_per_second: 2.263, epoch: 9.3548\r\n",
      "loss: 0.00058532, learning_rate: 3.197004608294931e-06, global_step: 16250, interval_runtime: 4.4198, interval_samples_per_second: 3.62, interval_steps_per_second: 2.263, epoch: 9.3606\r\n",
      "loss: 0.01129222, learning_rate: 3.1682027649769588e-06, global_step: 16260, interval_runtime: 4.417, interval_samples_per_second: 3.622, interval_steps_per_second: 2.264, epoch: 9.3664\r\n",
      "loss: 0.03014628, learning_rate: 3.1394009216589868e-06, global_step: 16270, interval_runtime: 4.4657, interval_samples_per_second: 3.583, interval_steps_per_second: 2.239, epoch: 9.3721\r\n",
      "loss: 0.06390221, learning_rate: 3.110599078341014e-06, global_step: 16280, interval_runtime: 4.4119, interval_samples_per_second: 3.627, interval_steps_per_second: 2.267, epoch: 9.3779\r\n",
      "loss: 0.03171479, learning_rate: 3.0817972350230415e-06, global_step: 16290, interval_runtime: 4.4237, interval_samples_per_second: 3.617, interval_steps_per_second: 2.261, epoch: 9.3836\r\n",
      "loss: 0.00437125, learning_rate: 3.052995391705069e-06, global_step: 16300, interval_runtime: 4.4363, interval_samples_per_second: 3.607, interval_steps_per_second: 2.254, epoch: 9.3894\r\n",
      "loss: 0.00031619, learning_rate: 3.024193548387097e-06, global_step: 16310, interval_runtime: 4.4299, interval_samples_per_second: 3.612, interval_steps_per_second: 2.257, epoch: 9.3952\r\n",
      "loss: 0.04673056, learning_rate: 2.9953917050691243e-06, global_step: 16320, interval_runtime: 4.4572, interval_samples_per_second: 3.59, interval_steps_per_second: 2.244, epoch: 9.4009\r\n",
      "loss: 0.00204495, learning_rate: 2.9665898617511523e-06, global_step: 16330, interval_runtime: 4.4087, interval_samples_per_second: 3.629, interval_steps_per_second: 2.268, epoch: 9.4067\r\n",
      "loss: 0.02567456, learning_rate: 2.93778801843318e-06, global_step: 16340, interval_runtime: 4.4193, interval_samples_per_second: 3.621, interval_steps_per_second: 2.263, epoch: 9.4124\r\n",
      "loss: 0.02301703, learning_rate: 2.9089861751152074e-06, global_step: 16350, interval_runtime: 4.4289, interval_samples_per_second: 3.613, interval_steps_per_second: 2.258, epoch: 9.4182\r\n",
      "loss: 0.00048623, learning_rate: 2.880184331797235e-06, global_step: 16360, interval_runtime: 4.427, interval_samples_per_second: 3.614, interval_steps_per_second: 2.259, epoch: 9.424\r\n",
      "loss: 0.06799648, learning_rate: 2.851382488479263e-06, global_step: 16370, interval_runtime: 4.4271, interval_samples_per_second: 3.614, interval_steps_per_second: 2.259, epoch: 9.4297\r\n",
      "loss: 0.06697458, learning_rate: 2.82258064516129e-06, global_step: 16380, interval_runtime: 4.4356, interval_samples_per_second: 3.607, interval_steps_per_second: 2.254, epoch: 9.4355\r\n",
      "loss: 0.08256194, learning_rate: 2.793778801843318e-06, global_step: 16390, interval_runtime: 4.4332, interval_samples_per_second: 3.609, interval_steps_per_second: 2.256, epoch: 9.4412\r\n",
      "loss: 0.06506274, learning_rate: 2.7649769585253458e-06, global_step: 16400, interval_runtime: 4.4205, interval_samples_per_second: 3.619, interval_steps_per_second: 2.262, epoch: 9.447\r\n"
     ]
    },
    {
     "name": "stderr",
     "output_type": "stream",
     "text": [
      "[2024-03-04 15:24:38,640] [    INFO] - ***** Running Evaluation *****\r\n",
      "[2024-03-04 15:24:38,643] [    INFO] -   Num examples = 2000\r\n",
      "[2024-03-04 15:24:38,645] [    INFO] -   Pre device batch size = 16\r\n",
      "[2024-03-04 15:24:38,647] [    INFO] -   Total Batch size = 16\r\n",
      "[2024-03-04 15:24:38,649] [    INFO] -   Total prediction steps = 125\r\n"
     ]
    },
    {
     "data": {
      "application/vnd.jupyter.widget-view+json": {
       "model_id": "4db5a01203c6448dbb2b4298b122ffe4",
       "version_major": 2,
       "version_minor": 0
      },
      "text/plain": [
       "  0%|          | 0/125 [00:00<?, ?it/s]"
      ]
     },
     "metadata": {},
     "output_type": "display_data"
    },
    {
     "name": "stdout",
     "output_type": "stream",
     "text": [
      "eval_loss: 1.8743770122528076, eval_accuracy: 0.757, eval_f1: 0.7246947606262628, eval_runtime: 21.0584, eval_samples_per_second: 94.974, eval_steps_per_second: 5.936, epoch: 9.447\r\n"
     ]
    },
    {
     "name": "stderr",
     "output_type": "stream",
     "text": [
      "[2024-03-04 15:24:59,707] [    INFO] - Saving model checkpoint to ./work/output/checkpoint-16400\r\n",
      "[2024-03-04 15:25:03,701] [    INFO] - Deleting older checkpoint [work/output/checkpoint-14600] due to args.save_total_limit\r\n"
     ]
    },
    {
     "name": "stdout",
     "output_type": "stream",
     "text": [
      "loss: 0.03037249, learning_rate: 2.7361751152073734e-06, global_step: 16410, interval_runtime: 29.5909, interval_samples_per_second: 0.541, interval_steps_per_second: 0.338, epoch: 9.4528\r\n",
      "loss: 0.01636276, learning_rate: 2.707373271889401e-06, global_step: 16420, interval_runtime: 4.4293, interval_samples_per_second: 3.612, interval_steps_per_second: 2.258, epoch: 9.4585\r\n",
      "loss: 0.04253039, learning_rate: 2.6785714285714285e-06, global_step: 16430, interval_runtime: 4.4156, interval_samples_per_second: 3.624, interval_steps_per_second: 2.265, epoch: 9.4643\r\n",
      "loss: 0.00981339, learning_rate: 2.6497695852534565e-06, global_step: 16440, interval_runtime: 4.4351, interval_samples_per_second: 3.608, interval_steps_per_second: 2.255, epoch: 9.47\r\n",
      "loss: 0.05344759, learning_rate: 2.620967741935484e-06, global_step: 16450, interval_runtime: 4.4247, interval_samples_per_second: 3.616, interval_steps_per_second: 2.26, epoch: 9.4758\r\n",
      "loss: 0.05346448, learning_rate: 2.5921658986175117e-06, global_step: 16460, interval_runtime: 4.4813, interval_samples_per_second: 3.57, interval_steps_per_second: 2.231, epoch: 9.4816\r\n",
      "loss: 0.06960776, learning_rate: 2.5633640552995393e-06, global_step: 16470, interval_runtime: 4.4182, interval_samples_per_second: 3.621, interval_steps_per_second: 2.263, epoch: 9.4873\r\n",
      "loss: 0.02680223, learning_rate: 2.5345622119815673e-06, global_step: 16480, interval_runtime: 4.4151, interval_samples_per_second: 3.624, interval_steps_per_second: 2.265, epoch: 9.4931\r\n",
      "loss: 0.0072296, learning_rate: 2.5057603686635944e-06, global_step: 16490, interval_runtime: 4.4133, interval_samples_per_second: 3.625, interval_steps_per_second: 2.266, epoch: 9.4988\r\n",
      "loss: 0.00069683, learning_rate: 2.4769585253456224e-06, global_step: 16500, interval_runtime: 4.43, interval_samples_per_second: 3.612, interval_steps_per_second: 2.257, epoch: 9.5046\r\n",
      "loss: 0.02865905, learning_rate: 2.44815668202765e-06, global_step: 16510, interval_runtime: 4.4083, interval_samples_per_second: 3.63, interval_steps_per_second: 2.268, epoch: 9.5104\r\n",
      "loss: 0.08907886, learning_rate: 2.4193548387096776e-06, global_step: 16520, interval_runtime: 4.4154, interval_samples_per_second: 3.624, interval_steps_per_second: 2.265, epoch: 9.5161\r\n",
      "loss: 0.00058014, learning_rate: 2.390552995391705e-06, global_step: 16530, interval_runtime: 4.4312, interval_samples_per_second: 3.611, interval_steps_per_second: 2.257, epoch: 9.5219\r\n",
      "loss: 0.00122103, learning_rate: 2.3617511520737328e-06, global_step: 16540, interval_runtime: 4.4194, interval_samples_per_second: 3.62, interval_steps_per_second: 2.263, epoch: 9.5276\r\n",
      "loss: 0.00059425, learning_rate: 2.3329493087557603e-06, global_step: 16550, interval_runtime: 4.4151, interval_samples_per_second: 3.624, interval_steps_per_second: 2.265, epoch: 9.5334\r\n",
      "loss: 0.00041157, learning_rate: 2.3041474654377884e-06, global_step: 16560, interval_runtime: 4.4149, interval_samples_per_second: 3.624, interval_steps_per_second: 2.265, epoch: 9.5392\r\n",
      "loss: 0.03990391, learning_rate: 2.2753456221198155e-06, global_step: 16570, interval_runtime: 4.4523, interval_samples_per_second: 3.594, interval_steps_per_second: 2.246, epoch: 9.5449\r\n",
      "loss: 0.00040629, learning_rate: 2.2465437788018435e-06, global_step: 16580, interval_runtime: 4.473, interval_samples_per_second: 3.577, interval_steps_per_second: 2.236, epoch: 9.5507\r\n",
      "loss: 0.00032481, learning_rate: 2.217741935483871e-06, global_step: 16590, interval_runtime: 4.4595, interval_samples_per_second: 3.588, interval_steps_per_second: 2.242, epoch: 9.5565\r\n",
      "loss: 0.01317862, learning_rate: 2.1889400921658987e-06, global_step: 16600, interval_runtime: 4.4202, interval_samples_per_second: 3.62, interval_steps_per_second: 2.262, epoch: 9.5622\r\n"
     ]
    },
    {
     "name": "stderr",
     "output_type": "stream",
     "text": [
      "[2024-03-04 15:26:32,397] [    INFO] - ***** Running Evaluation *****\r\n",
      "[2024-03-04 15:26:32,404] [    INFO] -   Num examples = 2000\r\n",
      "[2024-03-04 15:26:32,407] [    INFO] -   Pre device batch size = 16\r\n",
      "[2024-03-04 15:26:32,409] [    INFO] -   Total Batch size = 16\r\n",
      "[2024-03-04 15:26:32,421] [    INFO] -   Total prediction steps = 125\r\n"
     ]
    },
    {
     "data": {
      "application/vnd.jupyter.widget-view+json": {
       "model_id": "732c006cc08041d1a295d2681e349af9",
       "version_major": 2,
       "version_minor": 0
      },
      "text/plain": [
       "  0%|          | 0/125 [00:00<?, ?it/s]"
      ]
     },
     "metadata": {},
     "output_type": "display_data"
    },
    {
     "name": "stdout",
     "output_type": "stream",
     "text": [
      "eval_loss: 1.8881374597549438, eval_accuracy: 0.757, eval_f1: 0.7214275713416797, eval_runtime: 20.9243, eval_samples_per_second: 95.582, eval_steps_per_second: 5.974, epoch: 9.5622\r\n"
     ]
    },
    {
     "name": "stderr",
     "output_type": "stream",
     "text": [
      "[2024-03-04 15:26:53,331] [    INFO] - Saving model checkpoint to ./work/output/checkpoint-16600\r\n",
      "[2024-03-04 15:26:57,389] [    INFO] - Deleting older checkpoint [work/output/checkpoint-14800] due to args.save_total_limit\r\n"
     ]
    },
    {
     "name": "stdout",
     "output_type": "stream",
     "text": [
      "loss: 0.00185545, learning_rate: 2.1601382488479263e-06, global_step: 16610, interval_runtime: 29.5151, interval_samples_per_second: 0.542, interval_steps_per_second: 0.339, epoch: 9.568\r\n",
      "loss: 0.04670738, learning_rate: 2.1313364055299543e-06, global_step: 16620, interval_runtime: 4.4233, interval_samples_per_second: 3.617, interval_steps_per_second: 2.261, epoch: 9.5737\r\n",
      "loss: 0.03081559, learning_rate: 2.1025345622119814e-06, global_step: 16630, interval_runtime: 4.4339, interval_samples_per_second: 3.609, interval_steps_per_second: 2.255, epoch: 9.5795\r\n",
      "loss: 0.07528453, learning_rate: 2.0737327188940094e-06, global_step: 16640, interval_runtime: 4.4414, interval_samples_per_second: 3.602, interval_steps_per_second: 2.252, epoch: 9.5853\r\n",
      "loss: 0.06823815, learning_rate: 2.044930875576037e-06, global_step: 16650, interval_runtime: 4.4412, interval_samples_per_second: 3.603, interval_steps_per_second: 2.252, epoch: 9.591\r\n",
      "loss: 0.00028593, learning_rate: 2.0161290322580646e-06, global_step: 16660, interval_runtime: 4.4154, interval_samples_per_second: 3.624, interval_steps_per_second: 2.265, epoch: 9.5968\r\n",
      "loss: 0.0003877, learning_rate: 1.987327188940092e-06, global_step: 16670, interval_runtime: 4.4326, interval_samples_per_second: 3.61, interval_steps_per_second: 2.256, epoch: 9.6025\r\n",
      "loss: 0.03581241, learning_rate: 1.9585253456221198e-06, global_step: 16680, interval_runtime: 4.4304, interval_samples_per_second: 3.611, interval_steps_per_second: 2.257, epoch: 9.6083\r\n",
      "loss: 0.10770144, learning_rate: 1.9297235023041473e-06, global_step: 16690, interval_runtime: 4.4435, interval_samples_per_second: 3.601, interval_steps_per_second: 2.25, epoch: 9.6141\r\n",
      "loss: 0.02643555, learning_rate: 1.9009216589861754e-06, global_step: 16700, interval_runtime: 4.4335, interval_samples_per_second: 3.609, interval_steps_per_second: 2.256, epoch: 9.6198\r\n",
      "loss: 0.00104802, learning_rate: 1.8721198156682027e-06, global_step: 16710, interval_runtime: 4.4094, interval_samples_per_second: 3.629, interval_steps_per_second: 2.268, epoch: 9.6256\r\n",
      "loss: 0.00031729, learning_rate: 1.8433179723502305e-06, global_step: 16720, interval_runtime: 4.4471, interval_samples_per_second: 3.598, interval_steps_per_second: 2.249, epoch: 9.6313\r\n",
      "loss: 0.02126453, learning_rate: 1.8145161290322583e-06, global_step: 16730, interval_runtime: 4.4403, interval_samples_per_second: 3.603, interval_steps_per_second: 2.252, epoch: 9.6371\r\n",
      "loss: 0.04140801, learning_rate: 1.7857142857142857e-06, global_step: 16740, interval_runtime: 4.4215, interval_samples_per_second: 3.619, interval_steps_per_second: 2.262, epoch: 9.6429\r\n",
      "loss: 0.023242, learning_rate: 1.7569124423963135e-06, global_step: 16750, interval_runtime: 4.4363, interval_samples_per_second: 3.607, interval_steps_per_second: 2.254, epoch: 9.6486\r\n",
      "loss: 0.00024193, learning_rate: 1.7281105990783413e-06, global_step: 16760, interval_runtime: 4.4258, interval_samples_per_second: 3.615, interval_steps_per_second: 2.259, epoch: 9.6544\r\n",
      "loss: 0.03136621, learning_rate: 1.6993087557603686e-06, global_step: 16770, interval_runtime: 4.4377, interval_samples_per_second: 3.605, interval_steps_per_second: 2.253, epoch: 9.6601\r\n",
      "loss: 0.00040663, learning_rate: 1.6705069124423964e-06, global_step: 16780, interval_runtime: 4.4394, interval_samples_per_second: 3.604, interval_steps_per_second: 2.253, epoch: 9.6659\r\n",
      "loss: 0.00100592, learning_rate: 1.6417050691244238e-06, global_step: 16790, interval_runtime: 4.4151, interval_samples_per_second: 3.624, interval_steps_per_second: 2.265, epoch: 9.6717\r\n",
      "loss: 0.03069142, learning_rate: 1.6129032258064516e-06, global_step: 16800, interval_runtime: 4.4408, interval_samples_per_second: 3.603, interval_steps_per_second: 2.252, epoch: 9.6774\r\n"
     ]
    },
    {
     "name": "stderr",
     "output_type": "stream",
     "text": [
      "[2024-03-04 15:28:26,125] [    INFO] - ***** Running Evaluation *****\r\n",
      "[2024-03-04 15:28:26,127] [    INFO] -   Num examples = 2000\r\n",
      "[2024-03-04 15:28:26,130] [    INFO] -   Pre device batch size = 16\r\n",
      "[2024-03-04 15:28:26,132] [    INFO] -   Total Batch size = 16\r\n",
      "[2024-03-04 15:28:26,134] [    INFO] -   Total prediction steps = 125\r\n"
     ]
    },
    {
     "data": {
      "application/vnd.jupyter.widget-view+json": {
       "model_id": "595556efe82248cfb09b352ad68cf75d",
       "version_major": 2,
       "version_minor": 0
      },
      "text/plain": [
       "  0%|          | 0/125 [00:00<?, ?it/s]"
      ]
     },
     "metadata": {},
     "output_type": "display_data"
    },
    {
     "name": "stdout",
     "output_type": "stream",
     "text": [
      "eval_loss: 1.8780180215835571, eval_accuracy: 0.752, eval_f1: 0.7138392063416873, eval_runtime: 20.8949, eval_samples_per_second: 95.717, eval_steps_per_second: 5.982, epoch: 9.6774\r\n"
     ]
    },
    {
     "name": "stderr",
     "output_type": "stream",
     "text": [
      "[2024-03-04 15:28:47,027] [    INFO] - Saving model checkpoint to ./work/output/checkpoint-16800\r\n",
      "[2024-03-04 15:28:50,954] [    INFO] - Deleting older checkpoint [work/output/checkpoint-15000] due to args.save_total_limit\r\n"
     ]
    },
    {
     "name": "stdout",
     "output_type": "stream",
     "text": [
      "loss: 0.01259866, learning_rate: 1.5841013824884794e-06, global_step: 16810, interval_runtime: 29.3494, interval_samples_per_second: 0.545, interval_steps_per_second: 0.341, epoch: 9.6832\r\n",
      "loss: 0.00038193, learning_rate: 1.555299539170507e-06, global_step: 16820, interval_runtime: 4.4459, interval_samples_per_second: 3.599, interval_steps_per_second: 2.249, epoch: 9.6889\r\n",
      "loss: 0.0233151, learning_rate: 1.5264976958525346e-06, global_step: 16830, interval_runtime: 4.4135, interval_samples_per_second: 3.625, interval_steps_per_second: 2.266, epoch: 9.6947\r\n",
      "loss: 0.00198847, learning_rate: 1.4976958525345621e-06, global_step: 16840, interval_runtime: 4.4294, interval_samples_per_second: 3.612, interval_steps_per_second: 2.258, epoch: 9.7005\r\n",
      "loss: 0.02823533, learning_rate: 1.46889400921659e-06, global_step: 16850, interval_runtime: 4.4353, interval_samples_per_second: 3.607, interval_steps_per_second: 2.255, epoch: 9.7062\r\n",
      "loss: 0.04296958, learning_rate: 1.4400921658986175e-06, global_step: 16860, interval_runtime: 4.436, interval_samples_per_second: 3.607, interval_steps_per_second: 2.254, epoch: 9.712\r\n",
      "loss: 0.03108701, learning_rate: 1.411290322580645e-06, global_step: 16870, interval_runtime: 4.4258, interval_samples_per_second: 3.615, interval_steps_per_second: 2.259, epoch: 9.7177\r\n",
      "loss: 0.00311524, learning_rate: 1.3824884792626729e-06, global_step: 16880, interval_runtime: 4.4122, interval_samples_per_second: 3.626, interval_steps_per_second: 2.266, epoch: 9.7235\r\n",
      "loss: 0.00044281, learning_rate: 1.3536866359447005e-06, global_step: 16890, interval_runtime: 4.422, interval_samples_per_second: 3.618, interval_steps_per_second: 2.261, epoch: 9.7293\r\n",
      "loss: 0.02735484, learning_rate: 1.3248847926267283e-06, global_step: 16900, interval_runtime: 4.4154, interval_samples_per_second: 3.624, interval_steps_per_second: 2.265, epoch: 9.735\r\n",
      "loss: 0.00988754, learning_rate: 1.2960829493087558e-06, global_step: 16910, interval_runtime: 4.4132, interval_samples_per_second: 3.626, interval_steps_per_second: 2.266, epoch: 9.7408\r\n",
      "loss: 0.00030189, learning_rate: 1.2672811059907836e-06, global_step: 16920, interval_runtime: 4.42, interval_samples_per_second: 3.62, interval_steps_per_second: 2.262, epoch: 9.7465\r\n",
      "loss: 0.03555821, learning_rate: 1.2384792626728112e-06, global_step: 16930, interval_runtime: 4.4167, interval_samples_per_second: 3.623, interval_steps_per_second: 2.264, epoch: 9.7523\r\n",
      "loss: 0.00101561, learning_rate: 1.2096774193548388e-06, global_step: 16940, interval_runtime: 4.4265, interval_samples_per_second: 3.615, interval_steps_per_second: 2.259, epoch: 9.7581\r\n",
      "loss: 0.03752561, learning_rate: 1.1808755760368664e-06, global_step: 16950, interval_runtime: 4.4225, interval_samples_per_second: 3.618, interval_steps_per_second: 2.261, epoch: 9.7638\r\n",
      "loss: 0.06806648, learning_rate: 1.1520737327188942e-06, global_step: 16960, interval_runtime: 4.4216, interval_samples_per_second: 3.619, interval_steps_per_second: 2.262, epoch: 9.7696\r\n",
      "loss: 0.05272514, learning_rate: 1.1232718894009218e-06, global_step: 16970, interval_runtime: 4.44, interval_samples_per_second: 3.604, interval_steps_per_second: 2.252, epoch: 9.7753\r\n",
      "loss: 0.01589526, learning_rate: 1.0944700460829493e-06, global_step: 16980, interval_runtime: 4.4342, interval_samples_per_second: 3.608, interval_steps_per_second: 2.255, epoch: 9.7811\r\n",
      "loss: 0.00360401, learning_rate: 1.0656682027649771e-06, global_step: 16990, interval_runtime: 4.4274, interval_samples_per_second: 3.614, interval_steps_per_second: 2.259, epoch: 9.7869\r\n",
      "loss: 0.00495609, learning_rate: 1.0368663594470047e-06, global_step: 17000, interval_runtime: 4.4177, interval_samples_per_second: 3.622, interval_steps_per_second: 2.264, epoch: 9.7926\r\n"
     ]
    },
    {
     "name": "stderr",
     "output_type": "stream",
     "text": [
      "[2024-03-04 15:30:19,546] [    INFO] - ***** Running Evaluation *****\r\n",
      "[2024-03-04 15:30:19,550] [    INFO] -   Num examples = 2000\r\n",
      "[2024-03-04 15:30:19,555] [    INFO] -   Pre device batch size = 16\r\n",
      "[2024-03-04 15:30:19,559] [    INFO] -   Total Batch size = 16\r\n",
      "[2024-03-04 15:30:19,566] [    INFO] -   Total prediction steps = 125\r\n"
     ]
    },
    {
     "data": {
      "application/vnd.jupyter.widget-view+json": {
       "model_id": "d117cfd57c99470392c74fa7c535e202",
       "version_major": 2,
       "version_minor": 0
      },
      "text/plain": [
       "  0%|          | 0/125 [00:00<?, ?it/s]"
      ]
     },
     "metadata": {},
     "output_type": "display_data"
    },
    {
     "name": "stdout",
     "output_type": "stream",
     "text": [
      "eval_loss: 1.8846123218536377, eval_accuracy: 0.7515, eval_f1: 0.7128970327809884, eval_runtime: 21.0149, eval_samples_per_second: 95.171, eval_steps_per_second: 5.948, epoch: 9.7926\r\n"
     ]
    },
    {
     "name": "stderr",
     "output_type": "stream",
     "text": [
      "[2024-03-04 15:30:40,566] [    INFO] - Saving model checkpoint to ./work/output/checkpoint-17000\r\n",
      "[2024-03-04 15:30:44,747] [    INFO] - Deleting older checkpoint [work/output/checkpoint-15200] due to args.save_total_limit\r\n"
     ]
    },
    {
     "name": "stdout",
     "output_type": "stream",
     "text": [
      "loss: 0.00122756, learning_rate: 1.0080645161290323e-06, global_step: 17010, interval_runtime: 29.7473, interval_samples_per_second: 0.538, interval_steps_per_second: 0.336, epoch: 9.7984\r\n",
      "loss: 0.00046749, learning_rate: 9.792626728110599e-07, global_step: 17020, interval_runtime: 4.4193, interval_samples_per_second: 3.621, interval_steps_per_second: 2.263, epoch: 9.8041\r\n",
      "loss: 0.03792058, learning_rate: 9.504608294930877e-07, global_step: 17030, interval_runtime: 4.4414, interval_samples_per_second: 3.602, interval_steps_per_second: 2.252, epoch: 9.8099\r\n",
      "loss: 0.0005846, learning_rate: 9.216589861751153e-07, global_step: 17040, interval_runtime: 4.4301, interval_samples_per_second: 3.612, interval_steps_per_second: 2.257, epoch: 9.8157\r\n",
      "loss: 0.00035574, learning_rate: 8.928571428571428e-07, global_step: 17050, interval_runtime: 4.4449, interval_samples_per_second: 3.6, interval_steps_per_second: 2.25, epoch: 9.8214\r\n",
      "loss: 0.00277006, learning_rate: 8.640552995391706e-07, global_step: 17060, interval_runtime: 4.4197, interval_samples_per_second: 3.62, interval_steps_per_second: 2.263, epoch: 9.8272\r\n",
      "loss: 0.02194524, learning_rate: 8.352534562211982e-07, global_step: 17070, interval_runtime: 4.4308, interval_samples_per_second: 3.611, interval_steps_per_second: 2.257, epoch: 9.8329\r\n",
      "loss: 0.02495323, learning_rate: 8.064516129032258e-07, global_step: 17080, interval_runtime: 4.4214, interval_samples_per_second: 3.619, interval_steps_per_second: 2.262, epoch: 9.8387\r\n",
      "loss: 0.04262981, learning_rate: 7.776497695852535e-07, global_step: 17090, interval_runtime: 4.4108, interval_samples_per_second: 3.627, interval_steps_per_second: 2.267, epoch: 9.8445\r\n",
      "loss: 0.03465292, learning_rate: 7.488479262672811e-07, global_step: 17100, interval_runtime: 4.4075, interval_samples_per_second: 3.63, interval_steps_per_second: 2.269, epoch: 9.8502\r\n",
      "loss: 0.0897527, learning_rate: 7.200460829493088e-07, global_step: 17110, interval_runtime: 4.4135, interval_samples_per_second: 3.625, interval_steps_per_second: 2.266, epoch: 9.856\r\n",
      "loss: 0.0139161, learning_rate: 6.912442396313364e-07, global_step: 17120, interval_runtime: 4.4172, interval_samples_per_second: 3.622, interval_steps_per_second: 2.264, epoch: 9.8618\r\n",
      "loss: 0.01807153, learning_rate: 6.624423963133641e-07, global_step: 17130, interval_runtime: 4.4209, interval_samples_per_second: 3.619, interval_steps_per_second: 2.262, epoch: 9.8675\r\n",
      "loss: 0.01760758, learning_rate: 6.336405529953918e-07, global_step: 17140, interval_runtime: 4.4261, interval_samples_per_second: 3.615, interval_steps_per_second: 2.259, epoch: 9.8733\r\n",
      "loss: 0.0310647, learning_rate: 6.048387096774194e-07, global_step: 17150, interval_runtime: 4.4036, interval_samples_per_second: 3.633, interval_steps_per_second: 2.271, epoch: 9.879\r\n",
      "loss: 0.05153223, learning_rate: 5.760368663594471e-07, global_step: 17160, interval_runtime: 4.4171, interval_samples_per_second: 3.622, interval_steps_per_second: 2.264, epoch: 9.8848\r\n",
      "loss: 0.04452111, learning_rate: 5.472350230414747e-07, global_step: 17170, interval_runtime: 4.414, interval_samples_per_second: 3.625, interval_steps_per_second: 2.265, epoch: 9.8906\r\n",
      "loss: 0.00028721, learning_rate: 5.184331797235024e-07, global_step: 17180, interval_runtime: 4.417, interval_samples_per_second: 3.622, interval_steps_per_second: 2.264, epoch: 9.8963\r\n",
      "loss: 0.00178946, learning_rate: 4.896313364055299e-07, global_step: 17190, interval_runtime: 4.4273, interval_samples_per_second: 3.614, interval_steps_per_second: 2.259, epoch: 9.9021\r\n",
      "loss: 0.00078044, learning_rate: 4.6082949308755763e-07, global_step: 17200, interval_runtime: 4.4194, interval_samples_per_second: 3.62, interval_steps_per_second: 2.263, epoch: 9.9078\r\n"
     ]
    },
    {
     "name": "stderr",
     "output_type": "stream",
     "text": [
      "[2024-03-04 15:32:13,296] [    INFO] - ***** Running Evaluation *****\r\n",
      "[2024-03-04 15:32:13,299] [    INFO] -   Num examples = 2000\r\n",
      "[2024-03-04 15:32:13,302] [    INFO] -   Pre device batch size = 16\r\n",
      "[2024-03-04 15:32:13,305] [    INFO] -   Total Batch size = 16\r\n",
      "[2024-03-04 15:32:13,308] [    INFO] -   Total prediction steps = 125\r\n"
     ]
    },
    {
     "data": {
      "application/vnd.jupyter.widget-view+json": {
       "model_id": "af75f522ca824ba4b689dd7cfb686955",
       "version_major": 2,
       "version_minor": 0
      },
      "text/plain": [
       "  0%|          | 0/125 [00:00<?, ?it/s]"
      ]
     },
     "metadata": {},
     "output_type": "display_data"
    },
    {
     "name": "stdout",
     "output_type": "stream",
     "text": [
      "eval_loss: 1.8947852849960327, eval_accuracy: 0.753, eval_f1: 0.7151268548597489, eval_runtime: 21.0064, eval_samples_per_second: 95.209, eval_steps_per_second: 5.951, epoch: 9.9078\r\n"
     ]
    },
    {
     "name": "stderr",
     "output_type": "stream",
     "text": [
      "[2024-03-04 15:32:34,309] [    INFO] - Saving model checkpoint to ./work/output/checkpoint-17200\r\n",
      "[2024-03-04 15:32:38,361] [    INFO] - Deleting older checkpoint [work/output/checkpoint-15400] due to args.save_total_limit\r\n"
     ]
    },
    {
     "name": "stdout",
     "output_type": "stream",
     "text": [
      "loss: 0.06274376, learning_rate: 4.320276497695853e-07, global_step: 17210, interval_runtime: 29.6181, interval_samples_per_second: 0.54, interval_steps_per_second: 0.338, epoch: 9.9136\r\n",
      "loss: 0.00184548, learning_rate: 4.032258064516129e-07, global_step: 17220, interval_runtime: 4.4278, interval_samples_per_second: 3.614, interval_steps_per_second: 2.258, epoch: 9.9194\r\n",
      "loss: 0.05442246, learning_rate: 3.7442396313364053e-07, global_step: 17230, interval_runtime: 4.4368, interval_samples_per_second: 3.606, interval_steps_per_second: 2.254, epoch: 9.9251\r\n",
      "loss: 0.04785992, learning_rate: 3.456221198156682e-07, global_step: 17240, interval_runtime: 4.4303, interval_samples_per_second: 3.612, interval_steps_per_second: 2.257, epoch: 9.9309\r\n",
      "loss: 0.01265326, learning_rate: 3.168202764976959e-07, global_step: 17250, interval_runtime: 4.4309, interval_samples_per_second: 3.611, interval_steps_per_second: 2.257, epoch: 9.9366\r\n",
      "loss: 0.0508186, learning_rate: 2.8801843317972354e-07, global_step: 17260, interval_runtime: 4.4323, interval_samples_per_second: 3.61, interval_steps_per_second: 2.256, epoch: 9.9424\r\n",
      "loss: 0.09820724, learning_rate: 2.592165898617512e-07, global_step: 17270, interval_runtime: 4.4475, interval_samples_per_second: 3.598, interval_steps_per_second: 2.248, epoch: 9.9482\r\n",
      "loss: 0.00032093, learning_rate: 2.3041474654377881e-07, global_step: 17280, interval_runtime: 4.4423, interval_samples_per_second: 3.602, interval_steps_per_second: 2.251, epoch: 9.9539\r\n",
      "loss: 0.01836838, learning_rate: 2.0161290322580645e-07, global_step: 17290, interval_runtime: 4.4273, interval_samples_per_second: 3.614, interval_steps_per_second: 2.259, epoch: 9.9597\r\n",
      "loss: 0.00648059, learning_rate: 1.728110599078341e-07, global_step: 17300, interval_runtime: 4.4415, interval_samples_per_second: 3.602, interval_steps_per_second: 2.251, epoch: 9.9654\r\n",
      "loss: 0.02854149, learning_rate: 1.4400921658986177e-07, global_step: 17310, interval_runtime: 4.4398, interval_samples_per_second: 3.604, interval_steps_per_second: 2.252, epoch: 9.9712\r\n",
      "loss: 0.04897927, learning_rate: 1.1520737327188941e-07, global_step: 17320, interval_runtime: 4.4354, interval_samples_per_second: 3.607, interval_steps_per_second: 2.255, epoch: 9.977\r\n",
      "loss: 0.00049154, learning_rate: 8.640552995391706e-08, global_step: 17330, interval_runtime: 4.4482, interval_samples_per_second: 3.597, interval_steps_per_second: 2.248, epoch: 9.9827\r\n",
      "loss: 0.01865284, learning_rate: 5.7603686635944704e-08, global_step: 17340, interval_runtime: 4.4326, interval_samples_per_second: 3.61, interval_steps_per_second: 2.256, epoch: 9.9885\r\n",
      "loss: 0.02493186, learning_rate: 2.8801843317972352e-08, global_step: 17350, interval_runtime: 4.4297, interval_samples_per_second: 3.612, interval_steps_per_second: 2.257, epoch: 9.9942\r\n",
      "loss: 0.00031548, learning_rate: 0.0, global_step: 17360, interval_runtime: 4.1857, interval_samples_per_second: 3.823, interval_steps_per_second: 2.389, epoch: 10.0\r\n"
     ]
    },
    {
     "name": "stderr",
     "output_type": "stream",
     "text": [
      "[2024-03-04 15:33:49,207] [    INFO] - ***** Running Evaluation *****\r\n",
      "[2024-03-04 15:33:49,217] [    INFO] -   Num examples = 2000\r\n",
      "[2024-03-04 15:33:49,224] [    INFO] -   Pre device batch size = 16\r\n",
      "[2024-03-04 15:33:49,231] [    INFO] -   Total Batch size = 16\r\n",
      "[2024-03-04 15:33:49,242] [    INFO] -   Total prediction steps = 125\r\n"
     ]
    },
    {
     "data": {
      "application/vnd.jupyter.widget-view+json": {
       "model_id": "5211509f934f42189807bf45e567a6c1",
       "version_major": 2,
       "version_minor": 0
      },
      "text/plain": [
       "  0%|          | 0/125 [00:00<?, ?it/s]"
      ]
     },
     "metadata": {},
     "output_type": "display_data"
    },
    {
     "name": "stdout",
     "output_type": "stream",
     "text": [
      "eval_loss: 1.8923460245132446, eval_accuracy: 0.7515, eval_f1: 0.7134921686802377, eval_runtime: 21.0876, eval_samples_per_second: 94.843, eval_steps_per_second: 5.928, epoch: 10.0\r\n"
     ]
    },
    {
     "name": "stderr",
     "output_type": "stream",
     "text": [
      "[2024-03-04 15:34:10,300] [    INFO] - Saving model checkpoint to ./work/output/checkpoint-17360\r\n",
      "[2024-03-04 15:34:14,719] [    INFO] - Deleting older checkpoint [work/output/checkpoint-15600] due to args.save_total_limit\r\n",
      "[2024-03-04 15:34:14,821] [    INFO] - \r\n",
      "Training completed. \r\n",
      "\r\n",
      "[2024-03-04 15:34:14,830] [    INFO] - Loading best model from ./work/output/checkpoint-2800 (score: 0.7386200102986379).\r\n"
     ]
    },
    {
     "name": "stdout",
     "output_type": "stream",
     "text": [
      "train_runtime: 9889.5561, train_samples_per_second: 28.076, train_steps_per_second: 1.755, train_loss: 0.24620741825558307, epoch: 10.0\r\n"
     ]
    },
    {
     "name": "stderr",
     "output_type": "stream",
     "text": [
      "[2024-03-04 15:34:18,037] [    INFO] - Saving model checkpoint to ./work/model\r\n"
     ]
    }
   ],
   "source": [
    "#开始训练，训练完成后将模型保存再work目录下\n",
    "trainer.train()\n",
    "trainer.save_model(\"./work/model\")"
   ]
  },
  {
   "cell_type": "code",
   "execution_count": null,
   "id": "3c3f4a14",
   "metadata": {
    "scrolled": true
   },
   "outputs": [],
   "source": []
  },
  {
   "cell_type": "code",
   "execution_count": null,
   "id": "fb9183fb-08d5-44f5-a8ba-71f52331db7f",
   "metadata": {
    "scrolled": true
   },
   "outputs": [],
   "source": []
  },
  {
   "cell_type": "code",
   "execution_count": null,
   "id": "23c7fdf9-d3a2-4f77-b24a-a6f3b1cbbbdd",
   "metadata": {
    "scrolled": true
   },
   "outputs": [],
   "source": []
  },
  {
   "cell_type": "code",
   "execution_count": null,
   "id": "4c07e414-8f41-4009-baf0-bb3e12913a68",
   "metadata": {
    "scrolled": true
   },
   "outputs": [],
   "source": []
  }
 ],
 "metadata": {
  "kernelspec": {
   "display_name": "Python 3",
   "language": "python",
   "name": "py35-paddle1.2.0"
  },
  "language_info": {
   "codemirror_mode": {
    "name": "ipython",
    "version": 3
   },
   "file_extension": ".py",
   "mimetype": "text/x-python",
   "name": "python",
   "nbconvert_exporter": "python",
   "pygments_lexer": "ipython3",
   "version": "3.7.4"
  }
 },
 "nbformat": 4,
 "nbformat_minor": 5
}
