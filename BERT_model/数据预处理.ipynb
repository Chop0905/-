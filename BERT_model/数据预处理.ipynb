{
 "cells": [
  {
   "cell_type": "code",
   "execution_count": 1,
   "id": "196ad05c",
   "metadata": {
    "execution": {
     "iopub.execute_input": "2024-03-01T12:15:43.726399Z",
     "iopub.status.busy": "2024-03-01T12:15:43.726047Z",
     "iopub.status.idle": "2024-03-01T12:15:44.515724Z",
     "shell.execute_reply": "2024-03-01T12:15:44.514749Z",
     "shell.execute_reply.started": "2024-03-01T12:15:43.726374Z"
    },
    "scrolled": true,
    "tags": []
   },
   "outputs": [],
   "source": [
    "import pandas as pd\n",
    "import re\n",
    "import string\n",
    "import jieba\n",
    "import matplotlib.pyplot as plt\n",
    "import re\n",
    "import numpy as np\n",
    "plt.rcParams['font.sans-serif'] = ['SimHei']  # 中文格式设置为黑体"
   ]
  },
  {
   "cell_type": "code",
   "execution_count": 10,
   "id": "dc67d7a2-c155-4d80-acdb-9b60f1d2d092",
   "metadata": {
    "execution": {
     "iopub.execute_input": "2024-03-01T12:23:44.775652Z",
     "iopub.status.busy": "2024-03-01T12:23:44.774390Z",
     "iopub.status.idle": "2024-03-01T12:23:44.788014Z",
     "shell.execute_reply": "2024-03-01T12:23:44.787275Z",
     "shell.execute_reply.started": "2024-03-01T12:23:44.775616Z"
    },
    "scrolled": true
   },
   "outputs": [
    {
     "data": {
      "text/html": [
       "<div>\n",
       "<style scoped>\n",
       "    .dataframe tbody tr th:only-of-type {\n",
       "        vertical-align: middle;\n",
       "    }\n",
       "\n",
       "    .dataframe tbody tr th {\n",
       "        vertical-align: top;\n",
       "    }\n",
       "\n",
       "    .dataframe thead th {\n",
       "        text-align: right;\n",
       "    }\n",
       "</style>\n",
       "<table border=\"1\" class=\"dataframe\">\n",
       "  <thead>\n",
       "    <tr style=\"text-align: right;\">\n",
       "      <th></th>\n",
       "      <th>数据编号</th>\n",
       "      <th>文本</th>\n",
       "      <th>情绪标签</th>\n",
       "    </tr>\n",
       "  </thead>\n",
       "  <tbody>\n",
       "    <tr>\n",
       "      <th>0</th>\n",
       "      <td>1</td>\n",
       "      <td>气死姐姐了，快二是阵亡了吗，尼玛，一个半小时过去了也没上车</td>\n",
       "      <td>0</td>\n",
       "    </tr>\n",
       "    <tr>\n",
       "      <th>1</th>\n",
       "      <td>2</td>\n",
       "      <td>妞妞啊，今天又承办了一个发文登记文号是126~嘻~么么哒~晚安哟</td>\n",
       "      <td>2</td>\n",
       "    </tr>\n",
       "    <tr>\n",
       "      <th>2</th>\n",
       "      <td>3</td>\n",
       "      <td>这里还值得注意另一个事实，就是张鞠存原有一个东溪草堂为其读书处。</td>\n",
       "      <td>3</td>\n",
       "    </tr>\n",
       "    <tr>\n",
       "      <th>3</th>\n",
       "      <td>4</td>\n",
       "      <td>这在前华约国家(尤其是东德)使用R-73的首次联合演习期间，被一些北约组织的飞行员所证实。</td>\n",
       "      <td>3</td>\n",
       "    </tr>\n",
       "    <tr>\n",
       "      <th>4</th>\n",
       "      <td>5</td>\n",
       "      <td>TinyThief上wii了？！</td>\n",
       "      <td>5</td>\n",
       "    </tr>\n",
       "    <tr>\n",
       "      <th>...</th>\n",
       "      <td>...</td>\n",
       "      <td>...</td>\n",
       "      <td>...</td>\n",
       "    </tr>\n",
       "    <tr>\n",
       "      <th>27763</th>\n",
       "      <td>27764</td>\n",
       "      <td>生日礼物你也已经收到了，那么就在说一句：生日快乐</td>\n",
       "      <td>2</td>\n",
       "    </tr>\n",
       "    <tr>\n",
       "      <th>27764</th>\n",
       "      <td>27765</td>\n",
       "      <td>自我、霸道、任性、不服从才是真正的我，百顺百从、没有想法那个她不是我，我只是一直在忍着，只想...</td>\n",
       "      <td>4</td>\n",
       "    </tr>\n",
       "    <tr>\n",
       "      <th>27765</th>\n",
       "      <td>27766</td>\n",
       "      <td>心情本来就不好，某只猪还不同意我年休，还说我一还好今天晚上不用参加考试</td>\n",
       "      <td>0</td>\n",
       "    </tr>\n",
       "    <tr>\n",
       "      <th>27766</th>\n",
       "      <td>27767</td>\n",
       "      <td>为何如此糟糕？@姚志宏DD？半年，我们10个同事中，2家遭到入室盗窃，住在财经大学的李家被洗...</td>\n",
       "      <td>0</td>\n",
       "    </tr>\n",
       "    <tr>\n",
       "      <th>27767</th>\n",
       "      <td>27768</td>\n",
       "      <td>《狂人日记》在伊藤虎丸这里也被理解为一个转折性的文本。</td>\n",
       "      <td>3</td>\n",
       "    </tr>\n",
       "  </tbody>\n",
       "</table>\n",
       "<p>27766 rows × 3 columns</p>\n",
       "</div>"
      ],
      "text/plain": [
       "        数据编号                                                 文本  情绪标签\n",
       "0          1                      气死姐姐了，快二是阵亡了吗，尼玛，一个半小时过去了也没上车     0\n",
       "1          2                   妞妞啊，今天又承办了一个发文登记文号是126~嘻~么么哒~晚安哟     2\n",
       "2          3                   这里还值得注意另一个事实，就是张鞠存原有一个东溪草堂为其读书处。     3\n",
       "3          4      这在前华约国家(尤其是东德)使用R-73的首次联合演习期间，被一些北约组织的飞行员所证实。     3\n",
       "4          5                                   TinyThief上wii了？！     5\n",
       "...      ...                                                ...   ...\n",
       "27763  27764                           生日礼物你也已经收到了，那么就在说一句：生日快乐     2\n",
       "27764  27765  自我、霸道、任性、不服从才是真正的我，百顺百从、没有想法那个她不是我，我只是一直在忍着，只想...     4\n",
       "27765  27766                心情本来就不好，某只猪还不同意我年休，还说我一还好今天晚上不用参加考试     0\n",
       "27766  27767  为何如此糟糕？@姚志宏DD？半年，我们10个同事中，2家遭到入室盗窃，住在财经大学的李家被洗...     0\n",
       "27767  27768                        《狂人日记》在伊藤虎丸这里也被理解为一个转折性的文本。     3\n",
       "\n",
       "[27766 rows x 3 columns]"
      ]
     },
     "execution_count": 10,
     "metadata": {},
     "output_type": "execute_result"
    }
   ],
   "source": [
    "data_train"
   ]
  },
  {
   "cell_type": "code",
   "execution_count": 7,
   "id": "1ea84694",
   "metadata": {
    "execution": {
     "iopub.execute_input": "2024-03-01T12:17:34.441428Z",
     "iopub.status.busy": "2024-03-01T12:17:34.440851Z",
     "iopub.status.idle": "2024-03-01T12:17:36.484539Z",
     "shell.execute_reply": "2024-03-01T12:17:36.483527Z",
     "shell.execute_reply.started": "2024-03-01T12:17:34.441392Z"
    },
    "scrolled": true,
    "tags": []
   },
   "outputs": [
    {
     "name": "stdout",
     "output_type": "stream",
     "text": [
      "<class 'pandas.core.frame.DataFrame'>\r\n",
      "RangeIndex: 27768 entries, 0 to 27767\r\n",
      "Data columns (total 3 columns):\r\n",
      " #   Column  Non-Null Count  Dtype \r\n",
      "---  ------  --------------  ----- \r\n",
      " 0   数据编号    27768 non-null  int64 \r\n",
      " 1   文本      27766 non-null  object\r\n",
      " 2   情绪标签    27768 non-null  object\r\n",
      "dtypes: int64(1), object(2)\r\n",
      "memory usage: 650.9+ KB\r\n"
     ]
    }
   ],
   "source": [
    "data_train = pd.read_excel(\"/home/aistudio/work/评测数据集/train/usual_train.xlsx\") #训练集\n",
    "data_test=pd.read_excel(\"/home/aistudio/work/评测数据集/test（最终评测集）/真实评测集/usual_test_labeled.xlsx\") #测试集\n",
    "data_eval=pd.read_excel(\"/home/aistudio/work/评测数据集/eval（刷榜数据集）/usual_eval_labeled.xlsx\") #验证集\n",
    "data_train.info()"
   ]
  },
  {
   "cell_type": "code",
   "execution_count": 3,
   "id": "fb5a6a8f",
   "metadata": {
    "execution": {
     "iopub.execute_input": "2024-03-01T12:15:48.748825Z",
     "iopub.status.busy": "2024-03-01T12:15:48.748300Z",
     "iopub.status.idle": "2024-03-01T12:15:48.758523Z",
     "shell.execute_reply": "2024-03-01T12:15:48.757710Z",
     "shell.execute_reply.started": "2024-03-01T12:15:48.748793Z"
    },
    "scrolled": true,
    "tags": []
   },
   "outputs": [
    {
     "data": {
      "text/plain": [
       "angry       8344\n",
       "neutral     5749\n",
       "happy       5379\n",
       "sad         4990\n",
       "surprise    2086\n",
       "fear        1220\n",
       "Name: 情绪标签, dtype: int64"
      ]
     },
     "execution_count": 3,
     "metadata": {},
     "output_type": "execute_result"
    }
   ],
   "source": [
    "data_train[\"情绪标签\"].value_counts()"
   ]
  },
  {
   "cell_type": "code",
   "execution_count": 4,
   "id": "5801e0cc",
   "metadata": {
    "execution": {
     "iopub.execute_input": "2024-03-01T12:15:51.443238Z",
     "iopub.status.busy": "2024-03-01T12:15:51.442688Z",
     "iopub.status.idle": "2024-03-01T12:15:52.716690Z",
     "shell.execute_reply": "2024-03-01T12:15:52.715849Z",
     "shell.execute_reply.started": "2024-03-01T12:15:51.443202Z"
    },
    "scrolled": true,
    "tags": []
   },
   "outputs": [
    {
     "name": "stderr",
     "output_type": "stream",
     "text": [
      "/opt/conda/envs/python35-paddle120-env/lib/python3.7/site-packages/matplotlib/font_manager.py:1331: UserWarning: findfont: Font family ['sans-serif'] not found. Falling back to DejaVu Sans\r\n",
      "  (prop.get_family(), self.defaultFamily[fontext]))\r\n"
     ]
    },
    {
     "data": {
      "image/png": "[encoded data removed]",
      "text/plain": [
       "<Figure size 640x480 with 1 Axes>"
      ]
     },
     "metadata": {},
     "output_type": "display_data"
    }
   ],
   "source": [
    "data_train[\"情绪标签\"].value_counts().plot(kind='bar')\n",
    "plt.xlabel(\"情绪\")\n",
    "plt.ylabel(\"数量\")\n",
    "plt.xticks(rotation=0)\n",
    "plt.savefig(\"情绪标签分布.jpg\",dpi=600,bbox_inches='tight')\n",
    "plt.show()"
   ]
  },
  {
   "cell_type": "code",
   "execution_count": 8,
   "id": "79f2bd81",
   "metadata": {
    "execution": {
     "iopub.execute_input": "2024-03-01T12:17:40.385992Z",
     "iopub.status.busy": "2024-03-01T12:17:40.385448Z",
     "iopub.status.idle": "2024-03-01T12:17:40.725648Z",
     "shell.execute_reply": "2024-03-01T12:17:40.724468Z",
     "shell.execute_reply.started": "2024-03-01T12:17:40.385956Z"
    },
    "scrolled": true,
    "tags": []
   },
   "outputs": [],
   "source": [
    "data_train.dropna(inplace=True)#去除训练集所有缺失值\n",
    "\n",
    "#标签内容转换\n",
    "def transfer(motion):\n",
    "    emotion_map={\"angry\":0,\"fear\":1,\"happy\":2,\"neutral\":3,\"sad\":4,\"surprise\":5}\n",
    "    return emotion_map[motion]\n",
    "data_train[\"情绪标签\"]=data_train.apply(lambda x:transfer(x[\"情绪标签\"]),axis=1)\n",
    "data_test[\"情绪标签\"]=data_test.apply(lambda x:transfer(x[\"情绪标签\"]),axis=1)\n",
    "data_eval[\"情绪标签\"]=data_eval.apply(lambda x:transfer(x[\"情绪标签\"]),axis=1)\n",
    "\n",
    "#去除话题名\n",
    "data_train['文本'] = data_train['文本'].apply(lambda x: re.sub(r'#.*?#', '', x))\n",
    "data_test['文本'] = data_test['文本'].apply(lambda x: re.sub(r'#.*?#', '', x))\n",
    "data_eval['文本'] = data_eval['文本'].apply(lambda x: re.sub(r'#.*?#', '', x))\n",
    "\n"
   ]
  },
  {
   "cell_type": "code",
   "execution_count": 9,
   "id": "7187f9b1-9f80-4a85-90a5-a70083e34cba",
   "metadata": {
    "execution": {
     "iopub.execute_input": "2024-03-01T12:22:15.204702Z",
     "iopub.status.busy": "2024-03-01T12:22:15.204069Z",
     "iopub.status.idle": "2024-03-01T12:22:18.875332Z",
     "shell.execute_reply": "2024-03-01T12:22:18.874259Z",
     "shell.execute_reply.started": "2024-03-01T12:22:15.204667Z"
    },
    "scrolled": true
   },
   "outputs": [],
   "source": [
    "data_train.to_excel('/home/aistudio/work/评测数据集/train/usual_train.xlsx', index=False)\r\n",
    "data_test.to_excel('/home/aistudio/work/评测数据集/test（最终评测集）/真实评测集/usual_test_labeled.xlsx', index=False)\r\n",
    "data_eval.to_excel('/home/aistudio/work/评测数据集/eval（刷榜数据集）/usual_eval_labeled.xlsx', index=False)\r\n"
   ]
  },
  {
   "cell_type": "code",
   "execution_count": 17,
   "id": "72d77cc3",
   "metadata": {
    "scrolled": true
   },
   "outputs": [
    {
     "data": {
      "text/html": [
       "<div>\n",
       "<style scoped>\n",
       "    .dataframe tbody tr th:only-of-type {\n",
       "        vertical-align: middle;\n",
       "    }\n",
       "\n",
       "    .dataframe tbody tr th {\n",
       "        vertical-align: top;\n",
       "    }\n",
       "\n",
       "    .dataframe thead th {\n",
       "        text-align: right;\n",
       "    }\n",
       "</style>\n",
       "<table border=\"1\" class=\"dataframe\">\n",
       "  <thead>\n",
       "    <tr style=\"text-align: right;\">\n",
       "      <th></th>\n",
       "      <th>数据编号</th>\n",
       "      <th>文本</th>\n",
       "      <th>情绪标签</th>\n",
       "    </tr>\n",
       "  </thead>\n",
       "  <tbody>\n",
       "    <tr>\n",
       "      <th>0</th>\n",
       "      <td>1</td>\n",
       "      <td>气死姐姐了，快二是阵亡了吗，尼玛，一个半小时过去了也没上车</td>\n",
       "      <td>0</td>\n",
       "    </tr>\n",
       "    <tr>\n",
       "      <th>1</th>\n",
       "      <td>2</td>\n",
       "      <td>妞妞啊，今天又承办了一个发文登记文号是126~嘻~么么哒~晚安哟</td>\n",
       "      <td>2</td>\n",
       "    </tr>\n",
       "    <tr>\n",
       "      <th>2</th>\n",
       "      <td>3</td>\n",
       "      <td>这里还值得注意另一个事实，就是张鞠存原有一个东溪草堂为其读书处。</td>\n",
       "      <td>3</td>\n",
       "    </tr>\n",
       "    <tr>\n",
       "      <th>3</th>\n",
       "      <td>4</td>\n",
       "      <td>这在前华约国家(尤其是东德)使用R-73的首次联合演习期间，被一些北约组织的飞行员所证实。</td>\n",
       "      <td>3</td>\n",
       "    </tr>\n",
       "    <tr>\n",
       "      <th>4</th>\n",
       "      <td>5</td>\n",
       "      <td>TinyThief上wii了？！</td>\n",
       "      <td>5</td>\n",
       "    </tr>\n",
       "    <tr>\n",
       "      <th>...</th>\n",
       "      <td>...</td>\n",
       "      <td>...</td>\n",
       "      <td>...</td>\n",
       "    </tr>\n",
       "    <tr>\n",
       "      <th>27763</th>\n",
       "      <td>27764</td>\n",
       "      <td>生日礼物你也已经收到了，那么就在说一句：生日快乐</td>\n",
       "      <td>2</td>\n",
       "    </tr>\n",
       "    <tr>\n",
       "      <th>27764</th>\n",
       "      <td>27765</td>\n",
       "      <td>自我、霸道、任性、不服从才是真正的我，百顺百从、没有想法那个她不是我，我只是一直在忍着，只想...</td>\n",
       "      <td>4</td>\n",
       "    </tr>\n",
       "    <tr>\n",
       "      <th>27765</th>\n",
       "      <td>27766</td>\n",
       "      <td>心情本来就不好，某只猪还不同意我年休，还说我一还好今天晚上不用参加考试</td>\n",
       "      <td>0</td>\n",
       "    </tr>\n",
       "    <tr>\n",
       "      <th>27766</th>\n",
       "      <td>27767</td>\n",
       "      <td>为何如此糟糕？@姚志宏DD？半年，我们10个同事中，2家遭到入室盗窃，住在财经大学的李家被洗...</td>\n",
       "      <td>0</td>\n",
       "    </tr>\n",
       "    <tr>\n",
       "      <th>27767</th>\n",
       "      <td>27768</td>\n",
       "      <td>《狂人日记》在伊藤虎丸这里也被理解为一个转折性的文本。</td>\n",
       "      <td>3</td>\n",
       "    </tr>\n",
       "  </tbody>\n",
       "</table>\n",
       "<p>27766 rows × 3 columns</p>\n",
       "</div>"
      ],
      "text/plain": [
       "        数据编号                                                 文本  情绪标签\n",
       "0          1                      气死姐姐了，快二是阵亡了吗，尼玛，一个半小时过去了也没上车     0\n",
       "1          2                   妞妞啊，今天又承办了一个发文登记文号是126~嘻~么么哒~晚安哟     2\n",
       "2          3                   这里还值得注意另一个事实，就是张鞠存原有一个东溪草堂为其读书处。     3\n",
       "3          4      这在前华约国家(尤其是东德)使用R-73的首次联合演习期间，被一些北约组织的飞行员所证实。     3\n",
       "4          5                                   TinyThief上wii了？！     5\n",
       "...      ...                                                ...   ...\n",
       "27763  27764                           生日礼物你也已经收到了，那么就在说一句：生日快乐     2\n",
       "27764  27765  自我、霸道、任性、不服从才是真正的我，百顺百从、没有想法那个她不是我，我只是一直在忍着，只想...     4\n",
       "27765  27766                心情本来就不好，某只猪还不同意我年休，还说我一还好今天晚上不用参加考试     0\n",
       "27766  27767  为何如此糟糕？@姚志宏DD？半年，我们10个同事中，2家遭到入室盗窃，住在财经大学的李家被洗...     0\n",
       "27767  27768                        《狂人日记》在伊藤虎丸这里也被理解为一个转折性的文本。     3\n",
       "\n",
       "[27766 rows x 3 columns]"
      ]
     },
     "execution_count": 17,
     "metadata": {},
     "output_type": "execute_result"
    }
   ],
   "source": [
    "data_train"
   ]
  },
  {
   "cell_type": "code",
   "execution_count": 18,
   "id": "13cc48f4",
   "metadata": {
    "scrolled": true
   },
   "outputs": [],
   "source": [
    "#数据准备\n",
    "train_sentence=np.array(data_train[\"文本\"])\n",
    "train_label=np.array(data_train[\"情绪标签\"])\n",
    "eval_sentence=np.array(data_eval[\"文本\"])\n",
    "eval_label=np.array(data_eval[\"情绪标签\"])\n",
    "test_sentence=np.array(data_test[\"文本\"])\n",
    "test_label=np.array(data_test[\"情绪标签\"])"
   ]
  },
  {
   "cell_type": "code",
   "execution_count": 22,
   "id": "170d434b",
   "metadata": {
    "scrolled": true
   },
   "outputs": [
    {
     "name": "stdout",
     "output_type": "stream",
     "text": [
      "训练集文本最长样本：212\r\n",
      "测试集文本最长样本：331\r\n",
      "验证集文本最长样本：162\r\n"
     ]
    }
   ],
   "source": [
    "print(\"训练集文本最长样本长度：\" + str(np.max(np.array([len(x) for x in train_sentence]))))\n",
    "print(\"测试集文本最长样本长度：\" + str(np.max(np.array([len(x) for x in test_sentence]))))\n",
    "print(\"验证集文本最长样本长度：\" + str(np.max(np.array([len(x) for x in eval_sentence]))))"
   ]
  },
  {
   "cell_type": "code",
   "execution_count": 2,
   "id": "7464b9b3",
   "metadata": {
    "scrolled": true
   },
   "outputs": [
    {
     "ename": "NameError",
     "evalue": "name 'Dataset' is not defined",
     "output_type": "error",
     "traceback": [
      "\u001b[1;31m---------------------------------------------------------------------------\u001b[0m",
      "\u001b[1;31mNameError\u001b[0m                                 Traceback (most recent call last)",
      "Cell \u001b[1;32mIn[2], line 1\u001b[0m\n\u001b[1;32m----> 1\u001b[0m \u001b[38;5;28;01mclass\u001b[39;00m \u001b[38;5;21;01mBertDataSet\u001b[39;00m(Dataset):\n\u001b[0;32m      2\u001b[0m     \u001b[38;5;28;01mdef\u001b[39;00m \u001b[38;5;21m__init__\u001b[39m(\u001b[38;5;28mself\u001b[39m, data, label, tokenizer):\n\u001b[0;32m      3\u001b[0m         \u001b[38;5;28mself\u001b[39m\u001b[38;5;241m.\u001b[39mdata \u001b[38;5;241m=\u001b[39m data\n",
      "\u001b[1;31mNameError\u001b[0m: name 'Dataset' is not defined"
     ]
    }
   ],
   "source": [
    "class BertDataSet(Dataset):\n",
    "    def __init__(self, data, label, tokenizer):\n",
    "        self.data = data\n",
    "        self.label = label\n",
    "        self.input_data = tokenizer(\n",
    "            [sentence for sentence in data],\n",
    "            max_seq_len=512, \n",
    "            pad_to_max_seq_len=True\n",
    "        )\n",
    "\n",
    "    def __len__(self):\n",
    "        return len(self.label)\n",
    "\n",
    "    def __getitem__(self, item):\n",
    "        return {\n",
    "            \"input_ids\": self.input_data['input_ids'][item],\n",
    "            \"token_type_ids\": self.input_data['token_type_ids'][item],\n",
    "            \"labels\": self.label[item],\n",
    "        }"
   ]
  },
  {
   "cell_type": "code",
   "execution_count": 27,
   "id": "b996f001",
   "metadata": {
    "scrolled": true
   },
   "outputs": [],
   "source": [
    "import time\n",
    "class TokenItem:\n",
    "    def __init__(self,sentence,tokenizer):\n",
    "        self.tokenizer=tokenizer\n",
    "        self.token=tokenizer(\n",
    "            [sentence],\n",
    "            max_seq_len=512,\n",
    "            pad_to_max_seq_len=True\n",
    "        )\n",
    "    def __del__(self):\n",
    "        pass"
   ]
  },
  {
   "cell_type": "code",
   "execution_count": 29,
   "id": "534a5995",
   "metadata": {
    "scrolled": true
   },
   "outputs": [],
   "source": [
    "def get_test_acc():\n",
    "    model1=AutoModelForSequenceClassification.from_pretrained(\"./work/best_model1/\",num_classes=6)\n",
    "    ans = []\n",
    "    tokenizer=AutoTokenizer.from_pretrained(\"bert-base-chinese\")\n",
    "    with paddle.no_grad():\n",
    "        for i in range(len(test_label)):\n",
    "            tokenItem=TokenItem(test_sentence[i],tokenizer)\n",
    "            outputs = model1(input_ids=paddle.to_tensor(tokenItem.token.input_ids,dtype='int64'),\n",
    "                            token_type_ids=paddle.to_tensor(tokenItem.token.token_type_ids,dtype='int64'))\n",
    "            del tokenItem\n",
    "            result = paddle.argmax(outputs[0])\n",
    "            del outputs\n",
    "            ans.append(result)\n",
    "            # print(i)\n",
    "            if i % 100 == 0:\n",
    "                print(\"已处理\", i, \"条\")\n",
    "    return ans"
   ]
  },
  {
   "cell_type": "code",
   "execution_count": 3,
   "id": "f7047f3f",
   "metadata": {
    "scrolled": true
   },
   "outputs": [
    {
     "ename": "NameError",
     "evalue": "name 'get_test_acc' is not defined",
     "output_type": "error",
     "traceback": [
      "\u001b[1;31m---------------------------------------------------------------------------\u001b[0m",
      "\u001b[1;31mNameError\u001b[0m                                 Traceback (most recent call last)",
      "\u001b[1;32m<ipython-input-3-fc79b089f36c>\u001b[0m in \u001b[0;36m<module>\u001b[1;34m\u001b[0m\n\u001b[1;32m----> 1\u001b[1;33m \u001b[0mans\u001b[0m\u001b[1;33m=\u001b[0m\u001b[0mget_test_acc\u001b[0m\u001b[1;33m(\u001b[0m\u001b[1;33m)\u001b[0m\u001b[1;33m\u001b[0m\u001b[1;33m\u001b[0m\u001b[0m\n\u001b[0m",
      "\u001b[1;31mNameError\u001b[0m: name 'get_test_acc' is not defined"
     ]
    }
   ],
   "source": [
    "ans=get_test_acc()"
   ]
  },
  {
   "cell_type": "code",
   "execution_count": 1,
   "id": "0bc19dd4",
   "metadata": {
    "scrolled": true
   },
   "outputs": [
    {
     "name": "stdout",
     "output_type": "stream",
     "text": [
      "Running verify PaddlePaddle program ... \r\n",
      "PaddlePaddle works well on 1 GPU.\r\n",
      "PaddlePaddle is installed successfully! Let's start deep learning with PaddlePaddle now.\r\n"
     ]
    }
   ],
   "source": [
    "import paddle\n",
    "paddle.utils.run_check()"
   ]
  },
  {
   "cell_type": "code",
   "execution_count": null,
   "id": "6140d4cb",
   "metadata": {
    "scrolled": true
   },
   "outputs": [],
   "source": []
  },
  {
   "cell_type": "code",
   "execution_count": null,
   "id": "c89f3d40",
   "metadata": {
    "scrolled": true
   },
   "outputs": [],
   "source": []
  },
  {
   "cell_type": "code",
   "execution_count": null,
   "id": "8bb631a8",
   "metadata": {
    "scrolled": true
   },
   "outputs": [],
   "source": []
  },
  {
   "cell_type": "code",
   "execution_count": null,
   "id": "95bbdf29",
   "metadata": {
    "scrolled": true
   },
   "outputs": [],
   "source": []
  },
  {
   "cell_type": "code",
   "execution_count": null,
   "id": "7cdd2c91",
   "metadata": {
    "scrolled": true
   },
   "outputs": [],
   "source": []
  },
  {
   "cell_type": "code",
   "execution_count": null,
   "id": "e076dbd0",
   "metadata": {
    "scrolled": true
   },
   "outputs": [],
   "source": []
  },
  {
   "cell_type": "code",
   "execution_count": null,
   "id": "661154f2",
   "metadata": {
    "scrolled": true
   },
   "outputs": [],
   "source": []
  },
  {
   "cell_type": "code",
   "execution_count": null,
   "id": "a768f65a",
   "metadata": {
    "scrolled": true
   },
   "outputs": [],
   "source": []
  },
  {
   "cell_type": "code",
   "execution_count": null,
   "id": "fbe8e36b",
   "metadata": {
    "scrolled": true
   },
   "outputs": [],
   "source": []
  },
  {
   "cell_type": "code",
   "execution_count": null,
   "id": "1122b329",
   "metadata": {
    "scrolled": true
   },
   "outputs": [],
   "source": []
  },
  {
   "cell_type": "code",
   "execution_count": null,
   "id": "eca3c77f",
   "metadata": {
    "scrolled": true
   },
   "outputs": [],
   "source": []
  },
  {
   "cell_type": "code",
   "execution_count": null,
   "id": "7d941e50",
   "metadata": {
    "scrolled": true
   },
   "outputs": [],
   "source": []
  }
 ],
 "metadata": {
  "kernelspec": {
   "display_name": "Python 3",
   "language": "python",
   "name": "py35-paddle1.2.0"
  },
  "language_info": {
   "codemirror_mode": {
    "name": "ipython",
    "version": 3
   },
   "file_extension": ".py",
   "mimetype": "text/x-python",
   "name": "python",
   "nbconvert_exporter": "python",
   "pygments_lexer": "ipython3",
   "version": "3.7.4"
  }
 },
 "nbformat": 4,
 "nbformat_minor": 5
}
