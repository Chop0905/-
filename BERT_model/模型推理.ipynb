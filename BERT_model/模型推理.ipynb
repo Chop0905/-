{
 "cells": [
  {
   "cell_type": "code",
   "execution_count": 1,
   "id": "30cad5a3",
   "metadata": {
    "execution": {
     "iopub.execute_input": "2024-03-05T08:57:05.119125Z",
     "iopub.status.busy": "2024-03-05T08:57:05.118523Z",
     "iopub.status.idle": "2024-03-05T08:57:21.094195Z",
     "shell.execute_reply": "2024-03-05T08:57:21.092831Z",
     "shell.execute_reply.started": "2024-03-05T08:57:05.119086Z"
    },
    "scrolled": true,
    "tags": []
   },
   "outputs": [
    {
     "name": "stderr",
     "output_type": "stream",
     "text": [
      "[2024-03-05 16:57:09,273] [    INFO] - We are using <class 'paddlenlp.transformers.bert.modeling.BertForSequenceClassification'> to load 'work/model/'.\r\n",
      "[2024-03-05 16:57:20,647] [    INFO] - We are using <class 'paddlenlp.transformers.bert.tokenizer.BertTokenizer'> to load 'bert-base-chinese'.\r\n",
      "[2024-03-05 16:57:20,651] [    INFO] - Downloading https://bj.bcebos.com/paddle-hapi/models/bert/bert-base-chinese-vocab.txt and saved to /home/aistudio/.paddlenlp/models/bert-base-chinese\r\n",
      "[2024-03-05 16:57:20,654] [    INFO] - Downloading bert-base-chinese-vocab.txt from https://bj.bcebos.com/paddle-hapi/models/bert/bert-base-chinese-vocab.txt\r\n",
      "100%|██████████| 107k/107k [00:00<00:00, 1.61MB/s]\r\n",
      "[2024-03-05 16:57:21,083] [    INFO] - tokenizer config file saved in /home/aistudio/.paddlenlp/models/bert-base-chinese/tokenizer_config.json\r\n",
      "[2024-03-05 16:57:21,087] [    INFO] - Special tokens file saved in /home/aistudio/.paddlenlp/models/bert-base-chinese/special_tokens_map.json\r\n"
     ]
    }
   ],
   "source": [
    "from paddlenlp.transformers import AutoModelForSequenceClassification, AutoTokenizer\n",
    "import paddle.nn.functional as F\n",
    "import paddle\n",
    "import re\n",
    "model1=AutoModelForSequenceClassification.from_pretrained(\"work/model/\",num_classes=6)\n",
    "tokenizer = AutoTokenizer.from_pretrained(\"bert-base-chinese\")"
   ]
  },
  {
   "cell_type": "code",
   "execution_count": 2,
   "id": "605cf434",
   "metadata": {
    "execution": {
     "iopub.execute_input": "2024-03-05T08:57:27.524557Z",
     "iopub.status.busy": "2024-03-05T08:57:27.523565Z",
     "iopub.status.idle": "2024-03-05T08:57:27.535638Z",
     "shell.execute_reply": "2024-03-05T08:57:27.534023Z",
     "shell.execute_reply.started": "2024-03-05T08:57:27.524518Z"
    },
    "scrolled": true,
    "tags": []
   },
   "outputs": [],
   "source": [
    "class TokenItem:\n",
    "    def __init__(self,sentence,tokenizer):\n",
    "        self.tokenizer=tokenizer\n",
    "        self.token=tokenizer(\n",
    "            [sentence],\n",
    "            max_length=512,\n",
    "            padding='max_length'\n",
    "        )\n",
    "    def __del__(self):\n",
    "        pass\n",
    "\n",
    "def get_sentiment(label):\n",
    "    hashmap={0:\"愤怒\",1:\"恐惧\",2:\"积极\",3:\"无情绪\",4:\"悲伤\",5:\"惊奇\"}\n",
    "    return hashmap[label]\n",
    "\n",
    "def scentence_preprocessing(sentence):\n",
    "    return re.sub(r'#.*?#', '', sentence)\n",
    "\n",
    "def predict_sentence(sentence):\n",
    "    with paddle.no_grad():\n",
    "        tokenItem=TokenItem(sentence,tokenizer)\n",
    "        outputs = model1(input_ids=paddle.to_tensor(tokenItem.token.input_ids,dtype='int64'),\n",
    "                            token_type_ids=paddle.to_tensor(tokenItem.token.token_type_ids,dtype='int64'))\n",
    "        del tokenItem\n",
    "        result = paddle.argmax(outputs[0])\n",
    "        label=result.numpy()\n",
    "        sentiment=get_sentiment(int(label))\n",
    "        out1 = F.softmax(outputs[0])\n",
    "        \n",
    "    return sentiment,out1\n"
   ]
  },
  {
   "cell_type": "code",
   "execution_count": 3,
   "id": "1560da2a",
   "metadata": {
    "execution": {
     "iopub.execute_input": "2024-03-05T08:57:44.315477Z",
     "iopub.status.busy": "2024-03-05T08:57:44.314851Z",
     "iopub.status.idle": "2024-03-05T08:57:46.926656Z",
     "shell.execute_reply": "2024-03-05T08:57:46.925204Z",
     "shell.execute_reply.started": "2024-03-05T08:57:44.315440Z"
    },
    "scrolled": false,
    "tags": []
   },
   "outputs": [
    {
     "name": "stdout",
     "output_type": "stream",
     "text": [
      "('无情绪', Tensor(shape=[6], dtype=float32, place=Place(cpu), stop_gradient=True,\r\n",
      "       [0.06043121, 0.01692171, 0.16828093, 0.33182356, 0.11378976, 0.30875286]))\r\n"
     ]
    }
   ],
   "source": [
    "print(predict_sentence(\"🙋\"))"
   ]
  },
  {
   "cell_type": "code",
   "execution_count": null,
   "id": "f9c8b944",
   "metadata": {
    "scrolled": true
   },
   "outputs": [],
   "source": []
  }
 ],
 "metadata": {
  "kernelspec": {
   "display_name": "Python 3",
   "language": "python",
   "name": "py35-paddle1.2.0"
  },
  "language_info": {
   "codemirror_mode": {
    "name": "ipython",
    "version": 3
   },
   "file_extension": ".py",
   "mimetype": "text/x-python",
   "name": "python",
   "nbconvert_exporter": "python",
   "pygments_lexer": "ipython3",
   "version": "3.7.4"
  }
 },
 "nbformat": 4,
 "nbformat_minor": 5
}
