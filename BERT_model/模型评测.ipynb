{
 "cells": [
  {
   "cell_type": "code",
   "execution_count": 1,
   "id": "1298c249-32c8-4231-bc39-b7fc59d93ddd",
   "metadata": {
    "execution": {
     "iopub.execute_input": "2024-03-04T07:45:26.308880Z",
     "iopub.status.busy": "2024-03-04T07:45:26.308264Z",
     "iopub.status.idle": "2024-03-04T07:45:29.973418Z",
     "shell.execute_reply": "2024-03-04T07:45:29.972219Z",
     "shell.execute_reply.started": "2024-03-04T07:45:26.308841Z"
    },
    "scrolled": true
   },
   "outputs": [],
   "source": [
    "import paddle\n",
    "import pandas as pd\n",
    "import numpy as np\n",
    "from paddlenlp.transformers import AutoModelForSequenceClassification, AutoTokenizer\n",
    "from sklearn.metrics import f1_score, accuracy_score"
   ]
  },
  {
   "cell_type": "code",
   "execution_count": 2,
   "id": "6602aafa",
   "metadata": {
    "execution": {
     "iopub.execute_input": "2024-03-04T07:45:29.976175Z",
     "iopub.status.busy": "2024-03-04T07:45:29.975368Z",
     "iopub.status.idle": "2024-03-04T07:45:30.215414Z",
     "shell.execute_reply": "2024-03-04T07:45:30.213478Z",
     "shell.execute_reply.started": "2024-03-04T07:45:29.976141Z"
    },
    "scrolled": true,
    "tags": []
   },
   "outputs": [],
   "source": [
    "data_test=pd.read_excel(\"/home/aistudio/work/评测数据集/test（最终评测集）/真实评测集/usual_test_labeled.xlsx\") #测试集\n",
    "test_sentence=np.array(data_test[\"文本\"])\n",
    "test_label=np.array(data_test[\"情绪标签\"])"
   ]
  },
  {
   "cell_type": "code",
   "execution_count": 3,
   "id": "6ba0a48d",
   "metadata": {
    "execution": {
     "iopub.execute_input": "2024-03-04T07:45:30.217083Z",
     "iopub.status.busy": "2024-03-04T07:45:30.216771Z",
     "iopub.status.idle": "2024-03-04T07:45:30.226740Z",
     "shell.execute_reply": "2024-03-04T07:45:30.225481Z",
     "shell.execute_reply.started": "2024-03-04T07:45:30.217059Z"
    },
    "scrolled": true,
    "tags": []
   },
   "outputs": [],
   "source": [
    "class TokenItem:\n",
    "    def __init__(self,sentence,tokenizer):\n",
    "        self.tokenizer=tokenizer\n",
    "        self.token=tokenizer(\n",
    "            [sentence],\n",
    "            max_length=512,\n",
    "            padding='max_length'\n",
    "        )\n",
    "    def __del__(self):\n",
    "        pass"
   ]
  },
  {
   "cell_type": "code",
   "execution_count": 4,
   "id": "f604886e",
   "metadata": {
    "execution": {
     "iopub.execute_input": "2024-03-04T07:45:30.228084Z",
     "iopub.status.busy": "2024-03-04T07:45:30.227802Z",
     "iopub.status.idle": "2024-03-04T07:45:30.239126Z",
     "shell.execute_reply": "2024-03-04T07:45:30.238104Z",
     "shell.execute_reply.started": "2024-03-04T07:45:30.228061Z"
    },
    "scrolled": true,
    "tags": []
   },
   "outputs": [],
   "source": [
    "def get_test_acc(model_path):\n",
    "    model=AutoModelForSequenceClassification.from_pretrained(model_path,num_classes=6)\n",
    "    ans = []\n",
    "    tokenizer=AutoTokenizer.from_pretrained(\"bert-base-chinese\")\n",
    "    with paddle.no_grad():\n",
    "        length=len(test_label)\n",
    "        for i in range(length):\n",
    "            tokenItem=TokenItem(test_sentence[i],tokenizer)\n",
    "            outputs = model(input_ids=paddle.to_tensor(tokenItem.token.input_ids,dtype='int64'),\n",
    "                            token_type_ids=paddle.to_tensor(tokenItem.token.token_type_ids,dtype='int64'))\n",
    "            del tokenItem #删除对象，节省内存空间\n",
    "            result = paddle.argmax(outputs[0])\n",
    "            del outputs #删除对象，节省内存空间\n",
    "            ans.append(result)\n",
    "            print(\"\\r{}/{}\".format(i+1,length),end='',flush=True)\n",
    "    return ans"
   ]
  },
  {
   "cell_type": "code",
   "execution_count": 5,
   "id": "b591158b",
   "metadata": {
    "execution": {
     "iopub.execute_input": "2024-03-04T07:45:30.241551Z",
     "iopub.status.busy": "2024-03-04T07:45:30.241276Z",
     "iopub.status.idle": "2024-03-04T07:45:30.250508Z",
     "shell.execute_reply": "2024-03-04T07:45:30.249205Z",
     "shell.execute_reply.started": "2024-03-04T07:45:30.241528Z"
    },
    "scrolled": true,
    "tags": []
   },
   "outputs": [],
   "source": [
    "def compute_test(model_path):\n",
    "    ans=get_test_acc(model_path)\n",
    "    acc = accuracy_score(test_label, ans)\n",
    "    f1 = f1_score(test_label, ans, average=\"macro\")\n",
    "    return {\n",
    "        \"accuracy\": acc,\n",
    "        \"f1\": f1,\n",
    "    }"
   ]
  },
  {
   "cell_type": "code",
   "execution_count": 6,
   "id": "4f6daa24",
   "metadata": {
    "execution": {
     "iopub.execute_input": "2024-03-04T07:45:30.251778Z",
     "iopub.status.busy": "2024-03-04T07:45:30.251526Z",
     "iopub.status.idle": "2024-03-04T07:47:28.303404Z",
     "shell.execute_reply": "2024-03-04T07:47:28.302526Z",
     "shell.execute_reply.started": "2024-03-04T07:45:30.251755Z"
    },
    "scrolled": true,
    "tags": []
   },
   "outputs": [
    {
     "name": "stderr",
     "output_type": "stream",
     "text": [
      "[2024-03-04 15:45:30,253] [    INFO] - We are using <class 'paddlenlp.transformers.bert.modeling.BertForSequenceClassification'> to load './work/model/'.\r\n",
      "W0304 15:45:30.269096 14132 gpu_resources.cc:61] Please NOTE: device: 0, GPU Compute Capability: 7.0, Driver API Version: 12.0, Runtime API Version: 11.2\r\n",
      "W0304 15:45:30.273743 14132 gpu_resources.cc:91] device: 0, cuDNN Version: 8.2.\r\n",
      "[2024-03-04 15:45:33,662] [    INFO] - We are using <class 'paddlenlp.transformers.bert.tokenizer.BertTokenizer'> to load 'bert-base-chinese'.\r\n",
      "[2024-03-04 15:45:33,670] [    INFO] - Already cached /home/aistudio/.paddlenlp/models/bert-base-chinese/bert-base-chinese-vocab.txt\r\n",
      "[2024-03-04 15:45:33,690] [    INFO] - tokenizer config file saved in /home/aistudio/.paddlenlp/models/bert-base-chinese/tokenizer_config.json\r\n",
      "[2024-03-04 15:45:33,696] [    INFO] - Special tokens file saved in /home/aistudio/.paddlenlp/models/bert-base-chinese/special_tokens_map.json\r\n"
     ]
    },
    {
     "name": "stdout",
     "output_type": "stream",
     "text": [
      "5000/5000{'accuracy': 0.7552, 'f1': 0.7255935508365438}\r\n"
     ]
    }
   ],
   "source": [
    "print(compute_test(\"./work/model/\"))"
   ]
  },
  {
   "cell_type": "code",
   "execution_count": null,
   "id": "376cfa9b",
   "metadata": {
    "scrolled": true
   },
   "outputs": [],
   "source": []
  },
  {
   "cell_type": "code",
   "execution_count": null,
   "id": "27d7baed-9aa0-48e3-a114-c537fc2d9c01",
   "metadata": {
    "scrolled": true
   },
   "outputs": [],
   "source": []
  },
  {
   "cell_type": "code",
   "execution_count": null,
   "id": "90b47e1d-db1f-4705-8660-f9c19da9bcf2",
   "metadata": {
    "scrolled": true
   },
   "outputs": [],
   "source": []
  },
  {
   "cell_type": "code",
   "execution_count": null,
   "id": "163861d8-dcd7-439f-b08a-109523f53ca3",
   "metadata": {
    "scrolled": true
   },
   "outputs": [],
   "source": []
  },
  {
   "cell_type": "code",
   "execution_count": null,
   "id": "2a893deb-f1da-4819-bc65-138333ee797a",
   "metadata": {
    "scrolled": true
   },
   "outputs": [],
   "source": []
  },
  {
   "cell_type": "code",
   "execution_count": null,
   "id": "6f0c6808-934f-41ad-a16e-637266b1efd3",
   "metadata": {
    "scrolled": true
   },
   "outputs": [],
   "source": []
  },
  {
   "cell_type": "code",
   "execution_count": null,
   "id": "05731c7a-e1b6-4f85-a41d-6ceb7a910925",
   "metadata": {
    "scrolled": true
   },
   "outputs": [],
   "source": []
  }
 ],
 "metadata": {
  "kernelspec": {
   "display_name": "Python 3",
   "language": "python",
   "name": "py35-paddle1.2.0"
  },
  "language_info": {
   "codemirror_mode": {
    "name": "ipython",
    "version": 3
   },
   "file_extension": ".py",
   "mimetype": "text/x-python",
   "name": "python",
   "nbconvert_exporter": "python",
   "pygments_lexer": "ipython3",
   "version": "3.7.4"
  }
 },
 "nbformat": 4,
 "nbformat_minor": 5
}
